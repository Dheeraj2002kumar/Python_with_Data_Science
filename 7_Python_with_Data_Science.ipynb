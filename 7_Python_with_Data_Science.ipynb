{
  "cells": [
    {
      "cell_type": "markdown",
      "metadata": {
        "id": "view-in-github",
        "colab_type": "text"
      },
      "source": [
        "<a href=\"https://colab.research.google.com/github/Dheeraj2002kumar/Python_with_Data_Science/blob/main/7_Python_with_Data_Science.ipynb\" target=\"_parent\"><img src=\"https://colab.research.google.com/assets/colab-badge.svg\" alt=\"Open In Colab\"/></a>"
      ]
    },
    {
      "cell_type": "markdown",
      "id": "5fbdf2f4",
      "metadata": {
        "id": "5fbdf2f4"
      },
      "source": [
        "## Modules\n",
        "Module is a file containing a collection of different functions which may or may not be related\n",
        "- Inbuilt Modules\n",
        "    - Which come pre-installed along with Python\n",
        "- User-defined Modules\n",
        "    - Which are defined by the coder during the coding\n",
        "- External Modules (numpy, pandas, matplotlib, seaborn, scipy, stats)\n",
        "    - Which have to be downloaded and installed into the system seperately."
      ]
    },
    {
      "cell_type": "code",
      "execution_count": null,
      "id": "7e97ec6e",
      "metadata": {
        "id": "7e97ec6e",
        "outputId": "3e98e753-5958-4e87-c5e0-8274d1ba4831"
      },
      "outputs": [
        {
          "data": {
            "text/plain": [
              "13"
            ]
          },
          "execution_count": 1,
          "metadata": {},
          "output_type": "execute_result"
        }
      ],
      "source": [
        "def add(x, y):\n",
        "    c = x + y\n",
        "    return c\n",
        "\n",
        "add(4, 9)"
      ]
    },
    {
      "cell_type": "code",
      "execution_count": null,
      "id": "ced4d39d",
      "metadata": {
        "id": "ced4d39d"
      },
      "outputs": [],
      "source": [
        "# math\n",
        "# random\n",
        "# os\n",
        "# sys\n",
        "# datetime\n",
        "# time\n",
        "# re\n",
        "\n",
        "# tkinter\n",
        "# cyptography"
      ]
    },
    {
      "cell_type": "markdown",
      "id": "8c14463c",
      "metadata": {
        "id": "8c14463c"
      },
      "source": [
        "### math module - inbuilt"
      ]
    },
    {
      "cell_type": "code",
      "execution_count": null,
      "id": "96d5efcd",
      "metadata": {
        "id": "96d5efcd",
        "outputId": "b255d0a6-d562-47dd-d526-4c89a41738b5"
      },
      "outputs": [
        {
          "ename": "NameError",
          "evalue": "name 'sqrt' is not defined",
          "output_type": "error",
          "traceback": [
            "\u001b[1;31m---------------------------------------------------------------------------\u001b[0m",
            "\u001b[1;31mNameError\u001b[0m                                 Traceback (most recent call last)",
            "Cell \u001b[1;32mIn[2], line 1\u001b[0m\n\u001b[1;32m----> 1\u001b[0m sqrt(\u001b[38;5;241m4\u001b[39m)\n",
            "\u001b[1;31mNameError\u001b[0m: name 'sqrt' is not defined"
          ]
        }
      ],
      "source": [
        "sqrt(4)"
      ]
    },
    {
      "cell_type": "code",
      "execution_count": null,
      "id": "689e44ae",
      "metadata": {
        "id": "689e44ae"
      },
      "outputs": [],
      "source": [
        "import math"
      ]
    },
    {
      "cell_type": "code",
      "execution_count": null,
      "id": "e2c5732e",
      "metadata": {
        "id": "e2c5732e",
        "outputId": "e5a21b9c-8066-4dbe-c9c6-7e6bfdf80351"
      },
      "outputs": [
        {
          "data": {
            "text/plain": [
              "2.0"
            ]
          },
          "execution_count": 4,
          "metadata": {},
          "output_type": "execute_result"
        }
      ],
      "source": [
        "math.sqrt(4)"
      ]
    },
    {
      "cell_type": "code",
      "execution_count": null,
      "id": "edc7c72d",
      "metadata": {
        "id": "edc7c72d",
        "outputId": "24644dda-4e5b-42a3-b1c0-ff2c87765fef"
      },
      "outputs": [
        {
          "data": {
            "text/plain": [
              "3.141592653589793"
            ]
          },
          "execution_count": 5,
          "metadata": {},
          "output_type": "execute_result"
        }
      ],
      "source": [
        "math.pi   # pi is a variable defined in math module"
      ]
    },
    {
      "cell_type": "code",
      "execution_count": null,
      "id": "c327c8ff",
      "metadata": {
        "id": "c327c8ff",
        "outputId": "908d1243-85c9-4d0d-c5ee-f0a66cd1459a"
      },
      "outputs": [
        {
          "data": {
            "text/plain": [
              "-1.0"
            ]
          },
          "execution_count": 7,
          "metadata": {},
          "output_type": "execute_result"
        }
      ],
      "source": [
        "math.cos(math.pi)"
      ]
    },
    {
      "cell_type": "code",
      "execution_count": null,
      "id": "885c5af1",
      "metadata": {
        "id": "885c5af1",
        "outputId": "b0da4d8a-3674-4f18-e06c-655db1939255"
      },
      "outputs": [
        {
          "data": {
            "text/plain": [
              "27.0"
            ]
          },
          "execution_count": 9,
          "metadata": {},
          "output_type": "execute_result"
        }
      ],
      "source": [
        "math.pow(3, 3)"
      ]
    },
    {
      "cell_type": "code",
      "execution_count": null,
      "id": "85fda566",
      "metadata": {
        "id": "85fda566",
        "outputId": "8085be2d-468f-486c-c992-7509c8d63e76"
      },
      "outputs": [
        {
          "data": {
            "text/plain": [
              "1.0"
            ]
          },
          "execution_count": 11,
          "metadata": {},
          "output_type": "execute_result"
        }
      ],
      "source": [
        "math.log10(10)"
      ]
    },
    {
      "cell_type": "code",
      "execution_count": null,
      "id": "8bad1204",
      "metadata": {
        "id": "8bad1204",
        "outputId": "a7114a4c-c2d9-4b3a-cadf-f70f4ff29086"
      },
      "outputs": [
        {
          "data": {
            "text/plain": [
              "2.718281828459045"
            ]
          },
          "execution_count": 12,
          "metadata": {},
          "output_type": "execute_result"
        }
      ],
      "source": [
        "math.exp(1)"
      ]
    },
    {
      "cell_type": "code",
      "execution_count": null,
      "id": "b7fc9421",
      "metadata": {
        "id": "b7fc9421"
      },
      "outputs": [],
      "source": [
        "# ceil, floor, comb, lcm, gcd, sin, cos, tan"
      ]
    },
    {
      "cell_type": "code",
      "execution_count": null,
      "id": "983c70d4",
      "metadata": {
        "id": "983c70d4",
        "outputId": "4617b660-6355-43eb-eaad-04a110f46351"
      },
      "outputs": [
        {
          "ename": "NameError",
          "evalue": "name 'sqrt' is not defined",
          "output_type": "error",
          "traceback": [
            "\u001b[1;31m---------------------------------------------------------------------------\u001b[0m",
            "\u001b[1;31mNameError\u001b[0m                                 Traceback (most recent call last)",
            "Cell \u001b[1;32mIn[15], line 1\u001b[0m\n\u001b[1;32m----> 1\u001b[0m sqrt(\u001b[38;5;241m4\u001b[39m)\n",
            "\u001b[1;31mNameError\u001b[0m: name 'sqrt' is not defined"
          ]
        }
      ],
      "source": [
        "sqrt(4)"
      ]
    },
    {
      "cell_type": "code",
      "execution_count": null,
      "id": "71e9e358",
      "metadata": {
        "id": "71e9e358"
      },
      "outputs": [],
      "source": [
        "from math import sqrt"
      ]
    },
    {
      "cell_type": "code",
      "execution_count": null,
      "id": "cdd433c4",
      "metadata": {
        "id": "cdd433c4",
        "outputId": "701c3a9d-ad3d-4451-aab4-5ce4fed18458"
      },
      "outputs": [
        {
          "ename": "NameError",
          "evalue": "name 'math' is not defined",
          "output_type": "error",
          "traceback": [
            "\u001b[1;31m---------------------------------------------------------------------------\u001b[0m",
            "\u001b[1;31mNameError\u001b[0m                                 Traceback (most recent call last)",
            "Cell \u001b[1;32mIn[1], line 1\u001b[0m\n\u001b[1;32m----> 1\u001b[0m math\u001b[38;5;241m.\u001b[39msqrt(\u001b[38;5;241m4\u001b[39m)\n",
            "\u001b[1;31mNameError\u001b[0m: name 'math' is not defined"
          ]
        }
      ],
      "source": [
        "math.sqrt(4)"
      ]
    },
    {
      "cell_type": "code",
      "execution_count": null,
      "id": "ec4058bd",
      "metadata": {
        "id": "ec4058bd",
        "outputId": "f2b472a4-9f24-44d9-fcff-f63f63851ff9"
      },
      "outputs": [
        {
          "data": {
            "text/plain": [
              "2.0"
            ]
          },
          "execution_count": 4,
          "metadata": {},
          "output_type": "execute_result"
        }
      ],
      "source": [
        "from math import sqrt\n",
        "sqrt(4)"
      ]
    },
    {
      "cell_type": "code",
      "execution_count": null,
      "id": "0cade048",
      "metadata": {
        "id": "0cade048"
      },
      "outputs": [],
      "source": [
        "import math"
      ]
    },
    {
      "cell_type": "code",
      "execution_count": null,
      "id": "7d2b5074",
      "metadata": {
        "id": "7d2b5074",
        "outputId": "51d5f914-528c-4071-a0ac-e4a02be3c340"
      },
      "outputs": [
        {
          "data": {
            "text/plain": [
              "2.8284271247461903"
            ]
          },
          "execution_count": 6,
          "metadata": {},
          "output_type": "execute_result"
        }
      ],
      "source": [
        "math.sqrt(8)"
      ]
    },
    {
      "cell_type": "code",
      "execution_count": null,
      "id": "30ea5179",
      "metadata": {
        "id": "30ea5179"
      },
      "outputs": [],
      "source": [
        "## Aliasing\n",
        "import math as m   # m is acting as a alias for math"
      ]
    },
    {
      "cell_type": "code",
      "execution_count": null,
      "id": "73e217e4",
      "metadata": {
        "id": "73e217e4",
        "outputId": "69b172c2-0269-4281-b4ee-cdbc0396401f"
      },
      "outputs": [
        {
          "ename": "NameError",
          "evalue": "name 'math' is not defined",
          "output_type": "error",
          "traceback": [
            "\u001b[1;31m---------------------------------------------------------------------------\u001b[0m",
            "\u001b[1;31mNameError\u001b[0m                                 Traceback (most recent call last)",
            "Cell \u001b[1;32mIn[2], line 1\u001b[0m\n\u001b[1;32m----> 1\u001b[0m math\u001b[38;5;241m.\u001b[39msqrt(\u001b[38;5;241m4\u001b[39m)\n",
            "\u001b[1;31mNameError\u001b[0m: name 'math' is not defined"
          ]
        }
      ],
      "source": [
        "math.sqrt(4)"
      ]
    },
    {
      "cell_type": "code",
      "execution_count": null,
      "id": "97e2795a",
      "metadata": {
        "id": "97e2795a",
        "outputId": "cf8057cf-f7ee-4d0f-98e0-7d1989c90950"
      },
      "outputs": [
        {
          "data": {
            "text/plain": [
              "2.0"
            ]
          },
          "execution_count": 3,
          "metadata": {},
          "output_type": "execute_result"
        }
      ],
      "source": [
        "m.sqrt(4)"
      ]
    },
    {
      "cell_type": "code",
      "execution_count": null,
      "id": "56b44f16",
      "metadata": {
        "id": "56b44f16"
      },
      "outputs": [],
      "source": [
        "from math import sqrt as a, log10 as l"
      ]
    },
    {
      "cell_type": "code",
      "execution_count": null,
      "id": "6a07333b",
      "metadata": {
        "id": "6a07333b",
        "outputId": "9de7f7a0-de42-4dc3-d311-1801e44727d5"
      },
      "outputs": [
        {
          "ename": "NameError",
          "evalue": "name 'sqrt' is not defined",
          "output_type": "error",
          "traceback": [
            "\u001b[1;31m---------------------------------------------------------------------------\u001b[0m",
            "\u001b[1;31mNameError\u001b[0m                                 Traceback (most recent call last)",
            "Cell \u001b[1;32mIn[5], line 1\u001b[0m\n\u001b[1;32m----> 1\u001b[0m sqrt(\u001b[38;5;241m5\u001b[39m)\n",
            "\u001b[1;31mNameError\u001b[0m: name 'sqrt' is not defined"
          ]
        }
      ],
      "source": [
        "sqrt(5)"
      ]
    },
    {
      "cell_type": "code",
      "execution_count": null,
      "id": "57fbf140",
      "metadata": {
        "id": "57fbf140",
        "outputId": "2fc5bae1-f447-4b68-f42a-b21e4c8bdf0f"
      },
      "outputs": [
        {
          "data": {
            "text/plain": [
              "2.23606797749979"
            ]
          },
          "execution_count": 6,
          "metadata": {},
          "output_type": "execute_result"
        }
      ],
      "source": [
        "a(5)"
      ]
    },
    {
      "cell_type": "code",
      "execution_count": null,
      "id": "e6b4a887",
      "metadata": {
        "id": "e6b4a887",
        "outputId": "4c91267d-d2cb-43a5-d1a9-565e6379febf"
      },
      "outputs": [
        {
          "data": {
            "text/plain": [
              "1.0"
            ]
          },
          "execution_count": 7,
          "metadata": {},
          "output_type": "execute_result"
        }
      ],
      "source": [
        "l(10)"
      ]
    },
    {
      "cell_type": "code",
      "execution_count": null,
      "id": "87f484ce",
      "metadata": {
        "id": "87f484ce"
      },
      "outputs": [],
      "source": [
        "from math import *"
      ]
    },
    {
      "cell_type": "code",
      "execution_count": null,
      "id": "66fc994f",
      "metadata": {
        "id": "66fc994f",
        "outputId": "ded87fc5-38bc-41cd-f2ce-fdd3dd0ee636"
      },
      "outputs": [
        {
          "data": {
            "text/plain": [
              "-1.0"
            ]
          },
          "execution_count": 2,
          "metadata": {},
          "output_type": "execute_result"
        }
      ],
      "source": [
        "cos(pi)"
      ]
    },
    {
      "cell_type": "code",
      "execution_count": null,
      "id": "02a5fb03",
      "metadata": {
        "id": "02a5fb03",
        "outputId": "36218692-3483-49b2-fece-7068253cd7a8"
      },
      "outputs": [
        {
          "data": {
            "text/plain": [
              "-1.2246467991473532e-16"
            ]
          },
          "execution_count": 3,
          "metadata": {},
          "output_type": "execute_result"
        }
      ],
      "source": [
        "tan(pi)"
      ]
    },
    {
      "cell_type": "code",
      "execution_count": null,
      "id": "a4e1a2dc",
      "metadata": {
        "id": "a4e1a2dc",
        "outputId": "09b3fe46-f8e8-4c8e-f54a-f0e297f84432"
      },
      "outputs": [
        {
          "data": {
            "text/plain": [
              "120"
            ]
          },
          "execution_count": 5,
          "metadata": {},
          "output_type": "execute_result"
        }
      ],
      "source": [
        "lcm(24, 6, 10)"
      ]
    },
    {
      "cell_type": "code",
      "execution_count": null,
      "id": "3703bcd3",
      "metadata": {
        "id": "3703bcd3"
      },
      "outputs": [],
      "source": [
        "## Create a scientific calculator"
      ]
    },
    {
      "cell_type": "code",
      "execution_count": null,
      "id": "7b7acd0b",
      "metadata": {
        "id": "7b7acd0b"
      },
      "outputs": [],
      "source": [
        "import random as r"
      ]
    },
    {
      "cell_type": "code",
      "execution_count": null,
      "id": "794e1f87",
      "metadata": {
        "id": "794e1f87",
        "outputId": "f563d124-5444-493e-c9f5-d486139981d9"
      },
      "outputs": [
        {
          "data": {
            "text/plain": [
              "10"
            ]
          },
          "execution_count": 30,
          "metadata": {},
          "output_type": "execute_result"
        }
      ],
      "source": [
        "r.randint(5, 13)"
      ]
    },
    {
      "cell_type": "code",
      "execution_count": null,
      "id": "74b97c67",
      "metadata": {
        "id": "74b97c67",
        "outputId": "671fc9e9-9962-4b13-f5e9-752fa5954f9b"
      },
      "outputs": [
        {
          "data": {
            "text/plain": [
              "'Anshika'"
            ]
          },
          "execution_count": 61,
          "metadata": {},
          "output_type": "execute_result"
        }
      ],
      "source": [
        "l = ['Abhinav', 'Akhil', 'Akshita', 'Anshika', 'Kritika']\n",
        "r.choice(l)\n",
        "\n",
        "# returns a random element from the given sequence"
      ]
    },
    {
      "cell_type": "code",
      "execution_count": null,
      "id": "d162a971",
      "metadata": {
        "id": "d162a971",
        "outputId": "bac4a93c-dc8b-4240-99c7-a3f534399c96"
      },
      "outputs": [
        {
          "data": {
            "text/plain": [
              "' '"
            ]
          },
          "execution_count": 75,
          "metadata": {},
          "output_type": "execute_result"
        }
      ],
      "source": [
        "s = 'how are you?'\n",
        "r.choice(s)"
      ]
    },
    {
      "cell_type": "code",
      "execution_count": null,
      "id": "3addc604",
      "metadata": {
        "id": "3addc604",
        "outputId": "0ea7950e-72d6-4ea5-b5c2-7913b8ca7c60"
      },
      "outputs": [
        {
          "data": {
            "text/plain": [
              "'7436'"
            ]
          },
          "execution_count": 77,
          "metadata": {},
          "output_type": "execute_result"
        }
      ],
      "source": [
        "### Create a function which returns a n-digit OTP whenever called.\n",
        "# otp(4):  4529\n",
        "# otp(6):  219380\n",
        "import random as r\n",
        "def otp(n):\n",
        "    s = ''\n",
        "    for i in range(n):\n",
        "        num = r.randint(0, 9)\n",
        "        snum = str(num)\n",
        "        s += snum\n",
        "    return s\n",
        "\n",
        "otp(4)"
      ]
    },
    {
      "cell_type": "code",
      "execution_count": null,
      "id": "3ae1e612",
      "metadata": {
        "id": "3ae1e612",
        "outputId": "ae426134-cbcc-4d51-85bb-59615f05ebb4"
      },
      "outputs": [
        {
          "data": {
            "text/plain": [
              "'67656371'"
            ]
          },
          "execution_count": 78,
          "metadata": {},
          "output_type": "execute_result"
        }
      ],
      "source": [
        "otp(8)"
      ]
    },
    {
      "cell_type": "code",
      "execution_count": null,
      "id": "6f0199b6",
      "metadata": {
        "id": "6f0199b6"
      },
      "outputs": [],
      "source": [
        "import math"
      ]
    },
    {
      "cell_type": "code",
      "execution_count": null,
      "id": "eeab4cbf",
      "metadata": {
        "id": "eeab4cbf"
      },
      "outputs": [],
      "source": [
        "math.factorial?"
      ]
    },
    {
      "cell_type": "code",
      "execution_count": null,
      "id": "86707f55",
      "metadata": {
        "id": "86707f55",
        "outputId": "dca04a25-98fc-4b25-b4c0-29d5f80eb62c"
      },
      "outputs": [
        {
          "data": {
            "text/plain": [
              "120"
            ]
          },
          "execution_count": 81,
          "metadata": {},
          "output_type": "execute_result"
        }
      ],
      "source": [
        "math.factorial(5)"
      ]
    },
    {
      "cell_type": "code",
      "execution_count": null,
      "id": "579b7db3",
      "metadata": {
        "id": "579b7db3",
        "outputId": "2752cecb-046e-4e0d-f2a0-46aef11c47c0"
      },
      "outputs": [
        {
          "data": {
            "text/plain": [
              "['__doc__',\n",
              " '__loader__',\n",
              " '__name__',\n",
              " '__package__',\n",
              " '__spec__',\n",
              " 'acos',\n",
              " 'acosh',\n",
              " 'asin',\n",
              " 'asinh',\n",
              " 'atan',\n",
              " 'atan2',\n",
              " 'atanh',\n",
              " 'cbrt',\n",
              " 'ceil',\n",
              " 'comb',\n",
              " 'copysign',\n",
              " 'cos',\n",
              " 'cosh',\n",
              " 'degrees',\n",
              " 'dist',\n",
              " 'e',\n",
              " 'erf',\n",
              " 'erfc',\n",
              " 'exp',\n",
              " 'exp2',\n",
              " 'expm1',\n",
              " 'fabs',\n",
              " 'factorial',\n",
              " 'floor',\n",
              " 'fmod',\n",
              " 'frexp',\n",
              " 'fsum',\n",
              " 'gamma',\n",
              " 'gcd',\n",
              " 'hypot',\n",
              " 'inf',\n",
              " 'isclose',\n",
              " 'isfinite',\n",
              " 'isinf',\n",
              " 'isnan',\n",
              " 'isqrt',\n",
              " 'lcm',\n",
              " 'ldexp',\n",
              " 'lgamma',\n",
              " 'log',\n",
              " 'log10',\n",
              " 'log1p',\n",
              " 'log2',\n",
              " 'modf',\n",
              " 'nan',\n",
              " 'nextafter',\n",
              " 'perm',\n",
              " 'pi',\n",
              " 'pow',\n",
              " 'prod',\n",
              " 'radians',\n",
              " 'remainder',\n",
              " 'sin',\n",
              " 'sinh',\n",
              " 'sqrt',\n",
              " 'tan',\n",
              " 'tanh',\n",
              " 'tau',\n",
              " 'trunc',\n",
              " 'ulp']"
            ]
          },
          "execution_count": 82,
          "metadata": {},
          "output_type": "execute_result"
        }
      ],
      "source": [
        "dir(math)"
      ]
    },
    {
      "cell_type": "code",
      "execution_count": null,
      "id": "a8a142a1",
      "metadata": {
        "id": "a8a142a1",
        "outputId": "a433130b-703d-4a04-8f9e-2c7f226a9e60"
      },
      "outputs": [
        {
          "data": {
            "text/plain": [
              "65"
            ]
          },
          "execution_count": 83,
          "metadata": {},
          "output_type": "execute_result"
        }
      ],
      "source": [
        "len(dir(math))"
      ]
    },
    {
      "cell_type": "code",
      "execution_count": null,
      "id": "3b0021ec",
      "metadata": {
        "id": "3b0021ec",
        "outputId": "0615a92c-3b68-4654-db2d-6016e4ac90fe"
      },
      "outputs": [
        {
          "data": {
            "text/plain": [
              "['Abhinav', 'Akhil', 'Akshita', 'Anshika', 'Kritika']"
            ]
          },
          "execution_count": 84,
          "metadata": {},
          "output_type": "execute_result"
        }
      ],
      "source": [
        "l"
      ]
    },
    {
      "cell_type": "code",
      "execution_count": null,
      "id": "69165c21",
      "metadata": {
        "id": "69165c21",
        "outputId": "ba298a04-632a-456c-9dfd-594a29355987"
      },
      "outputs": [
        {
          "data": {
            "text/plain": [
              "['Akhil', 'Akshita', 'Abhinav', 'Anshika', 'Kritika']"
            ]
          },
          "execution_count": 89,
          "metadata": {},
          "output_type": "execute_result"
        }
      ],
      "source": [
        "random.shuffle(l)\n",
        "l"
      ]
    },
    {
      "cell_type": "code",
      "execution_count": null,
      "id": "0827e9d2",
      "metadata": {
        "id": "0827e9d2"
      },
      "outputs": [],
      "source": [
        "# Modules can be created using official python file formats such as .py and .pyc\n",
        "import calculator as cal\n",
        "import math"
      ]
    },
    {
      "cell_type": "code",
      "execution_count": null,
      "id": "9b4c5750",
      "metadata": {
        "id": "9b4c5750",
        "outputId": "6c83bff0-e544-4f8b-e7a4-8fbaa0546f62"
      },
      "outputs": [
        {
          "data": {
            "text/plain": [
              "3.14"
            ]
          },
          "execution_count": 92,
          "metadata": {},
          "output_type": "execute_result"
        }
      ],
      "source": [
        "cal.pi"
      ]
    },
    {
      "cell_type": "code",
      "execution_count": null,
      "id": "667eb50d",
      "metadata": {
        "id": "667eb50d",
        "outputId": "07937d43-1d41-4515-d911-3c1f9e0fbca1"
      },
      "outputs": [
        {
          "data": {
            "text/plain": [
              "3.141592653589793"
            ]
          },
          "execution_count": 94,
          "metadata": {},
          "output_type": "execute_result"
        }
      ],
      "source": [
        "math.pi"
      ]
    },
    {
      "cell_type": "code",
      "execution_count": null,
      "id": "d1133fe4",
      "metadata": {
        "id": "d1133fe4",
        "outputId": "3a54ca9d-e27d-4f62-d3a9-afd5054e44c4"
      },
      "outputs": [
        {
          "data": {
            "text/plain": [
              "13"
            ]
          },
          "execution_count": 95,
          "metadata": {},
          "output_type": "execute_result"
        }
      ],
      "source": [
        "cal.add(4, 9)"
      ]
    },
    {
      "cell_type": "code",
      "execution_count": null,
      "id": "8ebbc2bd",
      "metadata": {
        "id": "8ebbc2bd",
        "outputId": "b8cb77a6-42a7-4505-9f82-09df4ddad29c"
      },
      "outputs": [
        {
          "data": {
            "text/plain": [
              "'Not defined'"
            ]
          },
          "execution_count": 96,
          "metadata": {},
          "output_type": "execute_result"
        }
      ],
      "source": [
        "cal.div(3, 0)"
      ]
    },
    {
      "cell_type": "code",
      "execution_count": null,
      "id": "29b309aa",
      "metadata": {
        "id": "29b309aa",
        "outputId": "5a2ac244-adbb-4c2c-be0a-8cee1f2c435f"
      },
      "outputs": [
        {
          "data": {
            "text/plain": [
              "3.0"
            ]
          },
          "execution_count": 97,
          "metadata": {},
          "output_type": "execute_result"
        }
      ],
      "source": [
        "cal.div(6, 2)"
      ]
    },
    {
      "cell_type": "code",
      "execution_count": null,
      "id": "cbbedb19",
      "metadata": {
        "id": "cbbedb19"
      },
      "outputs": [],
      "source": [
        "import checkmath as cm"
      ]
    },
    {
      "cell_type": "code",
      "execution_count": null,
      "id": "49562852",
      "metadata": {
        "id": "49562852",
        "outputId": "fdf18cad-aec0-49f9-f3ba-47ebf72020cb"
      },
      "outputs": [
        {
          "data": {
            "text/plain": [
              "{1: 2, 4: 16}"
            ]
          },
          "execution_count": 99,
          "metadata": {},
          "output_type": "execute_result"
        }
      ],
      "source": [
        "cm.d"
      ]
    },
    {
      "cell_type": "code",
      "execution_count": null,
      "id": "f8b8a0b1",
      "metadata": {
        "id": "f8b8a0b1",
        "outputId": "142ac5ab-de2a-47e2-a11e-c13a19f6994c"
      },
      "outputs": [
        {
          "name": "stdout",
          "output_type": "stream",
          "text": [
            "hello\n"
          ]
        }
      ],
      "source": [
        "cm.some()"
      ]
    },
    {
      "cell_type": "code",
      "execution_count": null,
      "id": "6cf88d8c",
      "metadata": {
        "id": "6cf88d8c"
      },
      "outputs": [],
      "source": []
    }
  ],
  "metadata": {
    "kernelspec": {
      "display_name": "Python 3 (ipykernel)",
      "language": "python",
      "name": "python3"
    },
    "language_info": {
      "codemirror_mode": {
        "name": "ipython",
        "version": 3
      },
      "file_extension": ".py",
      "mimetype": "text/x-python",
      "name": "python",
      "nbconvert_exporter": "python",
      "pygments_lexer": "ipython3",
      "version": "3.11.5"
    },
    "colab": {
      "provenance": [],
      "include_colab_link": true
    }
  },
  "nbformat": 4,
  "nbformat_minor": 5
}