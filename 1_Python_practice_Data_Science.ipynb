{
 "cells": [
  {
   "cell_type": "markdown",
   "metadata": {
    "colab_type": "text",
    "id": "view-in-github"
   },
   "source": [
    "<a href=\"https://colab.research.google.com/github/Dheeraj2002kumar/Python_with_Data_Science/blob/main/Python_practice_Data_Science.ipynb\" target=\"_parent\"><img src=\"https://colab.research.google.com/assets/colab-badge.svg\" alt=\"Open In Colab\"/></a>"
   ]
  },
  {
   "cell_type": "markdown",
   "id": "df54ddf1-e0f0-4a7b-aedc-1f18a4558652",
   "metadata": {
    "id": "df54ddf1-e0f0-4a7b-aedc-1f18a4558652"
   },
   "source": [
    "## Variables\n",
    "- Variables are the name or the memory location where data gets strored"
   ]
  },
  {
   "cell_type": "code",
   "execution_count": 1,
   "id": "8bd23324-6b0d-4e9e-b38c-5aa28b5fce4a",
   "metadata": {
    "id": "8bd23324-6b0d-4e9e-b38c-5aa28b5fce4a",
    "outputId": "5f4b0f5b-c952-40c6-8de9-992711808d08"
   },
   "outputs": [
    {
     "name": "stdout",
     "output_type": "stream",
     "text": [
      "12\n"
     ]
    }
   ],
   "source": [
    "x = 12  # x is a variable and 12 is data\n",
    "print(x)  # print is a function that print the value on the screen"
   ]
  },
  {
   "cell_type": "code",
   "execution_count": 2,
   "id": "7155827b-997e-4f51-896f-c756b0b0f07c",
   "metadata": {
    "id": "7155827b-997e-4f51-896f-c756b0b0f07c",
    "outputId": "a81e5ed8-0aa0-48d9-de6a-31189872cd51"
   },
   "outputs": [
    {
     "name": "stdout",
     "output_type": "stream",
     "text": [
      "Dheeraj\n"
     ]
    }
   ],
   "source": [
    "variable = 'Dheeraj';\n",
    "print(variable);"
   ]
  },
  {
   "cell_type": "markdown",
   "id": "7f1ad6b7-8c99-47ec-a354-c67b6cc79710",
   "metadata": {
    "id": "7f1ad6b7-8c99-47ec-a354-c67b6cc79710"
   },
   "source": [
    "### Rules for naming variables\n",
    "- A name can only contain alphabets, digits or underscore character.\n",
    "- A name can not start with a digit.\n",
    "- Names are case-sensitive.\n",
    "- Reserved keywords are not allowed for naming purpose."
   ]
  },
  {
   "cell_type": "code",
   "execution_count": 3,
   "id": "b3168789-8583-4362-8629-0de5f5619499",
   "metadata": {
    "id": "b3168789-8583-4362-8629-0de5f5619499"
   },
   "outputs": [],
   "source": [
    "# Valid variable name\n",
    "x = 12;\n",
    "x1 = 12;\n",
    "x_ = 12;\n",
    "x_1 = 12;\n"
   ]
  },
  {
   "cell_type": "code",
   "execution_count": 4,
   "id": "35a8529e-99a9-417f-a0b1-a03dacaed981",
   "metadata": {
    "id": "35a8529e-99a9-417f-a0b1-a03dacaed981",
    "outputId": "28d1c10b-d08f-4abb-a98e-8d3ee7fe0baa"
   },
   "outputs": [
    {
     "ename": "SyntaxError",
     "evalue": "invalid decimal literal (1632009282.py, line 4)",
     "output_type": "error",
     "traceback": [
      "\u001b[0;36m  Cell \u001b[0;32mIn[4], line 4\u001b[0;36m\u001b[0m\n\u001b[0;31m    1x = 12\u001b[0m\n\u001b[0m    ^\u001b[0m\n\u001b[0;31mSyntaxError\u001b[0m\u001b[0;31m:\u001b[0m invalid decimal literal\n"
     ]
    }
   ],
   "source": [
    "# Invalid variable name\n",
    "x@ = 12;\n",
    "x!_1 = 12;\n",
    "1x = 12"
   ]
  },
  {
   "cell_type": "code",
   "execution_count": 5,
   "id": "d4d1febb-4228-402d-b10e-3ebf16d3cb9d",
   "metadata": {
    "id": "d4d1febb-4228-402d-b10e-3ebf16d3cb9d"
   },
   "outputs": [],
   "source": [
    "x = 12;\n",
    "x = 50;"
   ]
  },
  {
   "cell_type": "code",
   "execution_count": 6,
   "id": "8cb0e5e8-d095-477f-9210-1fa0818ed8c3",
   "metadata": {
    "id": "8cb0e5e8-d095-477f-9210-1fa0818ed8c3",
    "outputId": "814a98e0-3bf4-49cc-fb48-8708ea356987"
   },
   "outputs": [
    {
     "name": "stdout",
     "output_type": "stream",
     "text": [
      "50\n"
     ]
    }
   ],
   "source": [
    "print(x)"
   ]
  },
  {
   "cell_type": "code",
   "execution_count": 7,
   "id": "a38c8026-2bc5-4426-8740-39ceb3246bff",
   "metadata": {
    "id": "a38c8026-2bc5-4426-8740-39ceb3246bff",
    "outputId": "cfa6db11-73aa-41a1-811a-8518b388b331"
   },
   "outputs": [
    {
     "ename": "SyntaxError",
     "evalue": "invalid syntax (1147040890.py, line 3)",
     "output_type": "error",
     "traceback": [
      "\u001b[0;36m  Cell \u001b[0;32mIn[7], line 3\u001b[0;36m\u001b[0m\n\u001b[0;31m    if = 50; # if is a pre-defined keyword in Python which already has a different meaning\u001b[0m\n\u001b[0m       ^\u001b[0m\n\u001b[0;31mSyntaxError\u001b[0m\u001b[0;31m:\u001b[0m invalid syntax\n"
     ]
    }
   ],
   "source": [
    "x = 11;\n",
    "\n",
    "if = 50; # if is a pre-defined keyword in Python which already has a different meaning"
   ]
  },
  {
   "cell_type": "code",
   "execution_count": 8,
   "id": "df1c0303-04d2-4475-85a2-9a49cf1e972e",
   "metadata": {
    "id": "df1c0303-04d2-4475-85a2-9a49cf1e972e"
   },
   "outputs": [],
   "source": [
    "finally1 = 24;"
   ]
  },
  {
   "cell_type": "code",
   "execution_count": 9,
   "id": "12801015-1b2b-4324-9416-552b4ec7e78f",
   "metadata": {
    "id": "12801015-1b2b-4324-9416-552b4ec7e78f",
    "outputId": "8ba9d615-fbf7-42c0-8919-767035e4e904"
   },
   "outputs": [
    {
     "ename": "SyntaxError",
     "evalue": "invalid syntax (2236298162.py, line 1)",
     "output_type": "error",
     "traceback": [
      "\u001b[0;36m  Cell \u001b[0;32mIn[9], line 1\u001b[0;36m\u001b[0m\n\u001b[0;31m    finally = 34; # finally is a pre-defined keyword in Python which already has a different meaning\u001b[0m\n\u001b[0m    ^\u001b[0m\n\u001b[0;31mSyntaxError\u001b[0m\u001b[0;31m:\u001b[0m invalid syntax\n"
     ]
    }
   ],
   "source": [
    "finally = 34; # finally is a pre-defined keyword in Python which already has a different meaning"
   ]
  },
  {
   "cell_type": "markdown",
   "id": "c98c6655-8319-4494-812c-01ec6aef2127",
   "metadata": {
    "id": "c98c6655-8319-4494-812c-01ec6aef2127"
   },
   "source": [
    "### Data Types in Python\n",
    "\n",
    "- Non-Sequence Data Types\n",
    "  1. Integers (int)\n",
    "  2. Decimal Point Number (float)\n",
    "  3. Complex numbers (complex)\n",
    "  4. Boolean (bool)\n",
    "     \n",
    "- Sequence Data Type (Inbuilt Data Structures in Python)\n",
    "  - Indexable sequence\n",
    "    1. String\n",
    "    2. List\n",
    "    3. Tuple\n",
    "\n",
    "  - Non-indexable Sequence\n",
    "    1. dictionary\n",
    "    2. Set"
   ]
  },
  {
   "cell_type": "markdown",
   "id": "Lo0Mo_vLDsHk",
   "metadata": {
    "id": "Lo0Mo_vLDsHk"
   },
   "source": [
    "### Integers\n",
    "Positive and Negative whole numbers"
   ]
  },
  {
   "cell_type": "code",
   "execution_count": 8,
   "id": "rBuM7egNDhlv",
   "metadata": {
    "colab": {
     "base_uri": "https://localhost:8080/"
    },
    "id": "rBuM7egNDhlv",
    "outputId": "e998b87b-e8fa-4586-a09d-adf4b4155edc"
   },
   "outputs": [
    {
     "name": "stdout",
     "output_type": "stream",
     "text": [
      "12\n",
      "<class 'int'>\n"
     ]
    }
   ],
   "source": [
    "x = 12;\n",
    "print(x);\n",
    "print(type(x)); # type is a function which gives you the data Type of the given variable"
   ]
  },
  {
   "cell_type": "markdown",
   "id": "cnlTbbYdEGDv",
   "metadata": {
    "id": "cnlTbbYdEGDv"
   },
   "source": [
    "### Floating Point Numbers\n",
    "- Decimal Numbers"
   ]
  },
  {
   "cell_type": "code",
   "execution_count": 9,
   "id": "nctZTJDNEB7S",
   "metadata": {
    "colab": {
     "base_uri": "https://localhost:8080/"
    },
    "id": "nctZTJDNEB7S",
    "outputId": "6721140f-e565-4774-90af-67c392570f49"
   },
   "outputs": [
    {
     "name": "stdout",
     "output_type": "stream",
     "text": [
      "3.14\n",
      "<class 'float'>\n"
     ]
    }
   ],
   "source": [
    "x = 3.14;\n",
    "print(x);\n",
    "print(type(x));"
   ]
  },
  {
   "cell_type": "markdown",
   "id": "ZwzkCgInEU7e",
   "metadata": {
    "id": "ZwzkCgInEU7e"
   },
   "source": [
    "### Boolean\n",
    "- Having two states/possibilites"
   ]
  },
  {
   "cell_type": "code",
   "execution_count": 11,
   "id": "Fi9ef9tPESqV",
   "metadata": {
    "colab": {
     "base_uri": "https://localhost:8080/"
    },
    "id": "Fi9ef9tPESqV",
    "outputId": "7a2162c2-5788-4d10-9350-6bd91981361e"
   },
   "outputs": [
    {
     "name": "stdout",
     "output_type": "stream",
     "text": [
      "True False\n",
      "<class 'bool'>\n",
      "<class 'bool'>\n"
     ]
    }
   ],
   "source": [
    "x = True;\n",
    "y = False;\n",
    "print(x, y);\n",
    "print(type(x));\n",
    "print(type(y));"
   ]
  },
  {
   "cell_type": "markdown",
   "id": "WSD6zrSVExbF",
   "metadata": {
    "id": "WSD6zrSVExbF"
   },
   "source": [
    "## String\n",
    "String is a collection of characters stored inside quotes (' ' / \" \")"
   ]
  },
  {
   "cell_type": "code",
   "execution_count": 12,
   "id": "TAn1mAebEp5Q",
   "metadata": {
    "colab": {
     "base_uri": "https://localhost:8080/"
    },
    "id": "TAn1mAebEp5Q",
    "outputId": "e644b628-593e-421a-e238-15ec15065778"
   },
   "outputs": [
    {
     "name": "stdout",
     "output_type": "stream",
     "text": [
      "hello\n",
      "<class 'str'>\n"
     ]
    }
   ],
   "source": [
    "string = 'hello';\n",
    "print(string);\n",
    "print(type(string));"
   ]
  },
  {
   "cell_type": "code",
   "execution_count": 13,
   "id": "PIWdoBIAFOu9",
   "metadata": {
    "colab": {
     "base_uri": "https://localhost:8080/"
    },
    "id": "PIWdoBIAFOu9",
    "outputId": "ed0f1782-3518-45f8-b202-f4bba34b904a"
   },
   "outputs": [
    {
     "name": "stdout",
     "output_type": "stream",
     "text": [
      "hello\n",
      "hello\n"
     ]
    }
   ],
   "source": [
    "# we can write characters inside quotes (single quotes ' ' and double quotes \" \")\n",
    "st = 'hello';\n",
    "st1 = \"hello\";\n",
    "\n",
    "print(st);\n",
    "print(st1);"
   ]
  },
  {
   "cell_type": "code",
   "execution_count": 14,
   "id": "ozliKgp7FynG",
   "metadata": {
    "colab": {
     "base_uri": "https://localhost:8080/"
    },
    "id": "ozliKgp7FynG",
    "outputId": "43f8776a-6b41-49ba-a85e-7d87f50a5054"
   },
   "outputs": [
    {
     "name": "stdout",
     "output_type": "stream",
     "text": [
      "hello\n",
      "h\n"
     ]
    }
   ],
   "source": [
    "# we can access with indexing value (start with 0 left to right and start with -1 right to left)\n",
    "print(st);\n",
    "print(st[0]);"
   ]
  },
  {
   "cell_type": "code",
   "execution_count": 18,
   "id": "u-AtZ0QuGONt",
   "metadata": {
    "colab": {
     "base_uri": "https://localhost:8080/"
    },
    "id": "u-AtZ0QuGONt",
    "outputId": "984f8077-4239-4349-d115-4497384f0ef5"
   },
   "outputs": [
    {
     "name": "stdout",
     "output_type": "stream",
     "text": [
      "e\n",
      "o\n"
     ]
    }
   ],
   "source": [
    "print(st[-4]);\n",
    "print(st[-1])"
   ]
  },
  {
   "cell_type": "markdown",
   "id": "yvrFA9C7Gi-T",
   "metadata": {
    "id": "yvrFA9C7Gi-T"
   },
   "source": [
    "### List\n",
    "It is a collection of heterogenous (different type of data elements) Data elements"
   ]
  },
  {
   "cell_type": "code",
   "execution_count": 19,
   "id": "124giXngGS5G",
   "metadata": {
    "colab": {
     "base_uri": "https://localhost:8080/"
    },
    "id": "124giXngGS5G",
    "outputId": "29a56f7a-1cfe-46c3-a4ae-6dff262d7949"
   },
   "outputs": [
    {
     "name": "stdout",
     "output_type": "stream",
     "text": [
      "['A', 'B', 'C', 'D']\n",
      "<class 'list'>\n"
     ]
    }
   ],
   "source": [
    "studentNames = ['A', 'B', 'C', 'D']\n",
    "print(studentNames)\n",
    "print(type(studentNames))"
   ]
  },
  {
   "cell_type": "code",
   "execution_count": 20,
   "id": "mtKbDp5YG8dn",
   "metadata": {
    "colab": {
     "base_uri": "https://localhost:8080/"
    },
    "id": "mtKbDp5YG8dn",
    "outputId": "99b98a93-c840-4892-d68f-f0f0234b690e"
   },
   "outputs": [
    {
     "name": "stdout",
     "output_type": "stream",
     "text": [
      "[23, 56, 'hello', [True, 53]]\n",
      "<class 'list'>\n"
     ]
    }
   ],
   "source": [
    "l = [23, 56, 'hello', [True, 53]];\n",
    "print(l);\n",
    "print(type(l));"
   ]
  },
  {
   "cell_type": "code",
   "execution_count": 21,
   "id": "Y96EVgmSHSJx",
   "metadata": {
    "colab": {
     "base_uri": "https://localhost:8080/"
    },
    "id": "Y96EVgmSHSJx",
    "outputId": "86284e3b-bf4f-4593-f309-96e6c1d4309c"
   },
   "outputs": [
    {
     "name": "stdout",
     "output_type": "stream",
     "text": [
      "[99, 88, 95, 95, 88]\n"
     ]
    }
   ],
   "source": [
    "marks = [99, 88, 95, 95, 88];\n",
    "print(marks);"
   ]
  },
  {
   "cell_type": "code",
   "execution_count": 22,
   "id": "a9einyUDHmrP",
   "metadata": {
    "colab": {
     "base_uri": "https://localhost:8080/"
    },
    "id": "a9einyUDHmrP",
    "outputId": "09cca01c-4a7a-42ae-ea2c-b833b271aaf3"
   },
   "outputs": [
    {
     "data": {
      "text/plain": [
       "[99, 88, 95, 95, 88]"
      ]
     },
     "execution_count": 22,
     "metadata": {},
     "output_type": "execute_result"
    }
   ],
   "source": [
    "marks"
   ]
  },
  {
   "cell_type": "code",
   "execution_count": 23,
   "id": "PmYP5AJKHntX",
   "metadata": {
    "colab": {
     "base_uri": "https://localhost:8080/"
    },
    "id": "PmYP5AJKHntX",
    "outputId": "ff1488c0-6f8e-45d0-e16b-5578c269eb29"
   },
   "outputs": [
    {
     "name": "stdout",
     "output_type": "stream",
     "text": [
      "99\n"
     ]
    }
   ],
   "source": [
    "print(marks[0]);"
   ]
  },
  {
   "cell_type": "markdown",
   "id": "-ABL8-3yHtsi",
   "metadata": {
    "id": "-ABL8-3yHtsi"
   },
   "source": [
    "### Mutable sequence i.e they can be modified\n",
    "- List\n",
    "- Dictionary\n",
    "- Set\n"
   ]
  },
  {
   "cell_type": "markdown",
   "id": "0EAquNgbIAc1",
   "metadata": {
    "id": "0EAquNgbIAc1"
   },
   "source": [
    "### Immutable Sequence i.e they can not be modified or alter\n",
    "\n",
    "- Tuple\n",
    "- String"
   ]
  },
  {
   "cell_type": "code",
   "execution_count": 30,
   "id": "Loi96AjuHrfa",
   "metadata": {
    "colab": {
     "base_uri": "https://localhost:8080/"
    },
    "id": "Loi96AjuHrfa",
    "outputId": "b095abbe-36a4-41cf-da5d-e28e1b2b2186"
   },
   "outputs": [
    {
     "name": "stdout",
     "output_type": "stream",
     "text": [
      "<class 'list'>\n"
     ]
    }
   ],
   "source": [
    "print(type(marks));\n"
   ]
  },
  {
   "cell_type": "code",
   "execution_count": 31,
   "id": "nGJ66_gWIhJE",
   "metadata": {
    "colab": {
     "base_uri": "https://localhost:8080/"
    },
    "id": "nGJ66_gWIhJE",
    "outputId": "c7753f16-9709-4c20-c7b6-e5759f3c1fa6"
   },
   "outputs": [
    {
     "name": "stdout",
     "output_type": "stream",
     "text": [
      "[99, 88, 95, 95, 88]\n"
     ]
    }
   ],
   "source": [
    "print(marks);"
   ]
  },
  {
   "cell_type": "code",
   "execution_count": 32,
   "id": "ytnajLW0I2yb",
   "metadata": {
    "colab": {
     "base_uri": "https://localhost:8080/"
    },
    "id": "ytnajLW0I2yb",
    "outputId": "44343b53-be00-4e8e-a36a-37e8c2edb796"
   },
   "outputs": [
    {
     "name": "stdout",
     "output_type": "stream",
     "text": [
      "[54, 88, 95, 95, 88]\n"
     ]
    }
   ],
   "source": [
    "# list are mutable example\n",
    "marks[0] = 54;\n",
    "print(marks);"
   ]
  },
  {
   "cell_type": "markdown",
   "id": "63SQzwOZJFjt",
   "metadata": {
    "id": "63SQzwOZJFjt"
   },
   "source": [
    "####  Tuple\n",
    "It is a collection of heterogenous data Elements"
   ]
  },
  {
   "cell_type": "markdown",
   "id": "pl-U2GAQJSI_",
   "metadata": {
    "id": "pl-U2GAQJSI_"
   },
   "source": [
    "- List is mutable, while tuple is immutale.\n",
    "- Lis used Square Brackets [], while tuple used Round Brackets ().\n",
    "- Tuple is comparatively faster in execution as compared to a List"
   ]
  },
  {
   "cell_type": "code",
   "execution_count": 33,
   "id": "nGgXXkvTJD0K",
   "metadata": {
    "colab": {
     "base_uri": "https://localhost:8080/"
    },
    "id": "nGgXXkvTJD0K",
    "outputId": "a2babc1e-a610-464e-e99f-981a05445e04"
   },
   "outputs": [
    {
     "name": "stdout",
     "output_type": "stream",
     "text": [
      "(100, 91, 48)\n"
     ]
    }
   ],
   "source": [
    "t = (100, 91, 48);\n",
    "print(t);"
   ]
  },
  {
   "cell_type": "code",
   "execution_count": 34,
   "id": "nRdU8FD6Jv3v",
   "metadata": {
    "colab": {
     "base_uri": "https://localhost:8080/"
    },
    "id": "nRdU8FD6Jv3v",
    "outputId": "fa68f421-8914-40f1-9613-addbc2102d81"
   },
   "outputs": [
    {
     "name": "stdout",
     "output_type": "stream",
     "text": [
      "100\n"
     ]
    }
   ],
   "source": [
    "print(t[0]);"
   ]
  },
  {
   "cell_type": "code",
   "execution_count": 35,
   "id": "z0kJTYtrJyRf",
   "metadata": {
    "colab": {
     "base_uri": "https://localhost:8080/",
     "height": 141
    },
    "id": "z0kJTYtrJyRf",
    "outputId": "366dcdbc-4620-419a-dba4-f56305ad7e0d"
   },
   "outputs": [
    {
     "ename": "TypeError",
     "evalue": "'tuple' object does not support item assignment",
     "output_type": "error",
     "traceback": [
      "\u001b[0;31m---------------------------------------------------------------------------\u001b[0m",
      "\u001b[0;31mTypeError\u001b[0m                                 Traceback (most recent call last)",
      "\u001b[0;32m<ipython-input-35-7c27820640e5>\u001b[0m in \u001b[0;36m<cell line: 1>\u001b[0;34m()\u001b[0m\n\u001b[0;32m----> 1\u001b[0;31m \u001b[0mt\u001b[0m\u001b[0;34m[\u001b[0m\u001b[0;36m0\u001b[0m\u001b[0;34m]\u001b[0m \u001b[0;34m=\u001b[0m \u001b[0;36m53\u001b[0m  \u001b[0;31m# Tuple is immutable. can not change the data\u001b[0m\u001b[0;34m\u001b[0m\u001b[0;34m\u001b[0m\u001b[0m\n\u001b[0m",
      "\u001b[0;31mTypeError\u001b[0m: 'tuple' object does not support item assignment"
     ]
    }
   ],
   "source": [
    "t[0] = 53  # Tuple is immutable. can not change the data"
   ]
  },
  {
   "cell_type": "code",
   "execution_count": 36,
   "id": "5aXi_9xDJ7_E",
   "metadata": {
    "colab": {
     "base_uri": "https://localhost:8080/",
     "height": 36
    },
    "id": "5aXi_9xDJ7_E",
    "outputId": "8392b195-d07c-4184-d742-d27b103573a7"
   },
   "outputs": [
    {
     "data": {
      "application/vnd.google.colaboratory.intrinsic+json": {
       "type": "string"
      },
      "text/plain": [
       "'hello'"
      ]
     },
     "execution_count": 36,
     "metadata": {},
     "output_type": "execute_result"
    }
   ],
   "source": [
    "st"
   ]
  },
  {
   "cell_type": "code",
   "execution_count": 39,
   "id": "6qnOk9HeJ_SW",
   "metadata": {
    "colab": {
     "base_uri": "https://localhost:8080/",
     "height": 158
    },
    "id": "6qnOk9HeJ_SW",
    "outputId": "c96b5796-2a2a-4fd2-c3f8-0d831bc0a0d8"
   },
   "outputs": [
    {
     "ename": "NameError",
     "evalue": "name 'q' is not defined",
     "output_type": "error",
     "traceback": [
      "\u001b[0;31m---------------------------------------------------------------------------\u001b[0m",
      "\u001b[0;31mNameError\u001b[0m                                 Traceback (most recent call last)",
      "\u001b[0;32m<ipython-input-39-f5a61dafd315>\u001b[0m in \u001b[0;36m<cell line: 1>\u001b[0;34m()\u001b[0m\n\u001b[0;32m----> 1\u001b[0;31m \u001b[0mst\u001b[0m\u001b[0;34m[\u001b[0m\u001b[0;36m0\u001b[0m\u001b[0;34m]\u001b[0m \u001b[0;34m=\u001b[0m \u001b[0;34m-\u001b[0m\u001b[0mq\u001b[0m\u001b[0;34m;\u001b[0m\u001b[0;34m\u001b[0m\u001b[0;34m\u001b[0m\u001b[0m\n\u001b[0m\u001b[1;32m      2\u001b[0m \u001b[0mprint\u001b[0m\u001b[0;34m(\u001b[0m\u001b[0mst\u001b[0m\u001b[0;34m)\u001b[0m\u001b[0;34m;\u001b[0m \u001b[0;31m# string are immutable\u001b[0m\u001b[0;34m\u001b[0m\u001b[0;34m\u001b[0m\u001b[0m\n",
      "\u001b[0;31mNameError\u001b[0m: name 'q' is not defined"
     ]
    }
   ],
   "source": [
    "st[0] = -q;\n",
    "print(st); # string are immutable"
   ]
  },
  {
   "cell_type": "code",
   "execution_count": 40,
   "id": "WYyTEVptKIFo",
   "metadata": {
    "colab": {
     "base_uri": "https://localhost:8080/"
    },
    "id": "WYyTEVptKIFo",
    "outputId": "d30e25a2-cb4d-4043-8eee-bf7d37d92ffb"
   },
   "outputs": [
    {
     "name": "stdout",
     "output_type": "stream",
     "text": [
      "<class 'str'>\n"
     ]
    }
   ],
   "source": [
    "print(type(st));"
   ]
  },
  {
   "cell_type": "code",
   "execution_count": 41,
   "id": "E54KKZT5KLD8",
   "metadata": {
    "colab": {
     "base_uri": "https://localhost:8080/"
    },
    "id": "E54KKZT5KLD8",
    "outputId": "66bc729d-c6ba-401c-ef8d-f8accb259561"
   },
   "outputs": [
    {
     "data": {
      "text/plain": [
       "[23, 56, 'hello', [True, 53]]"
      ]
     },
     "execution_count": 41,
     "metadata": {},
     "output_type": "execute_result"
    }
   ],
   "source": [
    "l"
   ]
  },
  {
   "cell_type": "code",
   "execution_count": 44,
   "id": "kGkMStrPKXKL",
   "metadata": {
    "colab": {
     "base_uri": "https://localhost:8080/"
    },
    "id": "kGkMStrPKXKL",
    "outputId": "4075e782-d5c3-4329-bb2b-f8874bc7ae4a"
   },
   "outputs": [
    {
     "name": "stdout",
     "output_type": "stream",
     "text": [
      "53\n"
     ]
    }
   ],
   "source": [
    "# access 53\n",
    "print(l[-1][-1]);"
   ]
  },
  {
   "cell_type": "code",
   "execution_count": 43,
   "id": "smtfXoXAKkLU",
   "metadata": {
    "colab": {
     "base_uri": "https://localhost:8080/"
    },
    "id": "smtfXoXAKkLU",
    "outputId": "766d28dc-c786-4349-a18c-d2c3fe7a2df0"
   },
   "outputs": [
    {
     "name": "stdout",
     "output_type": "stream",
     "text": [
      "53\n"
     ]
    }
   ],
   "source": [
    "print(l[3][1]);"
   ]
  },
  {
   "cell_type": "markdown",
   "id": "J8wunaJlKx-f",
   "metadata": {
    "id": "J8wunaJlKx-f"
   },
   "source": [
    "### Dictionary\n",
    "Dictionary is a collection of key-value pairs stored together as items"
   ]
  },
  {
   "cell_type": "code",
   "execution_count": 46,
   "id": "BbVKDwhKKtB5",
   "metadata": {
    "colab": {
     "base_uri": "https://localhost:8080/"
    },
    "id": "BbVKDwhKKtB5",
    "outputId": "fcb7d679-b906-4ea9-8efd-abb35f880768"
   },
   "outputs": [
    {
     "name": "stdout",
     "output_type": "stream",
     "text": [
      "{'math': 99, 'phy': 97, 'chem': 95, 'eng': 99, 'computer': 100}\n"
     ]
    }
   ],
   "source": [
    "dictinary = {'math': 99, 'phy':97, 'chem':95, 'eng':99, 'computer': 100};\n",
    "print(dictinary);\n"
   ]
  },
  {
   "cell_type": "code",
   "execution_count": 47,
   "id": "liPzvsmZLb4s",
   "metadata": {
    "colab": {
     "base_uri": "https://localhost:8080/",
     "height": 141
    },
    "id": "liPzvsmZLb4s",
    "outputId": "2f57980a-fe5d-427d-de8a-c254219e7df2"
   },
   "outputs": [
    {
     "ename": "KeyError",
     "evalue": "0",
     "output_type": "error",
     "traceback": [
      "\u001b[0;31m---------------------------------------------------------------------------\u001b[0m",
      "\u001b[0;31mKeyError\u001b[0m                                  Traceback (most recent call last)",
      "\u001b[0;32m<ipython-input-47-bdee78b0866a>\u001b[0m in \u001b[0;36m<cell line: 1>\u001b[0;34m()\u001b[0m\n\u001b[0;32m----> 1\u001b[0;31m \u001b[0mdictinary\u001b[0m\u001b[0;34m[\u001b[0m\u001b[0;36m0\u001b[0m\u001b[0;34m]\u001b[0m\u001b[0;34m\u001b[0m\u001b[0;34m\u001b[0m\u001b[0m\n\u001b[0m",
      "\u001b[0;31mKeyError\u001b[0m: 0"
     ]
    }
   ],
   "source": [
    "dictinary[0]"
   ]
  },
  {
   "cell_type": "code",
   "execution_count": 48,
   "id": "70U0rDM6LtcV",
   "metadata": {
    "colab": {
     "base_uri": "https://localhost:8080/"
    },
    "id": "70U0rDM6LtcV",
    "outputId": "6a42d73e-8589-4972-d946-3a6dd3f075bb"
   },
   "outputs": [
    {
     "name": "stdout",
     "output_type": "stream",
     "text": [
      "100\n"
     ]
    }
   ],
   "source": [
    "print(dictinary['computer']);"
   ]
  },
  {
   "cell_type": "code",
   "execution_count": 50,
   "id": "xCYYOaulL0Wt",
   "metadata": {
    "colab": {
     "base_uri": "https://localhost:8080/",
     "height": 141
    },
    "id": "xCYYOaulL0Wt",
    "outputId": "48aa79d6-20d3-4e41-ed92-c68af94743cd"
   },
   "outputs": [
    {
     "ename": "KeyError",
     "evalue": "100",
     "output_type": "error",
     "traceback": [
      "\u001b[0;31m---------------------------------------------------------------------------\u001b[0m",
      "\u001b[0;31mKeyError\u001b[0m                                  Traceback (most recent call last)",
      "\u001b[0;32m<ipython-input-50-21a21f30377c>\u001b[0m in \u001b[0;36m<cell line: 1>\u001b[0;34m()\u001b[0m\n\u001b[0;32m----> 1\u001b[0;31m \u001b[0mprint\u001b[0m\u001b[0;34m(\u001b[0m\u001b[0mdictinary\u001b[0m\u001b[0;34m[\u001b[0m\u001b[0;36m100\u001b[0m\u001b[0;34m]\u001b[0m\u001b[0;34m)\u001b[0m\u001b[0;34m;\u001b[0m\u001b[0;34m\u001b[0m\u001b[0;34m\u001b[0m\u001b[0m\n\u001b[0m",
      "\u001b[0;31mKeyError\u001b[0m: 100"
     ]
    }
   ],
   "source": [
    "print(dictinary[100]); // key error"
   ]
  },
  {
   "cell_type": "markdown",
   "id": "_gdj8pw-MhJg",
   "metadata": {
    "id": "_gdj8pw-MhJg"
   },
   "source": [
    "## Set\n",
    "It is an unorderedcollection of unique elements"
   ]
  },
  {
   "cell_type": "code",
   "execution_count": 51,
   "id": "luzGImH3L7FV",
   "metadata": {
    "id": "luzGImH3L7FV"
   },
   "outputs": [],
   "source": [
    "SET = {100, 99, 44, 45};"
   ]
  },
  {
   "cell_type": "code",
   "execution_count": 52,
   "id": "jgL3F1V9MvkG",
   "metadata": {
    "colab": {
     "base_uri": "https://localhost:8080/"
    },
    "id": "jgL3F1V9MvkG",
    "outputId": "8510bc12-10f7-4df8-cd3d-87e536ceab8f"
   },
   "outputs": [
    {
     "name": "stdout",
     "output_type": "stream",
     "text": [
      "{99, 100, 45, 44}\n"
     ]
    }
   ],
   "source": [
    "print(SET);"
   ]
  },
  {
   "cell_type": "code",
   "execution_count": 53,
   "id": "aCgQuXIOMx7P",
   "metadata": {
    "colab": {
     "base_uri": "https://localhost:8080/",
     "height": 176
    },
    "id": "aCgQuXIOMx7P",
    "outputId": "ecc66186-9fd0-4ae9-db58-7c4838d48c2b"
   },
   "outputs": [
    {
     "name": "stdout",
     "output_type": "stream",
     "text": [
      "<class 'set'>\n"
     ]
    },
    {
     "ename": "TypeError",
     "evalue": "'set' object is not subscriptable",
     "output_type": "error",
     "traceback": [
      "\u001b[0;31m---------------------------------------------------------------------------\u001b[0m",
      "\u001b[0;31mTypeError\u001b[0m                                 Traceback (most recent call last)",
      "\u001b[0;32m<ipython-input-53-459cb5ff8297>\u001b[0m in \u001b[0;36m<cell line: 2>\u001b[0;34m()\u001b[0m\n\u001b[1;32m      1\u001b[0m \u001b[0mprint\u001b[0m\u001b[0;34m(\u001b[0m\u001b[0mtype\u001b[0m\u001b[0;34m(\u001b[0m\u001b[0mSET\u001b[0m\u001b[0;34m)\u001b[0m\u001b[0;34m)\u001b[0m\u001b[0;34m;\u001b[0m\u001b[0;34m\u001b[0m\u001b[0;34m\u001b[0m\u001b[0m\n\u001b[0;32m----> 2\u001b[0;31m \u001b[0mprint\u001b[0m\u001b[0;34m(\u001b[0m\u001b[0mSET\u001b[0m\u001b[0;34m[\u001b[0m\u001b[0;36m0\u001b[0m\u001b[0;34m]\u001b[0m\u001b[0;34m)\u001b[0m\u001b[0;34m;\u001b[0m\u001b[0;34m\u001b[0m\u001b[0;34m\u001b[0m\u001b[0m\n\u001b[0m",
      "\u001b[0;31mTypeError\u001b[0m: 'set' object is not subscriptable"
     ]
    }
   ],
   "source": [
    "print(type(SET));\n",
    "print(SET[0]);"
   ]
  },
  {
   "cell_type": "markdown",
   "id": "JQ8j4hi5M_W7",
   "metadata": {
    "id": "JQ8j4hi5M_W7"
   },
   "source": [
    "- Ordered sequence\n",
    "  - String\n",
    "  - List\n",
    "  - Tuple\n",
    "  - Dictinary\n",
    "- Unordered Sequence\n",
    "  - Dictionary < 3.7\n",
    "  - Set"
   ]
  },
  {
   "cell_type": "markdown",
   "id": "vlt8fGGMNSSI",
   "metadata": {
    "id": "vlt8fGGMNSSI"
   },
   "source": [
    "### Types of Operatores\n",
    "- Arithmetic Operators\n",
    "- comarison Operators\n",
    "- Logical Operators\n",
    "- Membership Operators"
   ]
  },
  {
   "cell_type": "markdown",
   "id": "8n_nurziNrB_",
   "metadata": {
    "id": "8n_nurziNrB_"
   },
   "source": [
    "# Arithmetic Operators\n",
    " - Adition operators (+)\n",
    " - subtraction operators (-)\n",
    " - Multiplication Operators (*)\n",
    " - Division Operators (/)\n",
    " - Modulus/ remainder Operators (%)\n",
    " - Floor division operators (//)\n",
    " - Power / Exponent operators (**)"
   ]
  },
  {
   "cell_type": "code",
   "execution_count": 54,
   "id": "nJ5viRGoM6Hl",
   "metadata": {
    "colab": {
     "base_uri": "https://localhost:8080/"
    },
    "id": "nJ5viRGoM6Hl",
    "outputId": "815f1eab-6eab-4c1a-8174-be516e0b0b19"
   },
   "outputs": [
    {
     "name": "stdout",
     "output_type": "stream",
     "text": [
      "7\n",
      "3\n",
      "10\n",
      "2.5\n",
      "1\n",
      "2\n",
      "25\n"
     ]
    }
   ],
   "source": [
    "x = 5;\n",
    "y = 2;\n",
    "print(x+y);\n",
    "print(x-y);\n",
    "print(x*y);\n",
    "print(x/y);\n",
    "print(x%y);\n",
    "print(x//y);\n",
    "print(x**y);"
   ]
  },
  {
   "cell_type": "code",
   "execution_count": 55,
   "id": "XqRR8MskOdHH",
   "metadata": {
    "colab": {
     "base_uri": "https://localhost:8080/"
    },
    "id": "XqRR8MskOdHH",
    "outputId": "d97f1a1f-20da-42b5-a933-b3d3f8c7d352"
   },
   "outputs": [
    {
     "name": "stdout",
     "output_type": "stream",
     "text": [
      "2.0\n"
     ]
    }
   ],
   "source": [
    "print(4/2); # division in python always gives a floot output"
   ]
  },
  {
   "cell_type": "code",
   "execution_count": 56,
   "id": "s4G3_ONZOobR",
   "metadata": {
    "colab": {
     "base_uri": "https://localhost:8080/"
    },
    "id": "s4G3_ONZOobR",
    "outputId": "1c188c71-e2a5-4f73-b78e-188992525846"
   },
   "outputs": [
    {
     "data": {
      "text/plain": [
       "12.6"
      ]
     },
     "execution_count": 56,
     "metadata": {},
     "output_type": "execute_result"
    }
   ],
   "source": [
    "63/5"
   ]
  },
  {
   "cell_type": "code",
   "execution_count": 57,
   "id": "bl-v1l0kOqPi",
   "metadata": {
    "colab": {
     "base_uri": "https://localhost:8080/"
    },
    "id": "bl-v1l0kOqPi",
    "outputId": "405db44b-92bd-4c70-91c8-964b8299813e"
   },
   "outputs": [
    {
     "data": {
      "text/plain": [
       "3"
      ]
     },
     "execution_count": 57,
     "metadata": {},
     "output_type": "execute_result"
    }
   ],
   "source": [
    "53%5"
   ]
  },
  {
   "cell_type": "code",
   "execution_count": 58,
   "id": "JFTLSMr_OtEx",
   "metadata": {
    "colab": {
     "base_uri": "https://localhost:8080/"
    },
    "id": "JFTLSMr_OtEx",
    "outputId": "4daf5fb9-876c-4085-ac7c-498d0b96df52"
   },
   "outputs": [
    {
     "data": {
      "text/plain": [
       "0"
      ]
     },
     "execution_count": 58,
     "metadata": {},
     "output_type": "execute_result"
    }
   ],
   "source": [
    "60 % 5"
   ]
  },
  {
   "cell_type": "code",
   "execution_count": 59,
   "id": "2fwaatdfOwPo",
   "metadata": {
    "colab": {
     "base_uri": "https://localhost:8080/"
    },
    "id": "2fwaatdfOwPo",
    "outputId": "d8858951-d173-4a74-d4db-879b742ddfe7"
   },
   "outputs": [
    {
     "data": {
      "text/plain": [
       "2.5"
      ]
     },
     "execution_count": 59,
     "metadata": {},
     "output_type": "execute_result"
    }
   ],
   "source": [
    "5 / 2"
   ]
  },
  {
   "cell_type": "code",
   "execution_count": 61,
   "id": "3gXq4cONOyFl",
   "metadata": {
    "colab": {
     "base_uri": "https://localhost:8080/"
    },
    "id": "3gXq4cONOyFl",
    "outputId": "5d138a43-7620-456c-c045-4b49719bd5df"
   },
   "outputs": [
    {
     "data": {
      "text/plain": [
       "2"
      ]
     },
     "execution_count": 61,
     "metadata": {},
     "output_type": "execute_result"
    }
   ],
   "source": [
    "5 // 2"
   ]
  },
  {
   "cell_type": "markdown",
   "id": "HKA2yEa4O7rW",
   "metadata": {
    "id": "HKA2yEa4O7rW"
   },
   "source": [
    "- floor division: first it will divide and then floor the output\n",
    "- floor means to round down to the nearest integer"
   ]
  },
  {
   "cell_type": "code",
   "execution_count": 62,
   "id": "et3-MZrEO0UY",
   "metadata": {
    "colab": {
     "base_uri": "https://localhost:8080/"
    },
    "id": "et3-MZrEO0UY",
    "outputId": "ade654b6-78ee-42db-9425-a7dd45291e91"
   },
   "outputs": [
    {
     "name": "stdout",
     "output_type": "stream",
     "text": [
      "12\n"
     ]
    }
   ],
   "source": [
    "print(4 * 3);"
   ]
  },
  {
   "cell_type": "code",
   "execution_count": 63,
   "id": "BNxxEjuKPNzQ",
   "metadata": {
    "colab": {
     "base_uri": "https://localhost:8080/"
    },
    "id": "BNxxEjuKPNzQ",
    "outputId": "862a507c-804a-4b8a-c7b8-1ad91a936dd1"
   },
   "outputs": [
    {
     "name": "stdout",
     "output_type": "stream",
     "text": [
      "64\n"
     ]
    }
   ],
   "source": [
    "print(4 ** 3);"
   ]
  },
  {
   "cell_type": "code",
   "execution_count": null,
   "id": "bsn1wsVTPTAY",
   "metadata": {
    "id": "bsn1wsVTPTAY"
   },
   "outputs": [],
   "source": []
  }
 ],
 "metadata": {
  "colab": {
   "include_colab_link": true,
   "provenance": []
  },
  "kernelspec": {
   "display_name": "Python 3",
   "language": "python",
   "name": "python3"
  },
  "language_info": {
   "codemirror_mode": {
    "name": "ipython",
    "version": 3
   },
   "file_extension": ".py",
   "mimetype": "text/x-python",
   "name": "python",
   "nbconvert_exporter": "python",
   "pygments_lexer": "ipython3",
   "version": "3.12.1"
  }
 },
 "nbformat": 4,
 "nbformat_minor": 5
}
