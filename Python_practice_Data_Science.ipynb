{
  "cells": [
    {
      "cell_type": "markdown",
      "metadata": {
        "id": "view-in-github",
        "colab_type": "text"
      },
      "source": [
        "<a href=\"https://colab.research.google.com/github/Dheeraj2002kumar/Python_with_Data_Science/blob/main/Python_practice_Data_Science.ipynb\" target=\"_parent\"><img src=\"https://colab.research.google.com/assets/colab-badge.svg\" alt=\"Open In Colab\"/></a>"
      ]
    },
    {
      "cell_type": "markdown",
      "id": "df54ddf1-e0f0-4a7b-aedc-1f18a4558652",
      "metadata": {
        "id": "df54ddf1-e0f0-4a7b-aedc-1f18a4558652"
      },
      "source": [
        "## Variables\n",
        "- Variables are the name or the memory location where data gets strored"
      ]
    },
    {
      "cell_type": "code",
      "execution_count": null,
      "id": "8bd23324-6b0d-4e9e-b38c-5aa28b5fce4a",
      "metadata": {
        "id": "8bd23324-6b0d-4e9e-b38c-5aa28b5fce4a",
        "outputId": "5f4b0f5b-c952-40c6-8de9-992711808d08"
      },
      "outputs": [
        {
          "name": "stdout",
          "output_type": "stream",
          "text": [
            "12\n"
          ]
        }
      ],
      "source": [
        "x = 12  # x is a variable and 12 is data\n",
        "print(x)  # print is a function that print the value on the screen"
      ]
    },
    {
      "cell_type": "code",
      "execution_count": null,
      "id": "7155827b-997e-4f51-896f-c756b0b0f07c",
      "metadata": {
        "id": "7155827b-997e-4f51-896f-c756b0b0f07c",
        "outputId": "a81e5ed8-0aa0-48d9-de6a-31189872cd51"
      },
      "outputs": [
        {
          "name": "stdout",
          "output_type": "stream",
          "text": [
            "Dheeraj\n"
          ]
        }
      ],
      "source": [
        "variable = 'Dheeraj';\n",
        "print(variable);"
      ]
    },
    {
      "cell_type": "markdown",
      "id": "7f1ad6b7-8c99-47ec-a354-c67b6cc79710",
      "metadata": {
        "id": "7f1ad6b7-8c99-47ec-a354-c67b6cc79710"
      },
      "source": [
        "### Rules for naming variables\n",
        "- A name can only contain alphabets, digits or underscore character.\n",
        "- A name can not start with a digit.\n",
        "- Names are case-sensitive.\n",
        "- Reserved keywords are not allowed for naming purpose."
      ]
    },
    {
      "cell_type": "code",
      "execution_count": null,
      "id": "b3168789-8583-4362-8629-0de5f5619499",
      "metadata": {
        "id": "b3168789-8583-4362-8629-0de5f5619499"
      },
      "outputs": [],
      "source": [
        "# Valid variable name\n",
        "x = 12;\n",
        "x1 = 12;\n",
        "x_ = 12;\n",
        "x_1 = 12;\n"
      ]
    },
    {
      "cell_type": "code",
      "execution_count": null,
      "id": "35a8529e-99a9-417f-a0b1-a03dacaed981",
      "metadata": {
        "id": "35a8529e-99a9-417f-a0b1-a03dacaed981",
        "outputId": "28d1c10b-d08f-4abb-a98e-8d3ee7fe0baa"
      },
      "outputs": [
        {
          "ename": "SyntaxError",
          "evalue": "invalid decimal literal (619581456.py, line 4)",
          "output_type": "error",
          "traceback": [
            "\u001b[1;36m  Cell \u001b[1;32mIn[5], line 4\u001b[1;36m\u001b[0m\n\u001b[1;33m    1x = 12\u001b[0m\n\u001b[1;37m    ^\u001b[0m\n\u001b[1;31mSyntaxError\u001b[0m\u001b[1;31m:\u001b[0m invalid decimal literal\n"
          ]
        }
      ],
      "source": [
        "# Invalid variable name\n",
        "x@ = 12;\n",
        "x!_1 = 12;\n",
        "1x = 12"
      ]
    },
    {
      "cell_type": "code",
      "execution_count": null,
      "id": "d4d1febb-4228-402d-b10e-3ebf16d3cb9d",
      "metadata": {
        "id": "d4d1febb-4228-402d-b10e-3ebf16d3cb9d"
      },
      "outputs": [],
      "source": [
        "x = 12;\n",
        "x = 50;"
      ]
    },
    {
      "cell_type": "code",
      "execution_count": null,
      "id": "8cb0e5e8-d095-477f-9210-1fa0818ed8c3",
      "metadata": {
        "id": "8cb0e5e8-d095-477f-9210-1fa0818ed8c3",
        "outputId": "814a98e0-3bf4-49cc-fb48-8708ea356987"
      },
      "outputs": [
        {
          "name": "stdout",
          "output_type": "stream",
          "text": [
            "50\n"
          ]
        }
      ],
      "source": [
        "print(x)"
      ]
    },
    {
      "cell_type": "code",
      "execution_count": null,
      "id": "a38c8026-2bc5-4426-8740-39ceb3246bff",
      "metadata": {
        "id": "a38c8026-2bc5-4426-8740-39ceb3246bff",
        "outputId": "cfa6db11-73aa-41a1-811a-8518b388b331"
      },
      "outputs": [
        {
          "ename": "SyntaxError",
          "evalue": "invalid syntax (1147040890.py, line 3)",
          "output_type": "error",
          "traceback": [
            "\u001b[1;36m  Cell \u001b[1;32mIn[8], line 3\u001b[1;36m\u001b[0m\n\u001b[1;33m    if = 50; # if is a pre-defined keyword in Python which already has a different meaning\u001b[0m\n\u001b[1;37m       ^\u001b[0m\n\u001b[1;31mSyntaxError\u001b[0m\u001b[1;31m:\u001b[0m invalid syntax\n"
          ]
        }
      ],
      "source": [
        "x = 11;\n",
        "\n",
        "if = 50; # if is a pre-defined keyword in Python which already has a different meaning"
      ]
    },
    {
      "cell_type": "code",
      "execution_count": null,
      "id": "df1c0303-04d2-4475-85a2-9a49cf1e972e",
      "metadata": {
        "id": "df1c0303-04d2-4475-85a2-9a49cf1e972e"
      },
      "outputs": [],
      "source": [
        "finally1 = 24;"
      ]
    },
    {
      "cell_type": "code",
      "execution_count": null,
      "id": "12801015-1b2b-4324-9416-552b4ec7e78f",
      "metadata": {
        "id": "12801015-1b2b-4324-9416-552b4ec7e78f",
        "outputId": "8ba9d615-fbf7-42c0-8919-767035e4e904"
      },
      "outputs": [
        {
          "ename": "SyntaxError",
          "evalue": "invalid syntax (2236298162.py, line 1)",
          "output_type": "error",
          "traceback": [
            "\u001b[1;36m  Cell \u001b[1;32mIn[10], line 1\u001b[1;36m\u001b[0m\n\u001b[1;33m    finally = 34; # finally is a pre-defined keyword in Python which already has a different meaning\u001b[0m\n\u001b[1;37m    ^\u001b[0m\n\u001b[1;31mSyntaxError\u001b[0m\u001b[1;31m:\u001b[0m invalid syntax\n"
          ]
        }
      ],
      "source": [
        "finally = 34; # finally is a pre-defined keyword in Python which already has a different meaning"
      ]
    },
    {
      "cell_type": "markdown",
      "id": "c98c6655-8319-4494-812c-01ec6aef2127",
      "metadata": {
        "id": "c98c6655-8319-4494-812c-01ec6aef2127"
      },
      "source": [
        "### Data Types in Python\n",
        "\n",
        "- Non-Sequence Data Types\n",
        "  1. Integers (int)\n",
        "  2. Decimal Point Number (float)\n",
        "  3. Complex numbers (complex)\n",
        "  4. Boolean (bool)\n",
        "     \n",
        "- Sequence Data Type (Inbuilt Data Structures in Python)\n",
        "  - Indexable sequence\n",
        "    1. String\n",
        "    2. List\n",
        "    3. Tuple\n",
        "\n",
        "  - Non-indexable Sequence\n",
        "    1. dictionary\n",
        "    2. Set"
      ]
    },
    {
      "cell_type": "markdown",
      "source": [
        "### Integers\n",
        "Positive and Negative whole numbers"
      ],
      "metadata": {
        "id": "Lo0Mo_vLDsHk"
      },
      "id": "Lo0Mo_vLDsHk"
    },
    {
      "cell_type": "code",
      "source": [
        "x = 12;\n",
        "print(x);\n",
        "print(type(x)); # type is a function which gives you the data Type of the given variable"
      ],
      "metadata": {
        "colab": {
          "base_uri": "https://localhost:8080/"
        },
        "id": "rBuM7egNDhlv",
        "outputId": "e998b87b-e8fa-4586-a09d-adf4b4155edc"
      },
      "id": "rBuM7egNDhlv",
      "execution_count": 8,
      "outputs": [
        {
          "output_type": "stream",
          "name": "stdout",
          "text": [
            "12\n",
            "<class 'int'>\n"
          ]
        }
      ]
    },
    {
      "cell_type": "markdown",
      "source": [
        "### Floating Point Numbers\n",
        "- Decimal Numbers"
      ],
      "metadata": {
        "id": "cnlTbbYdEGDv"
      },
      "id": "cnlTbbYdEGDv"
    },
    {
      "cell_type": "code",
      "source": [
        "x = 3.14;\n",
        "print(x);\n",
        "print(type(x));"
      ],
      "metadata": {
        "colab": {
          "base_uri": "https://localhost:8080/"
        },
        "id": "nctZTJDNEB7S",
        "outputId": "6721140f-e565-4774-90af-67c392570f49"
      },
      "id": "nctZTJDNEB7S",
      "execution_count": 9,
      "outputs": [
        {
          "output_type": "stream",
          "name": "stdout",
          "text": [
            "3.14\n",
            "<class 'float'>\n"
          ]
        }
      ]
    },
    {
      "cell_type": "markdown",
      "source": [
        "### Boolean\n",
        "- Having two states/possibilites"
      ],
      "metadata": {
        "id": "ZwzkCgInEU7e"
      },
      "id": "ZwzkCgInEU7e"
    },
    {
      "cell_type": "code",
      "source": [
        "x = True;\n",
        "y = False;\n",
        "print(x, y);\n",
        "print(type(x));\n",
        "print(type(y));"
      ],
      "metadata": {
        "colab": {
          "base_uri": "https://localhost:8080/"
        },
        "id": "Fi9ef9tPESqV",
        "outputId": "7a2162c2-5788-4d10-9350-6bd91981361e"
      },
      "id": "Fi9ef9tPESqV",
      "execution_count": 11,
      "outputs": [
        {
          "output_type": "stream",
          "name": "stdout",
          "text": [
            "True False\n",
            "<class 'bool'>\n",
            "<class 'bool'>\n"
          ]
        }
      ]
    },
    {
      "cell_type": "markdown",
      "source": [
        "## String\n",
        "String is a collection of characters stored inside quotes (' ' / \" \")"
      ],
      "metadata": {
        "id": "WSD6zrSVExbF"
      },
      "id": "WSD6zrSVExbF"
    },
    {
      "cell_type": "code",
      "source": [
        "string = 'hello';\n",
        "print(string);\n",
        "print(type(string));"
      ],
      "metadata": {
        "colab": {
          "base_uri": "https://localhost:8080/"
        },
        "id": "TAn1mAebEp5Q",
        "outputId": "e644b628-593e-421a-e238-15ec15065778"
      },
      "id": "TAn1mAebEp5Q",
      "execution_count": 12,
      "outputs": [
        {
          "output_type": "stream",
          "name": "stdout",
          "text": [
            "hello\n",
            "<class 'str'>\n"
          ]
        }
      ]
    },
    {
      "cell_type": "code",
      "source": [
        "# we can write characters inside quotes (single quotes ' ' and double quotes \" \")\n",
        "st = 'hello';\n",
        "st1 = \"hello\";\n",
        "\n",
        "print(st);\n",
        "print(st1);"
      ],
      "metadata": {
        "colab": {
          "base_uri": "https://localhost:8080/"
        },
        "id": "PIWdoBIAFOu9",
        "outputId": "ed0f1782-3518-45f8-b202-f4bba34b904a"
      },
      "id": "PIWdoBIAFOu9",
      "execution_count": 13,
      "outputs": [
        {
          "output_type": "stream",
          "name": "stdout",
          "text": [
            "hello\n",
            "hello\n"
          ]
        }
      ]
    },
    {
      "cell_type": "code",
      "source": [
        "# we can access with indexing value (start with 0 left to right and start with -1 right to left)\n",
        "print(st);\n",
        "print(st[0]);"
      ],
      "metadata": {
        "colab": {
          "base_uri": "https://localhost:8080/"
        },
        "id": "ozliKgp7FynG",
        "outputId": "43f8776a-6b41-49ba-a85e-7d87f50a5054"
      },
      "id": "ozliKgp7FynG",
      "execution_count": 14,
      "outputs": [
        {
          "output_type": "stream",
          "name": "stdout",
          "text": [
            "hello\n",
            "h\n"
          ]
        }
      ]
    },
    {
      "cell_type": "code",
      "source": [
        "print(st[-4]);\n",
        "print(st[-1])"
      ],
      "metadata": {
        "colab": {
          "base_uri": "https://localhost:8080/"
        },
        "id": "u-AtZ0QuGONt",
        "outputId": "984f8077-4239-4349-d115-4497384f0ef5"
      },
      "id": "u-AtZ0QuGONt",
      "execution_count": 18,
      "outputs": [
        {
          "output_type": "stream",
          "name": "stdout",
          "text": [
            "e\n",
            "o\n"
          ]
        }
      ]
    },
    {
      "cell_type": "markdown",
      "source": [
        "### List\n",
        "It is a collection of heterogenous (different type of data elements) Data elements"
      ],
      "metadata": {
        "id": "yvrFA9C7Gi-T"
      },
      "id": "yvrFA9C7Gi-T"
    },
    {
      "cell_type": "code",
      "source": [
        "studentNames = ['A', 'B', 'C', 'D']\n",
        "print(studentNames)\n",
        "print(type(studentNames))"
      ],
      "metadata": {
        "colab": {
          "base_uri": "https://localhost:8080/"
        },
        "id": "124giXngGS5G",
        "outputId": "29a56f7a-1cfe-46c3-a4ae-6dff262d7949"
      },
      "id": "124giXngGS5G",
      "execution_count": 19,
      "outputs": [
        {
          "output_type": "stream",
          "name": "stdout",
          "text": [
            "['A', 'B', 'C', 'D']\n",
            "<class 'list'>\n"
          ]
        }
      ]
    },
    {
      "cell_type": "code",
      "source": [
        "l = [23, 56, 'hello', [True, 53]];\n",
        "print(l);\n",
        "print(type(l));"
      ],
      "metadata": {
        "colab": {
          "base_uri": "https://localhost:8080/"
        },
        "id": "mtKbDp5YG8dn",
        "outputId": "99b98a93-c840-4892-d68f-f0f0234b690e"
      },
      "id": "mtKbDp5YG8dn",
      "execution_count": 20,
      "outputs": [
        {
          "output_type": "stream",
          "name": "stdout",
          "text": [
            "[23, 56, 'hello', [True, 53]]\n",
            "<class 'list'>\n"
          ]
        }
      ]
    },
    {
      "cell_type": "code",
      "source": [
        "marks = [99, 88, 95, 95, 88];\n",
        "print(marks);"
      ],
      "metadata": {
        "colab": {
          "base_uri": "https://localhost:8080/"
        },
        "id": "Y96EVgmSHSJx",
        "outputId": "86284e3b-bf4f-4593-f309-96e6c1d4309c"
      },
      "id": "Y96EVgmSHSJx",
      "execution_count": 21,
      "outputs": [
        {
          "output_type": "stream",
          "name": "stdout",
          "text": [
            "[99, 88, 95, 95, 88]\n"
          ]
        }
      ]
    },
    {
      "cell_type": "code",
      "source": [
        "marks"
      ],
      "metadata": {
        "colab": {
          "base_uri": "https://localhost:8080/"
        },
        "id": "a9einyUDHmrP",
        "outputId": "09cca01c-4a7a-42ae-ea2c-b833b271aaf3"
      },
      "id": "a9einyUDHmrP",
      "execution_count": 22,
      "outputs": [
        {
          "output_type": "execute_result",
          "data": {
            "text/plain": [
              "[99, 88, 95, 95, 88]"
            ]
          },
          "metadata": {},
          "execution_count": 22
        }
      ]
    },
    {
      "cell_type": "code",
      "source": [
        "print(marks[0]);"
      ],
      "metadata": {
        "colab": {
          "base_uri": "https://localhost:8080/"
        },
        "id": "PmYP5AJKHntX",
        "outputId": "ff1488c0-6f8e-45d0-e16b-5578c269eb29"
      },
      "id": "PmYP5AJKHntX",
      "execution_count": 23,
      "outputs": [
        {
          "output_type": "stream",
          "name": "stdout",
          "text": [
            "99\n"
          ]
        }
      ]
    },
    {
      "cell_type": "markdown",
      "source": [
        "### Mutable sequence i.e they can be modified\n",
        "- List\n",
        "- Dictionary\n",
        "- Set\n"
      ],
      "metadata": {
        "id": "-ABL8-3yHtsi"
      },
      "id": "-ABL8-3yHtsi"
    },
    {
      "cell_type": "markdown",
      "source": [
        "### Immutable Sequence i.e they can not be modified or alter\n",
        "\n",
        "- Tuple\n",
        "- String"
      ],
      "metadata": {
        "id": "0EAquNgbIAc1"
      },
      "id": "0EAquNgbIAc1"
    },
    {
      "cell_type": "code",
      "source": [
        "print(type(marks));\n"
      ],
      "metadata": {
        "colab": {
          "base_uri": "https://localhost:8080/"
        },
        "id": "Loi96AjuHrfa",
        "outputId": "b095abbe-36a4-41cf-da5d-e28e1b2b2186"
      },
      "id": "Loi96AjuHrfa",
      "execution_count": 30,
      "outputs": [
        {
          "output_type": "stream",
          "name": "stdout",
          "text": [
            "<class 'list'>\n"
          ]
        }
      ]
    },
    {
      "cell_type": "code",
      "source": [
        "print(marks);"
      ],
      "metadata": {
        "colab": {
          "base_uri": "https://localhost:8080/"
        },
        "id": "nGJ66_gWIhJE",
        "outputId": "c7753f16-9709-4c20-c7b6-e5759f3c1fa6"
      },
      "id": "nGJ66_gWIhJE",
      "execution_count": 31,
      "outputs": [
        {
          "output_type": "stream",
          "name": "stdout",
          "text": [
            "[99, 88, 95, 95, 88]\n"
          ]
        }
      ]
    },
    {
      "cell_type": "code",
      "source": [
        "# list are mutable example\n",
        "marks[0] = 54;\n",
        "print(marks);"
      ],
      "metadata": {
        "colab": {
          "base_uri": "https://localhost:8080/"
        },
        "id": "ytnajLW0I2yb",
        "outputId": "44343b53-be00-4e8e-a36a-37e8c2edb796"
      },
      "id": "ytnajLW0I2yb",
      "execution_count": 32,
      "outputs": [
        {
          "output_type": "stream",
          "name": "stdout",
          "text": [
            "[54, 88, 95, 95, 88]\n"
          ]
        }
      ]
    },
    {
      "cell_type": "markdown",
      "source": [
        "####  Tuple\n",
        "It is a collection of heterogenous data Elements"
      ],
      "metadata": {
        "id": "63SQzwOZJFjt"
      },
      "id": "63SQzwOZJFjt"
    },
    {
      "cell_type": "markdown",
      "source": [
        "- List is mutable, while tuple is immutale.\n",
        "- Lis used Square Brackets [], while tuple used Round Brackets ().\n",
        "- Tuple is comparatively faster in execution as compared to a List"
      ],
      "metadata": {
        "id": "pl-U2GAQJSI_"
      },
      "id": "pl-U2GAQJSI_"
    },
    {
      "cell_type": "code",
      "source": [
        "t = (100, 91, 48);\n",
        "print(t);"
      ],
      "metadata": {
        "colab": {
          "base_uri": "https://localhost:8080/"
        },
        "id": "nGgXXkvTJD0K",
        "outputId": "a2babc1e-a610-464e-e99f-981a05445e04"
      },
      "id": "nGgXXkvTJD0K",
      "execution_count": 33,
      "outputs": [
        {
          "output_type": "stream",
          "name": "stdout",
          "text": [
            "(100, 91, 48)\n"
          ]
        }
      ]
    },
    {
      "cell_type": "code",
      "source": [
        "print(t[0]);"
      ],
      "metadata": {
        "colab": {
          "base_uri": "https://localhost:8080/"
        },
        "id": "nRdU8FD6Jv3v",
        "outputId": "fa68f421-8914-40f1-9613-addbc2102d81"
      },
      "id": "nRdU8FD6Jv3v",
      "execution_count": 34,
      "outputs": [
        {
          "output_type": "stream",
          "name": "stdout",
          "text": [
            "100\n"
          ]
        }
      ]
    },
    {
      "cell_type": "code",
      "source": [
        "t[0] = 53  # Tuple is immutable. can not change the data"
      ],
      "metadata": {
        "colab": {
          "base_uri": "https://localhost:8080/",
          "height": 141
        },
        "id": "z0kJTYtrJyRf",
        "outputId": "366dcdbc-4620-419a-dba4-f56305ad7e0d"
      },
      "id": "z0kJTYtrJyRf",
      "execution_count": 35,
      "outputs": [
        {
          "output_type": "error",
          "ename": "TypeError",
          "evalue": "'tuple' object does not support item assignment",
          "traceback": [
            "\u001b[0;31m---------------------------------------------------------------------------\u001b[0m",
            "\u001b[0;31mTypeError\u001b[0m                                 Traceback (most recent call last)",
            "\u001b[0;32m<ipython-input-35-7c27820640e5>\u001b[0m in \u001b[0;36m<cell line: 1>\u001b[0;34m()\u001b[0m\n\u001b[0;32m----> 1\u001b[0;31m \u001b[0mt\u001b[0m\u001b[0;34m[\u001b[0m\u001b[0;36m0\u001b[0m\u001b[0;34m]\u001b[0m \u001b[0;34m=\u001b[0m \u001b[0;36m53\u001b[0m  \u001b[0;31m# Tuple is immutable. can not change the data\u001b[0m\u001b[0;34m\u001b[0m\u001b[0;34m\u001b[0m\u001b[0m\n\u001b[0m",
            "\u001b[0;31mTypeError\u001b[0m: 'tuple' object does not support item assignment"
          ]
        }
      ]
    },
    {
      "cell_type": "code",
      "source": [
        "st"
      ],
      "metadata": {
        "colab": {
          "base_uri": "https://localhost:8080/",
          "height": 36
        },
        "id": "5aXi_9xDJ7_E",
        "outputId": "8392b195-d07c-4184-d742-d27b103573a7"
      },
      "id": "5aXi_9xDJ7_E",
      "execution_count": 36,
      "outputs": [
        {
          "output_type": "execute_result",
          "data": {
            "text/plain": [
              "'hello'"
            ],
            "application/vnd.google.colaboratory.intrinsic+json": {
              "type": "string"
            }
          },
          "metadata": {},
          "execution_count": 36
        }
      ]
    },
    {
      "cell_type": "code",
      "source": [
        "st[0] = -q;\n",
        "print(st); # string are immutable"
      ],
      "metadata": {
        "colab": {
          "base_uri": "https://localhost:8080/",
          "height": 158
        },
        "id": "6qnOk9HeJ_SW",
        "outputId": "c96b5796-2a2a-4fd2-c3f8-0d831bc0a0d8"
      },
      "id": "6qnOk9HeJ_SW",
      "execution_count": 39,
      "outputs": [
        {
          "output_type": "error",
          "ename": "NameError",
          "evalue": "name 'q' is not defined",
          "traceback": [
            "\u001b[0;31m---------------------------------------------------------------------------\u001b[0m",
            "\u001b[0;31mNameError\u001b[0m                                 Traceback (most recent call last)",
            "\u001b[0;32m<ipython-input-39-f5a61dafd315>\u001b[0m in \u001b[0;36m<cell line: 1>\u001b[0;34m()\u001b[0m\n\u001b[0;32m----> 1\u001b[0;31m \u001b[0mst\u001b[0m\u001b[0;34m[\u001b[0m\u001b[0;36m0\u001b[0m\u001b[0;34m]\u001b[0m \u001b[0;34m=\u001b[0m \u001b[0;34m-\u001b[0m\u001b[0mq\u001b[0m\u001b[0;34m;\u001b[0m\u001b[0;34m\u001b[0m\u001b[0;34m\u001b[0m\u001b[0m\n\u001b[0m\u001b[1;32m      2\u001b[0m \u001b[0mprint\u001b[0m\u001b[0;34m(\u001b[0m\u001b[0mst\u001b[0m\u001b[0;34m)\u001b[0m\u001b[0;34m;\u001b[0m \u001b[0;31m# string are immutable\u001b[0m\u001b[0;34m\u001b[0m\u001b[0;34m\u001b[0m\u001b[0m\n",
            "\u001b[0;31mNameError\u001b[0m: name 'q' is not defined"
          ]
        }
      ]
    },
    {
      "cell_type": "code",
      "source": [
        "print(type(st));"
      ],
      "metadata": {
        "colab": {
          "base_uri": "https://localhost:8080/"
        },
        "id": "WYyTEVptKIFo",
        "outputId": "d30e25a2-cb4d-4043-8eee-bf7d37d92ffb"
      },
      "id": "WYyTEVptKIFo",
      "execution_count": 40,
      "outputs": [
        {
          "output_type": "stream",
          "name": "stdout",
          "text": [
            "<class 'str'>\n"
          ]
        }
      ]
    },
    {
      "cell_type": "code",
      "source": [
        "l"
      ],
      "metadata": {
        "colab": {
          "base_uri": "https://localhost:8080/"
        },
        "id": "E54KKZT5KLD8",
        "outputId": "66bc729d-c6ba-401c-ef8d-f8accb259561"
      },
      "id": "E54KKZT5KLD8",
      "execution_count": 41,
      "outputs": [
        {
          "output_type": "execute_result",
          "data": {
            "text/plain": [
              "[23, 56, 'hello', [True, 53]]"
            ]
          },
          "metadata": {},
          "execution_count": 41
        }
      ]
    },
    {
      "cell_type": "code",
      "source": [
        "# access 53\n",
        "print(l[-1][-1]);"
      ],
      "metadata": {
        "colab": {
          "base_uri": "https://localhost:8080/"
        },
        "id": "kGkMStrPKXKL",
        "outputId": "4075e782-d5c3-4329-bb2b-f8874bc7ae4a"
      },
      "id": "kGkMStrPKXKL",
      "execution_count": 44,
      "outputs": [
        {
          "output_type": "stream",
          "name": "stdout",
          "text": [
            "53\n"
          ]
        }
      ]
    },
    {
      "cell_type": "code",
      "source": [
        "print(l[3][1]);"
      ],
      "metadata": {
        "colab": {
          "base_uri": "https://localhost:8080/"
        },
        "id": "smtfXoXAKkLU",
        "outputId": "766d28dc-c786-4349-a18c-d2c3fe7a2df0"
      },
      "id": "smtfXoXAKkLU",
      "execution_count": 43,
      "outputs": [
        {
          "output_type": "stream",
          "name": "stdout",
          "text": [
            "53\n"
          ]
        }
      ]
    },
    {
      "cell_type": "markdown",
      "source": [
        "### Dictionary\n",
        "Dictionary is a collection of key-value pairs stored together as items"
      ],
      "metadata": {
        "id": "J8wunaJlKx-f"
      },
      "id": "J8wunaJlKx-f"
    },
    {
      "cell_type": "code",
      "source": [
        "dictinary = {'math': 99, 'phy':97, 'chem':95, 'eng':99, 'computer': 100};\n",
        "print(dictinary);\n"
      ],
      "metadata": {
        "colab": {
          "base_uri": "https://localhost:8080/"
        },
        "id": "BbVKDwhKKtB5",
        "outputId": "fcb7d679-b906-4ea9-8efd-abb35f880768"
      },
      "id": "BbVKDwhKKtB5",
      "execution_count": 46,
      "outputs": [
        {
          "output_type": "stream",
          "name": "stdout",
          "text": [
            "{'math': 99, 'phy': 97, 'chem': 95, 'eng': 99, 'computer': 100}\n"
          ]
        }
      ]
    },
    {
      "cell_type": "code",
      "source": [
        "dictinary[0]"
      ],
      "metadata": {
        "colab": {
          "base_uri": "https://localhost:8080/",
          "height": 141
        },
        "id": "liPzvsmZLb4s",
        "outputId": "2f57980a-fe5d-427d-de8a-c254219e7df2"
      },
      "id": "liPzvsmZLb4s",
      "execution_count": 47,
      "outputs": [
        {
          "output_type": "error",
          "ename": "KeyError",
          "evalue": "0",
          "traceback": [
            "\u001b[0;31m---------------------------------------------------------------------------\u001b[0m",
            "\u001b[0;31mKeyError\u001b[0m                                  Traceback (most recent call last)",
            "\u001b[0;32m<ipython-input-47-bdee78b0866a>\u001b[0m in \u001b[0;36m<cell line: 1>\u001b[0;34m()\u001b[0m\n\u001b[0;32m----> 1\u001b[0;31m \u001b[0mdictinary\u001b[0m\u001b[0;34m[\u001b[0m\u001b[0;36m0\u001b[0m\u001b[0;34m]\u001b[0m\u001b[0;34m\u001b[0m\u001b[0;34m\u001b[0m\u001b[0m\n\u001b[0m",
            "\u001b[0;31mKeyError\u001b[0m: 0"
          ]
        }
      ]
    },
    {
      "cell_type": "code",
      "source": [
        "print(dictinary['computer']);"
      ],
      "metadata": {
        "colab": {
          "base_uri": "https://localhost:8080/"
        },
        "id": "70U0rDM6LtcV",
        "outputId": "6a42d73e-8589-4972-d946-3a6dd3f075bb"
      },
      "id": "70U0rDM6LtcV",
      "execution_count": 48,
      "outputs": [
        {
          "output_type": "stream",
          "name": "stdout",
          "text": [
            "100\n"
          ]
        }
      ]
    },
    {
      "cell_type": "code",
      "source": [
        "print(dictinary[100]); // key error"
      ],
      "metadata": {
        "colab": {
          "base_uri": "https://localhost:8080/",
          "height": 141
        },
        "id": "xCYYOaulL0Wt",
        "outputId": "48aa79d6-20d3-4e41-ed92-c68af94743cd"
      },
      "id": "xCYYOaulL0Wt",
      "execution_count": 50,
      "outputs": [
        {
          "output_type": "error",
          "ename": "KeyError",
          "evalue": "100",
          "traceback": [
            "\u001b[0;31m---------------------------------------------------------------------------\u001b[0m",
            "\u001b[0;31mKeyError\u001b[0m                                  Traceback (most recent call last)",
            "\u001b[0;32m<ipython-input-50-21a21f30377c>\u001b[0m in \u001b[0;36m<cell line: 1>\u001b[0;34m()\u001b[0m\n\u001b[0;32m----> 1\u001b[0;31m \u001b[0mprint\u001b[0m\u001b[0;34m(\u001b[0m\u001b[0mdictinary\u001b[0m\u001b[0;34m[\u001b[0m\u001b[0;36m100\u001b[0m\u001b[0;34m]\u001b[0m\u001b[0;34m)\u001b[0m\u001b[0;34m;\u001b[0m\u001b[0;34m\u001b[0m\u001b[0;34m\u001b[0m\u001b[0m\n\u001b[0m",
            "\u001b[0;31mKeyError\u001b[0m: 100"
          ]
        }
      ]
    },
    {
      "cell_type": "markdown",
      "source": [
        "## Set\n",
        "It is an unorderedcollection of unique elements"
      ],
      "metadata": {
        "id": "_gdj8pw-MhJg"
      },
      "id": "_gdj8pw-MhJg"
    },
    {
      "cell_type": "code",
      "source": [
        "SET = {100, 99, 44, 45};"
      ],
      "metadata": {
        "id": "luzGImH3L7FV"
      },
      "id": "luzGImH3L7FV",
      "execution_count": 51,
      "outputs": []
    },
    {
      "cell_type": "code",
      "source": [
        "print(SET);"
      ],
      "metadata": {
        "colab": {
          "base_uri": "https://localhost:8080/"
        },
        "id": "jgL3F1V9MvkG",
        "outputId": "8510bc12-10f7-4df8-cd3d-87e536ceab8f"
      },
      "id": "jgL3F1V9MvkG",
      "execution_count": 52,
      "outputs": [
        {
          "output_type": "stream",
          "name": "stdout",
          "text": [
            "{99, 100, 45, 44}\n"
          ]
        }
      ]
    },
    {
      "cell_type": "code",
      "source": [
        "print(type(SET));\n",
        "print(SET[0]);"
      ],
      "metadata": {
        "colab": {
          "base_uri": "https://localhost:8080/",
          "height": 176
        },
        "id": "aCgQuXIOMx7P",
        "outputId": "ecc66186-9fd0-4ae9-db58-7c4838d48c2b"
      },
      "id": "aCgQuXIOMx7P",
      "execution_count": 53,
      "outputs": [
        {
          "output_type": "stream",
          "name": "stdout",
          "text": [
            "<class 'set'>\n"
          ]
        },
        {
          "output_type": "error",
          "ename": "TypeError",
          "evalue": "'set' object is not subscriptable",
          "traceback": [
            "\u001b[0;31m---------------------------------------------------------------------------\u001b[0m",
            "\u001b[0;31mTypeError\u001b[0m                                 Traceback (most recent call last)",
            "\u001b[0;32m<ipython-input-53-459cb5ff8297>\u001b[0m in \u001b[0;36m<cell line: 2>\u001b[0;34m()\u001b[0m\n\u001b[1;32m      1\u001b[0m \u001b[0mprint\u001b[0m\u001b[0;34m(\u001b[0m\u001b[0mtype\u001b[0m\u001b[0;34m(\u001b[0m\u001b[0mSET\u001b[0m\u001b[0;34m)\u001b[0m\u001b[0;34m)\u001b[0m\u001b[0;34m;\u001b[0m\u001b[0;34m\u001b[0m\u001b[0;34m\u001b[0m\u001b[0m\n\u001b[0;32m----> 2\u001b[0;31m \u001b[0mprint\u001b[0m\u001b[0;34m(\u001b[0m\u001b[0mSET\u001b[0m\u001b[0;34m[\u001b[0m\u001b[0;36m0\u001b[0m\u001b[0;34m]\u001b[0m\u001b[0;34m)\u001b[0m\u001b[0;34m;\u001b[0m\u001b[0;34m\u001b[0m\u001b[0;34m\u001b[0m\u001b[0m\n\u001b[0m",
            "\u001b[0;31mTypeError\u001b[0m: 'set' object is not subscriptable"
          ]
        }
      ]
    },
    {
      "cell_type": "markdown",
      "source": [
        "- Ordered sequence\n",
        "  - String\n",
        "  - List\n",
        "  - Tuple\n",
        "  - Dictinary\n",
        "- Unordered Sequence\n",
        "  - Dictionary < 3.7\n",
        "  - Set"
      ],
      "metadata": {
        "id": "JQ8j4hi5M_W7"
      },
      "id": "JQ8j4hi5M_W7"
    },
    {
      "cell_type": "markdown",
      "source": [
        "### Types of Operatores\n",
        "- Arithmetic Operators\n",
        "- comarison Operators\n",
        "- Logical Operators\n",
        "- Membership Operators"
      ],
      "metadata": {
        "id": "vlt8fGGMNSSI"
      },
      "id": "vlt8fGGMNSSI"
    },
    {
      "cell_type": "markdown",
      "source": [
        "# Arithmetic Operators\n",
        " - Adition operators (+)\n",
        " - subtraction operators (-)\n",
        " - Multiplication Operators (*)\n",
        " - Division Operators (/)\n",
        " - Modulus/ remainder Operators (%)\n",
        " - Floor division operators (//)\n",
        " - Power / Exponent operators (**)"
      ],
      "metadata": {
        "id": "8n_nurziNrB_"
      },
      "id": "8n_nurziNrB_"
    },
    {
      "cell_type": "code",
      "source": [
        "x = 5;\n",
        "y = 2;\n",
        "print(x+y);\n",
        "print(x-y);\n",
        "print(x*y);\n",
        "print(x/y);\n",
        "print(x%y);\n",
        "print(x//y);\n",
        "print(x**y);"
      ],
      "metadata": {
        "colab": {
          "base_uri": "https://localhost:8080/"
        },
        "id": "nJ5viRGoM6Hl",
        "outputId": "815f1eab-6eab-4c1a-8174-be516e0b0b19"
      },
      "id": "nJ5viRGoM6Hl",
      "execution_count": 54,
      "outputs": [
        {
          "output_type": "stream",
          "name": "stdout",
          "text": [
            "7\n",
            "3\n",
            "10\n",
            "2.5\n",
            "1\n",
            "2\n",
            "25\n"
          ]
        }
      ]
    },
    {
      "cell_type": "code",
      "source": [
        "print(4/2); # division in python always gives a floot output"
      ],
      "metadata": {
        "colab": {
          "base_uri": "https://localhost:8080/"
        },
        "id": "XqRR8MskOdHH",
        "outputId": "d97f1a1f-20da-42b5-a933-b3d3f8c7d352"
      },
      "id": "XqRR8MskOdHH",
      "execution_count": 55,
      "outputs": [
        {
          "output_type": "stream",
          "name": "stdout",
          "text": [
            "2.0\n"
          ]
        }
      ]
    },
    {
      "cell_type": "code",
      "source": [
        "63/5"
      ],
      "metadata": {
        "colab": {
          "base_uri": "https://localhost:8080/"
        },
        "id": "s4G3_ONZOobR",
        "outputId": "1c188c71-e2a5-4f73-b78e-188992525846"
      },
      "id": "s4G3_ONZOobR",
      "execution_count": 56,
      "outputs": [
        {
          "output_type": "execute_result",
          "data": {
            "text/plain": [
              "12.6"
            ]
          },
          "metadata": {},
          "execution_count": 56
        }
      ]
    },
    {
      "cell_type": "code",
      "source": [
        "53%5"
      ],
      "metadata": {
        "colab": {
          "base_uri": "https://localhost:8080/"
        },
        "id": "bl-v1l0kOqPi",
        "outputId": "405db44b-92bd-4c70-91c8-964b8299813e"
      },
      "id": "bl-v1l0kOqPi",
      "execution_count": 57,
      "outputs": [
        {
          "output_type": "execute_result",
          "data": {
            "text/plain": [
              "3"
            ]
          },
          "metadata": {},
          "execution_count": 57
        }
      ]
    },
    {
      "cell_type": "code",
      "source": [
        "60 % 5"
      ],
      "metadata": {
        "colab": {
          "base_uri": "https://localhost:8080/"
        },
        "id": "JFTLSMr_OtEx",
        "outputId": "4daf5fb9-876c-4085-ac7c-498d0b96df52"
      },
      "id": "JFTLSMr_OtEx",
      "execution_count": 58,
      "outputs": [
        {
          "output_type": "execute_result",
          "data": {
            "text/plain": [
              "0"
            ]
          },
          "metadata": {},
          "execution_count": 58
        }
      ]
    },
    {
      "cell_type": "code",
      "source": [
        "5 / 2"
      ],
      "metadata": {
        "colab": {
          "base_uri": "https://localhost:8080/"
        },
        "id": "2fwaatdfOwPo",
        "outputId": "d8858951-d173-4a74-d4db-879b742ddfe7"
      },
      "id": "2fwaatdfOwPo",
      "execution_count": 59,
      "outputs": [
        {
          "output_type": "execute_result",
          "data": {
            "text/plain": [
              "2.5"
            ]
          },
          "metadata": {},
          "execution_count": 59
        }
      ]
    },
    {
      "cell_type": "code",
      "source": [
        "5 // 2"
      ],
      "metadata": {
        "colab": {
          "base_uri": "https://localhost:8080/"
        },
        "id": "3gXq4cONOyFl",
        "outputId": "5d138a43-7620-456c-c045-4b49719bd5df"
      },
      "id": "3gXq4cONOyFl",
      "execution_count": 61,
      "outputs": [
        {
          "output_type": "execute_result",
          "data": {
            "text/plain": [
              "2"
            ]
          },
          "metadata": {},
          "execution_count": 61
        }
      ]
    },
    {
      "cell_type": "markdown",
      "source": [
        "- floor division: first it will divide and then floor the output\n",
        "- floor means to round down to the nearest integer"
      ],
      "metadata": {
        "id": "HKA2yEa4O7rW"
      },
      "id": "HKA2yEa4O7rW"
    },
    {
      "cell_type": "code",
      "source": [
        "print(4 * 3);"
      ],
      "metadata": {
        "colab": {
          "base_uri": "https://localhost:8080/"
        },
        "id": "et3-MZrEO0UY",
        "outputId": "ade654b6-78ee-42db-9425-a7dd45291e91"
      },
      "id": "et3-MZrEO0UY",
      "execution_count": 62,
      "outputs": [
        {
          "output_type": "stream",
          "name": "stdout",
          "text": [
            "12\n"
          ]
        }
      ]
    },
    {
      "cell_type": "code",
      "source": [
        "print(4 ** 3);"
      ],
      "metadata": {
        "colab": {
          "base_uri": "https://localhost:8080/"
        },
        "id": "BNxxEjuKPNzQ",
        "outputId": "862a507c-804a-4b8a-c7b8-1ad91a936dd1"
      },
      "id": "BNxxEjuKPNzQ",
      "execution_count": 63,
      "outputs": [
        {
          "output_type": "stream",
          "name": "stdout",
          "text": [
            "64\n"
          ]
        }
      ]
    },
    {
      "cell_type": "code",
      "source": [],
      "metadata": {
        "id": "bsn1wsVTPTAY"
      },
      "id": "bsn1wsVTPTAY",
      "execution_count": null,
      "outputs": []
    }
  ],
  "metadata": {
    "kernelspec": {
      "display_name": "Python 3 (ipykernel)",
      "language": "python",
      "name": "python3"
    },
    "language_info": {
      "codemirror_mode": {
        "name": "ipython",
        "version": 3
      },
      "file_extension": ".py",
      "mimetype": "text/x-python",
      "name": "python",
      "nbconvert_exporter": "python",
      "pygments_lexer": "ipython3",
      "version": "3.11.5"
    },
    "colab": {
      "provenance": [],
      "include_colab_link": true
    }
  },
  "nbformat": 4,
  "nbformat_minor": 5
}