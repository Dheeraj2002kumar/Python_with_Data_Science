{
  "nbformat": 4,
  "nbformat_minor": 0,
  "metadata": {
    "colab": {
      "provenance": [],
      "toc_visible": true,
      "include_colab_link": true
    },
    "kernelspec": {
      "name": "python3",
      "display_name": "Python 3"
    },
    "language_info": {
      "name": "python"
    }
  },
  "cells": [
    {
      "cell_type": "markdown",
      "metadata": {
        "id": "view-in-github",
        "colab_type": "text"
      },
      "source": [
        "<a href=\"https://colab.research.google.com/github/Dheeraj2002kumar/Python_with_Data_Science/blob/main/Taking_Input_Python.ipynb\" target=\"_parent\"><img src=\"https://colab.research.google.com/assets/colab-badge.svg\" alt=\"Open In Colab\"/></a>"
      ]
    },
    {
      "cell_type": "code",
      "source": [
        "# for python version checking\n",
        "!python3 --version"
      ],
      "metadata": {
        "colab": {
          "base_uri": "https://localhost:8080/"
        },
        "id": "LfmsZSrN7WKX",
        "outputId": "4399b8eb-8651-41ff-890d-9223a2549267"
      },
      "execution_count": null,
      "outputs": [
        {
          "output_type": "stream",
          "name": "stdout",
          "text": [
            "Python 3.10.12\n"
          ]
        }
      ]
    },
    {
      "cell_type": "markdown",
      "source": [
        "### Python User Input"
      ],
      "metadata": {
        "id": "8HirkbbC1U7h"
      }
    },
    {
      "cell_type": "code",
      "execution_count": null,
      "metadata": {
        "id": "YavIRQy5zP-2",
        "colab": {
          "base_uri": "https://localhost:8080/"
        },
        "outputId": "c5411105-9523-4be9-996c-ff3a014cd2ef"
      },
      "outputs": [
        {
          "output_type": "stream",
          "name": "stdout",
          "text": [
            "Enter username:ABC\n",
            "Username is: ABC\n"
          ]
        }
      ],
      "source": [
        "username = input(\"Enter username:\")\n",
        "print(\"Username is: \" + username)"
      ]
    },
    {
      "cell_type": "code",
      "source": [
        "name = input(\"Enter name : \")\n",
        "age = int(input(\"Enter age : \"))\n",
        "_class = int(input(\"Enter class : \"))\n",
        "\n",
        "print(name, age, _class)"
      ],
      "metadata": {
        "colab": {
          "base_uri": "https://localhost:8080/"
        },
        "id": "f1rjGgb48Ha7",
        "outputId": "70d985db-4b95-4c75-e212-e81b7a61ff7f"
      },
      "execution_count": null,
      "outputs": [
        {
          "output_type": "stream",
          "name": "stdout",
          "text": [
            "Enter name : abc\n",
            "Enter age : 10\n",
            "Enter class : 5\n",
            "abc 10 5\n"
          ]
        }
      ]
    },
    {
      "cell_type": "code",
      "source": [
        "type(name), type(age), type(_class)"
      ],
      "metadata": {
        "colab": {
          "base_uri": "https://localhost:8080/"
        },
        "id": "GkuR-yGu8ugT",
        "outputId": "9263907a-347c-46d6-a87c-9b67c0c3d6b0"
      },
      "execution_count": null,
      "outputs": [
        {
          "output_type": "execute_result",
          "data": {
            "text/plain": [
              "(str, int, int)"
            ]
          },
          "metadata": {},
          "execution_count": 11
        }
      ]
    },
    {
      "cell_type": "markdown",
      "source": [
        "### F-Strings : formatted Strings"
      ],
      "metadata": {
        "id": "-DJdixrb2axt"
      }
    },
    {
      "cell_type": "code",
      "source": [
        "txt = f\"The price is 49 dollars\"\n",
        "print(txt, type(txt))"
      ],
      "metadata": {
        "id": "WOr0RMQQ1xOE",
        "colab": {
          "base_uri": "https://localhost:8080/"
        },
        "outputId": "3ebeef87-2559-41bc-ad96-b1c392bee2da"
      },
      "execution_count": null,
      "outputs": [
        {
          "output_type": "stream",
          "name": "stdout",
          "text": [
            "The price is 49 dollars <class 'str'>\n"
          ]
        }
      ]
    },
    {
      "cell_type": "code",
      "source": [
        "txt = \"The price is 49 dollars\"\n",
        "print(txt, type(txt))"
      ],
      "metadata": {
        "colab": {
          "base_uri": "https://localhost:8080/"
        },
        "id": "fvtyEfxs9cVc",
        "outputId": "f5bb9636-031f-415c-ff0c-195a3b2b4a9f"
      },
      "execution_count": null,
      "outputs": [
        {
          "output_type": "stream",
          "name": "stdout",
          "text": [
            "The price is 49 dollars <class 'str'>\n"
          ]
        }
      ]
    },
    {
      "cell_type": "markdown",
      "source": [
        "### Placeholders and Modifiers"
      ],
      "metadata": {
        "id": "2hareCk42uzm"
      }
    },
    {
      "cell_type": "code",
      "source": [
        "price = int(input(\"Enter price of rice per kg:\"))\n",
        "total_price = 19 * price\n",
        "txt = f\"The total price is {total_price} dollars\"\n",
        "print(txt)"
      ],
      "metadata": {
        "id": "z4NIUeQx2v8_",
        "colab": {
          "base_uri": "https://localhost:8080/"
        },
        "outputId": "56584814-ccea-4cd7-eab3-6a6f6f658dc9"
      },
      "execution_count": null,
      "outputs": [
        {
          "output_type": "stream",
          "name": "stdout",
          "text": [
            "Enter price of rice per kg:188\n",
            "The total price is 3572 dollars\n"
          ]
        }
      ]
    },
    {
      "cell_type": "code",
      "source": [
        "v = 95.33333333\n",
        "txt = f\"The price is {v:.5f} dollars\"\n",
        "print(txt)"
      ],
      "metadata": {
        "id": "KM_0iXUY3CXA",
        "colab": {
          "base_uri": "https://localhost:8080/"
        },
        "outputId": "2e77ace3-12f6-40d9-cb73-d9a180311393"
      },
      "execution_count": null,
      "outputs": [
        {
          "output_type": "stream",
          "name": "stdout",
          "text": [
            "The price is 95.33333 dollars\n"
          ]
        }
      ]
    },
    {
      "cell_type": "markdown",
      "source": [
        "### Perform Operations in F-Strings"
      ],
      "metadata": {
        "id": "pxQ7M2sz3Fn3"
      }
    },
    {
      "cell_type": "code",
      "source": [
        "txt = f\"The price is {20 * 59} dollars\"\n",
        "print(txt)"
      ],
      "metadata": {
        "id": "PzdI5Xq43GYp",
        "colab": {
          "base_uri": "https://localhost:8080/"
        },
        "outputId": "c21c226a-7a89-41ae-a485-ebc54e88b756"
      },
      "execution_count": null,
      "outputs": [
        {
          "output_type": "stream",
          "name": "stdout",
          "text": [
            "The price is 1180 dollars\n"
          ]
        }
      ]
    },
    {
      "cell_type": "code",
      "source": [
        "price = float(input(\"Enter price : \"))\n",
        "tax = float(input(\"Enter tax : \"))\n",
        "txt = f\"The price is {price + (price * tax)} dollars\"\n",
        "print(txt)\n",
        "txt = f\"The price is {price + (price * tax):.2f} dollars\"\n",
        "print(txt)"
      ],
      "metadata": {
        "id": "sfMUt_fo3P2g",
        "colab": {
          "base_uri": "https://localhost:8080/"
        },
        "outputId": "faca08bd-413a-4006-b294-1a728f5be3c7"
      },
      "execution_count": null,
      "outputs": [
        {
          "output_type": "stream",
          "name": "stdout",
          "text": [
            "Enter price : 12.33\n",
            "Enter tax : 10.8888\n",
            "The price is 146.588904 dollars\n",
            "The price is 146.59 dollars\n"
          ]
        }
      ]
    },
    {
      "cell_type": "markdown",
      "source": [
        "### You can perform if...else statements inside the placeholders."
      ],
      "metadata": {
        "id": "gDP0qYxe3T9B"
      }
    },
    {
      "cell_type": "code",
      "source": [
        "price = float(input(\"Enter price : \"))\n",
        "txt = f\"It is very {'Expensive' if price > 50 else 'Cheap'}\"\n",
        "\n",
        "print(txt)"
      ],
      "metadata": {
        "id": "MDHwpw_r3SMY",
        "colab": {
          "base_uri": "https://localhost:8080/"
        },
        "outputId": "71e25e45-5524-4a4b-af7a-195eda8f4267"
      },
      "execution_count": null,
      "outputs": [
        {
          "output_type": "stream",
          "name": "stdout",
          "text": [
            "Enter price : 12\n",
            "It is very Cheap\n"
          ]
        }
      ]
    },
    {
      "cell_type": "markdown",
      "source": [
        "### Execute Functions in F-Strings"
      ],
      "metadata": {
        "id": "Vj0AmfvC3W6J"
      }
    },
    {
      "cell_type": "code",
      "source": [
        "fruit = \"apples\"\n",
        "txt = f\"I love {fruit.upper()}\"\n",
        "print(txt)"
      ],
      "metadata": {
        "id": "2-KUoFiP3YMh",
        "colab": {
          "base_uri": "https://localhost:8080/"
        },
        "outputId": "58a1d648-8e8d-4353-8a97-c64d5ac37c4a"
      },
      "execution_count": null,
      "outputs": [
        {
          "output_type": "stream",
          "name": "stdout",
          "text": [
            "I love APPLES\n"
          ]
        }
      ]
    },
    {
      "cell_type": "markdown",
      "source": [
        "### The function does not have to be a built-in Python method, you can create your own functions and use them."
      ],
      "metadata": {
        "id": "occag55C3b1x"
      }
    },
    {
      "cell_type": "code",
      "source": [
        "def myconverter(x):\n",
        "  return x * 0.3048\n",
        "\n",
        "txt = f\"The plane is flying at a {myconverter(30000)} meter altitude\"\n",
        "print(txt)"
      ],
      "metadata": {
        "id": "zxmHl6t43eZB",
        "colab": {
          "base_uri": "https://localhost:8080/"
        },
        "outputId": "ec16260b-bc80-49b7-ae2f-3102a39d9dd6"
      },
      "execution_count": null,
      "outputs": [
        {
          "output_type": "stream",
          "name": "stdout",
          "text": [
            "The plane is flying at a 9144.0 meter altitude\n"
          ]
        }
      ]
    },
    {
      "cell_type": "code",
      "source": [
        "price = 59000\n",
        "txt = f\"The price is {price:,} dollars\"\n",
        "print(txt)"
      ],
      "metadata": {
        "id": "fblhD0Ie3nhi"
      },
      "execution_count": null,
      "outputs": []
    },
    {
      "cell_type": "markdown",
      "source": [
        "### String format()"
      ],
      "metadata": {
        "id": "MlsHA9j33pjK"
      }
    },
    {
      "cell_type": "code",
      "source": [
        "price = 49\n",
        "txt = \"The price is {} {} dollars\"\n",
        "print(txt)\n",
        "print(txt.format(price, price+10))"
      ],
      "metadata": {
        "id": "jbIpx-QA3qNj",
        "colab": {
          "base_uri": "https://localhost:8080/"
        },
        "outputId": "1296fa3e-1df5-449c-b209-48f9fa4e1bad"
      },
      "execution_count": null,
      "outputs": [
        {
          "output_type": "stream",
          "name": "stdout",
          "text": [
            "The price is {} {} dollars\n",
            "The price is 49 59 dollars\n"
          ]
        }
      ]
    },
    {
      "cell_type": "code",
      "source": [
        "txt = \"The price is {:.2f} dollars\""
      ],
      "metadata": {
        "id": "wZb_LEQa3uj6"
      },
      "execution_count": null,
      "outputs": []
    },
    {
      "cell_type": "code",
      "source": [
        "quantity = 3\n",
        "itemno = 567\n",
        "price = 49\n",
        "myorder = \"I want {} pieces of item number {} for {:.2f} dollars.\"\n",
        "print(myorder.format(quantity, itemno, price))"
      ],
      "metadata": {
        "id": "iUkGT4Ie3wz7"
      },
      "execution_count": null,
      "outputs": []
    },
    {
      "cell_type": "markdown",
      "source": [
        "### Index Numbers\n"
      ],
      "metadata": {
        "id": "-kgSmlzt33kr"
      }
    },
    {
      "cell_type": "code",
      "source": [
        "quantity = 3\n",
        "itemno = 567\n",
        "price = 49\n",
        "myorder = \"I want {0} pieces of item number {1} for {2:.2f} dollars.\"\n",
        "print(myorder.format(quantity, itemno, price))"
      ],
      "metadata": {
        "id": "5vzJkI0i34Xk"
      },
      "execution_count": null,
      "outputs": []
    },
    {
      "cell_type": "markdown",
      "source": [
        "### Named Indexes\n"
      ],
      "metadata": {
        "id": "w0pTq0zY4L9F"
      }
    },
    {
      "cell_type": "code",
      "source": [
        "myorder = \"I have a {carname}, it is a {model}.\"\n",
        "print(myorder.format(carname = \"Ford\", model = \"Mustang\"))"
      ],
      "metadata": {
        "id": "oySuqLyn4M32"
      },
      "execution_count": null,
      "outputs": []
    }
  ]
}