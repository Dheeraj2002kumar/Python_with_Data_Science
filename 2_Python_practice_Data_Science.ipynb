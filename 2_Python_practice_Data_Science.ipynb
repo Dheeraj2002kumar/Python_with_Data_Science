{
  "nbformat": 4,
  "nbformat_minor": 0,
  "metadata": {
    "colab": {
      "provenance": [],
      "authorship_tag": "ABX9TyO9fauAM9nKKwGk3XxzEuY5",
      "include_colab_link": true
    },
    "kernelspec": {
      "name": "python3",
      "display_name": "Python 3"
    },
    "language_info": {
      "name": "python"
    }
  },
  "cells": [
    {
      "cell_type": "markdown",
      "metadata": {
        "id": "view-in-github",
        "colab_type": "text"
      },
      "source": [
        "<a href=\"https://colab.research.google.com/github/Dheeraj2002kumar/Python_with_Data_Science/blob/main/2_Python_practice_Data_Science.ipynb\" target=\"_parent\"><img src=\"https://colab.research.google.com/assets/colab-badge.svg\" alt=\"Open In Colab\"/></a>"
      ]
    },
    {
      "cell_type": "markdown",
      "source": [
        "### Comparision Operators\n",
        "- (==)\n",
        "- (!=)\n",
        "- (>)\n",
        "- (<)\n",
        "- (>=)\n",
        "- (<=)"
      ],
      "metadata": {
        "id": "BH6YXpLndIeY"
      }
    },
    {
      "cell_type": "code",
      "execution_count": 1,
      "metadata": {
        "colab": {
          "base_uri": "https://localhost:8080/"
        },
        "id": "0EI2wjFrT_aK",
        "outputId": "f9c64133-aa60-497d-fca8-416770ffc646"
      },
      "outputs": [
        {
          "output_type": "stream",
          "name": "stdout",
          "text": [
            "True\n"
          ]
        }
      ],
      "source": [
        "x = 5\n",
        "y = 2\n",
        "\n",
        "print(x > y)"
      ]
    },
    {
      "cell_type": "code",
      "source": [
        "print(x == 5)"
      ],
      "metadata": {
        "colab": {
          "base_uri": "https://localhost:8080/"
        },
        "id": "C1MzaTV4d0aH",
        "outputId": "e4d08aec-d198-4207-bf88-e8ac926e2aa0"
      },
      "execution_count": 2,
      "outputs": [
        {
          "output_type": "stream",
          "name": "stdout",
          "text": [
            "True\n"
          ]
        }
      ]
    },
    {
      "cell_type": "code",
      "source": [
        "x = 5  # Assigning the value 5 to x variable\n",
        "print(x == 5)  # Comparing whether the value of x is equal to 5 or not"
      ],
      "metadata": {
        "colab": {
          "base_uri": "https://localhost:8080/"
        },
        "id": "6RVFOMm3d3Qu",
        "outputId": "124467f8-3236-4495-89bd-0f1a223fc365"
      },
      "execution_count": 3,
      "outputs": [
        {
          "output_type": "stream",
          "name": "stdout",
          "text": [
            "True\n"
          ]
        }
      ]
    },
    {
      "cell_type": "code",
      "source": [
        "print(x != 10)"
      ],
      "metadata": {
        "colab": {
          "base_uri": "https://localhost:8080/"
        },
        "id": "F2odoraLeJdh",
        "outputId": "9e3dd660-c506-4c4f-8ef1-e2eafefea0e9"
      },
      "execution_count": 4,
      "outputs": [
        {
          "output_type": "stream",
          "name": "stdout",
          "text": [
            "True\n"
          ]
        }
      ]
    },
    {
      "cell_type": "code",
      "source": [
        "print(x != 5)"
      ],
      "metadata": {
        "colab": {
          "base_uri": "https://localhost:8080/"
        },
        "id": "PLcuYCwzeLtP",
        "outputId": "c13e4fec-eadc-48b3-9cff-fb3bb7772f94"
      },
      "execution_count": 5,
      "outputs": [
        {
          "output_type": "stream",
          "name": "stdout",
          "text": [
            "False\n"
          ]
        }
      ]
    },
    {
      "cell_type": "code",
      "source": [
        "print(x < 10)"
      ],
      "metadata": {
        "colab": {
          "base_uri": "https://localhost:8080/"
        },
        "id": "k4f8rkoTeOQE",
        "outputId": "99dbeefb-eee3-4a2f-94fc-3bf8715c9c75"
      },
      "execution_count": 6,
      "outputs": [
        {
          "output_type": "stream",
          "name": "stdout",
          "text": [
            "True\n"
          ]
        }
      ]
    },
    {
      "cell_type": "code",
      "source": [
        "print(x > 5)"
      ],
      "metadata": {
        "colab": {
          "base_uri": "https://localhost:8080/"
        },
        "id": "tMC4fGpCeTnq",
        "outputId": "3f423f75-60b5-4488-845b-df9eb16fd4eb"
      },
      "execution_count": 7,
      "outputs": [
        {
          "output_type": "stream",
          "name": "stdout",
          "text": [
            "False\n"
          ]
        }
      ]
    },
    {
      "cell_type": "code",
      "source": [
        "print(x <= 5)   # either equal or more than"
      ],
      "metadata": {
        "colab": {
          "base_uri": "https://localhost:8080/"
        },
        "id": "MtWSVgNreVoQ",
        "outputId": "6520b650-a630-47ff-a0b7-38df5bbb05a0"
      },
      "execution_count": 9,
      "outputs": [
        {
          "output_type": "stream",
          "name": "stdout",
          "text": [
            "True\n"
          ]
        }
      ]
    },
    {
      "cell_type": "code",
      "source": [
        "print(x >= 5)"
      ],
      "metadata": {
        "colab": {
          "base_uri": "https://localhost:8080/"
        },
        "id": "7krAjLUheX5R",
        "outputId": "eaeb5e3a-e521-49a4-8a25-e3ba8813434f"
      },
      "execution_count": 10,
      "outputs": [
        {
          "output_type": "stream",
          "name": "stdout",
          "text": [
            "True\n"
          ]
        }
      ]
    },
    {
      "cell_type": "markdown",
      "source": [
        "### Logical Operators\n",
        "- and\n",
        "- or\n",
        "- not"
      ],
      "metadata": {
        "id": "YGUdNTaveole"
      }
    },
    {
      "cell_type": "markdown",
      "source": [
        "### AND\n",
        "- The output is True only if both the inputs are True, otherwise False"
      ],
      "metadata": {
        "id": "fAowV0GzewL_"
      }
    },
    {
      "cell_type": "markdown",
      "source": [
        "### OR\n",
        "- The output is True if atleast one  of the input is True, otherwise False"
      ],
      "metadata": {
        "id": "ZJwTWthefAiH"
      }
    },
    {
      "cell_type": "markdown",
      "source": [
        "### NOT\n",
        "- Output of True is False and vice-versa"
      ],
      "metadata": {
        "id": "vU9VaHM7fMra"
      }
    },
    {
      "cell_type": "code",
      "source": [
        "maths = 88\n",
        "phy = 91\n",
        "\n",
        "print(maths > 80 and phy < 95)   # True and True"
      ],
      "metadata": {
        "colab": {
          "base_uri": "https://localhost:8080/"
        },
        "id": "ot-ye_kNegTa",
        "outputId": "48384733-9c3f-4d68-b0a5-7df39df17e09"
      },
      "execution_count": 11,
      "outputs": [
        {
          "output_type": "stream",
          "name": "stdout",
          "text": [
            "True\n"
          ]
        }
      ]
    },
    {
      "cell_type": "code",
      "source": [
        "print(maths > 90 and phy < 95) # False and True"
      ],
      "metadata": {
        "colab": {
          "base_uri": "https://localhost:8080/"
        },
        "id": "lobuZGA0fg48",
        "outputId": "3ffec15e-6015-4282-ca11-356b03d92664"
      },
      "execution_count": 12,
      "outputs": [
        {
          "output_type": "stream",
          "name": "stdout",
          "text": [
            "False\n"
          ]
        }
      ]
    },
    {
      "cell_type": "code",
      "source": [
        "print(maths > 90 or phy < 95)   # False or True"
      ],
      "metadata": {
        "colab": {
          "base_uri": "https://localhost:8080/"
        },
        "id": "RYdD6TInftBM",
        "outputId": "3fecf6d7-9361-40fd-c71f-35b56c2137a7"
      },
      "execution_count": 13,
      "outputs": [
        {
          "output_type": "stream",
          "name": "stdout",
          "text": [
            "True\n"
          ]
        }
      ]
    },
    {
      "cell_type": "code",
      "source": [
        "print(maths > 90 or phy < 85)  # False or False"
      ],
      "metadata": {
        "colab": {
          "base_uri": "https://localhost:8080/"
        },
        "id": "x8LQFuVwf2hz",
        "outputId": "e2688898-7c35-43ba-f088-6a974be1b850"
      },
      "execution_count": 14,
      "outputs": [
        {
          "output_type": "stream",
          "name": "stdout",
          "text": [
            "False\n"
          ]
        }
      ]
    },
    {
      "cell_type": "code",
      "source": [
        "x = 5\n",
        "print(x > 5)"
      ],
      "metadata": {
        "colab": {
          "base_uri": "https://localhost:8080/"
        },
        "id": "XcVGVW45gBvy",
        "outputId": "770e3f56-df35-4f19-c68c-f7ed8848a37c"
      },
      "execution_count": 15,
      "outputs": [
        {
          "output_type": "stream",
          "name": "stdout",
          "text": [
            "False\n"
          ]
        }
      ]
    },
    {
      "cell_type": "code",
      "source": [
        "x = 5\n",
        "print(not(x>5))   # x>5 ==> false ==> not(x>5) ==> True"
      ],
      "metadata": {
        "colab": {
          "base_uri": "https://localhost:8080/"
        },
        "id": "sXSWdFsPgFHl",
        "outputId": "358b410b-9dd5-4b36-b118-ea6f9ef45a7f"
      },
      "execution_count": 16,
      "outputs": [
        {
          "output_type": "stream",
          "name": "stdout",
          "text": [
            "True\n"
          ]
        }
      ]
    },
    {
      "cell_type": "markdown",
      "source": [
        "### Membership Operator\n",
        "- Used to check if an element is a member of a sequence or not\n",
        "  - in\n",
        "  - not in"
      ],
      "metadata": {
        "id": "fTVIxIzBgZLL"
      }
    },
    {
      "cell_type": "code",
      "source": [
        "l = [3, 1, 0, 4, 14]\n",
        "l"
      ],
      "metadata": {
        "colab": {
          "base_uri": "https://localhost:8080/"
        },
        "id": "Xo_MrUyvgW4o",
        "outputId": "f008b041-f86f-41d5-fbfe-02a72b399504"
      },
      "execution_count": 17,
      "outputs": [
        {
          "output_type": "execute_result",
          "data": {
            "text/plain": [
              "[3, 1, 0, 4, 14]"
            ]
          },
          "metadata": {},
          "execution_count": 17
        }
      ]
    },
    {
      "cell_type": "code",
      "source": [
        "print(1 in l) # 1 is available in l variable"
      ],
      "metadata": {
        "colab": {
          "base_uri": "https://localhost:8080/"
        },
        "id": "yH74cAupgu6f",
        "outputId": "435c1ac4-7cb9-419a-d723-649ac7297b93"
      },
      "execution_count": 19,
      "outputs": [
        {
          "output_type": "stream",
          "name": "stdout",
          "text": [
            "True\n"
          ]
        }
      ]
    },
    {
      "cell_type": "code",
      "source": [
        "print(19 in l)  # 10 is not available in l variable"
      ],
      "metadata": {
        "colab": {
          "base_uri": "https://localhost:8080/"
        },
        "id": "jlY1HSuIgzRP",
        "outputId": "74169231-5f72-4d69-c540-8a410ed2411e"
      },
      "execution_count": 20,
      "outputs": [
        {
          "output_type": "stream",
          "name": "stdout",
          "text": [
            "False\n"
          ]
        }
      ]
    },
    {
      "cell_type": "markdown",
      "source": [
        "### Print statement in Python\n",
        "- Used to print the data on the screen"
      ],
      "metadata": {
        "id": "SAbZAtZNhdg6"
      }
    },
    {
      "cell_type": "code",
      "source": [
        "x = 5\n",
        "print(x)"
      ],
      "metadata": {
        "colab": {
          "base_uri": "https://localhost:8080/"
        },
        "id": "WNIybv01hbxr",
        "outputId": "db6db7cd-7e8f-4f77-f032-05d1eebe0374"
      },
      "execution_count": 21,
      "outputs": [
        {
          "output_type": "stream",
          "name": "stdout",
          "text": [
            "5\n"
          ]
        }
      ]
    },
    {
      "cell_type": "code",
      "source": [
        "print(x, x, x)"
      ],
      "metadata": {
        "colab": {
          "base_uri": "https://localhost:8080/"
        },
        "id": "lWO6ttwVhnXG",
        "outputId": "5bf4040f-b54f-4f62-b740-4f6727c726ee"
      },
      "execution_count": 22,
      "outputs": [
        {
          "output_type": "stream",
          "name": "stdout",
          "text": [
            "5 5 5\n"
          ]
        }
      ]
    },
    {
      "cell_type": "code",
      "source": [
        "x = 3\n",
        "y = 17\n",
        "print(x, y)"
      ],
      "metadata": {
        "colab": {
          "base_uri": "https://localhost:8080/"
        },
        "id": "bd59M-yxhpr4",
        "outputId": "12454b21-19db-4338-99b9-b1c4fec75dff"
      },
      "execution_count": 23,
      "outputs": [
        {
          "output_type": "stream",
          "name": "stdout",
          "text": [
            "3 17\n"
          ]
        }
      ]
    },
    {
      "cell_type": "code",
      "source": [
        "x = 3\n",
        "y = 17\n",
        "print(x, y, x+y, x*y, 'hi', 85)"
      ],
      "metadata": {
        "colab": {
          "base_uri": "https://localhost:8080/"
        },
        "id": "S-GmDJAHht_A",
        "outputId": "684af828-aa68-4d19-a505-9681af86ff90"
      },
      "execution_count": 24,
      "outputs": [
        {
          "output_type": "stream",
          "name": "stdout",
          "text": [
            "3 17 20 51 hi 85\n"
          ]
        }
      ]
    },
    {
      "cell_type": "code",
      "source": [
        "print('Hello world')"
      ],
      "metadata": {
        "colab": {
          "base_uri": "https://localhost:8080/"
        },
        "id": "AvDIlT5th4ZR",
        "outputId": "5f4d8092-bac3-4a98-b9ce-b36309fe940d"
      },
      "execution_count": 26,
      "outputs": [
        {
          "output_type": "stream",
          "name": "stdout",
          "text": [
            "Hello world\n"
          ]
        }
      ]
    },
    {
      "cell_type": "code",
      "source": [
        "print('helloworld')"
      ],
      "metadata": {
        "colab": {
          "base_uri": "https://localhost:8080/"
        },
        "id": "SjnI-UZth6DO",
        "outputId": "b0edb502-448d-489c-e9d1-5d20525e1af2"
      },
      "execution_count": 27,
      "outputs": [
        {
          "output_type": "stream",
          "name": "stdout",
          "text": [
            "helloworld\n"
          ]
        }
      ]
    },
    {
      "cell_type": "code",
      "source": [
        "print('hello\\nworld') # \\n is an escape character which represents new line"
      ],
      "metadata": {
        "colab": {
          "base_uri": "https://localhost:8080/"
        },
        "id": "2E0_XPaZiEd_",
        "outputId": "5704109d-c3a5-4c3a-f983-a65a64fde2ac"
      },
      "execution_count": 29,
      "outputs": [
        {
          "output_type": "stream",
          "name": "stdout",
          "text": [
            "hello\n",
            "world\n"
          ]
        }
      ]
    },
    {
      "cell_type": "code",
      "source": [
        "print('hello')\n",
        "print('world')"
      ],
      "metadata": {
        "colab": {
          "base_uri": "https://localhost:8080/"
        },
        "id": "p6sG_GdFiIXX",
        "outputId": "1a81af81-3c9b-485b-d172-a496b29f27f0"
      },
      "execution_count": 30,
      "outputs": [
        {
          "output_type": "stream",
          "name": "stdout",
          "text": [
            "hello\n",
            "world\n"
          ]
        }
      ]
    },
    {
      "cell_type": "code",
      "source": [
        "print('hell', end = '\\n')\n",
        "print('world')"
      ],
      "metadata": {
        "colab": {
          "base_uri": "https://localhost:8080/"
        },
        "id": "0R8-FdCwiULk",
        "outputId": "27ba307f-bb31-435f-bf9e-bbfff866be22"
      },
      "execution_count": 31,
      "outputs": [
        {
          "output_type": "stream",
          "name": "stdout",
          "text": [
            "hell\n",
            "world\n"
          ]
        }
      ]
    },
    {
      "cell_type": "code",
      "source": [
        "print('hello', end = ':')\n",
        "print('world')"
      ],
      "metadata": {
        "colab": {
          "base_uri": "https://localhost:8080/"
        },
        "id": "AXoAFnblidKb",
        "outputId": "2673b644-7a31-4f3f-e7a2-30aa2c0984ea"
      },
      "execution_count": 32,
      "outputs": [
        {
          "output_type": "stream",
          "name": "stdout",
          "text": [
            "hello:world\n"
          ]
        }
      ]
    },
    {
      "cell_type": "code",
      "source": [
        "print(8, 909, end = ':')\n",
        "print(5)"
      ],
      "metadata": {
        "colab": {
          "base_uri": "https://localhost:8080/"
        },
        "id": "LL5vdjskii8x",
        "outputId": "a6d1044c-54e5-4095-cc2b-be6154fd4e9c"
      },
      "execution_count": 33,
      "outputs": [
        {
          "output_type": "stream",
          "name": "stdout",
          "text": [
            "8 909:5\n"
          ]
        }
      ]
    },
    {
      "cell_type": "markdown",
      "source": [
        "### Input function in Python\n",
        "--> Used to take some data from the user during the development processes.\n",
        "- Used majorly to take some dummy data in order to test the code."
      ],
      "metadata": {
        "id": "78OoIlAEis8b"
      }
    },
    {
      "cell_type": "code",
      "source": [
        "maths = input('Enter maths marks: ')\n",
        "phy = input('Enter phy marks: ')"
      ],
      "metadata": {
        "colab": {
          "base_uri": "https://localhost:8080/"
        },
        "id": "g64lFKU1iriA",
        "outputId": "d543b526-a73d-4b6e-a01f-abe591584085"
      },
      "execution_count": 34,
      "outputs": [
        {
          "name": "stdout",
          "output_type": "stream",
          "text": [
            "Enter maths marks: 99\n",
            "Enter phy marks: 98\n"
          ]
        }
      ]
    },
    {
      "cell_type": "code",
      "source": [
        "print(type(maths))"
      ],
      "metadata": {
        "colab": {
          "base_uri": "https://localhost:8080/"
        },
        "id": "55RsAVOPjQ-J",
        "outputId": "78c4f07e-16a0-4941-a15a-6f3bcb9936fa"
      },
      "execution_count": 35,
      "outputs": [
        {
          "output_type": "stream",
          "name": "stdout",
          "text": [
            "<class 'str'>\n"
          ]
        }
      ]
    },
    {
      "cell_type": "code",
      "source": [
        "print(maths)"
      ],
      "metadata": {
        "colab": {
          "base_uri": "https://localhost:8080/"
        },
        "id": "f-Grn6eHjWXe",
        "outputId": "f924a48f-d08a-477e-cf0a-93aaf204c90e"
      },
      "execution_count": 36,
      "outputs": [
        {
          "output_type": "stream",
          "name": "stdout",
          "text": [
            "99\n"
          ]
        }
      ]
    },
    {
      "cell_type": "markdown",
      "source": [
        "Note: Input function stores data in string format by default."
      ],
      "metadata": {
        "id": "lY6V-ynIjbok"
      }
    },
    {
      "cell_type": "markdown",
      "source": [
        "### Type Casting / Conversion"
      ],
      "metadata": {
        "id": "ilYux5-5jmoN"
      }
    },
    {
      "cell_type": "code",
      "source": [
        "maths = input('Enter maths marks: ')\n",
        "phy = input('Enter phy marks: ')\n",
        "m = int(maths)\n",
        "p = int(phy)\n",
        "print(type(maths))\n",
        "print(type(m))"
      ],
      "metadata": {
        "colab": {
          "base_uri": "https://localhost:8080/"
        },
        "id": "DcziErxVjYVt",
        "outputId": "4d2e2952-a776-4cc1-831e-d4674a4f40d0"
      },
      "execution_count": 37,
      "outputs": [
        {
          "output_type": "stream",
          "name": "stdout",
          "text": [
            "Enter maths marks: 99\n",
            "Enter phy marks: 95\n",
            "<class 'str'>\n",
            "<class 'int'>\n"
          ]
        }
      ]
    },
    {
      "cell_type": "code",
      "source": [
        "maths = int(input('Enter maths marks: '))\n",
        "phy = int(input('Enter phy marks: '))\n",
        "print(type(maths))"
      ],
      "metadata": {
        "colab": {
          "base_uri": "https://localhost:8080/"
        },
        "id": "0Y_xV2RRkEiB",
        "outputId": "4519b0d1-e7db-477f-a79c-483e46e54223"
      },
      "execution_count": 38,
      "outputs": [
        {
          "output_type": "stream",
          "name": "stdout",
          "text": [
            "Enter maths marks: 88\n",
            "Enter phy marks: 94\n",
            "<class 'int'>\n"
          ]
        }
      ]
    },
    {
      "cell_type": "markdown",
      "source": [
        "### Conditional Statements\n",
        "- if else Statements\n",
        "Indentation represents the block of code within statement.\n",
        "\n",
        "# Syntax:\n",
        "<pre>\n",
        "if condition:\n",
        "  task1\n",
        "  task2\n",
        "else:\n",
        "  task3\n",
        "<pre>"
      ],
      "metadata": {
        "id": "_VXzaNjukYsQ"
      }
    },
    {
      "cell_type": "markdown",
      "source": [
        "### Q. WAP  to check if a user input is positive or not."
      ],
      "metadata": {
        "id": "HotxyU7OqoIq"
      }
    },
    {
      "cell_type": "code",
      "source": [
        "num = int(input('Enter a number: '))\n",
        "if (num > 0):\n",
        "  print('Positive!');\n",
        "else:\n",
        "  print('Not Positive!');"
      ],
      "metadata": {
        "colab": {
          "base_uri": "https://localhost:8080/"
        },
        "id": "DuDFdGk9kWEi",
        "outputId": "a10ed2f2-3e3b-4792-e419-f15734fdc4a0"
      },
      "execution_count": 39,
      "outputs": [
        {
          "output_type": "stream",
          "name": "stdout",
          "text": [
            "Enter a number: 88\n",
            "Positive!\n"
          ]
        }
      ]
    },
    {
      "cell_type": "code",
      "source": [
        "num = int(input('Enter a number: '))\n",
        "if (num > 0):\n",
        "  print('Positive')\n",
        "else:\n",
        "  print('Not Positive')"
      ],
      "metadata": {
        "colab": {
          "base_uri": "https://localhost:8080/"
        },
        "id": "b5eG18f0rHpP",
        "outputId": "06c5bf9f-a1e5-4799-f175-4896f152beb7"
      },
      "execution_count": 40,
      "outputs": [
        {
          "output_type": "stream",
          "name": "stdout",
          "text": [
            "Enter a number: -55\n",
            "Not Positive\n"
          ]
        }
      ]
    },
    {
      "cell_type": "markdown",
      "source": [
        "### Q. Write a program to check if a number input by user is even or odd."
      ],
      "metadata": {
        "id": "Rw3lWEr5rje0"
      }
    },
    {
      "cell_type": "code",
      "source": [
        "num = int(input('Enter number: '))\n",
        "if (num % 2 == 0):\n",
        "  print('Even');\n",
        "else:\n",
        "  print('Odd')"
      ],
      "metadata": {
        "colab": {
          "base_uri": "https://localhost:8080/"
        },
        "id": "jyTv8Gp7rhT6",
        "outputId": "62d9ace2-3913-421a-be24-6f4ff5f4349c"
      },
      "execution_count": 41,
      "outputs": [
        {
          "output_type": "stream",
          "name": "stdout",
          "text": [
            "Enter number: 44\n",
            "Even\n"
          ]
        }
      ]
    },
    {
      "cell_type": "code",
      "source": [
        "num = int(input('Enter number: '))\n",
        "if (num % 2 == 0):\n",
        "  print('Even')\n",
        "else:\n",
        "  print('Odd')"
      ],
      "metadata": {
        "colab": {
          "base_uri": "https://localhost:8080/"
        },
        "id": "HeplqaN3wFB2",
        "outputId": "045490e9-ed98-4b20-906e-32ef748eb924"
      },
      "execution_count": 42,
      "outputs": [
        {
          "output_type": "stream",
          "name": "stdout",
          "text": [
            "Enter number: 77\n",
            "Odd\n"
          ]
        }
      ]
    },
    {
      "cell_type": "markdown",
      "source": [
        "### Q. Write a program to check if a character input is  a vowel or not."
      ],
      "metadata": {
        "id": "gQNksg4VxOqp"
      }
    },
    {
      "cell_type": "code",
      "source": [
        "char = input('Enter a character: ')\n",
        "vowel = 'aeiouAEIOU'\n",
        "\n",
        "if (char in vowel):\n",
        "  print('Vowel')\n",
        "else:\n",
        "  print('Not a Vowel')"
      ],
      "metadata": {
        "colab": {
          "base_uri": "https://localhost:8080/"
        },
        "id": "6gNmkDMHxL3w",
        "outputId": "6ce32dbf-3a36-44b7-aaad-1b8d240a67f6"
      },
      "execution_count": 43,
      "outputs": [
        {
          "output_type": "stream",
          "name": "stdout",
          "text": [
            "Enter a character: a\n",
            "Vowel\n"
          ]
        }
      ]
    },
    {
      "cell_type": "code",
      "source": [
        "char = input('Enter a character: ');\n",
        "vowel = 'aeiouAEIOU'\n",
        "\n",
        "if(char in vowel):\n",
        "  print('Vowel')\n",
        "else:\n",
        "  print('Not a vowel')"
      ],
      "metadata": {
        "colab": {
          "base_uri": "https://localhost:8080/"
        },
        "id": "vdAKIHO3xyMU",
        "outputId": "a6c20afd-e9c7-45ce-d480-e1a171522ea1"
      },
      "execution_count": 44,
      "outputs": [
        {
          "output_type": "stream",
          "name": "stdout",
          "text": [
            "Enter a character: ra\n",
            "Not a vowel\n"
          ]
        }
      ]
    },
    {
      "cell_type": "markdown",
      "source": [
        "Q. Write a Program to check if a number is positive, negative or zero."
      ],
      "metadata": {
        "id": "_IA-rHmLyuTe"
      }
    },
    {
      "cell_type": "code",
      "source": [
        "# Methode 1\n",
        "num = int(input('Enter number: '))\n",
        "if(num > 0):\n",
        "  print(num, 'is Positive!')\n",
        "else:\n",
        "  if (num < 0):\n",
        "    print(num, 'is Negative!')\n",
        "  else:\n",
        "    print(num, 'is Zero!')"
      ],
      "metadata": {
        "colab": {
          "base_uri": "https://localhost:8080/"
        },
        "id": "r0jRub1-yp3O",
        "outputId": "104af8b2-d1c3-45a8-e64d-0a264b8f0085"
      },
      "execution_count": 46,
      "outputs": [
        {
          "output_type": "stream",
          "name": "stdout",
          "text": [
            "Enter number: 55\n",
            "55 is Positive!\n"
          ]
        }
      ]
    },
    {
      "cell_type": "code",
      "source": [
        "num = int(input('Enter number: '))\n",
        "if(num > 0):\n",
        "  print(num, 'is Positive!')\n",
        "else:\n",
        "  if (num < 0):\n",
        "    print(num, 'is Negative!')\n",
        "  else:\n",
        "    print(num, 'is Zero!')"
      ],
      "metadata": {
        "colab": {
          "base_uri": "https://localhost:8080/"
        },
        "id": "mMJmxQkq0XYA",
        "outputId": "7e56328f-6ba5-4135-e40b-fa18ad17e2c0"
      },
      "execution_count": 48,
      "outputs": [
        {
          "output_type": "stream",
          "name": "stdout",
          "text": [
            "Enter number: -3\n",
            "-3 is Negative!\n"
          ]
        }
      ]
    },
    {
      "cell_type": "code",
      "source": [
        "num = int(input('Enter number: '))\n",
        "if(num > 0):\n",
        "  print(num, 'is Positive!')\n",
        "else:\n",
        "  if (num < 0):\n",
        "    print(num, 'is Negative!')\n",
        "  else:\n",
        "    print(num, 'is Zero!')"
      ],
      "metadata": {
        "colab": {
          "base_uri": "https://localhost:8080/"
        },
        "id": "dz58JELv0ahP",
        "outputId": "3d3f277c-99a9-4336-b5a0-389a0f908eb1"
      },
      "execution_count": 49,
      "outputs": [
        {
          "output_type": "stream",
          "name": "stdout",
          "text": [
            "Enter number: 0\n",
            "0 is Zero!\n"
          ]
        }
      ]
    },
    {
      "cell_type": "markdown",
      "source": [
        "Q. Write a Program to check if a number is positive, negative or zero."
      ],
      "metadata": {
        "id": "5D0fweFpzmPX"
      }
    },
    {
      "cell_type": "code",
      "source": [
        "# Methode 2\n",
        "\n",
        "num = int(input('Enter number: '))\n",
        "if(num > 0):\n",
        "  print(num, 'is Positive')\n",
        "elif(num < 0):\n",
        "  print(num, 'is Negative')\n",
        "else:\n",
        "  print(num, 'is Zero')"
      ],
      "metadata": {
        "colab": {
          "base_uri": "https://localhost:8080/"
        },
        "id": "nfDsGSKAzgyP",
        "outputId": "93558e07-518d-421e-9ab5-223ecf5d65e3"
      },
      "execution_count": 47,
      "outputs": [
        {
          "output_type": "stream",
          "name": "stdout",
          "text": [
            "Enter number: 0\n",
            "0 is Zero\n"
          ]
        }
      ]
    },
    {
      "cell_type": "markdown",
      "source": [
        "Q. write a program to maximum between two numbers."
      ],
      "metadata": {
        "id": "6U7xY2ZZ0jk1"
      }
    },
    {
      "cell_type": "code",
      "source": [
        "num1 = int(input('Enter first number: '))\n",
        "num2 = int(input('Enter second number: '))\n",
        "\n",
        "if(num1 > num2):\n",
        "  print('First number is bigger')\n",
        "elif(num1 < num2):\n",
        "  print('Second number is bigger')\n",
        "else:\n",
        "  print('Both are equal')"
      ],
      "metadata": {
        "colab": {
          "base_uri": "https://localhost:8080/"
        },
        "id": "Q9ZfBtMY0SsF",
        "outputId": "e41b457b-1451-4497-eac7-516c09949f1a"
      },
      "execution_count": 50,
      "outputs": [
        {
          "output_type": "stream",
          "name": "stdout",
          "text": [
            "Enter first number: 33\n",
            "Enter second number: 35\n",
            "Second number is bigger\n"
          ]
        }
      ]
    },
    {
      "cell_type": "markdown",
      "source": [
        "### Loop statements\n",
        "To implement repetition\n",
        "- for loop: When we know the number of repetitions for a task.\n",
        "- while loop: When we know the condition on which the repetition is dependent on\n"
      ],
      "metadata": {
        "id": "yZAGlZs91bFJ"
      }
    },
    {
      "cell_type": "markdown",
      "source": [
        "### for loop\n",
        "- range function:\n",
        "  - It is a function which returns a sequence of integers in a ggiven range."
      ],
      "metadata": {
        "id": "65d_xcPX1-R8"
      }
    },
    {
      "cell_type": "code",
      "source": [
        "list(range(5))    # range(n):  0, 1, 2......n-1"
      ],
      "metadata": {
        "colab": {
          "base_uri": "https://localhost:8080/"
        },
        "id": "_A99ASfG1W5T",
        "outputId": "91931661-1aa1-4c9c-b230-c1cfdbab0afd"
      },
      "execution_count": 51,
      "outputs": [
        {
          "output_type": "execute_result",
          "data": {
            "text/plain": [
              "[0, 1, 2, 3, 4]"
            ]
          },
          "metadata": {},
          "execution_count": 51
        }
      ]
    },
    {
      "cell_type": "code",
      "source": [
        "list(range(2, 9))  # range(m, n): m, m+1......n-1"
      ],
      "metadata": {
        "colab": {
          "base_uri": "https://localhost:8080/"
        },
        "id": "uzdJ5LNL2cuG",
        "outputId": "f93729c3-d6a8-4732-ea92-d97ada7c7b9d"
      },
      "execution_count": 53,
      "outputs": [
        {
          "output_type": "execute_result",
          "data": {
            "text/plain": [
              "[2, 3, 4, 5, 6, 7, 8]"
            ]
          },
          "metadata": {},
          "execution_count": 53
        }
      ]
    },
    {
      "cell_type": "code",
      "source": [
        "list(range(2, 9, 2))  # range(m, n, p = 2) ==> p represent how much step will iterate"
      ],
      "metadata": {
        "colab": {
          "base_uri": "https://localhost:8080/"
        },
        "id": "LFLIThzx2ngm",
        "outputId": "fee4995d-5508-405a-d682-a49261b468be"
      },
      "execution_count": 55,
      "outputs": [
        {
          "output_type": "execute_result",
          "data": {
            "text/plain": [
              "[2, 4, 6, 8]"
            ]
          },
          "metadata": {},
          "execution_count": 55
        }
      ]
    },
    {
      "cell_type": "code",
      "source": [
        "list(range(2,9,-1))"
      ],
      "metadata": {
        "colab": {
          "base_uri": "https://localhost:8080/"
        },
        "id": "69D2KUlu22O7",
        "outputId": "bedc6e8c-f79d-4b74-f2fb-333f1e86cfb9"
      },
      "execution_count": 56,
      "outputs": [
        {
          "output_type": "execute_result",
          "data": {
            "text/plain": [
              "[]"
            ]
          },
          "metadata": {},
          "execution_count": 56
        }
      ]
    },
    {
      "cell_type": "code",
      "source": [
        "list(range(9, 2, -1))   # range(n, m, -1): n, n-1, n-2...... m+1"
      ],
      "metadata": {
        "colab": {
          "base_uri": "https://localhost:8080/"
        },
        "id": "wQAdvCga3GqX",
        "outputId": "4ff3b642-8e5b-45fb-d13d-91dcd82e9c07"
      },
      "execution_count": 57,
      "outputs": [
        {
          "output_type": "execute_result",
          "data": {
            "text/plain": [
              "[9, 8, 7, 6, 5, 4, 3]"
            ]
          },
          "metadata": {},
          "execution_count": 57
        }
      ]
    },
    {
      "cell_type": "markdown",
      "source": [
        "Q. Write a program to create a list of a natural nmbers. Take n from the user."
      ],
      "metadata": {
        "id": "yUKmSiJ63Xow"
      }
    },
    {
      "cell_type": "code",
      "source": [
        "n = int(input('Enter n: '))\n",
        "l = list(range(1, n+1))\n",
        "l"
      ],
      "metadata": {
        "colab": {
          "base_uri": "https://localhost:8080/"
        },
        "id": "yJ95stai3U3l",
        "outputId": "60c95c0d-8d2f-4924-faf1-cc336cbd3d5e"
      },
      "execution_count": 58,
      "outputs": [
        {
          "name": "stdout",
          "output_type": "stream",
          "text": [
            "Enter n: 44\n"
          ]
        },
        {
          "output_type": "execute_result",
          "data": {
            "text/plain": [
              "[1,\n",
              " 2,\n",
              " 3,\n",
              " 4,\n",
              " 5,\n",
              " 6,\n",
              " 7,\n",
              " 8,\n",
              " 9,\n",
              " 10,\n",
              " 11,\n",
              " 12,\n",
              " 13,\n",
              " 14,\n",
              " 15,\n",
              " 16,\n",
              " 17,\n",
              " 18,\n",
              " 19,\n",
              " 20,\n",
              " 21,\n",
              " 22,\n",
              " 23,\n",
              " 24,\n",
              " 25,\n",
              " 26,\n",
              " 27,\n",
              " 28,\n",
              " 29,\n",
              " 30,\n",
              " 31,\n",
              " 32,\n",
              " 33,\n",
              " 34,\n",
              " 35,\n",
              " 36,\n",
              " 37,\n",
              " 38,\n",
              " 39,\n",
              " 40,\n",
              " 41,\n",
              " 42,\n",
              " 43,\n",
              " 44]"
            ]
          },
          "metadata": {},
          "execution_count": 58
        }
      ]
    },
    {
      "cell_type": "code",
      "source": [
        "n = int(input('Enter n: '))\n",
        "l = list(range(1, n+1))\n",
        "l"
      ],
      "metadata": {
        "colab": {
          "base_uri": "https://localhost:8080/"
        },
        "id": "msHYeR6n3qta",
        "outputId": "51396fee-a880-4244-ff2d-5ae98270cb99"
      },
      "execution_count": 59,
      "outputs": [
        {
          "name": "stdout",
          "output_type": "stream",
          "text": [
            "Enter n: 15\n"
          ]
        },
        {
          "output_type": "execute_result",
          "data": {
            "text/plain": [
              "[1, 2, 3, 4, 5, 6, 7, 8, 9, 10, 11, 12, 13, 14, 15]"
            ]
          },
          "metadata": {},
          "execution_count": 59
        }
      ]
    },
    {
      "cell_type": "markdown",
      "source": [
        "### Syntax:\n",
        "<pre>\n",
        "for loopVar in sequence:\n",
        "  task1\n",
        "  task2\n",
        "</pre>"
      ],
      "metadata": {
        "id": "1HGdhQh731Li"
      }
    },
    {
      "cell_type": "code",
      "source": [
        "print('Hello')\n",
        "print('Hello')\n",
        "print('Hello')\n",
        "print('Hello')\n",
        "print('Hello')\n",
        "print('Hello')\n",
        "print('Hello')\n",
        "print('Hello')\n",
        "print('Hello')\n",
        "print('Hello')\n",
        "print('Hello')\n",
        "print('Hello')\n",
        "print('Hello')\n",
        "print('Hello')"
      ],
      "metadata": {
        "colab": {
          "base_uri": "https://localhost:8080/"
        },
        "id": "aagQRWAO3wOe",
        "outputId": "01a24b0e-ef36-463d-e28b-dd8ef1e62362"
      },
      "execution_count": 60,
      "outputs": [
        {
          "output_type": "stream",
          "name": "stdout",
          "text": [
            "Hello\n",
            "Hello\n",
            "Hello\n",
            "Hello\n",
            "Hello\n",
            "Hello\n",
            "Hello\n",
            "Hello\n",
            "Hello\n",
            "Hello\n",
            "Hello\n",
            "Hello\n",
            "Hello\n",
            "Hello\n"
          ]
        }
      ]
    },
    {
      "cell_type": "code",
      "source": [
        "# Different methode\n",
        "\n",
        "for i in range(10):\n",
        "  print('hello', i)"
      ],
      "metadata": {
        "colab": {
          "base_uri": "https://localhost:8080/"
        },
        "id": "NFZAosl_4P5y",
        "outputId": "e3e02f4a-6522-4f79-ede2-113053c874db"
      },
      "execution_count": 61,
      "outputs": [
        {
          "output_type": "stream",
          "name": "stdout",
          "text": [
            "hello 0\n",
            "hello 1\n",
            "hello 2\n",
            "hello 3\n",
            "hello 4\n",
            "hello 5\n",
            "hello 6\n",
            "hello 7\n",
            "hello 8\n",
            "hello 9\n"
          ]
        }
      ]
    },
    {
      "cell_type": "code",
      "source": [
        "sl = ['Dheeraj', 'Niraj', 'Saurabh']\n",
        "for name in sl:\n",
        "  print(name, 'Welcome to this world!!')"
      ],
      "metadata": {
        "colab": {
          "base_uri": "https://localhost:8080/"
        },
        "id": "1zdnLRKR4Z0y",
        "outputId": "ef538d4e-ecc2-4b46-e562-344fb3a714bd"
      },
      "execution_count": 62,
      "outputs": [
        {
          "output_type": "stream",
          "name": "stdout",
          "text": [
            "Dheeraj Welcome to this world!!\n",
            "Niraj Welcome to this world!!\n",
            "Saurabh Welcome to this world!!\n"
          ]
        }
      ]
    },
    {
      "cell_type": "markdown",
      "source": [
        "### Conditional Statement with for loop\n",
        "Q. write a program to print the squares of n natural numbers."
      ],
      "metadata": {
        "id": "HxTqbHpl4ugL"
      }
    },
    {
      "cell_type": "code",
      "source": [
        "n = int(input('Enter number: '))\n",
        "for i in range(1, n+1):\n",
        "  print(i, i**2)"
      ],
      "metadata": {
        "colab": {
          "base_uri": "https://localhost:8080/"
        },
        "id": "eN9BHymU4sMw",
        "outputId": "2b88862f-596f-4ed1-b41c-e24243cf0858"
      },
      "execution_count": 63,
      "outputs": [
        {
          "output_type": "stream",
          "name": "stdout",
          "text": [
            "Enter number: 12\n",
            "1 1\n",
            "2 4\n",
            "3 9\n",
            "4 16\n",
            "5 25\n",
            "6 36\n",
            "7 49\n",
            "8 64\n",
            "9 81\n",
            "10 100\n",
            "11 121\n",
            "12 144\n"
          ]
        }
      ]
    },
    {
      "cell_type": "markdown",
      "source": [
        "Write a program to print the square of n even natural numbers."
      ],
      "metadata": {
        "id": "Lw6goJe25oSI"
      }
    },
    {
      "cell_type": "code",
      "source": [
        "n = int(input('Enter number: '))\n",
        "for i in range(1, n+1):\n",
        "  if(i % 2 == 0):\n",
        "    print(i, i**2)"
      ],
      "metadata": {
        "colab": {
          "base_uri": "https://localhost:8080/"
        },
        "id": "K5aI01xa5ZNv",
        "outputId": "ff6f0f77-fcd7-4e81-989a-3da8401f9a2e"
      },
      "execution_count": 64,
      "outputs": [
        {
          "output_type": "stream",
          "name": "stdout",
          "text": [
            "Enter number: 15\n",
            "2 4\n",
            "4 16\n",
            "6 36\n",
            "8 64\n",
            "10 100\n",
            "12 144\n",
            "14 196\n"
          ]
        }
      ]
    },
    {
      "cell_type": "code",
      "source": [
        "# Dry Run\n",
        "\n",
        "# i   ifCon   Print\n",
        "# 1     F       -\n",
        "# 2     T      2 4\n",
        "# 3     F       -\n",
        "# 4     T     4 16\n",
        "# 5     F      -\n",
        "# 6     T     6 36\n",
        "# 7     F      -\n",
        "# 8     T     8 64\n",
        "# 9     F      -\n",
        "# 10    T     10 100\n",
        "# 11    F       -\n",
        "# 12    T     12 144\n",
        "# 13    F      -\n",
        "# 14    T     14 196"
      ],
      "metadata": {
        "id": "0PSSuM4c6ELU"
      },
      "execution_count": 66,
      "outputs": []
    },
    {
      "cell_type": "code",
      "source": [
        "l = ['Dheeraj', 'Niraj', 'Saurabh', 'Suraj']\n",
        "for name in l:\n",
        "  if (len(name) == 5):\n",
        "    print(name)"
      ],
      "metadata": {
        "colab": {
          "base_uri": "https://localhost:8080/"
        },
        "id": "4AGYAAcN7VAF",
        "outputId": "c7ee5a74-0b1f-45fe-f39e-a0b188b9b738"
      },
      "execution_count": 67,
      "outputs": [
        {
          "output_type": "stream",
          "name": "stdout",
          "text": [
            "Niraj\n",
            "Suraj\n"
          ]
        }
      ]
    },
    {
      "cell_type": "code",
      "source": [
        "l = ['Dheeraj', 'Niraj', 'Saurabh', 'Suraj']\n",
        "for name in l:\n",
        "  print(name)"
      ],
      "metadata": {
        "colab": {
          "base_uri": "https://localhost:8080/"
        },
        "id": "98ZTudjb7uri",
        "outputId": "1df21098-12d8-46b1-c826-201669213bd5"
      },
      "execution_count": 68,
      "outputs": [
        {
          "output_type": "stream",
          "name": "stdout",
          "text": [
            "Dheeraj\n",
            "Niraj\n",
            "Saurabh\n",
            "Suraj\n"
          ]
        }
      ]
    },
    {
      "cell_type": "code",
      "source": [
        "l = ['Dheeraj', 'Niraj', 'Saurabh', 'Suraj']\n",
        "for index in range(len(l)):\n",
        "  print([index])\n",
        "\n",
        "# Dry Run\n",
        "# len(l) = 4\n",
        "# for index in range(len(l)):\n",
        "#   print(index)\n",
        "\n",
        "# index   print\n",
        "#   0     Dheeraj\n",
        "#   1     Niraj\n",
        "#   2     Saurabh\n",
        "#   3     Suraj"
      ],
      "metadata": {
        "colab": {
          "base_uri": "https://localhost:8080/"
        },
        "id": "gyT0Ice476y3",
        "outputId": "ef4ef6f2-f272-4846-d4ba-a23bd0056b82"
      },
      "execution_count": 69,
      "outputs": [
        {
          "output_type": "stream",
          "name": "stdout",
          "text": [
            "[0]\n",
            "[1]\n",
            "[2]\n",
            "[3]\n"
          ]
        }
      ]
    },
    {
      "cell_type": "markdown",
      "source": [
        "Q. Write a program to print all the names starting with a vowel."
      ],
      "metadata": {
        "id": "N8mC4wAR8qbE"
      }
    },
    {
      "cell_type": "code",
      "source": [
        "l = ['Abdul', 'Sneha', 'Ezaz', 'Ira', 'Dhanush']\n",
        "vowel = 'aeiouAEIOU'\n",
        "for name in l:\n",
        "  if(name[0] in vowel):\n",
        "    print(name)\n",
        "\n",
        "\n",
        "# # Dry run\n",
        "# name      name[0]     ifCondition     print\n",
        "# Abdul       A           T             Abdul\n",
        "# Sneha       S           F               -\n",
        "# Ezaz        E           T             Ezaz\n",
        "# Ira         I           T             Ira\n",
        "# Dhanush     D           F               -\n"
      ],
      "metadata": {
        "colab": {
          "base_uri": "https://localhost:8080/"
        },
        "id": "IAW_f9Of8kOe",
        "outputId": "b42cd76b-e642-417d-e6bc-b8412fb3f65b"
      },
      "execution_count": 70,
      "outputs": [
        {
          "output_type": "stream",
          "name": "stdout",
          "text": [
            "Abdul\n",
            "Ezaz\n",
            "Ira\n"
          ]
        }
      ]
    },
    {
      "cell_type": "code",
      "source": [],
      "metadata": {
        "id": "8zaO_vS192ra"
      },
      "execution_count": null,
      "outputs": []
    }
  ]
}