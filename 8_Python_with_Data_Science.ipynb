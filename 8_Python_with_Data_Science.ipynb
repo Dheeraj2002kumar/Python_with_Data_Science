{
  "cells": [
    {
      "cell_type": "markdown",
      "metadata": {
        "id": "view-in-github",
        "colab_type": "text"
      },
      "source": [
        "<a href=\"https://colab.research.google.com/github/Dheeraj2002kumar/Python_with_Data_Science/blob/main/8_Python_with_Data_Science.ipynb\" target=\"_parent\"><img src=\"https://colab.research.google.com/assets/colab-badge.svg\" alt=\"Open In Colab\"/></a>"
      ]
    },
    {
      "cell_type": "markdown",
      "id": "cdd11527",
      "metadata": {
        "id": "cdd11527"
      },
      "source": [
        "## NumPy\n",
        "NumPy is a library having functionalities related to Numerical Python"
      ]
    },
    {
      "cell_type": "markdown",
      "id": "e99275a0",
      "metadata": {
        "id": "e99275a0"
      },
      "source": [
        "Core Python Data Types\n",
        "- int, float, complex, bool\n",
        "- str, list, tuple, dict, set\n",
        "\n",
        "##### NumPy contains a data type called as ndarray (N-dimensional array)\n",
        "- This is the most important object of the NumPY Module"
      ]
    },
    {
      "cell_type": "code",
      "execution_count": null,
      "id": "3eb3f6be",
      "metadata": {
        "id": "3eb3f6be",
        "outputId": "aad4f99c-72e3-46c2-dcd5-3099ab53f7fd"
      },
      "outputs": [
        {
          "data": {
            "text/plain": [
              "[2, 9, 1, 8]"
            ]
          },
          "execution_count": 1,
          "metadata": {},
          "output_type": "execute_result"
        }
      ],
      "source": [
        "l = [2, 9, 1, 8]\n",
        "l"
      ]
    },
    {
      "cell_type": "markdown",
      "id": "022841a1",
      "metadata": {
        "id": "022841a1"
      },
      "source": [
        "### Array\n",
        "It is a collection of homogeneous data element/s"
      ]
    },
    {
      "cell_type": "code",
      "execution_count": null,
      "id": "63b056f5",
      "metadata": {
        "id": "63b056f5",
        "outputId": "71f4459c-55b5-4377-f53a-0a01a603fb5b"
      },
      "outputs": [
        {
          "ename": "NameError",
          "evalue": "name 'np' is not defined",
          "output_type": "error",
          "traceback": [
            "\u001b[1;31m---------------------------------------------------------------------------\u001b[0m",
            "\u001b[1;31mNameError\u001b[0m                                 Traceback (most recent call last)",
            "Cell \u001b[1;32mIn[2], line 1\u001b[0m\n\u001b[1;32m----> 1\u001b[0m la \u001b[38;5;241m=\u001b[39m np\u001b[38;5;241m.\u001b[39marray(l)\n\u001b[0;32m      2\u001b[0m la\n",
            "\u001b[1;31mNameError\u001b[0m: name 'np' is not defined"
          ]
        }
      ],
      "source": [
        "la = np.array(l)\n",
        "la"
      ]
    },
    {
      "cell_type": "code",
      "execution_count": null,
      "id": "d130163a",
      "metadata": {
        "id": "d130163a",
        "outputId": "bb6ce443-5769-4567-83b1-26520353f62b"
      },
      "outputs": [
        {
          "name": "stdout",
          "output_type": "stream",
          "text": [
            "Requirement already satisfied: numpy in d:\\installed softwares\\anaconda\\lib\\site-packages (1.24.3)\n",
            "Note: you may need to restart the kernel to use updated packages.\n"
          ]
        }
      ],
      "source": [
        "# pip install numpy"
      ]
    },
    {
      "cell_type": "markdown",
      "id": "5188e209",
      "metadata": {
        "id": "5188e209"
      },
      "source": [
        "Modules\n",
        "- Inbuilt\n",
        "- User-defined\n",
        "- External"
      ]
    },
    {
      "cell_type": "code",
      "execution_count": null,
      "id": "9ae1a74f",
      "metadata": {
        "id": "9ae1a74f",
        "outputId": "e8601c35-f461-4f82-81ac-acc97f766824"
      },
      "outputs": [
        {
          "data": {
            "text/plain": [
              "array([2, 9, 1, 8])"
            ]
          },
          "execution_count": 24,
          "metadata": {},
          "output_type": "execute_result"
        }
      ],
      "source": [
        "import numpy as np\n",
        "l = [2, 9, 1, 8]\n",
        "al = np.array(l)\n",
        "al   # 0 Rows 4 columns"
      ]
    },
    {
      "cell_type": "code",
      "execution_count": null,
      "id": "5761ca5e",
      "metadata": {
        "id": "5761ca5e",
        "outputId": "83679447-4d8a-478c-990b-7d0545bcd93e"
      },
      "outputs": [
        {
          "data": {
            "text/plain": [
              "array([[2, 9, 1, 8]])"
            ]
          },
          "execution_count": 25,
          "metadata": {},
          "output_type": "execute_result"
        }
      ],
      "source": [
        "l = [[2, 9, 1, 8]]\n",
        "al1 = np.array(l)\n",
        "al1"
      ]
    },
    {
      "cell_type": "code",
      "execution_count": null,
      "id": "b9d87614",
      "metadata": {
        "id": "b9d87614",
        "outputId": "17e6bbe7-c189-4921-acd5-f83977834f31"
      },
      "outputs": [
        {
          "data": {
            "text/plain": [
              "2"
            ]
          },
          "execution_count": 26,
          "metadata": {},
          "output_type": "execute_result"
        }
      ],
      "source": [
        "al1.ndim"
      ]
    },
    {
      "cell_type": "code",
      "execution_count": null,
      "id": "1aa23bc6",
      "metadata": {
        "id": "1aa23bc6",
        "outputId": "47a182f9-2572-49fc-e322-8dfddab5a4cb"
      },
      "outputs": [
        {
          "data": {
            "text/plain": [
              "(1, 4)"
            ]
          },
          "execution_count": 27,
          "metadata": {},
          "output_type": "execute_result"
        }
      ],
      "source": [
        "al1.shape"
      ]
    },
    {
      "cell_type": "code",
      "execution_count": null,
      "id": "ee2e9233",
      "metadata": {
        "id": "ee2e9233",
        "outputId": "b32abd94-5d6c-4741-d055-f46773e1700f"
      },
      "outputs": [
        {
          "data": {
            "text/plain": [
              "1"
            ]
          },
          "execution_count": 31,
          "metadata": {},
          "output_type": "execute_result"
        }
      ],
      "source": [
        "al.ndim"
      ]
    },
    {
      "cell_type": "code",
      "execution_count": null,
      "id": "4b1371c9",
      "metadata": {
        "id": "4b1371c9",
        "outputId": "11b3aaac-14e2-4507-f32c-500f9c678c2c"
      },
      "outputs": [
        {
          "data": {
            "text/plain": [
              "(4,)"
            ]
          },
          "execution_count": 32,
          "metadata": {},
          "output_type": "execute_result"
        }
      ],
      "source": [
        "al.shape"
      ]
    },
    {
      "cell_type": "code",
      "execution_count": null,
      "id": "8026c5bc",
      "metadata": {
        "id": "8026c5bc",
        "outputId": "63463118-62e2-4391-948e-033e96f5a456"
      },
      "outputs": [
        {
          "name": "stdout",
          "output_type": "stream",
          "text": [
            "[2 9 1 8]\n"
          ]
        }
      ],
      "source": [
        "print(al)"
      ]
    },
    {
      "cell_type": "code",
      "execution_count": null,
      "id": "bb1f58d3",
      "metadata": {
        "id": "bb1f58d3",
        "outputId": "f577d3d2-4216-47ab-d736-debab58aa70a"
      },
      "outputs": [
        {
          "data": {
            "text/plain": [
              "array([[2, 9, 1, 8],\n",
              "       [6, 3, 2, 0]])"
            ]
          },
          "execution_count": 8,
          "metadata": {},
          "output_type": "execute_result"
        }
      ],
      "source": [
        "k = [[2, 9, 1, 8],\n",
        "     [6, 3, 2, 0]]\n",
        "ak = np.array(k)\n",
        "ak"
      ]
    },
    {
      "cell_type": "code",
      "execution_count": null,
      "id": "db06666a",
      "metadata": {
        "id": "db06666a",
        "outputId": "bd7743ea-b23d-424c-9d0a-77f01d111445"
      },
      "outputs": [
        {
          "data": {
            "text/plain": [
              "2"
            ]
          },
          "execution_count": 10,
          "metadata": {},
          "output_type": "execute_result"
        }
      ],
      "source": [
        "ak.ndim"
      ]
    },
    {
      "cell_type": "code",
      "execution_count": null,
      "id": "a4fce7e0",
      "metadata": {
        "id": "a4fce7e0",
        "outputId": "5adc4a00-9a1d-43fd-a5ca-5f3a33acc804"
      },
      "outputs": [
        {
          "data": {
            "text/plain": [
              "(2, 4)"
            ]
          },
          "execution_count": 11,
          "metadata": {},
          "output_type": "execute_result"
        }
      ],
      "source": [
        "ak.shape"
      ]
    },
    {
      "cell_type": "code",
      "execution_count": null,
      "id": "182ee1ff",
      "metadata": {
        "id": "182ee1ff",
        "outputId": "44211de0-a96d-4bb9-85be-035d21bc055f"
      },
      "outputs": [
        {
          "data": {
            "text/plain": [
              "array([[[2, 9, 1, 8],\n",
              "        [6, 3, 2, 0]],\n",
              "\n",
              "       [[7, 1, 1, 8],\n",
              "        [6, 9, 2, 5]]])"
            ]
          },
          "execution_count": 14,
          "metadata": {},
          "output_type": "execute_result"
        }
      ],
      "source": [
        "m = [[[2, 9, 1, 8],\n",
        "      [6, 3, 2, 0]],\n",
        "     [[7, 1, 1, 8],\n",
        "      [6, 9, 2, 5]]]\n",
        "am = np.array(m)\n",
        "am"
      ]
    },
    {
      "cell_type": "code",
      "execution_count": null,
      "id": "9a258c0a",
      "metadata": {
        "id": "9a258c0a",
        "outputId": "97f573f8-e61f-40e0-c092-fdcdcfb7707b"
      },
      "outputs": [
        {
          "data": {
            "text/plain": [
              "(2, 2, 4)"
            ]
          },
          "execution_count": 15,
          "metadata": {},
          "output_type": "execute_result"
        }
      ],
      "source": [
        "am.shape"
      ]
    },
    {
      "cell_type": "code",
      "execution_count": null,
      "id": "c5b66d06",
      "metadata": {
        "id": "c5b66d06",
        "outputId": "f7dd7920-3f07-4cd4-a3bd-d1e933c1240c"
      },
      "outputs": [
        {
          "data": {
            "text/plain": [
              "16"
            ]
          },
          "execution_count": 17,
          "metadata": {},
          "output_type": "execute_result"
        }
      ],
      "source": [
        "am.size   # Total number of elements in th array"
      ]
    },
    {
      "cell_type": "code",
      "execution_count": null,
      "id": "2e02a61e",
      "metadata": {
        "id": "2e02a61e",
        "outputId": "31ad5653-c49b-4ba0-e8ba-7d69ec941662"
      },
      "outputs": [
        {
          "data": {
            "text/plain": [
              "3"
            ]
          },
          "execution_count": 33,
          "metadata": {},
          "output_type": "execute_result"
        }
      ],
      "source": [
        "am.ndim"
      ]
    },
    {
      "cell_type": "code",
      "execution_count": null,
      "id": "1e85a29d",
      "metadata": {
        "id": "1e85a29d",
        "outputId": "6c651344-be1e-4661-da4e-9dcf25c79486"
      },
      "outputs": [
        {
          "data": {
            "text/plain": [
              "array([[[2, 9, 1, 8],\n",
              "        [6, 3, 2, 0]],\n",
              "\n",
              "       [[7, 1, 1, 8],\n",
              "        [6, 9, 2, 5]]])"
            ]
          },
          "execution_count": 36,
          "metadata": {},
          "output_type": "execute_result"
        }
      ],
      "source": [
        "n = [[[2, 9, 1, 8],\n",
        "      [6, 3, 2, 0]],\n",
        "     [[7, 1, 1, 8],\n",
        "      [6, 9, 2, 5]]]\n",
        "dpn = np.array(n)\n",
        "dpn"
      ]
    },
    {
      "cell_type": "code",
      "execution_count": null,
      "id": "6ca7d839",
      "metadata": {
        "id": "6ca7d839",
        "outputId": "0e50d53e-bb37-45df-98d6-b1f92144a2ec"
      },
      "outputs": [
        {
          "data": {
            "text/plain": [
              "array([[[2. , 9. , 1. , 8. ],\n",
              "        [6. , 3. , 2.3, 0. ]],\n",
              "\n",
              "       [[7. , 1. , 1. , 8. ],\n",
              "        [6. , 9. , 2. , 5. ]]])"
            ]
          },
          "execution_count": 37,
          "metadata": {},
          "output_type": "execute_result"
        }
      ],
      "source": [
        "n = [[[2, 9, 1, 8],\n",
        "      [6, 3, 2.3, 0]],\n",
        "     [[7, 1, 1, 8],\n",
        "      [6, 9, 2, 5]]]\n",
        "dpn = np.array(n)\n",
        "dpn"
      ]
    },
    {
      "cell_type": "code",
      "execution_count": null,
      "id": "49c77613",
      "metadata": {
        "id": "49c77613",
        "outputId": "d0777b1f-2cd8-48e8-8ea5-f138c0707380"
      },
      "outputs": [
        {
          "data": {
            "text/plain": [
              "array([[['2', '9', '1', '8'],\n",
              "        ['6', '3', '2', '0']],\n",
              "\n",
              "       [['7', '1', '1', '8'],\n",
              "        ['6', '9', 'a', '5']]], dtype='<U11')"
            ]
          },
          "execution_count": 39,
          "metadata": {},
          "output_type": "execute_result"
        }
      ],
      "source": [
        "n = [[[2, 9, 1, 8],\n",
        "      [6, 3, 2, 0]],\n",
        "     [[7, 1, 1, 8],\n",
        "      [6, 9, 'a', 5]]]\n",
        "dpn = np.array(n)\n",
        "dpn"
      ]
    },
    {
      "cell_type": "code",
      "execution_count": null,
      "id": "2c87af96",
      "metadata": {
        "id": "2c87af96",
        "outputId": "2db1fbb6-aca8-4955-a3af-b9f9ba01aeda"
      },
      "outputs": [
        {
          "data": {
            "text/plain": [
              "array([[[2., 9., 1., 8.],\n",
              "        [6., 3., 2., 0.]],\n",
              "\n",
              "       [[7., 1., 1., 8.],\n",
              "        [6., 9., 2., 5.]]])"
            ]
          },
          "execution_count": 40,
          "metadata": {},
          "output_type": "execute_result"
        }
      ],
      "source": [
        "n = [[[2, 9, 1, 8],\n",
        "      [6, 3, 2, 0]],\n",
        "     [[7, 1, 1, 8],\n",
        "      [6, 9, 2, 5]]]\n",
        "dpn = np.array(n, dtype = 'float')\n",
        "dpn"
      ]
    },
    {
      "cell_type": "code",
      "execution_count": null,
      "id": "a8dbdbc1",
      "metadata": {
        "id": "a8dbdbc1",
        "outputId": "3ee28d30-c844-4b4b-93f6-5a9528342be9"
      },
      "outputs": [
        {
          "data": {
            "text/plain": [
              "array([0, 1, 2, 3, 4, 5, 6, 7, 8, 9])"
            ]
          },
          "execution_count": 45,
          "metadata": {},
          "output_type": "execute_result"
        }
      ],
      "source": [
        "# Create an array of 10 integers\n",
        "q = []\n",
        "for i in range(10):\n",
        "    q.append(i)\n",
        "np.array(q)"
      ]
    },
    {
      "cell_type": "markdown",
      "id": "254642e8",
      "metadata": {
        "id": "254642e8"
      },
      "source": [
        "#### Indexing in Array"
      ]
    },
    {
      "cell_type": "code",
      "execution_count": null,
      "id": "9fec4793",
      "metadata": {
        "id": "9fec4793",
        "outputId": "cdd76f5b-c0f8-400a-bf55-7a1508267b6b"
      },
      "outputs": [
        {
          "data": {
            "text/plain": [
              "array([[[2, 9, 1, 8],\n",
              "        [6, 3, 2, 0]],\n",
              "\n",
              "       [[7, 1, 1, 8],\n",
              "        [6, 9, 2, 5]]])"
            ]
          },
          "execution_count": 46,
          "metadata": {},
          "output_type": "execute_result"
        }
      ],
      "source": [
        "am"
      ]
    },
    {
      "cell_type": "code",
      "execution_count": null,
      "id": "3f3c1cf5",
      "metadata": {
        "id": "3f3c1cf5",
        "outputId": "f91cbb81-a7c3-4051-9761-a6e0d21cbdf8"
      },
      "outputs": [
        {
          "data": {
            "text/plain": [
              "(2, 2, 4)"
            ]
          },
          "execution_count": 48,
          "metadata": {},
          "output_type": "execute_result"
        }
      ],
      "source": [
        "am.shape  # (layer, row, column)"
      ]
    },
    {
      "cell_type": "code",
      "execution_count": null,
      "id": "72f8e2b5",
      "metadata": {
        "id": "72f8e2b5",
        "outputId": "670ef5b8-b6fb-42f9-d6ed-1c444fde8a30"
      },
      "outputs": [
        {
          "data": {
            "text/plain": [
              "array([[2, 9, 1, 8],\n",
              "       [6, 3, 2, 0]])"
            ]
          },
          "execution_count": 53,
          "metadata": {},
          "output_type": "execute_result"
        }
      ],
      "source": [
        "am[0]"
      ]
    },
    {
      "cell_type": "code",
      "execution_count": null,
      "id": "8665bfe2",
      "metadata": {
        "id": "8665bfe2",
        "outputId": "e93605ea-51cb-4c58-96aa-da44f9247dc6"
      },
      "outputs": [
        {
          "data": {
            "text/plain": [
              "array([2, 9, 1, 8])"
            ]
          },
          "execution_count": 52,
          "metadata": {},
          "output_type": "execute_result"
        }
      ],
      "source": [
        "am[0][0]"
      ]
    },
    {
      "cell_type": "code",
      "execution_count": null,
      "id": "b95d6063",
      "metadata": {
        "id": "b95d6063",
        "outputId": "f9ca9584-2b3e-415b-a6e4-6f75fe0c61ac"
      },
      "outputs": [
        {
          "data": {
            "text/plain": [
              "2"
            ]
          },
          "execution_count": 54,
          "metadata": {},
          "output_type": "execute_result"
        }
      ],
      "source": [
        "am[0][0][0]"
      ]
    },
    {
      "cell_type": "code",
      "execution_count": null,
      "id": "38d81617",
      "metadata": {
        "id": "38d81617",
        "outputId": "749e32b3-bfcf-4790-c084-7606031fedb4"
      },
      "outputs": [
        {
          "data": {
            "text/plain": [
              "array([[7, 1, 1, 8],\n",
              "       [6, 9, 2, 5]])"
            ]
          },
          "execution_count": 50,
          "metadata": {},
          "output_type": "execute_result"
        }
      ],
      "source": [
        "am[1]"
      ]
    },
    {
      "cell_type": "code",
      "execution_count": null,
      "id": "272cf100",
      "metadata": {
        "id": "272cf100",
        "outputId": "592e27fe-ecbd-49c8-e024-1a0c0c6d70f7"
      },
      "outputs": [
        {
          "ename": "IndexError",
          "evalue": "index 2 is out of bounds for axis 0 with size 2",
          "output_type": "error",
          "traceback": [
            "\u001b[1;31m---------------------------------------------------------------------------\u001b[0m",
            "\u001b[1;31mIndexError\u001b[0m                                Traceback (most recent call last)",
            "Cell \u001b[1;32mIn[51], line 1\u001b[0m\n\u001b[1;32m----> 1\u001b[0m am[\u001b[38;5;241m2\u001b[39m]\n",
            "\u001b[1;31mIndexError\u001b[0m: index 2 is out of bounds for axis 0 with size 2"
          ]
        }
      ],
      "source": [
        "am[2]"
      ]
    },
    {
      "cell_type": "markdown",
      "id": "64d47910",
      "metadata": {
        "id": "64d47910"
      },
      "source": [
        "#### Integer Array Indexing"
      ]
    },
    {
      "cell_type": "code",
      "execution_count": null,
      "id": "8118f697",
      "metadata": {
        "id": "8118f697",
        "outputId": "068058db-70a4-4013-cdc1-d8ffc6aa5722"
      },
      "outputs": [
        {
          "data": {
            "text/plain": [
              "array([[2, 9, 1, 8],\n",
              "       [6, 3, 2, 0]])"
            ]
          },
          "execution_count": 56,
          "metadata": {},
          "output_type": "execute_result"
        }
      ],
      "source": [
        "ak"
      ]
    },
    {
      "cell_type": "code",
      "execution_count": null,
      "id": "c35b5a88",
      "metadata": {
        "id": "c35b5a88",
        "outputId": "dd1f4dce-4f09-4336-fe4a-22b3a6b1d0dd"
      },
      "outputs": [
        {
          "data": {
            "text/plain": [
              "array([1, 6])"
            ]
          },
          "execution_count": 57,
          "metadata": {},
          "output_type": "execute_result"
        }
      ],
      "source": [
        "ak[[0, 1],[2, 0]]   # Row Coordinates, Column Coordinates"
      ]
    },
    {
      "cell_type": "code",
      "execution_count": null,
      "id": "7804bcf4",
      "metadata": {
        "id": "7804bcf4",
        "outputId": "c69f9eb4-0e97-458d-f929-70009c32d931"
      },
      "outputs": [
        {
          "data": {
            "text/plain": [
              "array([[[2, 9, 1, 8],\n",
              "        [6, 3, 2, 0]],\n",
              "\n",
              "       [[7, 1, 1, 8],\n",
              "        [6, 9, 2, 5]]])"
            ]
          },
          "execution_count": 58,
          "metadata": {},
          "output_type": "execute_result"
        }
      ],
      "source": [
        "am"
      ]
    },
    {
      "cell_type": "code",
      "execution_count": null,
      "id": "5874146a",
      "metadata": {
        "id": "5874146a",
        "outputId": "07296266-2ff8-4604-8d72-26c5166669f0"
      },
      "outputs": [
        {
          "data": {
            "text/plain": [
              "array([3])"
            ]
          },
          "execution_count": 59,
          "metadata": {},
          "output_type": "execute_result"
        }
      ],
      "source": [
        "am[[0],[1],[1]]"
      ]
    },
    {
      "cell_type": "markdown",
      "id": "a990937b",
      "metadata": {
        "id": "a990937b"
      },
      "source": [
        "#### Boolean Array Indexing"
      ]
    },
    {
      "cell_type": "code",
      "execution_count": null,
      "id": "21c93f4e",
      "metadata": {
        "id": "21c93f4e",
        "outputId": "4e40502a-8f5f-46af-c6e2-374a87805c81"
      },
      "outputs": [
        {
          "data": {
            "text/plain": [
              "array([[2, 9, 1, 8],\n",
              "       [6, 3, 2, 0]])"
            ]
          },
          "execution_count": 60,
          "metadata": {},
          "output_type": "execute_result"
        }
      ],
      "source": [
        "ak"
      ]
    },
    {
      "cell_type": "code",
      "execution_count": null,
      "id": "83f934e7",
      "metadata": {
        "id": "83f934e7",
        "outputId": "36d0fdc3-27bc-4b0d-b911-4941a9181c5d"
      },
      "outputs": [
        {
          "data": {
            "text/plain": [
              "array([2, 1, 6, 3, 2, 0])"
            ]
          },
          "execution_count": 61,
          "metadata": {},
          "output_type": "execute_result"
        }
      ],
      "source": [
        "ak[ak < 7]"
      ]
    },
    {
      "cell_type": "code",
      "execution_count": null,
      "id": "8a48d0b3",
      "metadata": {
        "id": "8a48d0b3",
        "outputId": "a16c702c-2429-4a41-ff48-5137172b0898"
      },
      "outputs": [
        {
          "data": {
            "text/plain": [
              "array([2, 8, 6, 2, 0])"
            ]
          },
          "execution_count": 62,
          "metadata": {},
          "output_type": "execute_result"
        }
      ],
      "source": [
        "ak[ak %2 == 0]"
      ]
    },
    {
      "cell_type": "markdown",
      "id": "28b9ce41",
      "metadata": {
        "id": "28b9ce41"
      },
      "source": [
        "#### Slicing"
      ]
    },
    {
      "cell_type": "code",
      "execution_count": null,
      "id": "2a6db41a",
      "metadata": {
        "id": "2a6db41a",
        "outputId": "2e67115f-c3a8-45ea-ad9d-73f63fa495c6"
      },
      "outputs": [
        {
          "data": {
            "text/plain": [
              "array([[2, 9, 1, 8],\n",
              "       [6, 3, 2, 0]])"
            ]
          },
          "execution_count": 63,
          "metadata": {},
          "output_type": "execute_result"
        }
      ],
      "source": [
        "ak"
      ]
    },
    {
      "cell_type": "code",
      "execution_count": null,
      "id": "0e2c51f3",
      "metadata": {
        "id": "0e2c51f3",
        "outputId": "830898aa-b2f6-4057-8262-568457d20b9c"
      },
      "outputs": [
        {
          "data": {
            "text/plain": [
              "array([[9],\n",
              "       [3]])"
            ]
          },
          "execution_count": 64,
          "metadata": {},
          "output_type": "execute_result"
        }
      ],
      "source": [
        "ak[:,1:2]     # Row Slicing, Column Sling"
      ]
    },
    {
      "cell_type": "code",
      "execution_count": null,
      "id": "b6ab42c9",
      "metadata": {
        "id": "b6ab42c9",
        "outputId": "21e50458-bc56-4103-a93b-d677a15863b5"
      },
      "outputs": [
        {
          "data": {
            "text/plain": [
              "array([[2, 9, 1, 8],\n",
              "       [6, 3, 2, 0],\n",
              "       [7, 1, 1, 8]])"
            ]
          },
          "execution_count": 65,
          "metadata": {},
          "output_type": "execute_result"
        }
      ],
      "source": [
        "p = [[2, 9, 1, 8],\n",
        "      [6, 3, 2, 0],\n",
        "      [7, 1, 1, 8]]\n",
        "ap = np.array(p)\n",
        "ap"
      ]
    },
    {
      "cell_type": "code",
      "execution_count": null,
      "id": "6bb355f1",
      "metadata": {
        "id": "6bb355f1",
        "outputId": "763b9151-3e51-4a4b-ffbb-5121a00e65e0"
      },
      "outputs": [
        {
          "data": {
            "text/plain": [
              "array([[2, 0],\n",
              "       [1, 8]])"
            ]
          },
          "execution_count": 66,
          "metadata": {},
          "output_type": "execute_result"
        }
      ],
      "source": [
        "ap[1:,2:]"
      ]
    },
    {
      "cell_type": "code",
      "execution_count": null,
      "id": "94aaac9a",
      "metadata": {
        "id": "94aaac9a",
        "outputId": "2635bc50-25de-4683-f39f-a4ad9be717f4"
      },
      "outputs": [
        {
          "data": {
            "text/plain": [
              "array([[2, 9, 1, 8],\n",
              "       [6, 3, 2, 0],\n",
              "       [7, 1, 1, 8]])"
            ]
          },
          "execution_count": 67,
          "metadata": {},
          "output_type": "execute_result"
        }
      ],
      "source": [
        "ap"
      ]
    },
    {
      "cell_type": "code",
      "execution_count": null,
      "id": "a142da09",
      "metadata": {
        "id": "a142da09",
        "outputId": "4fe2a58e-e027-4226-877b-c42e1b5c735c"
      },
      "outputs": [
        {
          "data": {
            "text/plain": [
              "0"
            ]
          },
          "execution_count": 68,
          "metadata": {},
          "output_type": "execute_result"
        }
      ],
      "source": [
        "ap[1][3]"
      ]
    },
    {
      "cell_type": "code",
      "execution_count": null,
      "id": "352ab26f",
      "metadata": {
        "id": "352ab26f",
        "outputId": "1ed085e7-98be-4335-851f-ffd49bb1f59d"
      },
      "outputs": [
        {
          "data": {
            "text/plain": [
              "array([[ 2,  9,  1,  8],\n",
              "       [ 6,  3,  2, 52],\n",
              "       [ 7,  1,  1,  8]])"
            ]
          },
          "execution_count": 69,
          "metadata": {},
          "output_type": "execute_result"
        }
      ],
      "source": [
        "ap[1][3] = 52\n",
        "ap"
      ]
    },
    {
      "cell_type": "code",
      "execution_count": null,
      "id": "247a4a35",
      "metadata": {
        "id": "247a4a35",
        "outputId": "2783a885-c4cb-4d66-a304-8f737d620efa"
      },
      "outputs": [
        {
          "data": {
            "text/plain": [
              "array([[[0, 0, 0, 0],\n",
              "        [0, 0, 0, 0]],\n",
              "\n",
              "       [[0, 0, 0, 0],\n",
              "        [0, 0, 0, 0]],\n",
              "\n",
              "       [[0, 0, 0, 0],\n",
              "        [0, 0, 0, 0]]])"
            ]
          },
          "execution_count": 70,
          "metadata": {},
          "output_type": "execute_result"
        }
      ],
      "source": [
        "# Create an array having all elemernts as zero of the shape (3, 2, 4)\n",
        "q=[]\n",
        "for i in range(4):\n",
        "    q.append(0)\n",
        "r=[[q,q],[q,q],[q,q]]\n",
        "ar=np.array(r)\n",
        "\n",
        "ar"
      ]
    },
    {
      "cell_type": "code",
      "execution_count": null,
      "id": "61ccee15",
      "metadata": {
        "id": "61ccee15",
        "outputId": "5f3d4dfd-da4c-4d95-8a92-000492d9fd1b"
      },
      "outputs": [
        {
          "data": {
            "text/plain": [
              "array([[[0., 0., 0., 0.],\n",
              "        [0., 0., 0., 0.]],\n",
              "\n",
              "       [[0., 0., 0., 0.],\n",
              "        [0., 0., 0., 0.]],\n",
              "\n",
              "       [[0., 0., 0., 0.],\n",
              "        [0., 0., 0., 0.]]])"
            ]
          },
          "execution_count": 72,
          "metadata": {},
          "output_type": "execute_result"
        }
      ],
      "source": [
        "ar = np.zeros((3, 2, 4))\n",
        "ar"
      ]
    },
    {
      "cell_type": "code",
      "execution_count": null,
      "id": "ff8ad22f",
      "metadata": {
        "id": "ff8ad22f",
        "outputId": "f83c7dc3-9bb3-405d-f35a-d01dd005935a"
      },
      "outputs": [
        {
          "data": {
            "text/plain": [
              "array([[[0, 0, 0, 0],\n",
              "        [0, 0, 0, 0]],\n",
              "\n",
              "       [[0, 0, 0, 0],\n",
              "        [0, 0, 0, 0]],\n",
              "\n",
              "       [[0, 0, 0, 0],\n",
              "        [0, 0, 0, 0]]])"
            ]
          },
          "execution_count": 75,
          "metadata": {},
          "output_type": "execute_result"
        }
      ],
      "source": [
        "np.zeros((3, 2, 4), dtype = 'int')"
      ]
    },
    {
      "cell_type": "code",
      "execution_count": null,
      "id": "b2a9a889",
      "metadata": {
        "id": "b2a9a889",
        "outputId": "8029540f-3b33-42e9-e83f-85689eb48423"
      },
      "outputs": [
        {
          "data": {
            "text/plain": [
              "array([[[1, 1, 1, 1],\n",
              "        [1, 1, 1, 1]],\n",
              "\n",
              "       [[1, 1, 1, 1],\n",
              "        [1, 1, 1, 1]],\n",
              "\n",
              "       [[1, 1, 1, 1],\n",
              "        [1, 1, 1, 1]]])"
            ]
          },
          "execution_count": 76,
          "metadata": {},
          "output_type": "execute_result"
        }
      ],
      "source": [
        "np.ones((3, 2, 4), dtype = 'int')"
      ]
    },
    {
      "cell_type": "code",
      "execution_count": null,
      "id": "fcc883e1",
      "metadata": {
        "id": "fcc883e1",
        "outputId": "169aec80-27b5-404c-8e24-de802329f821"
      },
      "outputs": [
        {
          "data": {
            "text/plain": [
              "array([[[5, 5, 5, 5],\n",
              "        [5, 5, 5, 5]],\n",
              "\n",
              "       [[5, 5, 5, 5],\n",
              "        [5, 5, 5, 5]],\n",
              "\n",
              "       [[5, 5, 5, 5],\n",
              "        [5, 5, 5, 5]]])"
            ]
          },
          "execution_count": 79,
          "metadata": {},
          "output_type": "execute_result"
        }
      ],
      "source": [
        "np.full((3, 2, 4), 5)"
      ]
    },
    {
      "cell_type": "code",
      "execution_count": null,
      "id": "9766ce3c",
      "metadata": {
        "id": "9766ce3c",
        "outputId": "6c544734-de65-4e4b-fa74-4bbcc7d1ae09"
      },
      "outputs": [
        {
          "data": {
            "text/plain": [
              "array([[['hi', 'hi', 'hi', 'hi'],\n",
              "        ['hi', 'hi', 'hi', 'hi']],\n",
              "\n",
              "       [['hi', 'hi', 'hi', 'hi'],\n",
              "        ['hi', 'hi', 'hi', 'hi']],\n",
              "\n",
              "       [['hi', 'hi', 'hi', 'hi'],\n",
              "        ['hi', 'hi', 'hi', 'hi']]], dtype='<U2')"
            ]
          },
          "execution_count": 80,
          "metadata": {},
          "output_type": "execute_result"
        }
      ],
      "source": [
        "np.full((3, 2, 4), 'hi')"
      ]
    },
    {
      "cell_type": "code",
      "execution_count": null,
      "id": "f7e94114",
      "metadata": {
        "id": "f7e94114"
      },
      "outputs": [],
      "source": []
    }
  ],
  "metadata": {
    "kernelspec": {
      "display_name": "Python 3 (ipykernel)",
      "language": "python",
      "name": "python3"
    },
    "language_info": {
      "codemirror_mode": {
        "name": "ipython",
        "version": 3
      },
      "file_extension": ".py",
      "mimetype": "text/x-python",
      "name": "python",
      "nbconvert_exporter": "python",
      "pygments_lexer": "ipython3",
      "version": "3.11.5"
    },
    "colab": {
      "provenance": [],
      "include_colab_link": true
    }
  },
  "nbformat": 4,
  "nbformat_minor": 5
}