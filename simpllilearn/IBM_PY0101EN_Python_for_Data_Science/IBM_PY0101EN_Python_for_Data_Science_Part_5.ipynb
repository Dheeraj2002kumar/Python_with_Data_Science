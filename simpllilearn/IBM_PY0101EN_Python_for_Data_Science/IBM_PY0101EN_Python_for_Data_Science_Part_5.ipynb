{
 "cells": [
  {
   "cell_type": "markdown",
   "metadata": {},
   "source": [
    "# Module 5 - Working with Numpy Arrays & Simple APIs\n"
   ]
  },
  {
   "cell_type": "markdown",
   "metadata": {},
   "source": [
    "### In this lesson you will learn about:\n",
    "- Explain the use of the HTTP protocol using the Requests Library method\n",
    "- Describe how the URL Request Response HTTP protocol works\n",
    "- Learn to apply simple, open-source APIs\n",
    "- Perform basic webscraping using Python\n",
    "- Work with different file formats using Python\n",
    "- Explain the difference between APIs and REST APIs\n",
    "- Summarize how APIs receive and send information"
   ]
  },
  {
   "cell_type": "code",
   "execution_count": null,
   "metadata": {},
   "outputs": [],
   "source": [
    "# Module 5 - Working with Numpy Arrays & Simple APIs\n"
   ]
  },
  {
   "cell_type": "code",
   "execution_count": null,
   "metadata": {},
   "outputs": [],
   "source": []
  }
 ],
 "metadata": {
  "kernelspec": {
   "display_name": "Python 3",
   "language": "python",
   "name": "python3"
  },
  "language_info": {
   "name": "python",
   "version": "3.13.0"
  }
 },
 "nbformat": 4,
 "nbformat_minor": 2
}
