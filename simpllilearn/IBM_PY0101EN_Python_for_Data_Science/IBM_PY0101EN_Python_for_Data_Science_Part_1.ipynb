{
 "cells": [
  {
   "cell_type": "markdown",
   "id": "716efb19-006f-472b-9929-fcddd145eb0b",
   "metadata": {},
   "source": [
    "<p style=\"text-align:center\">\n",
    "    <a href=\"https://skills.network/?utm_medium=Exinfluencer&utm_source=Exinfluencer&utm_content=000026UJ&utm_term=10006555&utm_id=NA-SkillsNetwork-Channel-SkillsNetworkCoursesIBMDeveloperSkillsNetworkPY0101ENSkillsNetwork1005-2022-01-01\" target=\"_blank\">\n",
    "    <img src=\"https://cf-courses-data.s3.us.cloud-object-storage.appdomain.cloud/assets/logos/SN_web_lightmode.png\" width=\"200\" alt=\"Skills Network Logo\"  />\n",
    "    </a>\n",
    "</p>\n",
    "\n",
    "\n",
    "# Writing Your First Python Code\n",
    "\n",
    "\n",
    "Estimated time needed: **25** minutes\n",
    "    \n",
    "\n",
    "## Objectives\n",
    "\n",
    "After completing this lab you will be able to:\n",
    "\n",
    "* Write basic code in Python\n",
    "* Work with various types of data in Python\n",
    "* Convert the data from one type to another\n",
    "* Use expressions and variables to perform operations\n"
   ]
  },
  {
   "cell_type": "markdown",
   "id": "358054cc-2778-4bcd-9117-df059de4685a",
   "metadata": {},
   "source": [
    "<h2>Table of Contents</h2>\n",
    "<div class=\"alert alert-block alert-info\" style=\"margin-top: 20px\">\n",
    "    <ul>\n",
    "        <li>\n",
    "            <a href=\"#hello\">Say \"Hello\" to the world in Python</a>\n",
    "            <ul>\n",
    "                <li><a href=\"version\">What version of Python are we using?</a></li>\n",
    "                <li><a href=\"comments\">Writing comments in Python</a></li>\n",
    "                <li><a href=\"errors\">Errors in Python</a></li>\n",
    "                <li><a href=\"python_error\">Does Python know about your error before it runs your code?</a></li>\n",
    "                <li><a href=\"exercise\">Exercise: Your First Program</a></li>\n",
    "            </ul>\n",
    "        </li>\n",
    "        <li>\n",
    "            <a href=\"#types_objects\">Types of objects in Python</a>\n",
    "            <ul>\n",
    "                <li><a href=\"int\">Integers</a></li>\n",
    "                <li><a href=\"float\">Floats</a></li>\n",
    "                <li><a href=\"convert\">Converting from one object type to a different object type</a></li>\n",
    "                <li><a href=\"bool\">Boolean data type</a></li>\n",
    "                <li><a href=\"exer_type\">Exercise: Types</a></li>\n",
    "            </ul>\n",
    "        </li>\n",
    "        <li>\n",
    "            <a href=\"#expressions\">Expressions and Variables</a>\n",
    "            <ul>\n",
    "                <li><a href=\"exp\">Expressions</a></li>\n",
    "                <li><a href=\"exer_exp\">Exercise: Expressions</a></li>\n",
    "                <li><a href=\"var\">Variables</a></li>\n",
    "                <li><a href=\"exer_exp_var\">Exercise: Expression and Variables in Python</a></li>\n",
    "            </ul>\n",
    "        </li>\n",
    "    </ul>\n",
    "    <p>\n",
    "        Estimated time needed: <strong>25 min</strong>\n",
    "    </p>\n",
    "</div>\n",
    "\n",
    "<hr>\n"
   ]
  },
  {
   "cell_type": "markdown",
   "id": "00eabc4d-dec1-4ead-80fe-8c1552130639",
   "metadata": {},
   "source": [
    "<h2 id=\"hello\">Say \"Hello\" to the world in Python</h2>\n"
   ]
  },
  {
   "cell_type": "markdown",
   "id": "01d5561a-b653-4a86-833d-677e996bc086",
   "metadata": {},
   "source": [
    "When learning a new programming language, it is customary to start with an \"hello world\" example. As simple as it is, this one line of code will ensure that we know how to print a string in output and how to execute code within cells in a notebook.\n"
   ]
  },
  {
   "cell_type": "markdown",
   "id": "3ba38ca9-5f58-4977-88ec-432d28f4b14b",
   "metadata": {},
   "source": [
    "<hr/>\n",
    "<div class=\"alert alert-success alertsuccess\" style=\"margin-top: 20px\">\n",
    "[Tip]: To execute the Python code in the code cell below, click on the cell to select it and press <kbd>Shift</kbd> + <kbd>Enter</kbd>.\n",
    "</div>\n",
    "<hr/>\n"
   ]
  },
  {
   "cell_type": "code",
   "execution_count": 26,
   "id": "a78ec941-3876-4f65-a6bc-6a582b494dcd",
   "metadata": {},
   "outputs": [
    {
     "name": "stdout",
     "output_type": "stream",
     "text": [
      "Hello, Python!\n"
     ]
    }
   ],
   "source": [
    "# Try your first Python output\n",
    "\n",
    "print('Hello, Python!')"
   ]
  },
  {
   "cell_type": "markdown",
   "id": "468ccf9e-a04f-42ac-9701-696a3dc3e31a",
   "metadata": {},
   "source": [
    "After executing the cell above, you should see that Python prints <code>Hello, Python!</code>. Congratulations on running your first Python code!\n"
   ]
  },
  {
   "cell_type": "markdown",
   "id": "7815e80f-f8d4-4964-922e-5c0caf3d6369",
   "metadata": {},
   "source": [
    "<hr/>\n",
    "<div class=\"alert alert-success alertsuccess\" style=\"margin-top: 20px\">\n",
    "    [Tip:] <code>print()</code> is a function. You passed the string <code>'Hello, Python!'</code> as an argument to instruct Python on what to print.\n",
    "</div>\n",
    "<hr/>\n"
   ]
  },
  {
   "cell_type": "markdown",
   "id": "20c127fd-c9c2-47d4-8d27-a230edb5975b",
   "metadata": {},
   "source": [
    "<h3 id=\"version\">What version of Python are we using?</h3>\n"
   ]
  },
  {
   "cell_type": "markdown",
   "id": "c9e48046-ffac-4292-9a18-910ed6de3585",
   "metadata": {},
   "source": [
    "<p>\n",
    "    There are two popular versions of the Python programming language in use today: Python 2 and Python 3. The Python community has decided to move on from Python 2 to Python 3, and many popular libraries have announced that they will no longer support Python 2.\n",
    "</p>\n",
    "<p>\n",
    "    Since Python 3 is the future, in this course we will be using it exclusively. How do we know that our notebook is executed by a Python 3 runtime? We can look in the top-right hand corner of this notebook and see \"Python 3\".\n",
    "</p>\n",
    "<p>\n",
    "    We can also ask Python directly and obtain a detailed answer. Try executing the following code:\n",
    "</p>\n"
   ]
  },
  {
   "cell_type": "code",
   "execution_count": 34,
   "id": "d44717af-d7ad-4984-9820-718b726577d1",
   "metadata": {},
   "outputs": [
    {
     "name": "stdout",
     "output_type": "stream",
     "text": [
      "3.11.5 | packaged by Anaconda, Inc. | (main, Sep 11 2023, 13:26:23) [MSC v.1916 64 bit (AMD64)]\n"
     ]
    }
   ],
   "source": [
    "# Check the Python Version\n",
    "\n",
    "import sys\n",
    "print(sys.version)"
   ]
  },
  {
   "cell_type": "markdown",
   "id": "0e3b9670-0a4b-42ab-a637-1057f3eaa13d",
   "metadata": {},
   "source": [
    "<hr/>\n",
    "<div class=\"alert alert-success alertsuccess\" style=\"margin-top: 20px\">\n",
    "    [Tip:] <code>sys</code> is a built-in module that contains many system-specific parameters and functions, including the Python version in use. Before using it, we must explictly <code>import</code> it.\n",
    "</div>\n",
    "<hr/>\n"
   ]
  },
  {
   "cell_type": "markdown",
   "id": "9be04966-a384-4376-8afa-de5b7f54fb5a",
   "metadata": {},
   "source": [
    "<h3 id=\"comments\">Writing comments in Python</h3>\n"
   ]
  },
  {
   "cell_type": "markdown",
   "id": "b2df34e7-a73e-45c2-b7f4-5981d5312c1e",
   "metadata": {},
   "source": [
    "<p>\n",
    "    In addition to writing code, note that it's always a good idea to add comments to your code. It will help others understand what you were trying to accomplish (the reason why you wrote a given snippet of code). Not only does this help <strong>other people</strong> understand your code, it can also serve as a reminder <strong>to you</strong> when you come back to it weeks or months later.</p>\n",
    "\n",
    "<p>\n",
    "    To write comments in Python, use the number symbol <code>#</code> before writing your comment. When you run your code, Python will ignore everything past the <code>#</code> on a given line.\n",
    "</p>\n"
   ]
  },
  {
   "cell_type": "code",
   "execution_count": 39,
   "id": "f771d469-9ed6-4c74-b693-f09e6152783b",
   "metadata": {},
   "outputs": [
    {
     "name": "stdout",
     "output_type": "stream",
     "text": [
      "Hello, Python!\n"
     ]
    }
   ],
   "source": [
    "# Practice on writing comments\n",
    "\n",
    "print('Hello, Python!') # This line prints a string\n",
    "# print('Hi')"
   ]
  },
  {
   "cell_type": "markdown",
   "id": "77412e80-5d71-44c2-8ad7-9072b905bfcb",
   "metadata": {},
   "source": [
    "<p>\n",
    "    After executing the cell above, you should notice that <code>This line prints a string</code> did not appear in the output, because it was a comment (and thus ignored by Python).\n",
    "</p>\n",
    "<p>\n",
    "    The second line was also not executed because <code>print('Hi')</code> was preceded by the number sign (<code>#</code>) as well! Since this isn't an explanatory comment from the programmer, but an actual line of code, we might say that the programmer <em>commented out</em> that second line of code.\n",
    "</p>\n"
   ]
  },
  {
   "cell_type": "markdown",
   "id": "e88af962-6eee-4bde-aed1-64b432c5a47b",
   "metadata": {},
   "source": [
    "<h3 id=\"errors\">Errors in Python</h3>\n"
   ]
  },
  {
   "cell_type": "markdown",
   "id": "95a1bf8e-f93c-434d-a0dd-589feb3260cc",
   "metadata": {},
   "source": [
    "<p>Everyone makes mistakes. For many types of mistakes, Python will tell you that you have made a mistake by giving you an error message. It is important to read error messages carefully to really understand where you made a mistake and how you may go about correcting it.</p>\n",
    "<p>For example, if you spell <code>print</code> as <code>frint</code>, Python will display an error message. Give it a try:</p>\n"
   ]
  },
  {
   "cell_type": "code",
   "execution_count": 44,
   "id": "1a8d0141-3c1a-4e05-9d58-81232d6c6147",
   "metadata": {},
   "outputs": [
    {
     "ename": "NameError",
     "evalue": "name 'frint' is not defined",
     "output_type": "error",
     "traceback": [
      "\u001b[1;31m---------------------------------------------------------------------------\u001b[0m",
      "\u001b[1;31mNameError\u001b[0m                                 Traceback (most recent call last)",
      "Cell \u001b[1;32mIn[44], line 3\u001b[0m\n\u001b[0;32m      1\u001b[0m \u001b[38;5;66;03m# Print string as error message\u001b[39;00m\n\u001b[1;32m----> 3\u001b[0m frint(\u001b[38;5;124m\"\u001b[39m\u001b[38;5;124mHello, Python!\u001b[39m\u001b[38;5;124m\"\u001b[39m)\n",
      "\u001b[1;31mNameError\u001b[0m: name 'frint' is not defined"
     ]
    }
   ],
   "source": [
    "# Print string as error message\n",
    "\n",
    "frint(\"Hello, Python!\")"
   ]
  },
  {
   "cell_type": "markdown",
   "id": "8231f190-331e-40e9-a75c-d00fc482a3d9",
   "metadata": {},
   "source": [
    "<p>The error message tells you: \n",
    "<ol>\n",
    "    <li>where the error occurred (more useful in large notebook cells or scripts), and</li> \n",
    "    <li>what kind of error it was (NameError)</li> \n",
    "</ol>\n",
    "<p>Here, Python attempted to run the function <code>frint</code>, but could not determine what <code>frint</code> is since it's not a built-in function and it has not been previously defined by us either.</p>\n"
   ]
  },
  {
   "cell_type": "markdown",
   "id": "9d8e6221-0eb4-4c01-99a3-61a41fdde41d",
   "metadata": {},
   "source": [
    "<p>\n",
    "    You'll notice that if we make a different type of mistake, by forgetting to close the string, we'll obtain a different error (i.e., a <code>SyntaxError</code>). Try it below:\n",
    "</p>\n"
   ]
  },
  {
   "cell_type": "code",
   "execution_count": 48,
   "id": "9f99ae98-7fe0-4e17-afe4-a5dd3b93d5e9",
   "metadata": {},
   "outputs": [
    {
     "ename": "SyntaxError",
     "evalue": "unterminated string literal (detected at line 3) (3628399183.py, line 3)",
     "output_type": "error",
     "traceback": [
      "\u001b[1;36m  Cell \u001b[1;32mIn[48], line 3\u001b[1;36m\u001b[0m\n\u001b[1;33m    print(\"Hello, Python!)\u001b[0m\n\u001b[1;37m          ^\u001b[0m\n\u001b[1;31mSyntaxError\u001b[0m\u001b[1;31m:\u001b[0m unterminated string literal (detected at line 3)\n"
     ]
    }
   ],
   "source": [
    "# Try to see built-in error message\n",
    "\n",
    "print(\"Hello, Python!)"
   ]
  },
  {
   "cell_type": "markdown",
   "id": "5d1bb47b-3205-4efa-80b9-e3da353b61f1",
   "metadata": {},
   "source": [
    "<h3 id=\"python_error\">Does Python know about your error before it runs your code?</h3>\n"
   ]
  },
  {
   "cell_type": "markdown",
   "id": "43b002a6-20bf-4a80-87a1-361e0c04ac19",
   "metadata": {},
   "source": [
    "Python is what is called an <em>interpreted language</em>. Compiled languages examine your entire program at compile time, and are able to warn you about a whole class of errors prior to execution. In contrast, Python interprets your script line by line as it executes it. Python will stop executing the entire program when it encounters an error (unless the error is expected and handled by the programmer, a more advanced subject that we'll cover later on in this course).\n"
   ]
  },
  {
   "cell_type": "markdown",
   "id": "df26cf0f-52de-4f28-84be-5b4e7e6f6ef5",
   "metadata": {},
   "source": [
    "Try to run the code in the cell below and see what happens:\n"
   ]
  },
  {
   "cell_type": "code",
   "execution_count": 53,
   "id": "f5061b58-aa0c-4891-bb7a-022cec432224",
   "metadata": {},
   "outputs": [
    {
     "name": "stdout",
     "output_type": "stream",
     "text": [
      "This will be printed\n"
     ]
    },
    {
     "ename": "NameError",
     "evalue": "name 'frint' is not defined",
     "output_type": "error",
     "traceback": [
      "\u001b[1;31m---------------------------------------------------------------------------\u001b[0m",
      "\u001b[1;31mNameError\u001b[0m                                 Traceback (most recent call last)",
      "Cell \u001b[1;32mIn[53], line 4\u001b[0m\n\u001b[0;32m      1\u001b[0m \u001b[38;5;66;03m# Print string and error to see the running order\u001b[39;00m\n\u001b[0;32m      3\u001b[0m \u001b[38;5;28mprint\u001b[39m(\u001b[38;5;124m\"\u001b[39m\u001b[38;5;124mThis will be printed\u001b[39m\u001b[38;5;124m\"\u001b[39m)\n\u001b[1;32m----> 4\u001b[0m frint(\u001b[38;5;124m\"\u001b[39m\u001b[38;5;124mThis will cause an error\u001b[39m\u001b[38;5;124m\"\u001b[39m)\n\u001b[0;32m      5\u001b[0m \u001b[38;5;28mprint\u001b[39m(\u001b[38;5;124m\"\u001b[39m\u001b[38;5;124mThis will NOT be printed\u001b[39m\u001b[38;5;124m\"\u001b[39m)\n",
      "\u001b[1;31mNameError\u001b[0m: name 'frint' is not defined"
     ]
    }
   ],
   "source": [
    "# Print string and error to see the running order\n",
    "\n",
    "print(\"This will be printed\")\n",
    "frint(\"This will cause an error\")\n",
    "print(\"This will NOT be printed\")"
   ]
  },
  {
   "cell_type": "markdown",
   "id": "09e756c3-8ffc-4b29-9cef-3d5ab5d55c89",
   "metadata": {},
   "source": [
    "<h3 id=\"exercise\">Exercise: Your First Program</h3>\n"
   ]
  },
  {
   "cell_type": "markdown",
   "id": "3889ca20-c0f7-4062-86dd-4c6b771f6377",
   "metadata": {},
   "source": [
    "<p>Generations of programmers have started their coding careers by simply printing \"Hello, world!\". You will be following in their footsteps.</p>\n",
    "<p>In the code cell below, use the <code>print()</code> function to print out the phrase: <code>Hello, world!</code></p>\n"
   ]
  },
  {
   "cell_type": "code",
   "execution_count": 58,
   "id": "b5850dab-b6a8-421d-9079-f6d16fedb2d9",
   "metadata": {},
   "outputs": [
    {
     "name": "stdout",
     "output_type": "stream",
     "text": [
      "Hello, world!\n"
     ]
    }
   ],
   "source": [
    "# Write your code below. Don't forget to press Shift+Enter to execute the cell\n",
    "print(\"Hello, world!\")"
   ]
  },
  {
   "cell_type": "markdown",
   "id": "3c415c78-a7b2-423c-9b0d-1ffde2b8a585",
   "metadata": {},
   "source": [
    "<details><summary>Click here for the solution</summary>\n",
    "\n",
    "```python\n",
    "print(\"Hello, world!\")\n",
    "\n",
    "```\n",
    "\n",
    "</details>\n"
   ]
  },
  {
   "cell_type": "markdown",
   "id": "3047f79e-efe2-4f1f-bbfb-3c6d4f48c431",
   "metadata": {},
   "source": [
    "<p>Now, let's enhance your code with a comment. In the code cell below, print out the phrase: <code>Hello, world!</code> and comment it with the phrase <code>Print the traditional hello world</code> all in one line of code.</p>\n"
   ]
  },
  {
   "cell_type": "code",
   "execution_count": 62,
   "id": "079b1c46-ac9f-42a5-8a99-ac2c610e95ad",
   "metadata": {},
   "outputs": [
    {
     "name": "stdout",
     "output_type": "stream",
     "text": [
      "Hello, world!\n"
     ]
    }
   ],
   "source": [
    "# Write your code below. Don't forget to press Shift+Enter to execute the cell\n",
    "print(\"Hello, world!\")  # Print the traditional hello world"
   ]
  },
  {
   "cell_type": "markdown",
   "id": "eb5d50c4-2ea2-459a-94fc-49303a79cfac",
   "metadata": {},
   "source": [
    "<details><summary>Click here for the solution</summary>\n",
    "\n",
    "```python\n",
    "print(\"Hello, world!\") # Print the traditional hello world\n",
    "\n",
    "```\n",
    "\n",
    "</details>\n"
   ]
  },
  {
   "cell_type": "markdown",
   "id": "52480a1d-7cb2-47df-aae4-5784fb89fbc7",
   "metadata": {},
   "source": [
    "<hr>"
   ]
  },
  {
   "cell_type": "markdown",
   "id": "97b85e57-bbb2-4d0b-a32f-f2b6aa8e7faf",
   "metadata": {},
   "source": [
    "<h2 id=\"types_objects\" align=\"center\">Types of objects in Python</h2>\n"
   ]
  },
  {
   "cell_type": "markdown",
   "id": "9518cca8-3ba9-4cb6-a482-35543111009c",
   "metadata": {},
   "source": [
    "<p>Python is an object-oriented language. There are many different types of objects in Python. Let's start with the most common object types: <i>strings</i>, <i>integers</i> and <i>floats</i>. Anytime you write words (text) in Python, you're using <i>character strings</i> (strings for short). The most common numbers, on the other hand, are <i>integers</i> (e.g. -1, 0, 100) and <i>floats</i>, which represent real numbers (e.g. 3.14, -42.0).</p>\n"
   ]
  },
  {
   "cell_type": "markdown",
   "id": "6361936f-7510-44bb-9e87-5920cafde9b3",
   "metadata": {},
   "source": [
    "<a align=\"center\">\n",
    "    <img src=\"https://cf-courses-data.s3.us.cloud-object-storage.appdomain.cloud/IBMDeveloperSkillsNetwork-PY0101EN-SkillsNetwork/labs/Module%201/images/TypesObjects.png\" width=\"600\">\n",
    "</a>\n"
   ]
  },
  {
   "cell_type": "markdown",
   "id": "a0c2fca2-f5be-4260-af03-1bb073a6490c",
   "metadata": {},
   "source": [
    "<p>The following code cells contain some examples.</p>\n"
   ]
  },
  {
   "cell_type": "code",
   "execution_count": 72,
   "id": "7a1e321e-8e49-4ea9-be2e-5c6b2a6ce3c0",
   "metadata": {},
   "outputs": [
    {
     "data": {
      "text/plain": [
       "11"
      ]
     },
     "execution_count": 72,
     "metadata": {},
     "output_type": "execute_result"
    }
   ],
   "source": [
    "# Integer\n",
    "\n",
    "11"
   ]
  },
  {
   "cell_type": "code",
   "execution_count": 74,
   "id": "e1dc4256-5d90-480d-ad11-ccd689aee55c",
   "metadata": {},
   "outputs": [
    {
     "data": {
      "text/plain": [
       "2.14"
      ]
     },
     "execution_count": 74,
     "metadata": {},
     "output_type": "execute_result"
    }
   ],
   "source": [
    "# Float\n",
    "\n",
    "2.14"
   ]
  },
  {
   "cell_type": "code",
   "execution_count": 76,
   "id": "603d039f-0d32-4dd7-8b4c-a8589b4286b9",
   "metadata": {},
   "outputs": [
    {
     "data": {
      "text/plain": [
       "'Hello, Python 101!'"
      ]
     },
     "execution_count": 76,
     "metadata": {},
     "output_type": "execute_result"
    }
   ],
   "source": [
    "# String\n",
    "\n",
    "\"Hello, Python 101!\""
   ]
  },
  {
   "cell_type": "markdown",
   "id": "94533183-c8ef-4322-a0fa-0a5cada4bc40",
   "metadata": {},
   "source": [
    "<p>You can get Python to tell you the type of an expression by using the built-in <code>type()</code> function. You'll notice that Python refers to integers as <code>int</code>, floats as <code>float</code>, and character strings as <code>str</code>.</p>\n"
   ]
  },
  {
   "cell_type": "code",
   "execution_count": 79,
   "id": "6a688e35-6038-43c3-80b0-293436163844",
   "metadata": {},
   "outputs": [
    {
     "data": {
      "text/plain": [
       "int"
      ]
     },
     "execution_count": 79,
     "metadata": {},
     "output_type": "execute_result"
    }
   ],
   "source": [
    "# Type of 12\n",
    "\n",
    "type(12)"
   ]
  },
  {
   "cell_type": "code",
   "execution_count": 81,
   "id": "71698a73-3f0b-4f0f-a010-7e91b9527456",
   "metadata": {},
   "outputs": [
    {
     "data": {
      "text/plain": [
       "float"
      ]
     },
     "execution_count": 81,
     "metadata": {},
     "output_type": "execute_result"
    }
   ],
   "source": [
    "# Type of 2.14\n",
    "\n",
    "type(2.14)"
   ]
  },
  {
   "cell_type": "code",
   "execution_count": 83,
   "id": "34a989ba-7a13-4e18-a397-6319ff6f8696",
   "metadata": {},
   "outputs": [
    {
     "data": {
      "text/plain": [
       "str"
      ]
     },
     "execution_count": 83,
     "metadata": {},
     "output_type": "execute_result"
    }
   ],
   "source": [
    "# Type of \"Hello, Python 101!\"\n",
    "\n",
    "type(\"Hello, Python 101!\")"
   ]
  },
  {
   "cell_type": "markdown",
   "id": "81fe6d36-d8d7-4e7d-9e1d-c60791a3b833",
   "metadata": {},
   "source": [
    "<p>In the code cell below, use the <code>type()</code> function to check the object type of <code>12.0</code>.\n"
   ]
  },
  {
   "cell_type": "code",
   "execution_count": 87,
   "id": "94468eda-1187-4eee-82e1-ef84145718ac",
   "metadata": {},
   "outputs": [
    {
     "data": {
      "text/plain": [
       "float"
      ]
     },
     "execution_count": 87,
     "metadata": {},
     "output_type": "execute_result"
    }
   ],
   "source": [
    "# Write your code below. Don't forget to press Shift+Enter to execute the cell\n",
    "type(12.0)"
   ]
  },
  {
   "cell_type": "markdown",
   "id": "a90df522-85a7-45f3-b4c3-be79a00146cd",
   "metadata": {},
   "source": [
    "<details><summary>Click here for the solution</summary>\n",
    "\n",
    "```python\n",
    "type(12.0)\n",
    "\n",
    "```\n",
    "\n",
    "</details>\n"
   ]
  },
  {
   "cell_type": "markdown",
   "id": "29572867-0866-4fcb-9369-f3f1b4e4fd1c",
   "metadata": {},
   "source": [
    "<h3 id=\"int\">Integers</h3>\n"
   ]
  },
  {
   "cell_type": "markdown",
   "id": "90191a00-86f3-4a11-ac39-3867b257964b",
   "metadata": {},
   "source": [
    "<p>Here are some examples of integers. Integers can be negative or positive numbers:</p>\n"
   ]
  },
  {
   "cell_type": "markdown",
   "id": "0de28d59-a243-4837-a9e5-67926ed776a9",
   "metadata": {},
   "source": [
    "<a align=\"center\">\n",
    "    <img src=\"https://cf-courses-data.s3.us.cloud-object-storage.appdomain.cloud/IBMDeveloperSkillsNetwork-PY0101EN-SkillsNetwork/labs/Module%201/images/TypesInt.png\" width=\"600\">\n",
    "</a>\n"
   ]
  },
  {
   "cell_type": "markdown",
   "id": "eb2d3cd8-a844-40fc-a000-42fb1b1b2f61",
   "metadata": {},
   "source": [
    "<p>We can verify this is the case by using, you guessed it, the <code>type()</code> function:\n"
   ]
  },
  {
   "cell_type": "code",
   "execution_count": 94,
   "id": "3c0edb00-3e55-4bc1-8cbf-b47efdcfc491",
   "metadata": {},
   "outputs": [
    {
     "data": {
      "text/plain": [
       "int"
      ]
     },
     "execution_count": 94,
     "metadata": {},
     "output_type": "execute_result"
    }
   ],
   "source": [
    "# Print the type of -1\n",
    "\n",
    "type(-1)"
   ]
  },
  {
   "cell_type": "code",
   "execution_count": 96,
   "id": "7589025b-5352-44c4-a5e2-74eb0e017375",
   "metadata": {},
   "outputs": [
    {
     "data": {
      "text/plain": [
       "int"
      ]
     },
     "execution_count": 96,
     "metadata": {},
     "output_type": "execute_result"
    }
   ],
   "source": [
    "# Print the type of 4\n",
    "\n",
    "type(4)"
   ]
  },
  {
   "cell_type": "code",
   "execution_count": 98,
   "id": "486de9e9-183e-40ed-9d42-17d3a9170c5c",
   "metadata": {},
   "outputs": [
    {
     "data": {
      "text/plain": [
       "int"
      ]
     },
     "execution_count": 98,
     "metadata": {},
     "output_type": "execute_result"
    }
   ],
   "source": [
    "# Print the type of 0\n",
    "\n",
    "type(0)"
   ]
  },
  {
   "cell_type": "markdown",
   "id": "9aa833fe-1eb6-4352-9493-a23800a9cda4",
   "metadata": {},
   "source": [
    "<h3 id=\"float\">Floats</h3> \n"
   ]
  },
  {
   "cell_type": "markdown",
   "id": "7c4e88a6-e805-46b8-99d0-bbc7bd3a31a0",
   "metadata": {},
   "source": [
    "<p>Floats represent real numbers; they are a superset of integer numbers but also include \"numbers with decimals\". There are some limitations when it comes to machines representing real numbers, but floating point numbers are a good representation in most cases. You can learn more about the specifics of floats for your runtime environment, by checking the value of <code>sys.float_info</code>. This will also tell you what's the largest and smallest number that can be represented with them.</p>\n",
    "\n",
    "<p>Once again, can test some examples with the <code>type()</code> function:\n"
   ]
  },
  {
   "cell_type": "code",
   "execution_count": 102,
   "id": "11f71cbc-32d4-4330-864e-45632acc01f7",
   "metadata": {},
   "outputs": [
    {
     "data": {
      "text/plain": [
       "sys.float_info(max=1.7976931348623157e+308, max_exp=1024, max_10_exp=308, min=2.2250738585072014e-308, min_exp=-1021, min_10_exp=-307, dig=15, mant_dig=53, epsilon=2.220446049250313e-16, radix=2, rounds=1)"
      ]
     },
     "execution_count": 102,
     "metadata": {},
     "output_type": "execute_result"
    }
   ],
   "source": [
    "sys.float_info"
   ]
  },
  {
   "cell_type": "code",
   "execution_count": 104,
   "id": "ff414991-896c-48f0-ab0a-1b27937f570d",
   "metadata": {},
   "outputs": [
    {
     "data": {
      "text/plain": [
       "float"
      ]
     },
     "execution_count": 104,
     "metadata": {},
     "output_type": "execute_result"
    }
   ],
   "source": [
    "# Print the type of 1.0\n",
    "\n",
    "type(1.0) # Notice that 1 is an int, and 1.0 is a float"
   ]
  },
  {
   "cell_type": "code",
   "execution_count": 106,
   "id": "d269aa0e-e8b8-4ad7-b462-19ba22b4d503",
   "metadata": {},
   "outputs": [
    {
     "data": {
      "text/plain": [
       "float"
      ]
     },
     "execution_count": 106,
     "metadata": {},
     "output_type": "execute_result"
    }
   ],
   "source": [
    "# Print the type of 0.5\n",
    "\n",
    "type(0.5)"
   ]
  },
  {
   "cell_type": "code",
   "execution_count": 108,
   "id": "98b07fdb-b7dc-4f6a-8b30-d51372b24d4d",
   "metadata": {},
   "outputs": [
    {
     "data": {
      "text/plain": [
       "float"
      ]
     },
     "execution_count": 108,
     "metadata": {},
     "output_type": "execute_result"
    }
   ],
   "source": [
    "# Print the type of 0.56\n",
    "\n",
    "type(0.56)"
   ]
  },
  {
   "cell_type": "code",
   "execution_count": 110,
   "id": "4e3af51d-4704-4a9e-b5fe-9d4251826840",
   "metadata": {},
   "outputs": [
    {
     "data": {
      "text/plain": [
       "sys.float_info(max=1.7976931348623157e+308, max_exp=1024, max_10_exp=308, min=2.2250738585072014e-308, min_exp=-1021, min_10_exp=-307, dig=15, mant_dig=53, epsilon=2.220446049250313e-16, radix=2, rounds=1)"
      ]
     },
     "execution_count": 110,
     "metadata": {},
     "output_type": "execute_result"
    }
   ],
   "source": [
    "# System settings about float type\n",
    "\n",
    "sys.float_info"
   ]
  },
  {
   "cell_type": "markdown",
   "id": "155b76af-cd5d-410d-8a86-dcd645d4a346",
   "metadata": {},
   "source": [
    "<h3 id=\"convert\">Converting from one object type to a different object type</h3>\n"
   ]
  },
  {
   "cell_type": "markdown",
   "id": "ed94dfa6-7c2f-4676-85df-27d3ca34a5d9",
   "metadata": {},
   "source": [
    "<p>You can change the type of the object in Python; this is called typecasting. For example, you can convert an <i>integer</i> into a <i>float</i> (e.g. 2 to 2.0).</p>\n",
    "<p>Let's try it:</p>\n"
   ]
  },
  {
   "cell_type": "code",
   "execution_count": 114,
   "id": "7de52310-4212-40b2-bdba-57e5fa4f4e71",
   "metadata": {},
   "outputs": [
    {
     "data": {
      "text/plain": [
       "int"
      ]
     },
     "execution_count": 114,
     "metadata": {},
     "output_type": "execute_result"
    }
   ],
   "source": [
    "# Verify that this is an integer\n",
    "\n",
    "type(2)"
   ]
  },
  {
   "cell_type": "markdown",
   "id": "3f0ac100-eb0b-4b95-851f-8a36099a52ef",
   "metadata": {},
   "source": [
    "<h4>Converting integers to floats</h4>\n",
    "<p>Let's cast integer 2 to float:</p>\n"
   ]
  },
  {
   "cell_type": "code",
   "execution_count": 119,
   "id": "aebf0903-0326-430f-bbc2-db3e324e21c6",
   "metadata": {},
   "outputs": [
    {
     "data": {
      "text/plain": [
       "2.0"
      ]
     },
     "execution_count": 119,
     "metadata": {},
     "output_type": "execute_result"
    }
   ],
   "source": [
    "# Convert 2 to a float\n",
    "\n",
    "float(2)"
   ]
  },
  {
   "cell_type": "code",
   "execution_count": 121,
   "id": "a4de0b35-2b4a-4938-8e6a-f02b4cbd9381",
   "metadata": {},
   "outputs": [
    {
     "data": {
      "text/plain": [
       "float"
      ]
     },
     "execution_count": 121,
     "metadata": {},
     "output_type": "execute_result"
    }
   ],
   "source": [
    "# Convert integer 2 to a float and check its type\n",
    "\n",
    "type(float(2))"
   ]
  },
  {
   "cell_type": "markdown",
   "id": "661c1671-2540-476b-82b5-89ab921af577",
   "metadata": {},
   "source": [
    "<p>When we convert an integer into a float, we don't really change the value (i.e., the significand) of the number. However, if we cast a float into an integer, we could potentially lose some information. For example, if we cast the float 1.1 to integer we will get 1 and lose the decimal information (i.e., 0.1):</p>\n"
   ]
  },
  {
   "cell_type": "code",
   "execution_count": 124,
   "id": "67845286-9342-4c0f-889e-fe309a1c49cb",
   "metadata": {},
   "outputs": [
    {
     "data": {
      "text/plain": [
       "1"
      ]
     },
     "execution_count": 124,
     "metadata": {},
     "output_type": "execute_result"
    }
   ],
   "source": [
    "# Casting 1.1 to integer will result in loss of information\n",
    "\n",
    "int(1.1)"
   ]
  },
  {
   "cell_type": "markdown",
   "id": "1c1a40c6-1a3f-4b38-8bd3-a0131127d24c",
   "metadata": {},
   "source": [
    "<h4>Converting from strings to integers or floats</h4>\n"
   ]
  },
  {
   "cell_type": "code",
   "execution_count": 127,
   "id": "fbec969d-bb75-47ed-ba44-6eafbcef3259",
   "metadata": {},
   "outputs": [
    {
     "data": {
      "text/plain": [
       "1"
      ]
     },
     "execution_count": 127,
     "metadata": {},
     "output_type": "execute_result"
    }
   ],
   "source": [
    "# Convert a string into an integer\n",
    "\n",
    "int('1')"
   ]
  },
  {
   "cell_type": "markdown",
   "id": "a895860f-06db-4e60-a8c8-7b0b5eb9ae91",
   "metadata": {},
   "source": [
    "<p>But if you try to do so with a string that is not a perfect match for a number, you'll get an error. Try the following:</p>\n"
   ]
  },
  {
   "cell_type": "code",
   "execution_count": 130,
   "id": "b29c9438-3a6c-4237-940a-b8b86fd083eb",
   "metadata": {},
   "outputs": [
    {
     "ename": "ValueError",
     "evalue": "invalid literal for int() with base 10: '1 or 2 people'",
     "output_type": "error",
     "traceback": [
      "\u001b[1;31m---------------------------------------------------------------------------\u001b[0m",
      "\u001b[1;31mValueError\u001b[0m                                Traceback (most recent call last)",
      "Cell \u001b[1;32mIn[130], line 3\u001b[0m\n\u001b[0;32m      1\u001b[0m \u001b[38;5;66;03m# Convert a string into an integer with error\u001b[39;00m\n\u001b[1;32m----> 3\u001b[0m \u001b[38;5;28mint\u001b[39m(\u001b[38;5;124m'\u001b[39m\u001b[38;5;124m1 or 2 people\u001b[39m\u001b[38;5;124m'\u001b[39m)\n",
      "\u001b[1;31mValueError\u001b[0m: invalid literal for int() with base 10: '1 or 2 people'"
     ]
    }
   ],
   "source": [
    "# Convert a string into an integer with error\n",
    "\n",
    "int('1 or 2 people')"
   ]
  },
  {
   "cell_type": "markdown",
   "id": "d4f83ae9-9b8b-479c-82e8-9e6981e43fc7",
   "metadata": {},
   "source": [
    "<p>You can also convert strings containing floating point numbers into <i>float</i> objects:</p>\n"
   ]
  },
  {
   "cell_type": "code",
   "execution_count": 133,
   "id": "eaf828d0-b2f5-4a31-9bce-2adb4c4d7367",
   "metadata": {},
   "outputs": [
    {
     "data": {
      "text/plain": [
       "1.2"
      ]
     },
     "execution_count": 133,
     "metadata": {},
     "output_type": "execute_result"
    }
   ],
   "source": [
    "# Convert the string \"1.2\" into a float\n",
    "\n",
    "float('1.2')"
   ]
  },
  {
   "cell_type": "markdown",
   "id": "a0e8f5ce-d7cd-4269-971c-55cc7d23b16a",
   "metadata": {},
   "source": [
    "<hr/>\n",
    "<div class=\"alert alert-success alertsuccess\" style=\"margin-top: 20px\">\n",
    "    [Tip:] Note that strings can be represented with single quotes (<code>'1.2'</code>) or double quotes (<code>\"1.2\"</code>), but you can't mix both (e.g., <code>\"1.2'</code>).\n",
    "</div>\n",
    "<hr/>\n"
   ]
  },
  {
   "cell_type": "markdown",
   "id": "d9a4a935-4a7b-4095-8cf1-845ac4dca1d5",
   "metadata": {},
   "source": [
    "<h4>Converting numbers to strings</h4>\n"
   ]
  },
  {
   "cell_type": "markdown",
   "id": "ab2749c9-0a71-46a3-9a35-403d7c37a8ec",
   "metadata": {},
   "source": [
    "<p>If we can convert strings to numbers, it is only natural to assume that we can convert numbers to strings, right?</p>\n"
   ]
  },
  {
   "cell_type": "code",
   "execution_count": 140,
   "id": "6eda2db0-d55f-4045-9500-96fd6560bfd8",
   "metadata": {},
   "outputs": [
    {
     "data": {
      "text/plain": [
       "'1'"
      ]
     },
     "execution_count": 140,
     "metadata": {},
     "output_type": "execute_result"
    }
   ],
   "source": [
    "# Convert an integer to a string\n",
    "\n",
    "str(1)\n"
   ]
  },
  {
   "cell_type": "markdown",
   "id": "e98fd5e4-7d16-4121-a942-88a29ceaaa17",
   "metadata": {},
   "source": [
    "<p>And there is no reason why we shouldn't be able to make floats into strings as well:</p> \n"
   ]
  },
  {
   "cell_type": "code",
   "execution_count": 143,
   "id": "e4439cd5-8e4b-48cc-8af6-86f6969fbf23",
   "metadata": {},
   "outputs": [
    {
     "data": {
      "text/plain": [
       "'1.2'"
      ]
     },
     "execution_count": 143,
     "metadata": {},
     "output_type": "execute_result"
    }
   ],
   "source": [
    "# Convert a float to a string\n",
    "\n",
    "str(1.2)"
   ]
  },
  {
   "cell_type": "markdown",
   "id": "2c585b52-2a2a-4dc1-b420-67bbcaa79701",
   "metadata": {},
   "source": [
    "<h3 id=\"bool\">Boolean data type</h3>\n"
   ]
  },
  {
   "cell_type": "markdown",
   "id": "2e1fa38c-61c0-483a-b1d0-524ba423024a",
   "metadata": {},
   "source": [
    "<p><i>Boolean</i> is another important type in Python. An object of type <i>Boolean</i> can take on one of two values: <code>True</code> or <code>False</code>:</p>\n"
   ]
  },
  {
   "cell_type": "code",
   "execution_count": 147,
   "id": "fb57ed73-83be-447b-9acc-b61eee934f6a",
   "metadata": {},
   "outputs": [
    {
     "data": {
      "text/plain": [
       "True"
      ]
     },
     "execution_count": 147,
     "metadata": {},
     "output_type": "execute_result"
    }
   ],
   "source": [
    "# Value true\n",
    "\n",
    "True"
   ]
  },
  {
   "cell_type": "markdown",
   "id": "a9c5ceea-85f1-45ef-a630-617a4c9810a4",
   "metadata": {},
   "source": [
    "<p>Notice that the value <code>True</code> has an uppercase \"T\". The same is true for <code>False</code> (i.e. you must use the uppercase \"F\").</p>\n"
   ]
  },
  {
   "cell_type": "code",
   "execution_count": 150,
   "id": "e7da6be8-81eb-4919-974e-4942beac7dba",
   "metadata": {},
   "outputs": [
    {
     "data": {
      "text/plain": [
       "False"
      ]
     },
     "execution_count": 150,
     "metadata": {},
     "output_type": "execute_result"
    }
   ],
   "source": [
    "# Value false\n",
    "\n",
    "False"
   ]
  },
  {
   "cell_type": "markdown",
   "id": "62f5f190-a4db-48bf-af05-7b4b3c6cb5c2",
   "metadata": {},
   "source": [
    "<p>When you ask Python to display the type of a boolean object it will show <code>bool</code> which stands for <i>boolean</i>:</p> \n"
   ]
  },
  {
   "cell_type": "code",
   "execution_count": 153,
   "id": "224eaa7b-a9c5-4101-9861-34e8970e2e74",
   "metadata": {},
   "outputs": [
    {
     "data": {
      "text/plain": [
       "bool"
      ]
     },
     "execution_count": 153,
     "metadata": {},
     "output_type": "execute_result"
    }
   ],
   "source": [
    "# Type of True\n",
    "\n",
    "type(True)"
   ]
  },
  {
   "cell_type": "code",
   "execution_count": 155,
   "id": "2b29ecab-ede2-4f1c-b2d4-1e96a7aebe05",
   "metadata": {},
   "outputs": [
    {
     "data": {
      "text/plain": [
       "bool"
      ]
     },
     "execution_count": 155,
     "metadata": {},
     "output_type": "execute_result"
    }
   ],
   "source": [
    "# Type of False\n",
    "\n",
    "type(False)\n"
   ]
  },
  {
   "cell_type": "markdown",
   "id": "4a58f7e9-5096-419c-91fa-a46a60fa9f6a",
   "metadata": {},
   "source": [
    "<p>We can cast boolean objects to other data types. If we cast a boolean with a value of <code>True</code> to an integer or float we will get a one. If we cast a boolean with a value of <code>False</code> to an integer or float we will get a zero. Similarly, if we cast a 1 to a Boolean, you get a <code>True</code>. And if we cast a 0 to a Boolean we will get a <code>False</code>. Let's give it a try:</p> \n"
   ]
  },
  {
   "cell_type": "code",
   "execution_count": 158,
   "id": "1933a289-c083-4a3a-8a9d-ec0c8d83a8d1",
   "metadata": {},
   "outputs": [
    {
     "data": {
      "text/plain": [
       "1"
      ]
     },
     "execution_count": 158,
     "metadata": {},
     "output_type": "execute_result"
    }
   ],
   "source": [
    "# Convert True to int\n",
    "\n",
    "int(True)"
   ]
  },
  {
   "cell_type": "code",
   "execution_count": 160,
   "id": "847ba350-8764-4520-89c1-c9efbc57d162",
   "metadata": {},
   "outputs": [
    {
     "data": {
      "text/plain": [
       "True"
      ]
     },
     "execution_count": 160,
     "metadata": {},
     "output_type": "execute_result"
    }
   ],
   "source": [
    "# Convert 1 to boolean\n",
    "\n",
    "bool(1)"
   ]
  },
  {
   "cell_type": "code",
   "execution_count": 162,
   "id": "38ba653e-feb2-4dee-9da7-67f7c3eb8d30",
   "metadata": {},
   "outputs": [
    {
     "data": {
      "text/plain": [
       "False"
      ]
     },
     "execution_count": 162,
     "metadata": {},
     "output_type": "execute_result"
    }
   ],
   "source": [
    "# Convert 0 to boolean\n",
    "\n",
    "bool(0)"
   ]
  },
  {
   "cell_type": "code",
   "execution_count": 164,
   "id": "d4141ca8-fd7b-47ce-ae5b-d741053dae1a",
   "metadata": {},
   "outputs": [
    {
     "data": {
      "text/plain": [
       "1.0"
      ]
     },
     "execution_count": 164,
     "metadata": {},
     "output_type": "execute_result"
    }
   ],
   "source": [
    "# Convert True to float\n",
    "\n",
    "float(True)"
   ]
  },
  {
   "cell_type": "markdown",
   "id": "599b931d-9731-4f5e-8ed8-6618af0a6de3",
   "metadata": {},
   "source": [
    "<h3 id=\"exer_type\">Exercise: Types</h3>\n"
   ]
  },
  {
   "cell_type": "markdown",
   "id": "8008306a-a2da-4e52-bd96-d2448277721f",
   "metadata": {},
   "source": [
    "<p>What is the data type of the result of: <code>6 / 2</code>?</p>\n"
   ]
  },
  {
   "cell_type": "code",
   "execution_count": 168,
   "id": "70ff0c03-e81e-461a-90cc-70aebda6e795",
   "metadata": {},
   "outputs": [
    {
     "data": {
      "text/plain": [
       "float"
      ]
     },
     "execution_count": 168,
     "metadata": {},
     "output_type": "execute_result"
    }
   ],
   "source": [
    "# Write your code below. Don't forget to press Shift+Enter to execute the cell\n",
    "type(6/2) # float"
   ]
  },
  {
   "cell_type": "markdown",
   "id": "18ad1788-34be-415d-8a9b-414a4bb89d44",
   "metadata": {},
   "source": [
    "<details><summary>Click here for the solution</summary>\n",
    "\n",
    "```python\n",
    "type(6/2) # float\n",
    "\n",
    "```\n",
    "\n",
    "</details>\n"
   ]
  },
  {
   "cell_type": "markdown",
   "id": "cd48ad8f-2823-4875-aeaa-af5d7223d293",
   "metadata": {},
   "source": [
    "<p>What is the type of the result of: <code>6 // 2</code>? (Note the double slash <code>//</code>.)</p>\n"
   ]
  },
  {
   "cell_type": "code",
   "execution_count": 172,
   "id": "2e6e6e19-84ae-4f4c-8bcb-a4949e9cd8c6",
   "metadata": {},
   "outputs": [
    {
     "data": {
      "text/plain": [
       "int"
      ]
     },
     "execution_count": 172,
     "metadata": {},
     "output_type": "execute_result"
    }
   ],
   "source": [
    "# Write your code below. Don't forget to press Shift+Enter to execute the cell\n",
    "type(6 // 2) # int"
   ]
  },
  {
   "cell_type": "markdown",
   "id": "fdad9060-832b-4241-9da2-03a598ae717f",
   "metadata": {},
   "source": [
    "<details><summary>Click here for the solution</summary>\n",
    "\n",
    "```python\n",
    "type(6//2) # int, as the double slashes stand for integer division \n",
    "\n",
    "```\n",
    "\n",
    "</details>\n"
   ]
  },
  {
   "cell_type": "markdown",
   "id": "dbafb83c-7c7a-416c-9842-a17ca6181699",
   "metadata": {},
   "source": [
    "<hr>"
   ]
  },
  {
   "cell_type": "markdown",
   "id": "560e44f1-6143-47ee-a084-db1bbd783fe7",
   "metadata": {},
   "source": [
    "<h2 id=\"expressions\">Expression and Variables</h2>\n"
   ]
  },
  {
   "cell_type": "markdown",
   "id": "ea49e025-3b6f-4b06-9d35-c42500ddebe8",
   "metadata": {},
   "source": [
    "<p>Expressions in Python can include operations among compatible types (e.g., integers and floats). For example, basic arithmetic operations like adding multiple numbers:</p>\n"
   ]
  },
  {
   "cell_type": "code",
   "execution_count": 180,
   "id": "8d4c0677-a929-4e3b-9dd8-afdde3129d99",
   "metadata": {},
   "outputs": [
    {
     "data": {
      "text/plain": [
       "160"
      ]
     },
     "execution_count": 180,
     "metadata": {},
     "output_type": "execute_result"
    }
   ],
   "source": [
    "# Addition operation expression\n",
    "\n",
    "43 + 60 + 16 + 41"
   ]
  },
  {
   "cell_type": "markdown",
   "id": "41a617c4-9b88-4524-ab90-e31bca6c5058",
   "metadata": {},
   "source": [
    "<p>We can perform subtraction operations using the minus operator. In this case the result is a negative number:</p>\n"
   ]
  },
  {
   "cell_type": "code",
   "execution_count": 183,
   "id": "b43dd2aa-4523-4ab8-b2e0-b2a7cc22373e",
   "metadata": {},
   "outputs": [
    {
     "data": {
      "text/plain": [
       "-10"
      ]
     },
     "execution_count": 183,
     "metadata": {},
     "output_type": "execute_result"
    }
   ],
   "source": [
    "# Subtraction operation expression\n",
    "\n",
    "50 - 60"
   ]
  },
  {
   "cell_type": "markdown",
   "id": "7ce18d1d-3af2-4e86-95d2-307ed2bd8726",
   "metadata": {},
   "source": [
    "<p>We can do multiplication using an asterisk:</p>\n"
   ]
  },
  {
   "cell_type": "code",
   "execution_count": 186,
   "id": "19087d52-69e8-4c8e-90ce-ed4bfcc2cb6a",
   "metadata": {},
   "outputs": [
    {
     "data": {
      "text/plain": [
       "25"
      ]
     },
     "execution_count": 186,
     "metadata": {},
     "output_type": "execute_result"
    }
   ],
   "source": [
    "# Multiplication operation expression\n",
    "\n",
    "5 * 5"
   ]
  },
  {
   "cell_type": "markdown",
   "id": "8bb78536-abb3-426a-a549-c9ba506bdc98",
   "metadata": {},
   "source": [
    "<p>We can also perform division with the forward slash:\n"
   ]
  },
  {
   "cell_type": "code",
   "execution_count": 189,
   "id": "09d065b2-600c-4c69-b662-240624a1b56d",
   "metadata": {},
   "outputs": [
    {
     "data": {
      "text/plain": [
       "5.0"
      ]
     },
     "execution_count": 189,
     "metadata": {},
     "output_type": "execute_result"
    }
   ],
   "source": [
    "# Division operation expression\n",
    "\n",
    "25 / 5"
   ]
  },
  {
   "cell_type": "code",
   "execution_count": 191,
   "id": "ea689045-8fe7-4df2-abf9-3d6fbbbf2d81",
   "metadata": {},
   "outputs": [
    {
     "data": {
      "text/plain": [
       "4.166666666666667"
      ]
     },
     "execution_count": 191,
     "metadata": {},
     "output_type": "execute_result"
    }
   ],
   "source": [
    "# division operation expression\n",
    "\n",
    "25 / 6"
   ]
  },
  {
   "cell_type": "markdown",
   "id": "24200fde-7aa5-45e1-8f33-c0e5abee1f5f",
   "metadata": {},
   "source": [
    "<p>As seen in the quiz above, we can use the double slash for integer division, where the result is rounded down to the nearest integer:\n"
   ]
  },
  {
   "cell_type": "code",
   "execution_count": 194,
   "id": "2e2e6e96-e32e-47c2-9a11-60d4f9e0ccf7",
   "metadata": {},
   "outputs": [
    {
     "data": {
      "text/plain": [
       "5"
      ]
     },
     "execution_count": 194,
     "metadata": {},
     "output_type": "execute_result"
    }
   ],
   "source": [
    "# Integer division operation expression\n",
    "\n",
    "25 // 5"
   ]
  },
  {
   "cell_type": "code",
   "execution_count": 196,
   "id": "c82609d2-fb2e-4072-8f84-9ca7d7409483",
   "metadata": {},
   "outputs": [
    {
     "data": {
      "text/plain": [
       "4"
      ]
     },
     "execution_count": 196,
     "metadata": {},
     "output_type": "execute_result"
    }
   ],
   "source": [
    "# Integer division operationexpression\n",
    "\n",
    "25 // 6"
   ]
  },
  {
   "cell_type": "markdown",
   "id": "225c4694-bcb3-4737-b101-b4629fa7c189",
   "metadata": {},
   "source": [
    "<h3 id=\"exer_exp\">Exercise: Expression</h3>\n"
   ]
  },
  {
   "cell_type": "markdown",
   "id": "7f2c75c0-0115-4d1e-b007-37791cb72992",
   "metadata": {},
   "source": [
    "<p>Let's write an expression that calculates how many hours there are in 160 minutes:\n"
   ]
  },
  {
   "cell_type": "code",
   "execution_count": 200,
   "id": "c65c1adc-2526-4de8-aa04-e7844e6a46ff",
   "metadata": {},
   "outputs": [
    {
     "data": {
      "text/plain": [
       "2.6666666666666665"
      ]
     },
     "execution_count": 200,
     "metadata": {},
     "output_type": "execute_result"
    }
   ],
   "source": [
    "# Write your code below. Don't forget to press Shift+Enter to execute the cell\n",
    "160 / 60"
   ]
  },
  {
   "cell_type": "markdown",
   "id": "801e8baa-3913-4d50-b2f1-4a3178d90c61",
   "metadata": {},
   "source": [
    "<details><summary>Click here for the solution</summary>\n",
    "\n",
    "```python\n",
    "160/60 \n",
    "\n",
    "# Or \n",
    "\n",
    "160//60\n",
    "\n",
    "```\n",
    "\n",
    "</details>\n"
   ]
  },
  {
   "cell_type": "markdown",
   "id": "3c8a8c00-0040-42bb-b38f-b5ae491be1b7",
   "metadata": {},
   "source": [
    "<p>Python follows well accepted mathematical conventions when evaluating mathematical expressions. In the following example, Python adds 30 to the result of the multiplication (i.e., 120).\n"
   ]
  },
  {
   "cell_type": "code",
   "execution_count": 204,
   "id": "ef6a4297-c82c-4216-a334-20ce0358bf4b",
   "metadata": {},
   "outputs": [
    {
     "data": {
      "text/plain": [
       "150"
      ]
     },
     "execution_count": 204,
     "metadata": {},
     "output_type": "execute_result"
    }
   ],
   "source": [
    "# Mathematical expression\n",
    "\n",
    "30 + 2 * 60"
   ]
  },
  {
   "cell_type": "markdown",
   "id": "e498085a-6012-4e51-a04c-23cbb307927a",
   "metadata": {},
   "source": [
    "<p>And just like mathematics, expressions enclosed in parentheses have priority. So the following multiplies 32 by 60.\n"
   ]
  },
  {
   "cell_type": "code",
   "execution_count": 207,
   "id": "a5d0a37c-2eaa-4bb2-b083-e50c1582497f",
   "metadata": {},
   "outputs": [
    {
     "data": {
      "text/plain": [
       "1920"
      ]
     },
     "execution_count": 207,
     "metadata": {},
     "output_type": "execute_result"
    }
   ],
   "source": [
    "# Mathematical expression\n",
    "\n",
    "(30 + 2) * 60"
   ]
  },
  {
   "cell_type": "markdown",
   "id": "e0bc85c1-cd73-4656-8d39-c03ff160ca5c",
   "metadata": {},
   "source": [
    "<h3 id=\"var\">Variables</h3>\n"
   ]
  },
  {
   "cell_type": "markdown",
   "id": "ac68fc1d-cb35-406e-8caa-468b5f9cab42",
   "metadata": {},
   "source": [
    "<p>Just like with most programming languages, we can store values in <i>variables</i>, so we can use them later on. For example:</p>\n",
    "\n"
   ]
  },
  {
   "cell_type": "code",
   "execution_count": 211,
   "id": "373a97f3-9384-45da-8702-210199b8fa39",
   "metadata": {},
   "outputs": [],
   "source": [
    "# Store value into variable\n",
    "\n",
    "x = 43 + 60 + 16 + 41"
   ]
  },
  {
   "cell_type": "markdown",
   "id": "40aa5e3f-7769-4e6f-aa29-62558550bc3d",
   "metadata": {},
   "source": [
    "<p>To see the value of <code>x</code> in a Notebook, we can simply place it on the last line of a cell:</p>\n"
   ]
  },
  {
   "cell_type": "code",
   "execution_count": 214,
   "id": "66e9b448-4fd8-4e2d-b7d0-53bff3e820f4",
   "metadata": {},
   "outputs": [
    {
     "data": {
      "text/plain": [
       "160"
      ]
     },
     "execution_count": 214,
     "metadata": {},
     "output_type": "execute_result"
    }
   ],
   "source": [
    "# Print out the value in variable\n",
    "\n",
    "x"
   ]
  },
  {
   "cell_type": "markdown",
   "id": "615c8559-75b6-45cb-970d-212f9c88f10c",
   "metadata": {},
   "source": [
    "<p>We can also perform operations on <code>x</code> and save the result to a new variable:</p>\n"
   ]
  },
  {
   "cell_type": "code",
   "execution_count": 217,
   "id": "8390cb67-872a-4c0c-a7d5-96f703d8c15a",
   "metadata": {},
   "outputs": [
    {
     "data": {
      "text/plain": [
       "2.6666666666666665"
      ]
     },
     "execution_count": 217,
     "metadata": {},
     "output_type": "execute_result"
    }
   ],
   "source": [
    "# Use another variable to store the result of the operation between variable and value\n",
    "\n",
    "y = x / 60\n",
    "y"
   ]
  },
  {
   "cell_type": "markdown",
   "id": "3c225f1d-a5aa-4387-8521-9f02ef9dee52",
   "metadata": {},
   "source": [
    "<p>If we save a value to an existing variable, the new value will overwrite the previous value:</p>\n"
   ]
  },
  {
   "cell_type": "code",
   "execution_count": 220,
   "id": "39f967de-a0fb-48d9-bd0d-54b3e374127b",
   "metadata": {},
   "outputs": [
    {
     "data": {
      "text/plain": [
       "2.6666666666666665"
      ]
     },
     "execution_count": 220,
     "metadata": {},
     "output_type": "execute_result"
    }
   ],
   "source": [
    "# Overwrite variable with new value\n",
    "\n",
    "x = x / 60\n",
    "x"
   ]
  },
  {
   "cell_type": "markdown",
   "id": "54ae81d9-154a-44a3-999f-21bbcb3e91d3",
   "metadata": {},
   "source": [
    "<p>It's a good practice to use meaningful variable names, so you and others can read the code and understand it more easily:</p>\n"
   ]
  },
  {
   "cell_type": "code",
   "execution_count": 225,
   "id": "b33aa5dc-87a1-4b90-b561-92f7849b6049",
   "metadata": {},
   "outputs": [
    {
     "data": {
      "text/plain": [
       "142"
      ]
     },
     "execution_count": 225,
     "metadata": {},
     "output_type": "execute_result"
    }
   ],
   "source": [
    "# Name the variables meaningfully\n",
    "\n",
    "total_min = 43 + 42 + 57 # Total length of albums in minutes\n",
    "total_min"
   ]
  },
  {
   "cell_type": "code",
   "execution_count": 227,
   "id": "8cb61af4-b3fa-408c-b478-f724f01c73dd",
   "metadata": {},
   "outputs": [
    {
     "data": {
      "text/plain": [
       "2.3666666666666667"
      ]
     },
     "execution_count": 227,
     "metadata": {},
     "output_type": "execute_result"
    }
   ],
   "source": [
    "# Name the variables meaningfully\n",
    "\n",
    "total_hours = total_min / 60 # Total length of albums in hours \n",
    "total_hours"
   ]
  },
  {
   "cell_type": "markdown",
   "id": "c36f848a-e3e9-4345-a59f-9658dbdcdc3c",
   "metadata": {},
   "source": [
    "<p>In the cells above we added the length of three albums in minutes and stored it in <code>total_min</code>. We then divided it by 60 to calculate total length <code>total_hours</code> in hours. You can also do it all at once in a single expression, as long as you use parenthesis to add the albums length before you divide, as shown below.</p>\n"
   ]
  },
  {
   "cell_type": "code",
   "execution_count": 230,
   "id": "6fc661e1-b1cc-49a1-a0fa-ee3d1c956ab1",
   "metadata": {},
   "outputs": [
    {
     "data": {
      "text/plain": [
       "2.3666666666666667"
      ]
     },
     "execution_count": 230,
     "metadata": {},
     "output_type": "execute_result"
    }
   ],
   "source": [
    "# Complicate expression\n",
    "\n",
    "total_hours = (43 + 42 + 57) / 60  # Total hours in a single expression\n",
    "total_hours"
   ]
  },
  {
   "cell_type": "markdown",
   "id": "18994efc-bcb7-42d1-ae28-c3d5949c65b3",
   "metadata": {},
   "source": [
    "<p>If you'd rather have total hours as an integer, you can of course replace the floating point division with integer division (i.e., <code>//</code>).</p>\n"
   ]
  },
  {
   "cell_type": "markdown",
   "id": "788fcf72-da3a-42f4-bf19-59c46dc1dcb4",
   "metadata": {},
   "source": [
    "<h3 id=\"exer_exp_var\">Exercise: Expression and Variables in Python</h3>\n"
   ]
  },
  {
   "cell_type": "markdown",
   "id": "d16450d7-e979-462f-b6e4-c5f5a00336dc",
   "metadata": {},
   "source": [
    "<p>What is the value of <code>x</code> where <code>x = 3 + 2 * 2</code></p>\n"
   ]
  },
  {
   "cell_type": "code",
   "execution_count": 237,
   "id": "8087e069-30ac-4346-a66d-fac864de9ca2",
   "metadata": {},
   "outputs": [
    {
     "data": {
      "text/plain": [
       "7"
      ]
     },
     "execution_count": 237,
     "metadata": {},
     "output_type": "execute_result"
    }
   ],
   "source": [
    "# Write your code below. Don't forget to press Shift+Enter to execute the cell\n",
    "x = 3 + 2 * 2\n",
    "x"
   ]
  },
  {
   "cell_type": "markdown",
   "id": "dd37d53c-e393-450e-a5e3-1ab985fa7c91",
   "metadata": {},
   "source": [
    "<details><summary>Click here for the solution</summary>\n",
    "\n",
    "```python\n",
    "7\n",
    "\n",
    "```\n",
    "\n",
    "</details>\n"
   ]
  },
  {
   "cell_type": "markdown",
   "id": "ad9afbf9-7c90-41cc-a0cf-d0b8c12374a8",
   "metadata": {},
   "source": [
    "<p>What is the value of <code>y</code> where <code>y = (3 + 2) * 2</code>?</p>\n"
   ]
  },
  {
   "cell_type": "code",
   "execution_count": 241,
   "id": "88761a16-9fbc-4d9d-b853-4aa0820bc0db",
   "metadata": {},
   "outputs": [
    {
     "data": {
      "text/plain": [
       "10"
      ]
     },
     "execution_count": 241,
     "metadata": {},
     "output_type": "execute_result"
    }
   ],
   "source": [
    "# Write your code below. Don't forget to press Shift+Enter to execute the cell\n",
    "\n",
    "y = (3 + 2) * 2\n",
    "y"
   ]
  },
  {
   "cell_type": "markdown",
   "id": "0a306e6a-24b6-4200-a2d4-ffce5779b331",
   "metadata": {},
   "source": [
    "<details><summary>Click here for the solution</summary>\n",
    "\n",
    "```python\n",
    "10\n",
    "\n",
    "```\n",
    "\n",
    "</details>\n"
   ]
  },
  {
   "cell_type": "markdown",
   "id": "6db247af-2341-4ab8-b09a-19a928786bfb",
   "metadata": {},
   "source": [
    "<p>What is the value of <code>z</code> where <code>z = x + y</code>?</p>\n"
   ]
  },
  {
   "cell_type": "code",
   "execution_count": 245,
   "id": "33f3975b-df5f-4f01-b285-c4e39ddc74e3",
   "metadata": {},
   "outputs": [
    {
     "data": {
      "text/plain": [
       "17"
      ]
     },
     "execution_count": 245,
     "metadata": {},
     "output_type": "execute_result"
    }
   ],
   "source": [
    "# Write your code below. Don't forget to press Shift+Enter to execute the cell\n",
    "\n",
    "z = x + y\n",
    "z"
   ]
  },
  {
   "cell_type": "markdown",
   "id": "b76933c2-c7fb-4106-a23d-5eabdc9b4dd6",
   "metadata": {},
   "source": [
    "<details><summary>Click here for the solution</summary>\n",
    "\n",
    "```python\n",
    "17\n",
    "\n",
    "```\n",
    "\n",
    "</details>\n"
   ]
  },
  {
   "cell_type": "markdown",
   "id": "cc4c4347-9bb8-421b-a3fb-0527144db20c",
   "metadata": {},
   "source": [
    "<hr>\n",
    "<h2>The last exercise!</h2>\n",
    "<p>Congratulations, you have completed your first lesson and hands-on lab in Python.\n",
    "<hr>\n"
   ]
  },
  {
   "cell_type": "raw",
   "id": "8efb8c9b-5446-4434-a5cf-5be7f1f4f60a",
   "metadata": {},
   "source": []
  },
  {
   "cell_type": "raw",
   "id": "cb0ebdd3-013e-437a-bb78-987c023a15b7",
   "metadata": {},
   "source": []
  },
  {
   "cell_type": "markdown",
   "id": "6c5d0a5f-c046-446b-8d26-22af2b64821d",
   "metadata": {},
   "source": [
    "<h3>Slicing </h3>\r\n"
   ]
  },
  {
   "cell_type": "markdown",
   "id": "a1b423c5-e64d-4940-a715-dd41fa624e2f",
   "metadata": {},
   "source": [
    "Use slicing to find the first four elements of the following string:\r\n"
   ]
  },
  {
   "cell_type": "code",
   "execution_count": 264,
   "id": "a30644e1-9e97-4060-a39a-2fe0985283c9",
   "metadata": {},
   "outputs": [
    {
     "data": {
      "text/plain": [
       "'ABCD'"
      ]
     },
     "execution_count": 264,
     "metadata": {},
     "output_type": "execute_result"
    }
   ],
   "source": [
    "Letters=\"ABCDEFGHIJK\"\n",
    "# Letters[0:4]\n",
    "Letters[:4]"
   ]
  },
  {
   "cell_type": "markdown",
   "id": "66e30611-96eb-4c8b-888d-5a33861304e3",
   "metadata": {},
   "source": [
    "<details><summary>Click here for the solution</summary>\r\n",
    "\r\n",
    "```python\r\n",
    "Letters[0:4]\r\n",
    "```\r\n",
    "\r\n",
    "</details>\r\n"
   ]
  },
  {
   "cell_type": "markdown",
   "id": "dcdeb1b4-9bca-4ce7-9b62-2b898033cc27",
   "metadata": {},
   "source": [
    "Use a stride value of 2 on the following string :\r\n"
   ]
  },
  {
   "cell_type": "markdown",
   "id": "d5669d96-68b0-4008-bac5-a554930f6c12",
   "metadata": {},
   "source": [
    "<h3>Strides Are Good </h3> \n"
   ]
  },
  {
   "cell_type": "code",
   "execution_count": 266,
   "id": "64e130af-9d59-4868-982a-d558312952b6",
   "metadata": {},
   "outputs": [
    {
     "data": {
      "text/plain": [
       "'Good'"
      ]
     },
     "execution_count": 266,
     "metadata": {},
     "output_type": "execute_result"
    }
   ],
   "source": [
    "Good=\"GsoAo+d\"\n",
    "Good[::2]"
   ]
  },
  {
   "cell_type": "markdown",
   "id": "05a441af-d221-4f82-b0a7-3aab6a29999e",
   "metadata": {},
   "source": [
    "<details><summary>Click here for the solution</summary>\r\n",
    "\r\n",
    "```python\r\n",
    "Good[::2]\r\n",
    "```\r\n",
    "\r\n",
    "</details>\r\n"
   ]
  },
  {
   "cell_type": "markdown",
   "id": "bfeda4a8-2582-4fde-a832-dc505bb5b213",
   "metadata": {},
   "source": [
    "<h3>Converting \"uppercase\" to \"UPPERCASE\" </h3> \r\n"
   ]
  },
  {
   "cell_type": "markdown",
   "id": "e4140a0f-cbeb-4c97-bf34-1cf982f433a2",
   "metadata": {},
   "source": [
    "Convert the following string to uppercase using the method <code>upper()</code>:\r\n"
   ]
  },
  {
   "cell_type": "markdown",
   "id": "8c883cb8-c67c-452c-a57d-400648d0add1",
   "metadata": {},
   "source": [
    "<details><summary>Click here for the solution</summary>\n",
    "\n",
    "```python\n",
    "\"uppercase\".upper()\n",
    "```\n",
    "\n",
    "</details>\n"
   ]
  },
  {
   "cell_type": "markdown",
   "id": "2ec92ca7-0ac9-4ef6-a348-4e763d0266e7",
   "metadata": {},
   "source": [
    "<hr>\r\n",
    "\r\n",
    "<img src=\"https://cf-courses-data.s3.us.cloud-object-storage.appdomain.cloud/IBMDeveloperSkillsNetwork-PY0101EN-SkillsNetwork/SNIBMfooter.png\" alt=\"\" width=\"\" height=\"\">\r\n"
   ]
  },
  {
   "cell_type": "markdown",
   "id": "f84c0848-b77c-46cb-bb3a-672390a229e5",
   "metadata": {},
   "source": [
    "<p style=\"text-align:center\">\n",
    "    <a href=\"https://skills.network/?utm_medium=Exinfluencer&utm_source=Exinfluencer&utm_content=000026UJ&utm_term=10006555&utm_id=NA-SkillsNetwork-Channel-SkillsNetworkCoursesIBMDeveloperSkillsNetworkPY0101ENSkillsNetwork19487395-2022-01-01\" target=\"_blank\">\n",
    "    <img src=\"https://cf-courses-data.s3.us.cloud-object-storage.appdomain.cloud/assets/logos/SN_web_lightmode.png\" width=\"200\" alt=\"Skills Network Logo\">\n",
    "    </a>\n",
    "</p>\n",
    "\n",
    "# String Operations\n",
    "\n",
    "Estimated time needed: **15** minutes\n",
    "\n",
    "## Objectives\n",
    "\n",
    "After completing this lab you will be able to:\n",
    "\n",
    "*   Work with Strings\n",
    "*   Perform operations on String\n",
    "*   Manipulate Strings using indexing and escape sequences\n"
   ]
  },
  {
   "cell_type": "markdown",
   "id": "d7832d8f-7c60-474d-8f96-e05052958680",
   "metadata": {},
   "source": [
    "<h2>Table of Contents</h2>\n",
    "<div class=\"alert alert-block alert-info\" style=\"margin-top: 20px\">\n",
    "    <ul>\n",
    "        <li>\n",
    "            <a href=\"https://#strings\">What are Strings?</a>\n",
    "        </li>\n",
    "        <li>\n",
    "            <a href=\"https://#index\">Indexing</a>\n",
    "            <ul>\n",
    "                <li><a href=\"https://neg/?utm_medium=Exinfluencer&utm_source=Exinfluencer&utm_content=000026UJ&utm_term=10006555&utm_id=NA-SkillsNetwork-Channel-SkillsNetworkCoursesIBMDeveloperSkillsNetworkPY0101ENSkillsNetwork19487395-2022-01-01\">Negative Indexing</a></li>\n",
    "                <li><a href=\"https://slice/?utm_medium=Exinfluencer&utm_source=Exinfluencer&utm_content=000026UJ&utm_term=10006555&utm_id=NA-SkillsNetwork-Channel-SkillsNetworkCoursesIBMDeveloperSkillsNetworkPY0101ENSkillsNetwork19487395-2022-01-01\">Slicing</a></li>\n",
    "                <li><a href=\"https://stride/?utm_medium=Exinfluencer&utm_source=Exinfluencer&utm_content=000026UJ&utm_term=10006555&utm_id=NA-SkillsNetwork-Channel-SkillsNetworkCoursesIBMDeveloperSkillsNetworkPY0101ENSkillsNetwork19487395-2022-01-01\">Stride</a></li>\n",
    "                <li><a href=\"https://concat/?utm_medium=Exinfluencer&utm_source=Exinfluencer&utm_content=000026UJ&utm_term=10006555&utm_id=NA-SkillsNetwork-Channel-SkillsNetworkCoursesIBMDeveloperSkillsNetworkPY0101ENSkillsNetwork19487395-2022-01-01\">Concatenate Strings</a></li>\n",
    "            </ul>\n",
    "        </li>\n",
    "        <li>\n",
    "            <a href=\"https://#escape\">Escape Sequences</a>\n",
    "        </li>\n",
    "        <li>\n",
    "            <a href=\"https://#operations\">String Operations</a>\n",
    "        </li>\n",
    "        <li>\n",
    "            <a href=\"https://#quiz\">Quiz on Strings</a>\n",
    "        </li>\n",
    "    </ul>\n",
    "\n",
    "</div>\n",
    "\n",
    "<hr>\n"
   ]
  },
  {
   "cell_type": "markdown",
   "id": "2e9baa6c-8ee7-483c-8e99-2222a95864c2",
   "metadata": {},
   "source": [
    "<h2 id=\"strings\">What are Strings?</h2>\n"
   ]
  },
  {
   "cell_type": "markdown",
   "id": "25cfac4a-0ad4-4fe5-a225-eed53207aa1d",
   "metadata": {},
   "source": [
    "The following example shows a string contained within 2 quotation marks:\n"
   ]
  },
  {
   "cell_type": "code",
   "execution_count": 284,
   "id": "0e57dec9-9273-4c95-ab8c-ae503cf2f12e",
   "metadata": {},
   "outputs": [
    {
     "data": {
      "text/plain": [
       "'Michael Jackson'"
      ]
     },
     "execution_count": 284,
     "metadata": {},
     "output_type": "execute_result"
    }
   ],
   "source": [
    "# Use quotation marks for defining string\n",
    "\n",
    "\"Michael Jackson\""
   ]
  },
  {
   "cell_type": "markdown",
   "id": "5205f177-a55f-4be7-a453-60b3d18971b3",
   "metadata": {},
   "source": [
    "We can also use single quotation marks:\n"
   ]
  },
  {
   "cell_type": "code",
   "execution_count": 289,
   "id": "99fc53d7-9f5d-45b3-8d87-6491a84d143a",
   "metadata": {},
   "outputs": [
    {
     "data": {
      "text/plain": [
       "'Michael Jackson'"
      ]
     },
     "execution_count": 289,
     "metadata": {},
     "output_type": "execute_result"
    }
   ],
   "source": [
    "# Use single quotation marks for defining string\n",
    "\n",
    "'Michael Jackson'"
   ]
  },
  {
   "cell_type": "markdown",
   "id": "d193a48d-d095-4dbe-8b4d-c7833d44ea06",
   "metadata": {},
   "source": [
    "A string can be a combination of spaces and digits:\n"
   ]
  },
  {
   "cell_type": "code",
   "execution_count": 292,
   "id": "cd830502-a9bb-4668-b484-d318916edd4d",
   "metadata": {},
   "outputs": [
    {
     "data": {
      "text/plain": [
       "'1 2 3 4 5 6 '"
      ]
     },
     "execution_count": 292,
     "metadata": {},
     "output_type": "execute_result"
    }
   ],
   "source": [
    "# Digitals and spaces in string\n",
    "\n",
    "'1 2 3 4 5 6 '"
   ]
  },
  {
   "cell_type": "markdown",
   "id": "95820b8e-3f83-49a3-bbfc-9cd83191272e",
   "metadata": {},
   "source": [
    "A string can also be a combination of special characters :\n"
   ]
  },
  {
   "cell_type": "code",
   "execution_count": 295,
   "id": "323992ec-76a7-490d-95f4-47f9aafbebfd",
   "metadata": {},
   "outputs": [
    {
     "data": {
      "text/plain": [
       "'@#2_#]&*^%$'"
      ]
     },
     "execution_count": 295,
     "metadata": {},
     "output_type": "execute_result"
    }
   ],
   "source": [
    "# Special characters in string\n",
    "\n",
    "'@#2_#]&*^%$'"
   ]
  },
  {
   "cell_type": "markdown",
   "id": "179f8820-7bee-44ec-a497-d04101190bda",
   "metadata": {},
   "source": [
    "We can print our string using the print statement:\n"
   ]
  },
  {
   "cell_type": "code",
   "execution_count": 298,
   "id": "c41fafb7-cb18-48f6-9ecd-48363cb3f1d1",
   "metadata": {},
   "outputs": [
    {
     "name": "stdout",
     "output_type": "stream",
     "text": [
      "hello!\n"
     ]
    }
   ],
   "source": [
    "# Print the string\n",
    "\n",
    "print(\"hello!\")"
   ]
  },
  {
   "cell_type": "markdown",
   "id": "f7846d95-e7e8-4318-8089-a3e761d50865",
   "metadata": {},
   "source": [
    "We can bind or assign a string to another variable:\n"
   ]
  },
  {
   "cell_type": "code",
   "execution_count": 307,
   "id": "4f8b8faa-6950-40a5-a92c-1bd062abac68",
   "metadata": {},
   "outputs": [
    {
     "data": {
      "text/plain": [
       "'Michael Jackson'"
      ]
     },
     "execution_count": 307,
     "metadata": {},
     "output_type": "execute_result"
    }
   ],
   "source": [
    "# Assign string to variable\n",
    "\n",
    "name = \"Michael Jackson\"\n",
    "name"
   ]
  },
  {
   "cell_type": "markdown",
   "id": "8938b56f-574b-4ee1-9d1c-05b04fefbd37",
   "metadata": {},
   "source": [
    "<h2 id=\"index\">Indexing</h2>\n"
   ]
  },
  {
   "cell_type": "markdown",
   "id": "5367c2ee-9e85-44d7-9101-7bd77f20171f",
   "metadata": {},
   "source": [
    "It is helpful to think of a string as an ordered sequence. Each element in the sequence can be accessed using an index represented by the array of numbers:\n"
   ]
  },
  {
   "cell_type": "markdown",
   "id": "f193888b-c34c-43df-a0f9-9cca08371af6",
   "metadata": {},
   "source": [
    "<img src=\"https://cf-courses-data.s3.us.cloud-object-storage.appdomain.cloud/IBMDeveloperSkillsNetwork-PY0101EN-SkillsNetwork/labs/Module%201/images/StringsIndex.png\" width=\"600\" align=\"center\">\n"
   ]
  },
  {
   "cell_type": "markdown",
   "id": "6ebde885-fa54-4884-9b0a-a8071a884f2d",
   "metadata": {},
   "source": [
    "The first index can be accessed as follows:\n"
   ]
  },
  {
   "cell_type": "markdown",
   "id": "4b5a9e4d-8bff-4ffe-8969-ff8cfb212a07",
   "metadata": {},
   "source": [
    "<hr/>\n",
    "<div class=\"alert alert-success alertsuccess\" style=\"margin-top: 20px\">\n",
    "[Tip]: Because indexing starts at 0, it means the first index is on the index 0.\n",
    "</div>\n",
    "<hr/>\n"
   ]
  },
  {
   "cell_type": "code",
   "execution_count": 314,
   "id": "ce5a2c91-c8eb-4efc-b0ec-a8b2203eecea",
   "metadata": {},
   "outputs": [
    {
     "name": "stdout",
     "output_type": "stream",
     "text": [
      "M\n"
     ]
    }
   ],
   "source": [
    "# Print the first element in the string\n",
    "\n",
    "print(name[0])"
   ]
  },
  {
   "cell_type": "markdown",
   "id": "e7492f7a-d3ee-4c8f-8e8f-3f5a0f7b783d",
   "metadata": {},
   "source": [
    "We can access index 6:\n"
   ]
  },
  {
   "cell_type": "code",
   "execution_count": 317,
   "id": "2d25a8b7-4b88-4362-a20a-ea2ec7d8a428",
   "metadata": {},
   "outputs": [
    {
     "name": "stdout",
     "output_type": "stream",
     "text": [
      "l\n"
     ]
    }
   ],
   "source": [
    "# Print the element on index 6 in the string\n",
    "\n",
    "print(name[6])"
   ]
  },
  {
   "cell_type": "markdown",
   "id": "76ab15cf-bb8e-4e2b-a865-e6d93a70f12f",
   "metadata": {},
   "source": [
    "Moreover, we can access the 13th index:\n"
   ]
  },
  {
   "cell_type": "code",
   "execution_count": 320,
   "id": "bd07a5ed-06d1-47fc-b8f6-d47a0c2f0104",
   "metadata": {},
   "outputs": [
    {
     "name": "stdout",
     "output_type": "stream",
     "text": [
      "o\n"
     ]
    }
   ],
   "source": [
    "# Print the element on the 13th index in the string\n",
    "\n",
    "print(name[13])"
   ]
  },
  {
   "cell_type": "markdown",
   "id": "73c9ebc0-9b6c-4944-8f21-821e3724b3e1",
   "metadata": {},
   "source": [
    "<h3 id=\"neg\">Negative Indexing</h3>\n"
   ]
  },
  {
   "cell_type": "markdown",
   "id": "5f32fab2-f3a6-4b83-8ad3-188728262702",
   "metadata": {},
   "source": [
    "We can also use negative indexing with strings:\n"
   ]
  },
  {
   "cell_type": "markdown",
   "id": "117e7122-bfda-4792-94d9-8122228fa04a",
   "metadata": {},
   "source": [
    "<img src=\"https://cf-courses-data.s3.us.cloud-object-storage.appdomain.cloud/IBMDeveloperSkillsNetwork-PY0101EN-SkillsNetwork/labs/Module%201/images/StringsNeg.png\" width=\"600\" align=\"center\">\n"
   ]
  },
  {
   "cell_type": "markdown",
   "id": "4b5d8531-bf05-4b3e-ad88-f1ce6dd4c659",
   "metadata": {},
   "source": [
    "Negative index can help us to count the element from the end of the string.\n"
   ]
  },
  {
   "cell_type": "markdown",
   "id": "01aa0541-77b5-4d2a-983f-3fe3a4310b4f",
   "metadata": {},
   "source": [
    "The last element is given by the index -1:\n"
   ]
  },
  {
   "cell_type": "code",
   "execution_count": 332,
   "id": "55f7b493-c558-4d52-931f-d5ef47130a86",
   "metadata": {},
   "outputs": [
    {
     "name": "stdout",
     "output_type": "stream",
     "text": [
      "n\n"
     ]
    }
   ],
   "source": [
    "# Print the last element in the string\n",
    "\n",
    "print(name[-1])"
   ]
  },
  {
   "cell_type": "markdown",
   "id": "e9a116e8-87bb-4bae-889c-c7583ab953c7",
   "metadata": {},
   "source": [
    "The first element can be obtained by  index -15:\n"
   ]
  },
  {
   "cell_type": "code",
   "execution_count": 335,
   "id": "8308d751-6847-4a13-becb-e9137ca13ee0",
   "metadata": {},
   "outputs": [
    {
     "name": "stdout",
     "output_type": "stream",
     "text": [
      "M\n"
     ]
    }
   ],
   "source": [
    "# Print the first element in the string\n",
    "\n",
    "print(name[-15])"
   ]
  },
  {
   "cell_type": "markdown",
   "id": "379517f5-0a49-4cbe-b2ec-d6f6da6621f2",
   "metadata": {},
   "source": [
    "We can find the number of characters in a string by using <code>len</code>, short for length:\n"
   ]
  },
  {
   "cell_type": "code",
   "execution_count": 338,
   "id": "c3a24f7a-6d08-412f-8f1c-aa5ec0e5013d",
   "metadata": {},
   "outputs": [
    {
     "data": {
      "text/plain": [
       "15"
      ]
     },
     "execution_count": 338,
     "metadata": {},
     "output_type": "execute_result"
    }
   ],
   "source": [
    "# Find the length of string\n",
    "\n",
    "len(\"Michael Jackson\")"
   ]
  },
  {
   "cell_type": "markdown",
   "id": "59b27684-3a9a-49a9-8ab2-b5b87feecbc5",
   "metadata": {},
   "source": [
    "<h3 id=\"slice\">Slicing</h3>\n"
   ]
  },
  {
   "cell_type": "markdown",
   "id": "1bf00614-167c-4b52-a570-ad5552aaa21a",
   "metadata": {},
   "source": [
    "We can obtain multiple characters from a string using slicing, we can obtain the 0 to 4th and 8th to the 12th element:\n"
   ]
  },
  {
   "cell_type": "markdown",
   "id": "07521c3f-dd6a-4857-aab3-e688c49a3a3b",
   "metadata": {},
   "source": [
    "<img src=\"https://cf-courses-data.s3.us.cloud-object-storage.appdomain.cloud/IBMDeveloperSkillsNetwork-PY0101EN-SkillsNetwork/labs/Module%201/images/StringsSlice.png\" width=\"600\" align=\"center\">\n"
   ]
  },
  {
   "cell_type": "markdown",
   "id": "6ba6fb04-ed43-48dc-8c50-e5f87096f59b",
   "metadata": {},
   "source": [
    "<hr/>\n",
    "<div class=\"alert alert-success alertsuccess\" style=\"margin-top: 20px\">\n",
    "[Tip]: When taking the slice, the first number means the index (start at 0), and the second number means the length from the index to the last element you want (start at 1)\n",
    "</div>\n",
    "<hr/>\n"
   ]
  },
  {
   "cell_type": "code",
   "execution_count": 344,
   "id": "f3b4a86d-b3ca-4889-9651-481d2484e264",
   "metadata": {},
   "outputs": [
    {
     "data": {
      "text/plain": [
       "'Mich'"
      ]
     },
     "execution_count": 344,
     "metadata": {},
     "output_type": "execute_result"
    }
   ],
   "source": [
    "# Take the slice on variable name with only index 0 to index 3\n",
    "\n",
    "name[0:4]"
   ]
  },
  {
   "cell_type": "code",
   "execution_count": 346,
   "id": "1e3eb407-6d3e-48d9-9004-2b3454c74b9b",
   "metadata": {},
   "outputs": [
    {
     "data": {
      "text/plain": [
       "'Jack'"
      ]
     },
     "execution_count": 346,
     "metadata": {},
     "output_type": "execute_result"
    }
   ],
   "source": [
    "# Take the slice on variable name with only index 8 to index 11\n",
    "\n",
    "name[8:12]"
   ]
  },
  {
   "cell_type": "markdown",
   "id": "eb11c8a6-9ac7-4d5a-b29d-8ebabbbf61fe",
   "metadata": {},
   "source": [
    "<h3 id=\"stride\">Stride</h3>\n"
   ]
  },
  {
   "cell_type": "markdown",
   "id": "32e47910-6b62-4224-b6c1-995a32289209",
   "metadata": {},
   "source": [
    "We can also  input a stride value as follows, with the '2' indicating that we are selecting every second variable:\n"
   ]
  },
  {
   "cell_type": "markdown",
   "id": "9e09eaf1-9bf9-4394-b54b-4b9a6185bced",
   "metadata": {},
   "source": [
    "<img src=\"https://cf-courses-data.s3.us.cloud-object-storage.appdomain.cloud/IBMDeveloperSkillsNetwork-PY0101EN-SkillsNetwork/labs/Module%201/images/StringsStride.png\" width=\"600\" align=\"center\">\n"
   ]
  },
  {
   "cell_type": "code",
   "execution_count": 351,
   "id": "478a4bb2-1ba6-4c13-9672-fe2d9f82b084",
   "metadata": {},
   "outputs": [
    {
     "data": {
      "text/plain": [
       "'McalJcsn'"
      ]
     },
     "execution_count": 351,
     "metadata": {},
     "output_type": "execute_result"
    }
   ],
   "source": [
    "# Get every second element. The elments on index 1, 3, 5 ...\n",
    "\n",
    "name[::2]"
   ]
  },
  {
   "cell_type": "markdown",
   "id": "f5bae2cd-2f49-43e3-b85d-b2966a562369",
   "metadata": {},
   "source": [
    "We can also incorporate slicing  with the stride. In this case, we select the first five elements and then use the stride:\n"
   ]
  },
  {
   "cell_type": "code",
   "execution_count": 354,
   "id": "f58e85f1-3319-4a03-b6a1-35ad0b89478d",
   "metadata": {},
   "outputs": [
    {
     "data": {
      "text/plain": [
       "'Mca'"
      ]
     },
     "execution_count": 354,
     "metadata": {},
     "output_type": "execute_result"
    }
   ],
   "source": [
    "# Get every second element in the range from index 0 to index 4\n",
    "\n",
    "name[0:5:2]"
   ]
  },
  {
   "cell_type": "markdown",
   "id": "158e7070-d6b8-454a-995d-3f9c4c2332d5",
   "metadata": {},
   "source": [
    "<h3 id=\"concat\">Concatenate Strings</h3>\n"
   ]
  },
  {
   "cell_type": "markdown",
   "id": "fba0d0f4-743d-44df-ba7f-1a551334852c",
   "metadata": {},
   "source": [
    "We can concatenate or combine strings by using the addition symbols, and the result is a new string that is a combination of both:\n"
   ]
  },
  {
   "cell_type": "code",
   "execution_count": 358,
   "id": "452faccf-f0c4-4237-892c-5d5e12f8060b",
   "metadata": {},
   "outputs": [
    {
     "data": {
      "text/plain": [
       "'Michael Jacksonis the best'"
      ]
     },
     "execution_count": 358,
     "metadata": {},
     "output_type": "execute_result"
    }
   ],
   "source": [
    "# Concatenate two strings\n",
    "\n",
    "statement = name + \"is the best\"\n",
    "statement"
   ]
  },
  {
   "cell_type": "markdown",
   "id": "2e4d30eb-f2fd-4c7e-bba4-bd33f11310f2",
   "metadata": {},
   "source": [
    "To replicate values of a string we simply multiply the string by the number of times we would like to replicate it. In this case, the number is three. The result is a new string, and this new string consists of three copies of the original string:\n"
   ]
  },
  {
   "cell_type": "code",
   "execution_count": 361,
   "id": "87a47dfa-065d-45a1-8066-84db9d99c1ea",
   "metadata": {},
   "outputs": [
    {
     "data": {
      "text/plain": [
       "'Michael JacksonMichael JacksonMichael Jackson'"
      ]
     },
     "execution_count": 361,
     "metadata": {},
     "output_type": "execute_result"
    }
   ],
   "source": [
    "# Print the string for 3 times\n",
    "\n",
    "3 * \"Michael Jackson\""
   ]
  },
  {
   "cell_type": "markdown",
   "id": "bf8aa07a-825b-49df-9598-da4852a1d1ed",
   "metadata": {},
   "source": [
    "You can create a new string by setting it to the original variable. Concatenated  with a new string, the result is a new string that changes from Michael Jackson to “Michael Jackson is the best\".\n"
   ]
  },
  {
   "cell_type": "code",
   "execution_count": 364,
   "id": "0ea4f108-db26-4132-8864-17b304455a69",
   "metadata": {},
   "outputs": [
    {
     "data": {
      "text/plain": [
       "'Michael Jackson is the best'"
      ]
     },
     "execution_count": 364,
     "metadata": {},
     "output_type": "execute_result"
    }
   ],
   "source": [
    "# Concatenate strings\n",
    "\n",
    "name = \"Michael Jackson\"\n",
    "name = name + \" is the best\"\n",
    "name"
   ]
  },
  {
   "cell_type": "markdown",
   "id": "19212351-12a0-490f-9548-2e5efe2da249",
   "metadata": {},
   "source": [
    "<h2 id=\"escape\">Escape Sequences</h2>\n"
   ]
  },
  {
   "cell_type": "markdown",
   "id": "176b7ed8-5c7d-4af1-bf53-85ee421dbf45",
   "metadata": {},
   "source": [
    "Back slashes represent the beginning  of escape sequences. Escape sequences represent strings that may be difficult to input. For example, back slash \"n\" represents a new line. The output is given by a new line after the back slash \"n\" is encountered:\n"
   ]
  },
  {
   "cell_type": "code",
   "execution_count": 375,
   "id": "822db82c-8aab-4c28-a15a-9ebb746b93eb",
   "metadata": {},
   "outputs": [
    {
     "name": "stdout",
     "output_type": "stream",
     "text": [
      " Michael Jackson \n",
      " is the best\n"
     ]
    }
   ],
   "source": [
    "# New line escape sequence\n",
    "\n",
    "print(\" Michael Jackson \\n is the best\" )"
   ]
  },
  {
   "cell_type": "markdown",
   "id": "65d752a1-a4fb-4d99-980f-22eb40bf14c2",
   "metadata": {},
   "source": [
    "Similarly, back slash  \"t\" represents a tab:\n"
   ]
  },
  {
   "cell_type": "code",
   "execution_count": 377,
   "id": "0a98de07-d679-41ba-928d-729f94330c44",
   "metadata": {},
   "outputs": [
    {
     "name": "stdout",
     "output_type": "stream",
     "text": [
      " Michael Jackson \t is the best\n"
     ]
    }
   ],
   "source": [
    "# Tab escape sequence\n",
    "\n",
    "print(\" Michael Jackson \\t is the best\" )"
   ]
  },
  {
   "cell_type": "markdown",
   "id": "9e4325b9-f305-4545-8fff-da184337049b",
   "metadata": {},
   "source": [
    "If you want to place a back slash in your string, use a double back slash:\n"
   ]
  },
  {
   "cell_type": "code",
   "execution_count": 381,
   "id": "fb40e9eb-ca0c-4f4c-91a8-a8e7a2489c8b",
   "metadata": {},
   "outputs": [
    {
     "name": "stdout",
     "output_type": "stream",
     "text": [
      " Michael Jackson \\ is the best\n"
     ]
    }
   ],
   "source": [
    "# Include back slash in string\n",
    "\n",
    "print(\" Michael Jackson \\\\ is the best\" )"
   ]
  },
  {
   "cell_type": "markdown",
   "id": "8618c0bb-aa16-4370-b01a-630e8ebcf4c2",
   "metadata": {},
   "source": [
    "We can also place an \"r\" before the string to display the backslash:\n"
   ]
  },
  {
   "cell_type": "code",
   "execution_count": 384,
   "id": "555514ec-4fdc-4425-9372-4e59df202a63",
   "metadata": {},
   "outputs": [
    {
     "name": "stdout",
     "output_type": "stream",
     "text": [
      " Michael Jackson \\ is the best\n"
     ]
    }
   ],
   "source": [
    "# r will tell python that string will be display as raw string\n",
    "\n",
    "print(r\" Michael Jackson \\ is the best\" )"
   ]
  },
  {
   "cell_type": "markdown",
   "id": "376a6f37-9348-4ce7-ba94-700b877a4b80",
   "metadata": {},
   "source": [
    "<h2 id=\"operations\">String Operations</h2>\n"
   ]
  },
  {
   "cell_type": "markdown",
   "id": "b60539e7-bf15-47f1-9a66-8762938e49d7",
   "metadata": {},
   "source": [
    "There are many string operation methods in Python that can be used to manipulate the data. We are going to use some basic string operations on the data.\n"
   ]
  },
  {
   "cell_type": "markdown",
   "id": "fa2296cb-19ff-4448-b8b2-f4e5fc74cef4",
   "metadata": {},
   "source": [
    "Let's try with the method <code>upper</code>; this method converts lower case characters to upper case characters:\n"
   ]
  },
  {
   "cell_type": "code",
   "execution_count": 389,
   "id": "18085e63-4bec-4369-ad1f-1b8fe0e3a7e1",
   "metadata": {},
   "outputs": [
    {
     "name": "stdout",
     "output_type": "stream",
     "text": [
      "before upper: Thriller is the sixth studio album\n",
      "After upper: THRILLER IS THE SIXTH STUDIO ALBUM\n"
     ]
    }
   ],
   "source": [
    "# Convert all the characters in string to upper case\n",
    "\n",
    "a = \"Thriller is the sixth studio album\"\n",
    "print(\"before upper:\", a)\n",
    "b = a.upper()\n",
    "print(\"After upper:\", b)"
   ]
  },
  {
   "cell_type": "markdown",
   "id": "3f4f7075-a977-4299-94d2-d6f172ac383e",
   "metadata": {},
   "source": [
    "Let's try with the method <code>lower</code>; this method converts upper case characters to lower case characters:\n"
   ]
  },
  {
   "cell_type": "code",
   "execution_count": 392,
   "id": "a29bdfaf-1cb3-4ec2-b7b1-d7161447b186",
   "metadata": {},
   "outputs": [
    {
     "name": "stdout",
     "output_type": "stream",
     "text": [
      "Before lower: MICHAEL JACKSON IS THE BEST\n",
      "After lower: michael jackson is the best\n"
     ]
    }
   ],
   "source": [
    "# Convert all the characters in string to lower case\n",
    "a = \"MICHAEL JACKSON IS THE BEST\"\n",
    "print(\"Before lower:\", a)\n",
    "b = a.lower()\n",
    "print(\"After lower:\", b)"
   ]
  },
  {
   "cell_type": "markdown",
   "id": "a8e9ca4d-2690-4a24-bc51-751c93dda3d7",
   "metadata": {},
   "source": [
    "The method <code>replace</code> replaces a segment of the string, i.e. a substring  with a new string. We input the part of the string we would like to change. The second argument is what we would like to exchange the segment with, and the result is a new string with the segment changed:\n"
   ]
  },
  {
   "cell_type": "code",
   "execution_count": 395,
   "id": "46fb3a5e-b55a-446c-90d1-b261db24f1bc",
   "metadata": {},
   "outputs": [
    {
     "data": {
      "text/plain": [
       "'Janet Jackson is the best'"
      ]
     },
     "execution_count": 395,
     "metadata": {},
     "output_type": "execute_result"
    }
   ],
   "source": [
    "a = \"Michael Jackson is the best\"\n",
    "b = a.replace('Michael', 'Janet')\n",
    "b"
   ]
  },
  {
   "cell_type": "code",
   "execution_count": 397,
   "id": "62c19b73-5ca2-4648-b6c2-6856e3060423",
   "metadata": {},
   "outputs": [
    {
     "name": "stdout",
     "output_type": "stream",
     "text": [
      "Hello! Michael Jackson has: 12 characters.\n",
      "Hello Michael Jackson has 12 characters\n"
     ]
    }
   ],
   "source": [
    "# Replace the old substring with the new target substring by removing some punctuations.\n",
    "\n",
    "a = \"Hello! Michael Jackson has: 12 characters.\"\n",
    "print(a)\n",
    "b = a.replace('!','').replace(':','').replace('.','')\n",
    "print(b)"
   ]
  },
  {
   "cell_type": "markdown",
   "id": "632e0356-27a9-4328-a046-669753794c7e",
   "metadata": {},
   "source": [
    "The method <code>find</code> finds a sub-string. The argument is the substring you would like to find, and the output is the first index of the sequence. We can find the sub-string <code>jack</code> or <code>el<code>.\n"
   ]
  },
  {
   "cell_type": "markdown",
   "id": "35883359-2077-436c-8039-e3bdf660fc56",
   "metadata": {},
   "source": [
    "<img src=\"https://cf-courses-data.s3.us.cloud-object-storage.appdomain.cloud/IBMDeveloperSkillsNetwork-PY0101EN-SkillsNetwork/labs/Module%201/images/StringsFind.png\" width=\"600\" align=\"center\">\n"
   ]
  },
  {
   "cell_type": "code",
   "execution_count": 401,
   "id": "466dd16b-998f-4c2d-b41c-1336b3f4f2b1",
   "metadata": {},
   "outputs": [
    {
     "data": {
      "text/plain": [
       "5"
      ]
     },
     "execution_count": 401,
     "metadata": {},
     "output_type": "execute_result"
    }
   ],
   "source": [
    "# Find the substring in the string. Only the index of the first elment of substring in string will be the output\n",
    "\n",
    "name = \"Michael Jackson\"\n",
    "name.find('el')"
   ]
  },
  {
   "cell_type": "code",
   "execution_count": 403,
   "id": "ebf285d6-baf5-4dd6-85b8-dad102e97fb2",
   "metadata": {},
   "outputs": [
    {
     "data": {
      "text/plain": [
       "8"
      ]
     },
     "execution_count": 403,
     "metadata": {},
     "output_type": "execute_result"
    }
   ],
   "source": [
    "# Find the substring in the string.\n",
    "\n",
    "name.find('Jack')"
   ]
  },
  {
   "cell_type": "markdown",
   "id": "44240d18-07d9-4cfc-82c8-ba5a29d01e27",
   "metadata": {},
   "source": [
    "If the  sub-string is not in the string then the output is a negative one. For example, the string 'Jasdfasdasdf' is not a substring:\n"
   ]
  },
  {
   "cell_type": "code",
   "execution_count": 406,
   "id": "08c816b0-765a-43ed-a590-9a4459e3ae15",
   "metadata": {},
   "outputs": [
    {
     "data": {
      "text/plain": [
       "-1"
      ]
     },
     "execution_count": 406,
     "metadata": {},
     "output_type": "execute_result"
    }
   ],
   "source": [
    "# If cannot find the substring in the string\n",
    "\n",
    "name.find('Jasdfasdasdf')"
   ]
  },
  {
   "cell_type": "markdown",
   "id": "45c0958c-08f3-4ced-9a9f-3c2c7a25b4df",
   "metadata": {},
   "source": [
    "The method <code>Split</code> splits the string at the specified separator, and returns a list:\n"
   ]
  },
  {
   "cell_type": "code",
   "execution_count": 409,
   "id": "9cb86645-7dc8-4066-a71d-33140df0fc5e",
   "metadata": {},
   "outputs": [
    {
     "data": {
      "text/plain": [
       "['Michael', 'Jackson']"
      ]
     },
     "execution_count": 409,
     "metadata": {},
     "output_type": "execute_result"
    }
   ],
   "source": [
    "#Split the substring into list\n",
    "name = \"Michael Jackson\"\n",
    "split_string = (name.split())\n",
    "split_string"
   ]
  },
  {
   "cell_type": "markdown",
   "id": "e5e28f25-cc49-4639-86b8-f902d934e83f",
   "metadata": {},
   "source": [
    "## RegEx\n"
   ]
  },
  {
   "cell_type": "markdown",
   "id": "ac38d9cb-71ca-40ad-b049-340378c3c3ee",
   "metadata": {},
   "source": [
    "In Python, RegEx (short for Regular Expression) is a tool for matching and handling strings. \n"
   ]
  },
  {
   "cell_type": "markdown",
   "id": "f9bb3ca1-b949-4a96-a66d-f4692dd064d9",
   "metadata": {},
   "source": [
    "This RegEx module provides several functions for working with regular expressions, including <code>search, split, findall,</code> and <code>sub</code>. \n"
   ]
  },
  {
   "cell_type": "markdown",
   "id": "ecdede7e-8101-4f5b-b82c-d64e9620f854",
   "metadata": {},
   "source": [
    "Python provides a built-in module called <code>re</code>, which allows you to work with regular expressions. \n",
    "First, import the <code>re</code> module\n"
   ]
  },
  {
   "cell_type": "code",
   "execution_count": 415,
   "id": "12038bb1-1429-4ee1-9619-0426be726fcf",
   "metadata": {},
   "outputs": [],
   "source": [
    "import re"
   ]
  },
  {
   "cell_type": "markdown",
   "id": "51ed4016-0ad8-46e4-9657-a09d62eacac9",
   "metadata": {},
   "source": [
    "The search() function searches for specified patterns within a string. Here is an example that explains how to use the search() function to search for the word \"Jackson\" in the string \"Michael Jackson is the best\".\n"
   ]
  },
  {
   "cell_type": "code",
   "execution_count": 418,
   "id": "5d494b25-fc31-4bec-b086-8b2e18acd7a9",
   "metadata": {},
   "outputs": [
    {
     "name": "stdout",
     "output_type": "stream",
     "text": [
      "Match found!\n"
     ]
    }
   ],
   "source": [
    "s1 = \"Michael Jackson is the best\"\n",
    "\n",
    "# Define the pattern to search for\n",
    "pattern = r\"Jackson\"\n",
    "\n",
    "# Use the search() function to search for the pattern in the string\n",
    "result = re.search(pattern, s1)\n",
    "\n",
    "# Check if a match was found\n",
    "if result:\n",
    "    print(\"Match found!\")\n",
    "else:\n",
    "    print(\"Match not found.\")\n"
   ]
  },
  {
   "cell_type": "markdown",
   "id": "b053f9b7-920f-494d-9786-8ad5b046f79a",
   "metadata": {},
   "source": [
    "Regular expressions (RegEx) are patterns used to match and manipulate strings of text. There are several special sequences in RegEx that can be used to match specific characters or patterns.\n",
    "\n",
    "| Special Sequence | Meaning                 | \tExample             |\n",
    "| -----------  | ----------------------- | ----------------------|\n",
    "| \\d|Matches any digit character (0-9)|\"123\" matches \"\\d\\d\\d\"|\n",
    "|\\D|Matches any non-digit character|\"hello\" matches \"\\D\\D\\D\\D\\D\"|\n",
    "|\\w|Matches any word character (a-z, A-Z, 0-9, and _)|\"hello_world\" matches \"\\w\\w\\w\\w\\w\\w\\w\\w\\w\\w\\w\"|\n",
    "|\\W|Matches any non-word character|\t\"@#$%\" matches \"\\W\\W\\W\\W\"|\n",
    "|\\s|Matches any whitespace character (space, tab, newline, etc.)|\"hello world\" matches \"\\w\\w\\w\\w\\w\\s\\w\\w\\w\\w\\w\"|\n",
    "|\\S|Matches any non-whitespace character|\"hello_world\" matches \"\\S\\S\\S\\S\\S\\S\\S\\S\\S\"|\n",
    "|\\b|Matches the boundary between a word character and a non-word character|\"cat\" matches \"\\bcat\\b\" in \"The cat sat on the mat\"|\n",
    "|\\B|Matches any position that is not a word boundary|\"cat\" matches \"\\Bcat\\B\" in \"category\" but not in \"The cat sat on the mat\"|\n"
   ]
  },
  {
   "cell_type": "markdown",
   "id": "93dacb01-bc8d-45f8-874d-58b3e4b37a9e",
   "metadata": {},
   "source": [
    "Special Sequence Examples:\n",
    "\n",
    "A simple example of using the <code>\\d</code> special sequence in a regular expression pattern with Python code:\n"
   ]
  },
  {
   "cell_type": "code",
   "execution_count": 422,
   "id": "e0322722-c800-4df7-ad09-3dcf2750e7bb",
   "metadata": {},
   "outputs": [
    {
     "name": "stdout",
     "output_type": "stream",
     "text": [
      "Phone number found: 1234567890\n"
     ]
    }
   ],
   "source": [
    "pattern = r\"\\d\\d\\d\\d\\d\\d\\d\\d\\d\\d\"  # Matches any ten consecutive digits\n",
    "text = \"My Phone number is 1234567890\"\n",
    "match = re.search(pattern, text)\n",
    "\n",
    "if match:\n",
    "    print(\"Phone number found:\", match.group())\n",
    "else:\n",
    "    print(\"No match\")"
   ]
  },
  {
   "cell_type": "markdown",
   "id": "eb032c8b-c4f1-463c-93fa-95fa23219bb8",
   "metadata": {},
   "source": [
    "The regular expression pattern is defined as r\"\\d\\d\\d\\d\\d\\d\\d\\d\\d\\d\", which uses the \\d special sequence to match any digit character (0-9), and the \\d sequence is repeated ten times to match ten consecutive digits\n"
   ]
  },
  {
   "cell_type": "markdown",
   "id": "bab97abc-e84a-41a2-a59c-58d8e917df42",
   "metadata": {},
   "source": [
    "A simple example of using the <code>\\W</code> special sequence in a regular expression pattern with Python code:\n"
   ]
  },
  {
   "cell_type": "code",
   "execution_count": 426,
   "id": "dd370e30-3e8d-4a1e-ade3-d402529169b0",
   "metadata": {},
   "outputs": [
    {
     "name": "stdout",
     "output_type": "stream",
     "text": [
      "Matches: [',', ' ', '!']\n"
     ]
    }
   ],
   "source": [
    "pattern = r\"\\W\"  # Matches any non-word character\n",
    "text = \"Hello, world!\"\n",
    "matches = re.findall(pattern, text)\n",
    "\n",
    "print(\"Matches:\", matches)"
   ]
  },
  {
   "cell_type": "markdown",
   "id": "c436fc3f-0d72-4a60-9ed2-9841a9becf0c",
   "metadata": {},
   "source": [
    "The regular expression pattern is defined as r\"\\W\", which uses the \\W special sequence to match any character that is not a word character (a-z, A-Z, 0-9, or _). The string we're searching for matches in is \"Hello, world!\".\n"
   ]
  },
  {
   "cell_type": "markdown",
   "id": "7b62fa4d-8c62-482d-8466-ad6a7d622eb7",
   "metadata": {},
   "source": [
    "The <code>findall()</code> function finds all occurrences of a specified pattern within a string.\n"
   ]
  },
  {
   "cell_type": "code",
   "execution_count": 430,
   "id": "df4d6739-985e-4e4e-a60b-b4cb14ae8da6",
   "metadata": {},
   "outputs": [
    {
     "name": "stdout",
     "output_type": "stream",
     "text": [
      "['as', 'as']\n"
     ]
    }
   ],
   "source": [
    "s2 = \"Michael Jackson was a singer and known as the 'King of Pop'\"\n",
    "\n",
    "\n",
    "# Use the findall() function to find all occurrences of the \"as\" in the string\n",
    "result = re.findall(\"as\", s2)\n",
    "\n",
    "# Print out the list of matched words\n",
    "print(result)\n"
   ]
  },
  {
   "cell_type": "markdown",
   "id": "d1d3fe9a-c7db-4ad1-aeb2-566a3f7da0aa",
   "metadata": {},
   "source": [
    "A regular expression's <code>split()</code> function splits a string into an array of substrings based on a specified pattern.\n"
   ]
  },
  {
   "cell_type": "code",
   "execution_count": 433,
   "id": "ff3a449e-fb7f-4af8-be26-309bb5f0f350",
   "metadata": {},
   "outputs": [
    {
     "name": "stdout",
     "output_type": "stream",
     "text": [
      "['Michael', 'Jackson', 'was', 'a', 'singer', 'and', 'known', 'as', 'the', \"'King\", 'of', \"Pop'\"]\n"
     ]
    }
   ],
   "source": [
    "# Use the split function to split the string by the \"\\s\"\n",
    "split_array = re.split(\"\\s\", s2)\n",
    "\n",
    "# The split_array contains all the substrings, split by whitespace characters\n",
    "print(split_array) "
   ]
  },
  {
   "cell_type": "markdown",
   "id": "67df0242-9439-47a9-8acc-36dc24580078",
   "metadata": {},
   "source": [
    "The <code>sub</code> function of a regular expression in Python is used to replace all occurrences of a pattern in a string with a specified replacement.\n"
   ]
  },
  {
   "cell_type": "code",
   "execution_count": 438,
   "id": "e2fd56cd-49ab-4146-9130-908fa1bff242",
   "metadata": {},
   "outputs": [
    {
     "name": "stdout",
     "output_type": "stream",
     "text": [
      "Michael Jackson was a singer and known as the 'legend'\n"
     ]
    }
   ],
   "source": [
    "# Define the regular expression pattern to search for\n",
    "pattern = r\"King of Pop\"\n",
    "\n",
    "# Define the replacement string\n",
    "replacement = \"legend\"\n",
    "\n",
    "# Use the sub function to replace the pattern with the replacement string\n",
    "new_string = re.sub(pattern, replacement, s2, flags=re.IGNORECASE)\n",
    "\n",
    "# The new_string contains the original string with the pattern replaced by the replacement string\n",
    "print(new_string) "
   ]
  },
  {
   "cell_type": "markdown",
   "id": "90a39465-fe72-40f8-9dd6-df8d69540867",
   "metadata": {},
   "source": [
    "<hr>"
   ]
  },
  {
   "cell_type": "markdown",
   "id": "9f284a31-9735-439e-8c20-aa873f2b32b3",
   "metadata": {},
   "source": [
    "<h2 id=\"quiz\">Quiz on Strings</h2>\n"
   ]
  },
  {
   "cell_type": "markdown",
   "id": "28538613-ea2c-46f9-8e57-02baa7ecc1fb",
   "metadata": {},
   "source": [
    "What is the value of the variable <code>a</code> after the following code is executed?\n"
   ]
  },
  {
   "cell_type": "code",
   "execution_count": 445,
   "id": "38162fa7-cf16-48b3-ad8b-0add4d287474",
   "metadata": {},
   "outputs": [
    {
     "data": {
      "text/plain": [
       "'1'"
      ]
     },
     "execution_count": 445,
     "metadata": {},
     "output_type": "execute_result"
    }
   ],
   "source": [
    "# Write your code below and press Shift+Enter to execute \n",
    "\n",
    "a = \"1\"\n",
    "a"
   ]
  },
  {
   "cell_type": "markdown",
   "id": "59e782a9-bad9-4a6b-a58b-4fc3ae31964b",
   "metadata": {},
   "source": [
    "<details><summary>Click here for the solution</summary>\n",
    "\n",
    "```python\n",
    "\"1\"\n",
    "\n",
    "```\n",
    "\n",
    "</details>\n"
   ]
  },
  {
   "cell_type": "markdown",
   "id": "bc8f08ee-1f35-40b5-8acf-1f065b007c64",
   "metadata": {},
   "source": [
    "What is the value of the variable <code>b</code> after the following code is executed?\n"
   ]
  },
  {
   "cell_type": "code",
   "execution_count": 449,
   "id": "0975a41a-e46d-4c51-b10b-07c399356327",
   "metadata": {},
   "outputs": [
    {
     "data": {
      "text/plain": [
       "'2'"
      ]
     },
     "execution_count": 449,
     "metadata": {},
     "output_type": "execute_result"
    }
   ],
   "source": [
    "# Write your code below and press Shift+Enter to execute\n",
    "\n",
    "b = \"2\"\n",
    "b"
   ]
  },
  {
   "cell_type": "markdown",
   "id": "7d1ab07b-44a8-4edf-9b5b-0cb2ecdac57f",
   "metadata": {},
   "source": [
    "<details><summary>Click here for the solution</summary>\n",
    "\n",
    "```python\n",
    "\"2\"\n",
    "\n",
    "```\n",
    "\n",
    "</details>\n"
   ]
  },
  {
   "cell_type": "markdown",
   "id": "7312474b-8da3-4c30-88c4-16d8c82d97fe",
   "metadata": {},
   "source": [
    "What is the value of the variable <code>c</code> after the following code is executed?\n"
   ]
  },
  {
   "cell_type": "code",
   "execution_count": 455,
   "id": "4f29da02-6b9d-4c7e-bdd8-f29ea9562d8e",
   "metadata": {},
   "outputs": [
    {
     "data": {
      "text/plain": [
       "'12'"
      ]
     },
     "execution_count": 455,
     "metadata": {},
     "output_type": "execute_result"
    }
   ],
   "source": [
    "# Write your code below and press Shift+Enter to execute \n",
    "\n",
    "c = a + b\n",
    "c"
   ]
  },
  {
   "cell_type": "markdown",
   "id": "154ac42d-5b3e-4896-b828-72a602b4a2b4",
   "metadata": {},
   "source": [
    "<details><summary>Click here for the solution</summary>\n",
    "\n",
    "```python\n",
    "\"12\"\n",
    "\n",
    "```\n",
    "\n",
    "</details>\n"
   ]
  },
  {
   "cell_type": "markdown",
   "id": "73ddeea0-df91-4c7f-b2df-5be96467c23c",
   "metadata": {},
   "source": [
    "<hr>"
   ]
  },
  {
   "cell_type": "markdown",
   "id": "49f2dc98-faf3-4f0c-a2b1-334742b925e8",
   "metadata": {},
   "source": [
    "Consider the variable <code>d</code> use slicing to print out the first three elements:\n"
   ]
  },
  {
   "cell_type": "code",
   "execution_count": 460,
   "id": "68f2096e-3e43-4037-afaa-85ff4ff163d7",
   "metadata": {},
   "outputs": [
    {
     "name": "stdout",
     "output_type": "stream",
     "text": [
      "ABC\n"
     ]
    }
   ],
   "source": [
    "# Write your code below and press Shift+Enter to execute\n",
    "\n",
    "d = \"ABCDEFG\"\n",
    "print(d[:3])"
   ]
  },
  {
   "cell_type": "markdown",
   "id": "a01d8eda-daec-4412-a46f-0aa558edc588",
   "metadata": {},
   "source": [
    "<hr>"
   ]
  },
  {
   "cell_type": "markdown",
   "id": "57bf65d1-c0d9-49a2-bf05-2c69e4907c0b",
   "metadata": {},
   "source": [
    "<details><summary>Click here for the solution</summary>\n",
    "\n",
    "```python\n",
    "print(d[:3]) \n",
    "\n",
    "# or \n",
    "\n",
    "print(d[0:3])\n",
    "\n",
    "```\n",
    "\n",
    "</details>\n"
   ]
  },
  {
   "cell_type": "markdown",
   "id": "0bf7a3df-d646-4b2d-95e0-29a6e29c900d",
   "metadata": {},
   "source": [
    "<hr>"
   ]
  },
  {
   "cell_type": "markdown",
   "id": "720f2e56-ee09-4433-b19b-8b905f8a1d01",
   "metadata": {},
   "source": [
    "Use a stride value of 2 to print out every second character of the string <code>e</code>:\n"
   ]
  },
  {
   "cell_type": "code",
   "execution_count": 468,
   "id": "247835b1-25d5-4dac-95c3-e2b880cd61d8",
   "metadata": {},
   "outputs": [
    {
     "name": "stdout",
     "output_type": "stream",
     "text": [
      "correct\n"
     ]
    }
   ],
   "source": [
    "# Write your code below and press Shift+Enter to execute\n",
    "\n",
    "e = 'clocrkr1e1c1t'\n",
    "print(e[::2])"
   ]
  },
  {
   "cell_type": "markdown",
   "id": "ef45e155-3620-46ae-993c-b4553d1c33d7",
   "metadata": {},
   "source": [
    "<details><summary>Click here for the solution</summary>\n",
    "\n",
    "```python\n",
    "print(e[::2])\n",
    "\n",
    "```\n",
    "\n",
    "</details>\n"
   ]
  },
  {
   "cell_type": "markdown",
   "id": "0b07e41f-2f98-49b8-921e-4061c08c6246",
   "metadata": {},
   "source": [
    "<hr>"
   ]
  },
  {
   "cell_type": "markdown",
   "id": "c9ce51e0-132e-48fe-b5e8-ae54f5644a22",
   "metadata": {},
   "source": [
    "Print out a backslash:\n"
   ]
  },
  {
   "cell_type": "code",
   "execution_count": 475,
   "id": "325d8735-a7f9-432a-8ef0-caabfb00fa61",
   "metadata": {},
   "outputs": [
    {
     "name": "stdout",
     "output_type": "stream",
     "text": [
      "\\\n"
     ]
    }
   ],
   "source": [
    "# Write your code below and press Shift+Enter to execute\n",
    "print(\"\\\\\")\n"
   ]
  },
  {
   "cell_type": "markdown",
   "id": "81cf3fc2-4566-482c-9d92-e2ffb68fca65",
   "metadata": {},
   "source": [
    "<details><summary>Click here for the solution</summary>\n",
    "\n",
    "```python\n",
    "print(\"\\\\\\\\\\\\\\\\\")\n",
    "\n",
    "or\n",
    "\n",
    "print(r\"\\ \")\n",
    "\n",
    "```\n",
    "\n",
    "</details>\n"
   ]
  },
  {
   "cell_type": "markdown",
   "id": "be27e48e-3584-4b4a-ad70-0fb3f734bcf8",
   "metadata": {},
   "source": [
    "<hr>"
   ]
  },
  {
   "cell_type": "markdown",
   "id": "261c8f63-1043-4266-898c-2f365410eac9",
   "metadata": {},
   "source": [
    "Convert the variable <code>f</code> to uppercase:\n"
   ]
  },
  {
   "cell_type": "code",
   "execution_count": 480,
   "id": "af8397fe-2ffa-46d8-bdea-dce6c6f3528f",
   "metadata": {},
   "outputs": [],
   "source": [
    "# Write your code below and press Shift+Enter to execute\n",
    "\n",
    "f = \"You are wrong\""
   ]
  },
  {
   "cell_type": "code",
   "execution_count": 482,
   "id": "373de1fe-0f60-4052-97e1-a68f6c438c14",
   "metadata": {},
   "outputs": [
    {
     "data": {
      "text/plain": [
       "'YOU ARE WRONG'"
      ]
     },
     "execution_count": 482,
     "metadata": {},
     "output_type": "execute_result"
    }
   ],
   "source": [
    "f.upper()"
   ]
  },
  {
   "cell_type": "markdown",
   "id": "d408c1c3-ec86-4482-b683-2d7ff14425eb",
   "metadata": {},
   "source": [
    "<details><summary>Click here for the solution</summary>\n",
    "\n",
    "```python\n",
    "f.upper()\n",
    "\n",
    "```\n",
    "\n",
    "</details>\n"
   ]
  },
  {
   "cell_type": "markdown",
   "id": "316c1891-5adb-48b9-bcd0-cdd04ad41a78",
   "metadata": {},
   "source": [
    "Convert the variable <code>f2</code> to lowercase:\n"
   ]
  },
  {
   "cell_type": "code",
   "execution_count": 486,
   "id": "08fe3c93-033a-49b1-9822-b46ff74f3320",
   "metadata": {},
   "outputs": [],
   "source": [
    "# Write your code below and press Shift+Enter to execute\n",
    "f2=\"YOU ARE RIGHT\""
   ]
  },
  {
   "cell_type": "code",
   "execution_count": 488,
   "id": "c2410d60-51e2-4512-9f60-e8f93f1918f0",
   "metadata": {},
   "outputs": [
    {
     "data": {
      "text/plain": [
       "'you are right'"
      ]
     },
     "execution_count": 488,
     "metadata": {},
     "output_type": "execute_result"
    }
   ],
   "source": [
    "f2.lower()"
   ]
  },
  {
   "cell_type": "markdown",
   "id": "05e39c68-320b-4c50-b324-568b151a8af8",
   "metadata": {},
   "source": [
    "<details><summary>Click here for the solution</summary>\n",
    "\n",
    "```python\n",
    "f2.lower()\n",
    "\n",
    "```\n",
    "\n",
    "</details>\n"
   ]
  },
  {
   "cell_type": "markdown",
   "id": "8f6d4f2b-87d5-4069-b559-c411198994fb",
   "metadata": {},
   "source": [
    "<hr>"
   ]
  },
  {
   "cell_type": "markdown",
   "id": "c29d3afb-8dd9-4b93-b4fe-b76450b9555e",
   "metadata": {},
   "source": [
    "Consider the variable <code>g</code>, and find the first index of the sub-string <code>snow</code>:\n"
   ]
  },
  {
   "cell_type": "code",
   "execution_count": 493,
   "id": "b50d6562-c2cc-4010-8035-975c4359d6a6",
   "metadata": {},
   "outputs": [],
   "source": [
    "# Write your code below and press Shift+Enter to execute\n",
    "\n",
    "g = \"Mary had a little lamb Little lamb, little lamb Mary had a little lamb \\\n",
    "Its fleece was white as snow And everywhere that Mary went Mary went, Mary went \\\n",
    "Everywhere that Mary went The lamb was sure to go\""
   ]
  },
  {
   "cell_type": "code",
   "execution_count": 495,
   "id": "a6aebc07-92aa-4efb-b22f-7ea9c19eab2b",
   "metadata": {},
   "outputs": [
    {
     "data": {
      "text/plain": [
       "95"
      ]
     },
     "execution_count": 495,
     "metadata": {},
     "output_type": "execute_result"
    }
   ],
   "source": [
    "g.find(\"snow\")"
   ]
  },
  {
   "cell_type": "markdown",
   "id": "3cadcf1c-9b1f-402a-bfef-0d3eaf0cd20b",
   "metadata": {},
   "source": [
    "<details><summary>Click here for the solution</summary>\n",
    "\n",
    "```python\n",
    "g.find(\"snow\")\n",
    "\n",
    "```\n",
    "\n",
    "</details>\n"
   ]
  },
  {
   "cell_type": "markdown",
   "id": "da8ac4d4-a38d-43f9-93c3-040e7f5534a4",
   "metadata": {},
   "source": [
    "In the variable <code>g</code>, replace the sub-string <code>Mary</code> with <code>Bob</code>:\n"
   ]
  },
  {
   "cell_type": "code",
   "execution_count": 499,
   "id": "690552a8-cb37-49a7-96db-f61146bd32b5",
   "metadata": {},
   "outputs": [
    {
     "data": {
      "text/plain": [
       "'Bob had a little lamb Little lamb, little lamb Bob had a little lamb Its fleece was white as snow And everywhere that Bob went Bob went, Bob went Everywhere that Bob went The lamb was sure to go'"
      ]
     },
     "execution_count": 499,
     "metadata": {},
     "output_type": "execute_result"
    }
   ],
   "source": [
    "# Write your code below and press Shift+Enter to execute\n",
    "g.replace(\"Mary\", \"Bob\")"
   ]
  },
  {
   "cell_type": "markdown",
   "id": "527107c0-2fff-4ff5-b6ea-df416eec37ff",
   "metadata": {},
   "source": [
    "<details><summary>Click here for the solution</summary>\n",
    "\n",
    "```python\n",
    "g.replace(\"Mary\", \"Bob\")\n",
    "\n",
    "```\n",
    "\n",
    "</details>\n"
   ]
  },
  {
   "cell_type": "markdown",
   "id": "7cadc1bc-4068-4ad8-ad24-7c3740bc80a5",
   "metadata": {},
   "source": [
    "In the variable <code>g</code>, replace the sub-string <code>,</code> with <code>.</code>:\n"
   ]
  },
  {
   "cell_type": "code",
   "execution_count": 504,
   "id": "316d51cf-6b43-4439-8049-1fac4528ef0c",
   "metadata": {},
   "outputs": [
    {
     "data": {
      "text/plain": [
       "'Mary had a little lamb Little lamb. little lamb Mary had a little lamb Its fleece was white as snow And everywhere that Mary went Mary went. Mary went Everywhere that Mary went The lamb was sure to go'"
      ]
     },
     "execution_count": 504,
     "metadata": {},
     "output_type": "execute_result"
    }
   ],
   "source": [
    "# Write your code below and press Shift+Enter to execute\n",
    "g.replace(',','.')"
   ]
  },
  {
   "cell_type": "markdown",
   "id": "3dcab814-015c-4db4-9207-dc339b3426a4",
   "metadata": {},
   "source": [
    "<details><summary>Click here for the solution</summary>\n",
    "\n",
    "```python\n",
    "g.replace(',','.')\n",
    "\n",
    "```\n",
    "\n",
    "</details>\n"
   ]
  },
  {
   "cell_type": "markdown",
   "id": "2641cd92-38bc-4c64-a6da-9068be2a7c1a",
   "metadata": {},
   "source": [
    "In the variable <code>g</code>, split the substring to list:\n"
   ]
  },
  {
   "cell_type": "code",
   "execution_count": 507,
   "id": "10f97d56-9fcb-4fc9-9559-e5ae5062728c",
   "metadata": {},
   "outputs": [
    {
     "data": {
      "text/plain": [
       "['Mary',\n",
       " 'had',\n",
       " 'a',\n",
       " 'little',\n",
       " 'lamb',\n",
       " 'Little',\n",
       " 'lamb,',\n",
       " 'little',\n",
       " 'lamb',\n",
       " 'Mary',\n",
       " 'had',\n",
       " 'a',\n",
       " 'little',\n",
       " 'lamb',\n",
       " 'Its',\n",
       " 'fleece',\n",
       " 'was',\n",
       " 'white',\n",
       " 'as',\n",
       " 'snow',\n",
       " 'And',\n",
       " 'everywhere',\n",
       " 'that',\n",
       " 'Mary',\n",
       " 'went',\n",
       " 'Mary',\n",
       " 'went,',\n",
       " 'Mary',\n",
       " 'went',\n",
       " 'Everywhere',\n",
       " 'that',\n",
       " 'Mary',\n",
       " 'went',\n",
       " 'The',\n",
       " 'lamb',\n",
       " 'was',\n",
       " 'sure',\n",
       " 'to',\n",
       " 'go']"
      ]
     },
     "execution_count": 507,
     "metadata": {},
     "output_type": "execute_result"
    }
   ],
   "source": [
    "# Write your code below and press Shift+Enter to execute\n",
    "g.split()"
   ]
  },
  {
   "cell_type": "markdown",
   "id": "60b9345c-5490-401e-8fc6-d6235ff35d67",
   "metadata": {},
   "source": [
    "<details><summary>Click here for the solution</summary>\n",
    "\n",
    "```python\n",
    "g.split()\n",
    "\n",
    "```\n",
    "\n",
    "</details>\n"
   ]
  },
  {
   "cell_type": "markdown",
   "id": "81f0ab7b-4167-4b16-95be-795816a6c5a4",
   "metadata": {},
   "source": [
    "In the string <code>s3</code>, find the four consicutive digit character using <code>\\d</code> and <code>search() </code>function:\n"
   ]
  },
  {
   "cell_type": "code",
   "execution_count": 511,
   "id": "d5f8dd3b-094b-43c2-a4f4-46d41387c5fa",
   "metadata": {},
   "outputs": [
    {
     "name": "stdout",
     "output_type": "stream",
     "text": [
      "Digit found\n"
     ]
    }
   ],
   "source": [
    "s3 = \"House number- 1105\"\n",
    "\n",
    "# Write your code below and press Shift+Enter to execute\n",
    "#Use the search() function to search for the \"\\d\" in the string\n",
    "result = re.search(\"\\d\", s3)\n",
    "\n",
    "# Check if a match was found\n",
    "if result:\n",
    "    print(\"Digit found\")\n",
    "else: \n",
    "    print(\"Digit not found.\")\n",
    "\n"
   ]
  },
  {
   "cell_type": "markdown",
   "id": "86b51e83-26c9-4e98-acf7-a7f206f642dd",
   "metadata": {},
   "source": [
    "<details><summary>Click here for the solution</summary>\n",
    "\n",
    "```python\n",
    "# Use the search() function to search for the \"\\d\" in the string\n",
    "result = re.search(\"\\d\", s3)\n",
    "\n",
    "# Check if a match was found\n",
    "if result:\n",
    "    print(\"Digit found\")\n",
    "else:\n",
    "    print(\"Digit not found.\")\n",
    "```\n",
    "\n",
    "</details>\n"
   ]
  },
  {
   "cell_type": "markdown",
   "id": "8c2d1adb-41dd-4a41-baba-55633f7b33b6",
   "metadata": {},
   "source": [
    "In the string <code>str1</code>, replace the sub-string <code>fox</code> with <code>bear</code> using <code>sub() </code>function:\n"
   ]
  },
  {
   "cell_type": "code",
   "execution_count": 515,
   "id": "b2fc4f2e-c84d-4a09-834e-b224928dd10a",
   "metadata": {},
   "outputs": [
    {
     "name": "stdout",
     "output_type": "stream",
     "text": [
      "The quick brown bear jumps over the lazy dog.\n"
     ]
    }
   ],
   "source": [
    "str1= \"The quick brown fox jumps over the lazy dog.\"\n",
    "\n",
    "# Write your code below and press Shift+Enter to execute\n",
    "\n",
    "# Use re.sub() to replace \"fox\" with \"bear\"\n",
    "new_str1 = re.sub(r\"fox\", \"bear\", str1)\n",
    "\n",
    "print(new_str1)"
   ]
  },
  {
   "cell_type": "markdown",
   "id": "b712a55a-29fb-4990-aed2-7ade09d0bc50",
   "metadata": {},
   "source": [
    "<details><summary>Click here for the solution</summary>\n",
    "\n",
    "```python\n",
    "# Use re.sub() to replace \"fox\" with \"bear\"\n",
    "new_str1 = re.sub(r\"fox\", \"bear\", str1)\n",
    "\n",
    "print(new_str1)\n",
    "```\n",
    "\n",
    "</details>\n"
   ]
  },
  {
   "cell_type": "markdown",
   "id": "d5c30032-1254-4101-b27c-d7345e86e198",
   "metadata": {},
   "source": [
    "In the string <code>str2</code> find all the occurrences of <code>woo</code> using <code>findall()</code> function:\n"
   ]
  },
  {
   "cell_type": "code",
   "execution_count": 519,
   "id": "3efaf7b2-30ac-4729-bd4f-824dc4cb3465",
   "metadata": {},
   "outputs": [
    {
     "name": "stdout",
     "output_type": "stream",
     "text": [
      "['woo', 'woo', 'woo', 'woo']\n"
     ]
    }
   ],
   "source": [
    "str2= \"How much wood would a woodchuck chuck, if a woodchuck could chuck wood?\"\n",
    "\n",
    "# Write your code below and press Shift+Enter to execute\n",
    "\n",
    "# Use re.findall() to find all occurrences of \"woo\"\n",
    "matches = re.findall(r\"woo\", str2)\n",
    "\n",
    "print(matches)\n"
   ]
  },
  {
   "cell_type": "markdown",
   "id": "a2639702-3eff-459b-9e22-2af480deca45",
   "metadata": {},
   "source": [
    "<details><summary>Click here for the solution</summary>\n",
    "\n",
    "```python\n",
    "# Use re.findall() to find all occurrences of \"woo\"\n",
    "matches = re.findall(r\"woo\", str2)\n",
    "\n",
    "print(matches)\n",
    "```\n",
    "\n",
    "</details>\n"
   ]
  },
  {
   "cell_type": "markdown",
   "id": "0a68a7db-b775-49e7-8eeb-f47659dee3b9",
   "metadata": {},
   "source": [
    "<hr>\n",
    "<h2>The last exercise!</h2>\n",
    "<p>Congratulations, you have completed your first lesson and hands-on lab in Python.\n",
    "<hr>\n"
   ]
  },
  {
   "cell_type": "code",
   "execution_count": null,
   "id": "046bd47f-a1f3-4351-9493-96dbb5f37689",
   "metadata": {},
   "outputs": [],
   "source": []
  },
  {
   "cell_type": "markdown",
   "id": "ca8da3d5-fdab-4f9e-9356-df0a8b560509",
   "metadata": {},
   "source": [
    "<h3>Create a Tuple</h3>\r\n"
   ]
  },
  {
   "cell_type": "markdown",
   "id": "92109b68-3919-4f1a-bdd1-c6d44266e1e9",
   "metadata": {},
   "source": [
    "Create a tuple  <code> (0,1,2,3) </code> and assign it to variable <code>A</code>:\n"
   ]
  },
  {
   "cell_type": "code",
   "execution_count": 5,
   "id": "c5183670-7b7a-4c10-96f6-22207e8a38af",
   "metadata": {},
   "outputs": [
    {
     "data": {
      "text/plain": [
       "(0, 1, 2, 3)"
      ]
     },
     "execution_count": 5,
     "metadata": {},
     "output_type": "execute_result"
    }
   ],
   "source": [
    "A = (0, 1, 2, 3)\n",
    "A"
   ]
  },
  {
   "cell_type": "markdown",
   "id": "48401a83-3187-412a-8db5-6449cc2dd48d",
   "metadata": {},
   "source": [
    "<details><summary>Click here for the solution</summary>\r\n",
    "\r\n",
    "```python\r\n",
    "A = (0,1,2,3)\r\n",
    "print(A)\r\n",
    "```\r\n",
    "\r\n",
    "</details>\r\n"
   ]
  },
  {
   "cell_type": "markdown",
   "id": "d5e64771-b877-489b-81f9-55144986b7f1",
   "metadata": {},
   "source": [
    "<h3>Find the Elements of a Tuple</h3> \n"
   ]
  },
  {
   "cell_type": "markdown",
   "id": "a6be3795-b6fa-4b83-8cae-498d76e4024c",
   "metadata": {},
   "source": [
    "Find the first two elements of tuple <code> A </code>:\r\n"
   ]
  },
  {
   "cell_type": "code",
   "execution_count": 17,
   "id": "0bd94c36-4274-42da-aafc-9fc3d80d4044",
   "metadata": {},
   "outputs": [
    {
     "data": {
      "text/plain": [
       "(0, 1)"
      ]
     },
     "execution_count": 17,
     "metadata": {},
     "output_type": "execute_result"
    }
   ],
   "source": [
    "A[0:2]"
   ]
  },
  {
   "cell_type": "markdown",
   "id": "100a0e10-384d-4917-b969-e6bfe5fa4b00",
   "metadata": {},
   "source": [
    "<details><summary>Click here for the solution</summary>\n",
    "\n",
    "```python\n",
    "A[0:2]\n",
    "```\n",
    "\n",
    "</details>\n"
   ]
  },
  {
   "cell_type": "markdown",
   "id": "f83407d7-1e7d-4c95-bba2-e47ba273e0d3",
   "metadata": {},
   "source": [
    "<h3>Lists </h3> \r\n"
   ]
  },
  {
   "cell_type": "markdown",
   "id": "50973a7a-9242-40cb-ae9e-482a1e91d8bd",
   "metadata": {},
   "source": [
    "For the next few questions, you will need the following list:\r\n"
   ]
  },
  {
   "cell_type": "code",
   "execution_count": 22,
   "id": "a37bb0d2-0050-4395-9e61-0839806a514d",
   "metadata": {},
   "outputs": [],
   "source": [
    "B=[\"a\",\"b\",\"c\"]"
   ]
  },
  {
   "cell_type": "markdown",
   "id": "805cbe1c-1068-43f1-b3ad-0d0ca35c6a4b",
   "metadata": {},
   "source": [
    "Find the first two elements of the list <code> B</code>:\n"
   ]
  },
  {
   "cell_type": "code",
   "execution_count": 25,
   "id": "c979ac0d-172e-46a3-88a0-e58e9661894a",
   "metadata": {},
   "outputs": [
    {
     "data": {
      "text/plain": [
       "['a', 'b']"
      ]
     },
     "execution_count": 25,
     "metadata": {},
     "output_type": "execute_result"
    }
   ],
   "source": [
    "B[0:2]"
   ]
  },
  {
   "cell_type": "markdown",
   "id": "659a2622-20e5-42c5-8116-fc55bd7414f8",
   "metadata": {},
   "source": [
    "<details><summary>Click here for the solution</summary>\r\n",
    "\r\n",
    "```python\r\n",
    "B[0:2]\r\n",
    "```\r\n",
    "\r\n",
    "</details>\r\n"
   ]
  },
  {
   "cell_type": "markdown",
   "id": "ca791372-ed24-4b48-a1a9-39bebf91f15e",
   "metadata": {},
   "source": [
    "Change the first element of the list to an uppercase <code>\"A\"</code>.\n"
   ]
  },
  {
   "cell_type": "code",
   "execution_count": 29,
   "id": "26f23856-6ea6-4cc1-bc2d-c94232a72658",
   "metadata": {},
   "outputs": [
    {
     "name": "stdout",
     "output_type": "stream",
     "text": [
      "['A', 'b', 'c']\n"
     ]
    }
   ],
   "source": [
    "B[0] = 'A'\n",
    "print(B)"
   ]
  },
  {
   "cell_type": "markdown",
   "id": "92edb20b-3eda-4586-93c4-ae3f208942db",
   "metadata": {},
   "source": [
    "<details><summary>Click here for the solution</summary>\n",
    "\n",
    "```python\n",
    "B[0] = 'A'\n",
    "print(B)\n",
    "```\n",
    "\n",
    "</details>\n"
   ]
  },
  {
   "cell_type": "markdown",
   "id": "5fbed0c6-a041-4f5d-9be0-724e8d7aea58",
   "metadata": {},
   "source": [
    "<hr>\n"
   ]
  },
  {
   "cell_type": "markdown",
   "id": "76e578f6-7627-4950-a1f1-d75444b32038",
   "metadata": {},
   "source": [
    "# Tuples in Python\n",
    "\n",
    "\n",
    "Estimated time needed: **15** minutes\n",
    "    \n",
    "\n",
    "## Objectives\n",
    "\n",
    "After completing this lab you will be able to:\n",
    "\n",
    "* Perform the basics tuple operations in Python, including indexing, slicing and sorting\n"
   ]
  },
  {
   "cell_type": "markdown",
   "id": "37ad9d60-97a6-4eaf-9553-9a0e7c9bf917",
   "metadata": {},
   "source": [
    "<h2>Table of Contents</h2>\n",
    "<div class=\"alert alert-block alert-info\" style=\"margin-top: 20px\">\n",
    "    <ul>\n",
    "        <li>\n",
    "            <a href=\"#dataset\">About the Dataset</a>\n",
    "        </li>\n",
    "        <li>\n",
    "            <a href=\"#tuple\">Tuples</a>\n",
    "            <ul>\n",
    "                <li><a href=\"index\">Indexing</a></li>\n",
    "                <li><a href=\"slice\">Slicing</a></li>\n",
    "                <li><a href=\"sort\">Sorting</a></li>\n",
    "            </ul>\n",
    "        </li>\n",
    "        <li>\n",
    "            <a href=\"#escape\">Quiz on Tuples</a>\n",
    "        </li>\n",
    "    </ul>\n",
    " \n",
    "</div>\n",
    "\n",
    "<hr>\n"
   ]
  },
  {
   "cell_type": "markdown",
   "id": "f487eaa3-f5ba-4c5a-bbbe-bc1510ecf5de",
   "metadata": {},
   "source": [
    "<h2 id=\"dataset\">About the Dataset</h2>\n"
   ]
  },
  {
   "cell_type": "markdown",
   "id": "73106640-52ff-4372-b770-e5272626400c",
   "metadata": {},
   "source": [
    "Imagine you received album recommendations from your friends and compiled all of the recommendations into a table, with specific information about each album.\n",
    "\n",
    "The table has one row for each movie and several columns:\n",
    "\n",
    "- **artist** - Name of the artist\n",
    "- **album** - Name of the album\n",
    "- **released_year** - Year the album was released\n",
    "- **length_min_sec** - Length of the album (hours,minutes,seconds)\n",
    "- **genre** - Genre of the album\n",
    "- **music_recording_sales_millions** - Music recording sales (millions in USD) on [SONG://DATABASE](http://www.song-database.com/?utm_medium=Exinfluencer&utm_source=Exinfluencer&utm_content=000026UJ&utm_term=10006555&utm_id=NA-SkillsNetwork-Channel-SkillsNetworkCoursesIBMDeveloperSkillsNetworkPY0101ENSkillsNetwork1005-2022-01-01)\n",
    "- **claimed_sales_millions** - Album's claimed sales (millions in USD) on [SONG://DATABASE](http://www.song-database.com/?utm_medium=Exinfluencer&utm_source=Exinfluencer&utm_content=000026UJ&utm_term=10006555&utm_id=NA-SkillsNetwork-Channel-SkillsNetworkCoursesIBMDeveloperSkillsNetworkPY0101ENSkillsNetwork1005-2022-01-01)\n",
    "- **date_released** - Date on which the album was released\n",
    "- **soundtrack** - Indicates if the album is the movie soundtrack (Y) or (N)\n",
    "- **rating_of_friends** - Indicates the rating from your friends from 1 to 10\n",
    "<br>\n",
    "<br>\n",
    "\n",
    "The dataset can be seen below:\n",
    "\n",
    "<font size=\"1\">\n",
    "<table font-size:xx-small>\n",
    "  <tr>\n",
    "    <th>Artist</th>\n",
    "    <th>Album</th> \n",
    "    <th>Released</th>\n",
    "    <th>Length</th>\n",
    "    <th>Genre</th> \n",
    "    <th>Music recording sales (millions)</th>\n",
    "    <th>Claimed sales (millions)</th>\n",
    "    <th>Released</th>\n",
    "    <th>Soundtrack</th>\n",
    "    <th>Rating (friends)</th>\n",
    "  </tr>\n",
    "  <tr>\n",
    "    <td>Michael Jackson</td>\n",
    "    <td>Thriller</td> \n",
    "    <td>1982</td>\n",
    "    <td>00:42:19</td>\n",
    "    <td>Pop, rock, R&B</td>\n",
    "    <td>46</td>\n",
    "    <td>65</td>\n",
    "    <td>30-Nov-82</td>\n",
    "    <td></td>\n",
    "    <td>10.0</td>\n",
    "  </tr>\n",
    "  <tr>\n",
    "    <td>AC/DC</td>\n",
    "    <td>Back in Black</td> \n",
    "    <td>1980</td>\n",
    "    <td>00:42:11</td>\n",
    "    <td>Hard rock</td>\n",
    "    <td>26.1</td>\n",
    "    <td>50</td>\n",
    "    <td>25-Jul-80</td>\n",
    "    <td></td>\n",
    "    <td>8.5</td>\n",
    "  </tr>\n",
    "    <tr>\n",
    "    <td>Pink Floyd</td>\n",
    "    <td>The Dark Side of the Moon</td> \n",
    "    <td>1973</td>\n",
    "    <td>00:42:49</td>\n",
    "    <td>Progressive rock</td>\n",
    "    <td>24.2</td>\n",
    "    <td>45</td>\n",
    "    <td>01-Mar-73</td>\n",
    "    <td></td>\n",
    "    <td>9.5</td>\n",
    "  </tr>\n",
    "    <tr>\n",
    "    <td>Whitney Houston</td>\n",
    "    <td>The Bodyguard</td> \n",
    "    <td>1992</td>\n",
    "    <td>00:57:44</td>\n",
    "    <td>Soundtrack/R&B, soul, pop</td>\n",
    "    <td>26.1</td>\n",
    "    <td>50</td>\n",
    "    <td>25-Jul-80</td>\n",
    "    <td>Y</td>\n",
    "    <td>7.0</td>\n",
    "  </tr>\n",
    "    <tr>\n",
    "    <td>Meat Loaf</td>\n",
    "    <td>Bat Out of Hell</td> \n",
    "    <td>1977</td>\n",
    "    <td>00:46:33</td>\n",
    "    <td>Hard rock, progressive rock</td>\n",
    "    <td>20.6</td>\n",
    "    <td>43</td>\n",
    "    <td>21-Oct-77</td>\n",
    "    <td></td>\n",
    "    <td>7.0</td>\n",
    "  </tr>\n",
    "    <tr>\n",
    "    <td>Eagles</td>\n",
    "    <td>Their Greatest Hits (1971-1975)</td> \n",
    "    <td>1976</td>\n",
    "    <td>00:43:08</td>\n",
    "    <td>Rock, soft rock, folk rock</td>\n",
    "    <td>32.2</td>\n",
    "    <td>42</td>\n",
    "    <td>17-Feb-76</td>\n",
    "    <td></td>\n",
    "    <td>9.5</td>\n",
    "  </tr>\n",
    "    <tr>\n",
    "    <td>Bee Gees</td>\n",
    "    <td>Saturday Night Fever</td> \n",
    "    <td>1977</td>\n",
    "    <td>1:15:54</td>\n",
    "    <td>Disco</td>\n",
    "    <td>20.6</td>\n",
    "    <td>40</td>\n",
    "    <td>15-Nov-77</td>\n",
    "    <td>Y</td>\n",
    "    <td>9.0</td>\n",
    "  </tr>\n",
    "    <tr>\n",
    "    <td>Fleetwood Mac</td>\n",
    "    <td>Rumours</td> \n",
    "    <td>1977</td>\n",
    "    <td>00:40:01</td>\n",
    "    <td>Soft rock</td>\n",
    "    <td>27.9</td>\n",
    "    <td>40</td>\n",
    "    <td>04-Feb-77</td>\n",
    "    <td></td>\n",
    "    <td>9.5</td>\n",
    "  </tr>\n",
    "</table></font>\n"
   ]
  },
  {
   "cell_type": "markdown",
   "id": "33985e8b-847b-4587-aec7-0fa15d58eaed",
   "metadata": {},
   "source": [
    "<hr>"
   ]
  },
  {
   "cell_type": "markdown",
   "id": "13d64c74-be21-44d4-a04a-173881f42583",
   "metadata": {},
   "source": [
    "<h2 id=\"tuple\">Tuples</h2>\n"
   ]
  },
  {
   "cell_type": "markdown",
   "id": "73e14ca9-6d6f-4153-a4a0-fa8fcc19743d",
   "metadata": {},
   "source": [
    "In Python, there are different data types: string, integer, and float. These data types can all be contained in a tuple as follows:\n"
   ]
  },
  {
   "cell_type": "markdown",
   "id": "bbc3176c-e119-438e-99d4-d6f568f8c65b",
   "metadata": {},
   "source": [
    "<img src=\"https://cf-courses-data.s3.us.cloud-object-storage.appdomain.cloud/IBMDeveloperSkillsNetwork-PY0101EN-SkillsNetwork/labs/Module%202/images/TuplesType.png\" width=\"750\" align=\"center\">\n"
   ]
  },
  {
   "cell_type": "markdown",
   "id": "7f5b5699-8097-4f53-82cc-c482f240a0c0",
   "metadata": {},
   "source": [
    "Now, let us create your first tuple with string, integer and float.\n"
   ]
  },
  {
   "cell_type": "code",
   "execution_count": 42,
   "id": "b4d36c02-edea-4cc5-8e75-2141c155ea0c",
   "metadata": {},
   "outputs": [
    {
     "data": {
      "text/plain": [
       "('disco', 10, 1.2)"
      ]
     },
     "execution_count": 42,
     "metadata": {},
     "output_type": "execute_result"
    }
   ],
   "source": [
    "# Create your first tuple\n",
    "\n",
    "tuple1 = (\"disco\",10,1.2 )\n",
    "tuple1"
   ]
  },
  {
   "cell_type": "markdown",
   "id": "0e0ea05b-837f-4236-b17a-2f4eff674828",
   "metadata": {},
   "source": [
    "The type of variable is a **tuple**. \n"
   ]
  },
  {
   "cell_type": "code",
   "execution_count": 50,
   "id": "b17bb3fd-1ba2-4372-a9ef-7f632673ebb3",
   "metadata": {},
   "outputs": [
    {
     "data": {
      "text/plain": [
       "tuple"
      ]
     },
     "execution_count": 50,
     "metadata": {},
     "output_type": "execute_result"
    }
   ],
   "source": [
    "# Print the type of the tuple you created\n",
    "\n",
    "type(tuple1)"
   ]
  },
  {
   "cell_type": "markdown",
   "id": "c662abf0-6d03-4aba-a6e0-eb1e49a4d4f4",
   "metadata": {},
   "source": [
    "<h3 id=\"index\">Indexing</h3>\n"
   ]
  },
  {
   "cell_type": "markdown",
   "id": "cb750c6d-64e0-4d75-b716-a21e1eed7df0",
   "metadata": {},
   "source": [
    " Each element of a tuple can be accessed via an index. The following table represents the relationship between the index and the items in the tuple. Each element can be obtained by the name of the tuple followed by a square bracket with the index number:\n"
   ]
  },
  {
   "cell_type": "markdown",
   "id": "0c29af41-3c11-4804-8fdd-627e8e9c2a92",
   "metadata": {},
   "source": [
    "<img src=\"https://cf-courses-data.s3.us.cloud-object-storage.appdomain.cloud/IBMDeveloperSkillsNetwork-PY0101EN-SkillsNetwork/labs/Module%202/images/TuplesIndex.gif\" width=\"750\" align=\"center\">\n"
   ]
  },
  {
   "cell_type": "markdown",
   "id": "9401b86e-e29c-45a0-bc2a-50b6ecadd7ef",
   "metadata": {},
   "source": [
    "We can print out each value in the tuple:\n"
   ]
  },
  {
   "cell_type": "code",
   "execution_count": 56,
   "id": "b6e843cb-bf38-4637-9d5f-aa00e03eb3ac",
   "metadata": {},
   "outputs": [
    {
     "name": "stdout",
     "output_type": "stream",
     "text": [
      "disco\n",
      "10\n",
      "1.2\n"
     ]
    }
   ],
   "source": [
    "# Print the variable on each index\n",
    "\n",
    "print(tuple1[0])\n",
    "print(tuple1[1])\n",
    "print(tuple1[2])\n"
   ]
  },
  {
   "cell_type": "markdown",
   "id": "878d7365-081a-4415-9b8e-3ac53abf510c",
   "metadata": {},
   "source": [
    "We can print out the **type** of each value in the tuple:\n"
   ]
  },
  {
   "cell_type": "code",
   "execution_count": 59,
   "id": "c8504c95-aca9-4bad-8fae-63fd0551f977",
   "metadata": {},
   "outputs": [
    {
     "name": "stdout",
     "output_type": "stream",
     "text": [
      "<class 'types.GenericAlias'>\n",
      "<class 'types.GenericAlias'>\n",
      "<class 'types.GenericAlias'>\n"
     ]
    }
   ],
   "source": [
    "print(type(tuple[0]))\n",
    "print(type(tuple[1]))\n",
    "print(type(tuple[2]))"
   ]
  },
  {
   "cell_type": "markdown",
   "id": "2f488dba-b752-4d66-8a81-c9bfa279347d",
   "metadata": {},
   "source": [
    "We can also use negative indexing. We use the same table above with corresponding negative values:\n"
   ]
  },
  {
   "cell_type": "markdown",
   "id": "9e6cea54-72d4-4402-b4ec-4afee7ee0992",
   "metadata": {},
   "source": [
    "<img src=\"https://cf-courses-data.s3.us.cloud-object-storage.appdomain.cloud/IBMDeveloperSkillsNetwork-PY0101EN-SkillsNetwork/labs/Module%202/images/TuplesNeg.png\" width=\"750\" align=\"center\">\n"
   ]
  },
  {
   "cell_type": "markdown",
   "id": "444f4546-e795-4793-b9a2-331255c4e14e",
   "metadata": {},
   "source": [
    "We can obtain the last element as follows (this time we will not use the print statement to display the values):\n"
   ]
  },
  {
   "cell_type": "code",
   "execution_count": 64,
   "id": "ac90c416-729d-4c3d-a7d6-7367485a4846",
   "metadata": {},
   "outputs": [
    {
     "data": {
      "text/plain": [
       "1.2"
      ]
     },
     "execution_count": 64,
     "metadata": {},
     "output_type": "execute_result"
    }
   ],
   "source": [
    "# Use negative index to get the value of the last element\n",
    "\n",
    "tuple1[-1]"
   ]
  },
  {
   "cell_type": "markdown",
   "id": "b5c2324b-d9c0-42d8-9766-96c4ca11227b",
   "metadata": {},
   "source": [
    "We can display the next two elements as follows:\n"
   ]
  },
  {
   "cell_type": "code",
   "execution_count": 67,
   "id": "ccd86a38-3397-4a0c-aa9b-3906b55123cd",
   "metadata": {},
   "outputs": [
    {
     "data": {
      "text/plain": [
       "10"
      ]
     },
     "execution_count": 67,
     "metadata": {},
     "output_type": "execute_result"
    }
   ],
   "source": [
    "# use negative index to get the value of the second last element\n",
    "\n",
    "tuple1[-2]"
   ]
  },
  {
   "cell_type": "code",
   "execution_count": 69,
   "id": "eda15943-5dad-4ede-977e-5d6ffb7b86c4",
   "metadata": {},
   "outputs": [
    {
     "data": {
      "text/plain": [
       "'disco'"
      ]
     },
     "execution_count": 69,
     "metadata": {},
     "output_type": "execute_result"
    }
   ],
   "source": [
    "# Use negative index to get the value of the third last element\n",
    "\n",
    "tuple1[-3]"
   ]
  },
  {
   "cell_type": "markdown",
   "id": "939eeb32-8ba2-4dda-bb66-7c860bbdb949",
   "metadata": {},
   "source": [
    "<h3 id=\"concate\">Concatenate Tuples</h3>\n"
   ]
  },
  {
   "cell_type": "markdown",
   "id": "7ae657f3-f967-421a-9f30-69deac5bf4d7",
   "metadata": {},
   "source": [
    "We can concatenate or combine tuples by using the **+** sign:\n"
   ]
  },
  {
   "cell_type": "code",
   "execution_count": 75,
   "id": "07f76dfa-0fc7-4dbe-908a-96a623e3524f",
   "metadata": {},
   "outputs": [
    {
     "data": {
      "text/plain": [
       "('disco', 10, 1.2, 'hard rock', 10)"
      ]
     },
     "execution_count": 75,
     "metadata": {},
     "output_type": "execute_result"
    }
   ],
   "source": [
    "# Concatenae two tuples\n",
    "\n",
    "tuple2 = tuple1 + (\"hard rock\", 10)\n",
    "tuple2"
   ]
  },
  {
   "cell_type": "markdown",
   "id": "9ce7b4c8-254d-469f-9697-65259c5db6f1",
   "metadata": {},
   "source": [
    "We can slice tuples obtaining multiple values as demonstrated by the figure below:\n"
   ]
  },
  {
   "cell_type": "markdown",
   "id": "e6730cb3-c136-4785-a6f5-df8701cad90c",
   "metadata": {},
   "source": [
    "<img src=\"https://cf-courses-data.s3.us.cloud-object-storage.appdomain.cloud/IBMDeveloperSkillsNetwork-PY0101EN-SkillsNetwork/labs/Module%202/images/TuplesSlice.gif\" width=\"750\" align=\"center\">\n"
   ]
  },
  {
   "cell_type": "markdown",
   "id": "0a179b23-e0ea-43cf-b54b-5f3c796782e3",
   "metadata": {},
   "source": [
    "<h3 id=\"slice\">Slicing</h3>\n"
   ]
  },
  {
   "cell_type": "markdown",
   "id": "c697d560-cdd3-470a-9877-30e278b4b029",
   "metadata": {},
   "source": [
    "We can slice tuples, obtaining new tuples with the corresponding elements: \n"
   ]
  },
  {
   "cell_type": "code",
   "execution_count": 85,
   "id": "b68de619-ce8a-403c-b486-1b70b826b7c3",
   "metadata": {},
   "outputs": [
    {
     "data": {
      "text/plain": [
       "('disco', 10, 1.2)"
      ]
     },
     "execution_count": 85,
     "metadata": {},
     "output_type": "execute_result"
    }
   ],
   "source": [
    "# Slice from index 0 to index 2\n",
    "\n",
    "tuple2[0:3]"
   ]
  },
  {
   "cell_type": "markdown",
   "id": "e690258b-942e-4b32-8aa7-9c970133b7cf",
   "metadata": {},
   "source": [
    "We can obtain the last two elements of the tuple:"
   ]
  },
  {
   "cell_type": "code",
   "execution_count": 88,
   "id": "7ce12000-d697-40f9-8353-7a01d12a2937",
   "metadata": {},
   "outputs": [
    {
     "data": {
      "text/plain": [
       "('hard rock', 10)"
      ]
     },
     "execution_count": 88,
     "metadata": {},
     "output_type": "execute_result"
    }
   ],
   "source": [
    "# Slice from index 3 to index 4\n",
    "\n",
    "tuple2[3:5]"
   ]
  },
  {
   "cell_type": "markdown",
   "id": "309474a0-1d64-480e-87bf-5986c869aeda",
   "metadata": {},
   "source": [
    "We can obtain the length of a tuple using the length command: \n"
   ]
  },
  {
   "cell_type": "code",
   "execution_count": 93,
   "id": "80015800-fa26-4666-9300-6358ffc8c0c2",
   "metadata": {},
   "outputs": [
    {
     "data": {
      "text/plain": [
       "5"
      ]
     },
     "execution_count": 93,
     "metadata": {},
     "output_type": "execute_result"
    }
   ],
   "source": [
    "# Get the length of tuple\n",
    "\n",
    "len(tuple2)"
   ]
  },
  {
   "cell_type": "markdown",
   "id": "b8aed7e0-4aad-41e2-bfe2-d442fd52fcff",
   "metadata": {},
   "source": [
    "This figure shows the number of elements:\n"
   ]
  },
  {
   "cell_type": "markdown",
   "id": "913bc182-46c4-48ef-87ae-bedf1bae8835",
   "metadata": {},
   "source": [
    "<img src=\"https://cf-courses-data.s3.us.cloud-object-storage.appdomain.cloud/IBMDeveloperSkillsNetwork-PY0101EN-SkillsNetwork/labs/Module%202/images/TuplesElement.png\" width=\"750\" align=\"center\">\n"
   ]
  },
  {
   "cell_type": "markdown",
   "id": "b1e3cffa-11c2-4649-9d83-ff83ee95b9e3",
   "metadata": {},
   "source": [
    "<h3 id=\"sort\">Sorting</h3>\n"
   ]
  },
  {
   "cell_type": "markdown",
   "id": "03207424-9ea6-484f-8b4d-df9c7302de92",
   "metadata": {},
   "source": [
    " Consider the following tuple:\n"
   ]
  },
  {
   "cell_type": "code",
   "execution_count": 99,
   "id": "77b4626c-bed8-46cb-b943-2d11ab0ab449",
   "metadata": {},
   "outputs": [],
   "source": [
    "# A sample tuple\n",
    "\n",
    "Ratings = (0, 9, 6, 5, 10, 8, 6, 2)"
   ]
  },
  {
   "cell_type": "markdown",
   "id": "ea0f203f-e33f-41b8-99ee-e0eb1e0e23d2",
   "metadata": {},
   "source": [
    "We can sort the values in a tuple and save it to a new tuple: \n"
   ]
  },
  {
   "cell_type": "code",
   "execution_count": 102,
   "id": "a6ad9b11-10ce-426e-b857-98bf2260d32c",
   "metadata": {},
   "outputs": [
    {
     "data": {
      "text/plain": [
       "[0, 2, 5, 6, 6, 8, 9, 10]"
      ]
     },
     "execution_count": 102,
     "metadata": {},
     "output_type": "execute_result"
    }
   ],
   "source": [
    "# Sort the tuple\n",
    "\n",
    "RatingsSorted = sorted(Ratings)\n",
    "RatingsSorted"
   ]
  },
  {
   "cell_type": "markdown",
   "id": "ee74ebcf-2b70-4ded-9ccc-534e1bae4bd5",
   "metadata": {},
   "source": [
    "<h3 id=\"nest\">Nested Tuple</h3>\n"
   ]
  },
  {
   "cell_type": "markdown",
   "id": "76146d73-fff0-4d16-8ea6-eecb86ade80b",
   "metadata": {},
   "source": [
    "A tuple can contain another tuple as well as other more complex data types. This process is called 'nesting'. Consider the following tuple with several elements: \n"
   ]
  },
  {
   "cell_type": "code",
   "execution_count": 106,
   "id": "38211408-0acd-4c64-9846-0d8f8fb7e407",
   "metadata": {},
   "outputs": [],
   "source": [
    "# Create a nest tuple\n",
    "\n",
    "NestedT = (1, 2, (\"pop\", \"rock\"), (3, 4), (\"disco\", (1, 2)))"
   ]
  },
  {
   "cell_type": "markdown",
   "id": "ce62135e-718e-4e1d-a874-b0c38bf849fb",
   "metadata": {},
   "source": [
    "Each element in the tuple, including other tuples, can be obtained via an index as shown in the figure:\n"
   ]
  },
  {
   "cell_type": "markdown",
   "id": "f5deab67-c9f4-44cb-affa-28492fbf90c4",
   "metadata": {},
   "source": [
    "<img src=\"https://cf-courses-data.s3.us.cloud-object-storage.appdomain.cloud/IBMDeveloperSkillsNetwork-PY0101EN-SkillsNetwork/labs/Module%202/images/TuplesNestOne.png\" width=\"750\" align=\"center\">\n"
   ]
  },
  {
   "cell_type": "code",
   "execution_count": 110,
   "id": "5f93f60c-525f-4926-89a8-87c0601a4405",
   "metadata": {},
   "outputs": [
    {
     "name": "stdout",
     "output_type": "stream",
     "text": [
      "Element 0 of Tuple:  1\n",
      "Element 1 of Tuple:  2\n",
      "Element 2 of Tuple:  ('pop', 'rock')\n",
      "Element 3 of Tuple:  (3, 4)\n",
      "Element 4 of Tuple:  ('disco', (1, 2))\n"
     ]
    }
   ],
   "source": [
    "# Print element on each index\n",
    "\n",
    "print(\"Element 0 of Tuple: \", NestedT[0])\n",
    "print(\"Element 1 of Tuple: \", NestedT[1])\n",
    "print(\"Element 2 of Tuple: \", NestedT[2])\n",
    "print(\"Element 3 of Tuple: \", NestedT[3])\n",
    "print(\"Element 4 of Tuple: \", NestedT[4])"
   ]
  },
  {
   "cell_type": "markdown",
   "id": "5bb82af5-60fb-4514-9b20-e2c1b9529979",
   "metadata": {},
   "source": [
    "We can use the second index to access other tuples as demonstrated in the figure:\n"
   ]
  },
  {
   "cell_type": "markdown",
   "id": "a1e59bd5-7f74-4141-9dd4-8f7a4aaffa65",
   "metadata": {},
   "source": [
    "<img src=\"https://cf-courses-data.s3.us.cloud-object-storage.appdomain.cloud/IBMDeveloperSkillsNetwork-PY0101EN-SkillsNetwork/labs/Module%202/images/TuplesNestTwo.png\" width=\"750\" align=\"center\">\n"
   ]
  },
  {
   "cell_type": "markdown",
   "id": "901fc61d-ba67-4b23-9e0b-888a5d8d5c9f",
   "metadata": {},
   "source": [
    " We can access the nested tuples:"
   ]
  },
  {
   "cell_type": "code",
   "execution_count": 115,
   "id": "d833386a-7976-435c-8c8a-c56069413aa7",
   "metadata": {},
   "outputs": [
    {
     "name": "stdout",
     "output_type": "stream",
     "text": [
      "Element 2, 0 of Tuple:  pop\n",
      "Element 2, 1 of Tuple:  rock\n",
      "Element 3, 0 of Tuple:  3\n",
      "Element 3, 1 of Tuple:  4\n",
      "Element 4, 0 of Tuple:  disco\n",
      "Element 4, 1 of Tuple:  (1, 2)\n"
     ]
    }
   ],
   "source": [
    "# Print element on each index, including nest indexes\n",
    "\n",
    "print(\"Element 2, 0 of Tuple: \",   NestedT[2][0])\n",
    "print(\"Element 2, 1 of Tuple: \",   NestedT[2][1])\n",
    "print(\"Element 3, 0 of Tuple: \",   NestedT[3][0])\n",
    "print(\"Element 3, 1 of Tuple: \",   NestedT[3][1])\n",
    "print(\"Element 4, 0 of Tuple: \",   NestedT[4][0])\n",
    "print(\"Element 4, 1 of Tuple: \",   NestedT[4][1])"
   ]
  },
  {
   "cell_type": "markdown",
   "id": "23c98aa1-4f93-44fb-9f95-6124e290b41f",
   "metadata": {},
   "source": [
    "We can access strings in the second nested tuples using a third index:\n"
   ]
  },
  {
   "cell_type": "code",
   "execution_count": 118,
   "id": "6bf36efc-a6da-492d-83ad-2d4a928419d9",
   "metadata": {},
   "outputs": [
    {
     "data": {
      "text/plain": [
       "'r'"
      ]
     },
     "execution_count": 118,
     "metadata": {},
     "output_type": "execute_result"
    }
   ],
   "source": [
    "# Print the first element in the second nested tuples\n",
    "\n",
    "NestedT[2][1][0]"
   ]
  },
  {
   "cell_type": "code",
   "execution_count": 120,
   "id": "a2e61c77-470d-4556-ad95-7c999e8fb061",
   "metadata": {},
   "outputs": [
    {
     "data": {
      "text/plain": [
       "'o'"
      ]
     },
     "execution_count": 120,
     "metadata": {},
     "output_type": "execute_result"
    }
   ],
   "source": [
    "# Print the second element in the second nested tuples\n",
    "\n",
    "NestedT[2][1][1]"
   ]
  },
  {
   "cell_type": "markdown",
   "id": "db9fff9d-5a6f-4a9d-bc77-052c2abd2f93",
   "metadata": {},
   "source": [
    " We can use a tree to visualise the process. Each new index corresponds to a deeper level in the tree:\n"
   ]
  },
  {
   "cell_type": "markdown",
   "id": "b7f23597-9128-4704-9d44-dc955d01a0d2",
   "metadata": {},
   "source": [
    "<img src=\"https://cf-courses-data.s3.us.cloud-object-storage.appdomain.cloud/IBMDeveloperSkillsNetwork-PY0101EN-SkillsNetwork/labs/Module%202/images/TuplesNestThree.gif\" width=\"750\" align=\"center\">\n"
   ]
  },
  {
   "cell_type": "markdown",
   "id": "a4c948fc-a774-4cc6-97ff-b44f5163d20e",
   "metadata": {},
   "source": [
    "Similarly, we can access elements nested deeper in the tree with a third index:\n"
   ]
  },
  {
   "cell_type": "code",
   "execution_count": 129,
   "id": "c668e0ba-6e46-4d1e-85fd-4508a548da72",
   "metadata": {},
   "outputs": [
    {
     "data": {
      "text/plain": [
       "1"
      ]
     },
     "execution_count": 129,
     "metadata": {},
     "output_type": "execute_result"
    }
   ],
   "source": [
    "# Print the first element in the second nested tuples\n",
    "\n",
    "NestedT[4][1][0]"
   ]
  },
  {
   "cell_type": "code",
   "execution_count": 131,
   "id": "dab6d0c1-f809-420c-92e3-a2ecee0d4f3d",
   "metadata": {},
   "outputs": [
    {
     "data": {
      "text/plain": [
       "2"
      ]
     },
     "execution_count": 131,
     "metadata": {},
     "output_type": "execute_result"
    }
   ],
   "source": [
    "# Print the second element in the second nested tuples\n",
    "\n",
    "NestedT[4][1][1]"
   ]
  },
  {
   "cell_type": "markdown",
   "id": "37407dbe-0feb-4e4c-8d6a-382791db1514",
   "metadata": {},
   "source": [
    "The following figure shows the relationship of the tree and the element <code>NestedT[4][1][1]</code>:\n"
   ]
  },
  {
   "cell_type": "markdown",
   "id": "25b70bd2-7467-400d-85cc-aa6898d862b9",
   "metadata": {},
   "source": [
    "<img src=\"https://cf-courses-data.s3.us.cloud-object-storage.appdomain.cloud/IBMDeveloperSkillsNetwork-PY0101EN-SkillsNetwork/labs/Module%202/images/TuplesNestFour.gif\" width=\"750\" align=\"center\">\n"
   ]
  },
  {
   "cell_type": "markdown",
   "id": "dbe48695-446f-47f2-ac1d-6614e0ae9efd",
   "metadata": {},
   "source": [
    "<h2 id=\"quiz\">Quiz on Tuples</h2>\n"
   ]
  },
  {
   "cell_type": "markdown",
   "id": "6f45fd8c-8888-4619-b007-e8a428cae035",
   "metadata": {},
   "source": [
    "Consider the following tuple:\n"
   ]
  },
  {
   "cell_type": "code",
   "execution_count": 137,
   "id": "746ced97-078a-4b96-a896-f66b79af5d8b",
   "metadata": {},
   "outputs": [
    {
     "data": {
      "text/plain": [
       "('pop',\n",
       " 'rock',\n",
       " 'soul',\n",
       " 'hard rock',\n",
       " 'soft rock',\n",
       " 'R&B',\n",
       " 'progressive rock',\n",
       " 'disco')"
      ]
     },
     "execution_count": 137,
     "metadata": {},
     "output_type": "execute_result"
    }
   ],
   "source": [
    "# sample tuple\n",
    "\n",
    "genres_tuple = (\"pop\", \"rock\", \"soul\", \"hard rock\", \"soft rock\", \\\n",
    "                \"R&B\", \"progressive rock\", \"disco\") \n",
    "genres_tuple"
   ]
  },
  {
   "cell_type": "markdown",
   "id": "f024d796-803e-4599-8e61-84c87ab25c91",
   "metadata": {},
   "source": [
    "Find the length of the tuple, <code>genres_tuple</code>:\n"
   ]
  },
  {
   "cell_type": "code",
   "execution_count": 140,
   "id": "fa6c312b-e892-4a19-8d5d-0df05309fe2a",
   "metadata": {},
   "outputs": [
    {
     "data": {
      "text/plain": [
       "8"
      ]
     },
     "execution_count": 140,
     "metadata": {},
     "output_type": "execute_result"
    }
   ],
   "source": [
    "# Write your code below and press Shift+Enter to execute\n",
    "len(genres_tuple)\n"
   ]
  },
  {
   "cell_type": "markdown",
   "id": "21b1dd25-2577-4508-adba-2bdb58fbb3e2",
   "metadata": {},
   "source": [
    "<img src=\"https://cf-courses-data.s3.us.cloud-object-storage.appdomain.cloud/IBMDeveloperSkillsNetwork-PY0101EN-SkillsNetwork/labs/Module%202/images/TuplesQuiz.png\" width=\"1100\" align=\"center\">\n"
   ]
  },
  {
   "cell_type": "markdown",
   "id": "8bd71f39-e2b2-444e-8b3b-30b6680272cd",
   "metadata": {},
   "source": [
    "<details><summary>Click here for the solution</summary>\n",
    "\n",
    "```python\n",
    "len(genres_tuple)\n",
    "```\n",
    "\n",
    "</details>\n"
   ]
  },
  {
   "cell_type": "markdown",
   "id": "c007b0b1-7f4f-475d-8e08-c4103eeb50c5",
   "metadata": {},
   "source": [
    "Access the element, with respect to index 3: \n"
   ]
  },
  {
   "cell_type": "code",
   "execution_count": 145,
   "id": "0b436efc-0bb2-4cfa-8382-78a00ce7480d",
   "metadata": {},
   "outputs": [
    {
     "data": {
      "text/plain": [
       "'hard rock'"
      ]
     },
     "execution_count": 145,
     "metadata": {},
     "output_type": "execute_result"
    }
   ],
   "source": [
    "# Write your code below and press Shift+Enter to execute\n",
    "genres_tuple[3]"
   ]
  },
  {
   "cell_type": "markdown",
   "id": "31cfb392-17e7-4b33-ba8a-b86dffc959eb",
   "metadata": {},
   "source": [
    "<details><summary>Click here for the solution</summary>\n",
    "\n",
    "```python\n",
    "genres_tuple[3]\n",
    "\n",
    "```\n",
    "\n",
    "</details>\n"
   ]
  },
  {
   "cell_type": "markdown",
   "id": "75f23b9e-5f5a-4973-909e-134facd6885d",
   "metadata": {},
   "source": [
    "Use slicing to obtain indexes 3, 4 and 5:\n"
   ]
  },
  {
   "cell_type": "code",
   "execution_count": 149,
   "id": "26d20fe1-1962-4924-97de-2d51514cc53b",
   "metadata": {},
   "outputs": [
    {
     "data": {
      "text/plain": [
       "('hard rock', 'soft rock', 'R&B')"
      ]
     },
     "execution_count": 149,
     "metadata": {},
     "output_type": "execute_result"
    }
   ],
   "source": [
    "# Write your code below and press Shift+Enter to execute\n",
    "genres_tuple[3:6]"
   ]
  },
  {
   "cell_type": "markdown",
   "id": "f1072247-68f7-40ec-bd7e-c4f49313aca4",
   "metadata": {},
   "source": [
    "<details><summary>Click here for the solution</summary>\n",
    "\n",
    "```python\n",
    "genres_tuple[3:6]\n",
    "\n",
    "```\n",
    "\n",
    "</details>\n"
   ]
  },
  {
   "cell_type": "markdown",
   "id": "59b8e203-c5d4-4df5-a64d-30798559388a",
   "metadata": {},
   "source": [
    "Find the first two elements of the tuple <code>genres_tuple</code>:\n"
   ]
  },
  {
   "cell_type": "code",
   "execution_count": 153,
   "id": "45333ac4-b432-499e-bbea-31decfe6c202",
   "metadata": {},
   "outputs": [
    {
     "data": {
      "text/plain": [
       "('pop', 'rock')"
      ]
     },
     "execution_count": 153,
     "metadata": {},
     "output_type": "execute_result"
    }
   ],
   "source": [
    "# Write your code below and press Shift+Enter to execute\n",
    "genres_tuple[0:2]"
   ]
  },
  {
   "cell_type": "markdown",
   "id": "993a5dcf-f816-4322-80bf-5bd3301bd944",
   "metadata": {},
   "source": [
    "<details><summary>Click here for the solution</summary>\n",
    "\n",
    "```python\n",
    "genres_tuple[0:2]\n",
    "\n",
    "```\n",
    "\n",
    "</details>\n"
   ]
  },
  {
   "cell_type": "markdown",
   "id": "add3a2ec-917e-47ef-9a40-8eb303dd15ed",
   "metadata": {},
   "source": [
    "Find the first index of <code>\"disco\"</code>:\n"
   ]
  },
  {
   "cell_type": "code",
   "execution_count": 157,
   "id": "79663d45-6454-4801-9df7-0e7b6ac29a09",
   "metadata": {},
   "outputs": [
    {
     "data": {
      "text/plain": [
       "7"
      ]
     },
     "execution_count": 157,
     "metadata": {},
     "output_type": "execute_result"
    }
   ],
   "source": [
    "# Write your code below and press Shift+Enter to execute\n",
    "genres_tuple.index(\"disco\")"
   ]
  },
  {
   "cell_type": "markdown",
   "id": "a5b2b8a9-9057-463e-831b-44549529e951",
   "metadata": {},
   "source": [
    "<details><summary>Click here for the solution</summary>\n",
    "\n",
    "```python\n",
    "genres_tuple.index(\"disco\")\n",
    "\n",
    "```\n",
    "\n",
    "</details>\n"
   ]
  },
  {
   "cell_type": "markdown",
   "id": "7336bd80-ee64-4b10-9a0c-8f5e1843385d",
   "metadata": {},
   "source": [
    "Generate a sorted List from the Tuple <code>C_tuple=(-5, 1, -3)</code>:\n"
   ]
  },
  {
   "cell_type": "code",
   "execution_count": 161,
   "id": "4df721ae-8691-4cca-8fb2-a13918c74906",
   "metadata": {},
   "outputs": [
    {
     "data": {
      "text/plain": [
       "[-5, -3, 1]"
      ]
     },
     "execution_count": 161,
     "metadata": {},
     "output_type": "execute_result"
    }
   ],
   "source": [
    "# Write your code below and press Shift+Enter to execute\n",
    "C_tuple = (-5, 1, -3)\n",
    "C_list = sorted(C_tuple)\n",
    "C_list"
   ]
  },
  {
   "cell_type": "markdown",
   "id": "77798bf9-803b-4c8a-affd-acee45c84cf0",
   "metadata": {},
   "source": [
    "<details><summary>Click here for the solution</summary>\n",
    "\n",
    "```python\n",
    "C_tuple = (-5, 1, -3)\n",
    "C_list = sorted(C_tuple)\n",
    "C_list\n",
    "\n",
    "```\n",
    "\n",
    "</details>\n"
   ]
  },
  {
   "cell_type": "markdown",
   "id": "087aa4cb-0392-4786-8e2a-31c1a9157bb2",
   "metadata": {},
   "source": [
    "<hr>"
   ]
  },
  {
   "cell_type": "markdown",
   "id": "b91cbcac-17f9-4042-8cdb-f54ce805ee10",
   "metadata": {},
   "source": [
    "# Lists in Python\n",
    "\n",
    "\n",
    "Estimated time needed: **15** minutes\n",
    "    \n",
    "\n",
    "## Objectives\n",
    "\n",
    "After completing this lab you will be able to:\n",
    "\n",
    "*  Perform list operations in Python, including indexing, list manipulation, and copy/clone list.\n"
   ]
  },
  {
   "cell_type": "markdown",
   "id": "d883e231-6041-4041-9046-c24ac61ab0cb",
   "metadata": {},
   "source": [
    "<h2>Table of Contents</h2>\n",
    "<div class=\"alert alert-block alert-info\" style=\"margin-top: 20px\">\n",
    "    <ul>\n",
    "        <li>\n",
    "            <a href=\"#dataset\">About the Dataset</a>\n",
    "        </li>\n",
    "        <li>\n",
    "            <a href=\"#list\">Lists</a>\n",
    "            <ul>\n",
    "                <li><a href=\"index\">Indexing</a></li>\n",
    "                <li><a href=\"content\">List Content</a></li>\n",
    "                <li><a href=\"op\">List Operations</a></li>\n",
    "                <li><a href=\"co\">Copy and Clone List</a></li>\n",
    "            </ul>\n",
    "        </li>\n",
    "        <li>\n",
    "            <a href=\"#quiz\">Quiz on Lists</a>\n",
    "        </li>\n",
    "    </ul>\n",
    "   \n",
    "</div>\n",
    "\n",
    "<hr>\n"
   ]
  },
  {
   "cell_type": "markdown",
   "id": "c4583e23-10fd-4178-b9a2-5e0364227011",
   "metadata": {},
   "source": [
    "<h2 id=\"#dataset\">About the Dataset</h2>\n"
   ]
  },
  {
   "cell_type": "markdown",
   "id": "7b10b52c-8985-4977-80e2-cdb70d259695",
   "metadata": {},
   "source": [
    "Imagine you received album recommendations from your friends and compiled all of the recommandations into a table, with specific information about each album.\n",
    "\n",
    "The table has one row for each movie and several columns:\n",
    "\n",
    "- **artist** - Name of the artist\n",
    "- **album** - Name of the album\n",
    "- **released_year** - Year the album was released\n",
    "- **length_min_sec** - Length of the album (hours,minutes,seconds)\n",
    "- **genre** - Genre of the album\n",
    "- **music_recording_sales_millions** - Music recording sales (millions in USD) on [SONG://DATABASE](http://www.song-database.com/?utm_medium=Exinfluencer&utm_source=Exinfluencer&utm_content=000026UJ&utm_term=10006555&utm_id=NA-SkillsNetwork-Channel-SkillsNetworkCoursesIBMDeveloperSkillsNetworkPY0101ENSkillsNetwork1005-2022-01-01)\n",
    "- **claimed_sales_millions** - Album's claimed sales (millions in USD) on [SONG://DATABASE](http://www.song-database.com/?utm_medium=Exinfluencer&utm_source=Exinfluencer&utm_content=000026UJ&utm_term=10006555&utm_id=NA-SkillsNetwork-Channel-SkillsNetworkCoursesIBMDeveloperSkillsNetworkPY0101ENSkillsNetwork1005-2022-01-01)\n",
    "- **date_released** - Date on which the album was released\n",
    "- **soundtrack** - Indicates if the album is the movie soundtrack (Y) or (N)\n",
    "- **rating_of_friends** - Indicates the rating from your friends from 1 to 10\n",
    "<br>\n",
    "<br>\n",
    "\n",
    "The dataset can be seen below:\n",
    "\n",
    "<font size=\"1\">\n",
    "<table font-size:xx-small>\n",
    "  <tr>\n",
    "    <th>Artist</th>\n",
    "    <th>Album</th> \n",
    "    <th>Released</th>\n",
    "    <th>Length</th>\n",
    "    <th>Genre</th> \n",
    "    <th>Music recording sales (millions)</th>\n",
    "    <th>Claimed sales (millions)</th>\n",
    "    <th>Released</th>\n",
    "    <th>Soundtrack</th>\n",
    "    <th>Rating (friends)</th>\n",
    "  </tr>\n",
    "  <tr>\n",
    "    <td>Michael Jackson</td>\n",
    "    <td>Thriller</td> \n",
    "    <td>1982</td>\n",
    "    <td>00:42:19</td>\n",
    "    <td>Pop, rock, R&B</td>\n",
    "    <td>46</td>\n",
    "    <td>65</td>\n",
    "    <td>30-Nov-82</td>\n",
    "    <td></td>\n",
    "    <td>10.0</td>\n",
    "  </tr>\n",
    "  <tr>\n",
    "    <td>AC/DC</td>\n",
    "    <td>Back in Black</td> \n",
    "    <td>1980</td>\n",
    "    <td>00:42:11</td>\n",
    "    <td>Hard rock</td>\n",
    "    <td>26.1</td>\n",
    "    <td>50</td>\n",
    "    <td>25-Jul-80</td>\n",
    "    <td></td>\n",
    "    <td>8.5</td>\n",
    "  </tr>\n",
    "    <tr>\n",
    "    <td>Pink Floyd</td>\n",
    "    <td>The Dark Side of the Moon</td> \n",
    "    <td>1973</td>\n",
    "    <td>00:42:49</td>\n",
    "    <td>Progressive rock</td>\n",
    "    <td>24.2</td>\n",
    "    <td>45</td>\n",
    "    <td>01-Mar-73</td>\n",
    "    <td></td>\n",
    "    <td>9.5</td>\n",
    "  </tr>\n",
    "    <tr>\n",
    "    <td>Whitney Houston</td>\n",
    "    <td>The Bodyguard</td> \n",
    "    <td>1992</td>\n",
    "    <td>00:57:44</td>\n",
    "    <td>Soundtrack/R&B, soul, pop</td>\n",
    "    <td>26.1</td>\n",
    "    <td>50</td>\n",
    "    <td>25-Jul-80</td>\n",
    "    <td>Y</td>\n",
    "    <td>7.0</td>\n",
    "  </tr>\n",
    "    <tr>\n",
    "    <td>Meat Loaf</td>\n",
    "    <td>Bat Out of Hell</td> \n",
    "    <td>1977</td>\n",
    "    <td>00:46:33</td>\n",
    "    <td>Hard rock, progressive rock</td>\n",
    "    <td>20.6</td>\n",
    "    <td>43</td>\n",
    "    <td>21-Oct-77</td>\n",
    "    <td></td>\n",
    "    <td>7.0</td>\n",
    "  </tr>\n",
    "    <tr>\n",
    "    <td>Eagles</td>\n",
    "    <td>Their Greatest Hits (1971-1975)</td> \n",
    "    <td>1976</td>\n",
    "    <td>00:43:08</td>\n",
    "    <td>Rock, soft rock, folk rock</td>\n",
    "    <td>32.2</td>\n",
    "    <td>42</td>\n",
    "    <td>17-Feb-76</td>\n",
    "    <td></td>\n",
    "    <td>9.5</td>\n",
    "  </tr>\n",
    "    <tr>\n",
    "    <td>Bee Gees</td>\n",
    "    <td>Saturday Night Fever</td> \n",
    "    <td>1977</td>\n",
    "    <td>1:15:54</td>\n",
    "    <td>Disco</td>\n",
    "    <td>20.6</td>\n",
    "    <td>40</td>\n",
    "    <td>15-Nov-77</td>\n",
    "    <td>Y</td>\n",
    "    <td>9.0</td>\n",
    "  </tr>\n",
    "    <tr>\n",
    "    <td>Fleetwood Mac</td>\n",
    "    <td>Rumours</td> \n",
    "    <td>1977</td>\n",
    "    <td>00:40:01</td>\n",
    "    <td>Soft rock</td>\n",
    "    <td>27.9</td>\n",
    "    <td>40</td>\n",
    "    <td>04-Feb-77</td>\n",
    "    <td></td>\n",
    "    <td>9.5</td>\n",
    "  </tr>\n",
    "</table></font>\n"
   ]
  },
  {
   "cell_type": "markdown",
   "id": "3e26586a-a075-4b4f-9bf5-8e56346e362d",
   "metadata": {},
   "source": [
    "<h2 id=\"list\">Lists</h2>\n"
   ]
  },
  {
   "cell_type": "markdown",
   "id": "182807d1-7c19-41ae-8963-da2a18403328",
   "metadata": {},
   "source": [
    "<h3 id=\"index\">Indexing</h3>\n"
   ]
  },
  {
   "cell_type": "markdown",
   "id": "5754fdf3-221c-4b1d-a30b-bff7f8f85166",
   "metadata": {},
   "source": [
    "We are going to take a look at lists in Python. A list is a sequenced collection of different objects such as integers, strings, and even other lists as well. The address of each element within a list is called an <b>index</b>. An index is used to access and refer to items within a list.\n"
   ]
  },
  {
   "cell_type": "markdown",
   "id": "e22c95e2-8934-442a-845a-a936a94a4c79",
   "metadata": {},
   "source": [
    "<img src=\"https://cf-courses-data.s3.us.cloud-object-storage.appdomain.cloud/IBMDeveloperSkillsNetwork-PY0101EN-SkillsNetwork/labs/Module%202/images/ListsIndex.png\" width=\"1000\">\n"
   ]
  },
  {
   "cell_type": "markdown",
   "id": "27e25f4d-f276-47e7-9464-fa31da69a7f0",
   "metadata": {},
   "source": [
    " To create a list, type the list within square brackets <b>[ ]</b>, with your content inside the parenthesis and separated by commas. Let’s try it!\n"
   ]
  },
  {
   "cell_type": "code",
   "execution_count": 15,
   "id": "e9a60815-30ca-419c-a0ac-5cbef5b7537c",
   "metadata": {},
   "outputs": [
    {
     "data": {
      "text/plain": [
       "['Michael Jackson', 10.1, 1982]"
      ]
     },
     "execution_count": 15,
     "metadata": {},
     "output_type": "execute_result"
    }
   ],
   "source": [
    "# Create a list\n",
    "\n",
    "L = [\"Michael Jackson\", 10.1, 1982]\n",
    "L"
   ]
  },
  {
   "cell_type": "markdown",
   "id": "c23d9ed5-7286-42c3-b0ea-cae412497c71",
   "metadata": {},
   "source": [
    "We can use negative and regular indexing with a list:\n"
   ]
  },
  {
   "cell_type": "markdown",
   "id": "77f58c04-4d82-4cc2-a13b-2d33b75a5edf",
   "metadata": {},
   "source": [
    "<img src=\"https://cf-courses-data.s3.us.cloud-object-storage.appdomain.cloud/IBMDeveloperSkillsNetwork-PY0101EN-SkillsNetwork/labs/Module%202/images/ListsNeg.png\" width=\"1000\">\n"
   ]
  },
  {
   "cell_type": "code",
   "execution_count": 19,
   "id": "2cdcd07b-6563-4a1d-9e8c-79416595ba01",
   "metadata": {},
   "outputs": [
    {
     "name": "stdout",
     "output_type": "stream",
     "text": [
      "the same element using negative and positive indexing:\n",
      " Postive: Michael Jackson \n",
      " Negative: Michael Jackson\n",
      "the same element using negative and positive indexing:\n",
      " Postive: 10.1 \n",
      " Negative: 10.1\n",
      "the same element using negative and positive indexing:\n",
      " Postive: 1982 \n",
      " Negative: 1982\n"
     ]
    }
   ],
   "source": [
    "# Print the elements on each index\n",
    "\n",
    "print('the same element using negative and positive indexing:\\n Postive:',L[0],\n",
    "'\\n Negative:' , L[-3]  )\n",
    "print('the same element using negative and positive indexing:\\n Postive:',L[1],\n",
    "'\\n Negative:' , L[-2]  )\n",
    "print('the same element using negative and positive indexing:\\n Postive:',L[2],\n",
    "'\\n Negative:' , L[-1]  )"
   ]
  },
  {
   "cell_type": "markdown",
   "id": "dd48c4da-f420-43fb-b792-d98b6f684b2a",
   "metadata": {},
   "source": [
    "<h3 id=\"content\">List Content</h3>\n"
   ]
  },
  {
   "cell_type": "markdown",
   "id": "80acdd8d-a8df-4a5b-a0a8-b25c94d173e5",
   "metadata": {},
   "source": [
    "Lists can contain strings, floats, and integers. We can nest other lists, and we can also nest tuples and other data structures. The same indexing conventions apply for nesting:    \n"
   ]
  },
  {
   "cell_type": "code",
   "execution_count": 23,
   "id": "e7cbbd35-7926-48a7-b50e-8b66d8faba53",
   "metadata": {},
   "outputs": [
    {
     "data": {
      "text/plain": [
       "['Michael Jackson', 10.1, 1982, [1, 2], ('A', 1)]"
      ]
     },
     "execution_count": 23,
     "metadata": {},
     "output_type": "execute_result"
    }
   ],
   "source": [
    "# Sample list\n",
    "\n",
    "[\"Michael Jackson\", 10.1, 1982, [1, 2], (\"A\", 1)]"
   ]
  },
  {
   "cell_type": "markdown",
   "id": "680fb5a6-372b-4964-aaee-c6fb2569f83c",
   "metadata": {},
   "source": [
    "<h3 id=\"op\">List Operations</h3>\n"
   ]
  },
  {
   "cell_type": "markdown",
   "id": "69e94e51-29ba-4399-ba56-f3f05c37df9b",
   "metadata": {},
   "source": [
    " We can also perform slicing in lists. For example, if we want the last two elements, we use the following command:\n"
   ]
  },
  {
   "cell_type": "code",
   "execution_count": 27,
   "id": "d7716a33-568d-4857-9a2e-3a3354c317f9",
   "metadata": {},
   "outputs": [
    {
     "data": {
      "text/plain": [
       "['Michael Jackson', 10.1, 1982, 'MJ', 1]"
      ]
     },
     "execution_count": 27,
     "metadata": {},
     "output_type": "execute_result"
    }
   ],
   "source": [
    "# Sample List\n",
    "\n",
    "L = [\"Michael Jackson\", 10.1, 1982, \"MJ\", 1]\n",
    "L"
   ]
  },
  {
   "cell_type": "markdown",
   "id": "a021fa77-e384-4f61-8384-79de6c35fe8e",
   "metadata": {},
   "source": [
    "<img src=\"https://cf-courses-data.s3.us.cloud-object-storage.appdomain.cloud/IBMDeveloperSkillsNetwork-PY0101EN-SkillsNetwork/labs/Module%202/images/ListsSlice.png\" width=\"1000\">\n"
   ]
  },
  {
   "cell_type": "code",
   "execution_count": 32,
   "id": "e36b85d8-92b5-412d-ace0-505005512d3e",
   "metadata": {},
   "outputs": [
    {
     "data": {
      "text/plain": [
       "['MJ', 1]"
      ]
     },
     "execution_count": 32,
     "metadata": {},
     "output_type": "execute_result"
    }
   ],
   "source": [
    "# List slicing\n",
    "\n",
    "L[3:5]"
   ]
  },
  {
   "cell_type": "markdown",
   "id": "88f04dc5-c4c1-49ca-a2e1-8f4cebbdb167",
   "metadata": {},
   "source": [
    "We can use the method <code>extend</code> to add new elements to the list:\n"
   ]
  },
  {
   "cell_type": "code",
   "execution_count": 40,
   "id": "cbb115f7-77d2-4557-b5fa-2b7f1d27a264",
   "metadata": {},
   "outputs": [
    {
     "data": {
      "text/plain": [
       "['Michael Jackson', 10.2, 'pop', 10]"
      ]
     },
     "execution_count": 40,
     "metadata": {},
     "output_type": "execute_result"
    }
   ],
   "source": [
    "# Use extend to Add elements to list\n",
    "\n",
    "L = [\"Michael Jackson\", 10.2]\n",
    "L.extend(['pop',10])\n",
    "L"
   ]
  },
  {
   "cell_type": "markdown",
   "id": "026316d3-9f37-4ff5-ab5e-9a02c735ee6b",
   "metadata": {},
   "source": [
    "Another similar method is <code>append</code>. If we apply <code>append</code> instead of <code>extend</code>, we add one element to the list:\n"
   ]
  },
  {
   "cell_type": "code",
   "execution_count": 43,
   "id": "246efb06-2c3e-411f-9729-d52daf83d4ce",
   "metadata": {},
   "outputs": [
    {
     "data": {
      "text/plain": [
       "['Michael Jackson', 10.2, ['pop', 10]]"
      ]
     },
     "execution_count": 43,
     "metadata": {},
     "output_type": "execute_result"
    }
   ],
   "source": [
    "# Use append to add elements to list\n",
    "\n",
    "L = [\"Michael Jackson\", 10.2]\n",
    "L.append(['pop', 10])\n",
    "L\n"
   ]
  },
  {
   "cell_type": "markdown",
   "id": "3484d290-d365-4214-b3f0-f79bf58c5cc9",
   "metadata": {},
   "source": [
    " Each time we apply a method, the list changes. If we apply <code>extend</code> we add two new elements to the list. The list <code>L</code> is then modified by adding two new elements:\n"
   ]
  },
  {
   "cell_type": "code",
   "execution_count": 46,
   "id": "0eb318ba-c038-4f0c-bbf9-fa94b7eca42a",
   "metadata": {},
   "outputs": [
    {
     "data": {
      "text/plain": [
       "['Michael Jackson', 10.2, 'pop', 10]"
      ]
     },
     "execution_count": 46,
     "metadata": {},
     "output_type": "execute_result"
    }
   ],
   "source": [
    "# Use extend to add elements to list\n",
    "\n",
    "L = [\"Michael Jackson\", 10.2]\n",
    "L.extend(['pop', 10])\n",
    "L\n"
   ]
  },
  {
   "cell_type": "markdown",
   "id": "e01f4a89-9535-4afe-ad5b-795eab7c4aa4",
   "metadata": {},
   "source": [
    "If we append the list  <code>['a','b']</code> we have one new element consisting of a nested list:\n"
   ]
  },
  {
   "cell_type": "code",
   "execution_count": 49,
   "id": "96943f71-893e-44ed-a6f3-d612d347f44f",
   "metadata": {},
   "outputs": [
    {
     "data": {
      "text/plain": [
       "['Michael Jackson', 10.2, 'pop', 10, ['a', 'b']]"
      ]
     },
     "execution_count": 49,
     "metadata": {},
     "output_type": "execute_result"
    }
   ],
   "source": [
    "# Use append to add elements to list\n",
    "\n",
    "L.append(['a', 'b'])\n",
    "L"
   ]
  },
  {
   "cell_type": "markdown",
   "id": "e4c7409d-5330-4667-8154-6b73096850a5",
   "metadata": {},
   "source": [
    "As lists are mutable, we can change them. For example, we can change the first element as follows:\n"
   ]
  },
  {
   "cell_type": "code",
   "execution_count": 52,
   "id": "7ea09ce3-7376-4370-adc5-ecaadec86ea7",
   "metadata": {},
   "outputs": [
    {
     "name": "stdout",
     "output_type": "stream",
     "text": [
      "Before change: ['disco', 10, 1.2]\n",
      "After change: ['hard rock', 10, 1.2]\n"
     ]
    }
   ],
   "source": [
    "# Change the element based on the index\n",
    "\n",
    "A = [\"disco\", 10, 1.2]\n",
    "print('Before change:', A)\n",
    "\n",
    "A[0] = 'hard rock'\n",
    "print('After change:', A)"
   ]
  },
  {
   "cell_type": "markdown",
   "id": "ea5d5e83-66ba-4971-838f-ef180cb2eca7",
   "metadata": {},
   "source": [
    " We can also delete an element of a list using the <code>del</code> command:\n"
   ]
  },
  {
   "cell_type": "code",
   "execution_count": 64,
   "id": "e4a4d053-406a-4974-a854-1f9994c514ed",
   "metadata": {},
   "outputs": [
    {
     "name": "stdout",
     "output_type": "stream",
     "text": [
      "Before change: [10, 1.2]\n",
      "After change: [1.2]\n"
     ]
    }
   ],
   "source": [
    "# Delete the element based on  the index\n",
    "\n",
    "print('Before change:', A)\n",
    "del(A[0])\n",
    "print('After change:', A)"
   ]
  },
  {
   "cell_type": "markdown",
   "id": "7f112254-5daa-48ad-967b-f2779e8ea4b0",
   "metadata": {},
   "source": [
    "We can convert a string to a list using <code>split</code>.  For example, the method <code>split</code> translates every group of characters separated by a space into an element in a list:\n"
   ]
  },
  {
   "cell_type": "code",
   "execution_count": 58,
   "id": "18e7894d-a9fb-40d6-93cb-a0cab76753fa",
   "metadata": {},
   "outputs": [
    {
     "data": {
      "text/plain": [
       "['hard', 'rock']"
      ]
     },
     "execution_count": 58,
     "metadata": {},
     "output_type": "execute_result"
    }
   ],
   "source": [
    "# Split the string, default is by space\n",
    "\n",
    "'hard rock'.split()"
   ]
  },
  {
   "cell_type": "markdown",
   "id": "2af0776c-c9b0-4ab0-adc3-1ca0c774b2f6",
   "metadata": {},
   "source": [
    "We can use the split function to separate strings on a specific character which we call a **delimiter**. We pass the character we would like to split on into the argument, which in this case is a comma.  The result is a list, and each element corresponds to a set of characters that have been separated by a comma: \n"
   ]
  },
  {
   "cell_type": "code",
   "execution_count": 61,
   "id": "1daeb02a-9baf-48e9-abaa-2f964fd80f22",
   "metadata": {},
   "outputs": [
    {
     "data": {
      "text/plain": [
       "['A', 'B', 'C', 'D']"
      ]
     },
     "execution_count": 61,
     "metadata": {},
     "output_type": "execute_result"
    }
   ],
   "source": [
    "# Split the string by comma\n",
    "\n",
    "'A,B,C,D'.split(',')"
   ]
  },
  {
   "cell_type": "markdown",
   "id": "8d22ff95-eb66-41ee-9a7b-0ac0fef5e185",
   "metadata": {},
   "source": [
    "<h3 id=\"co\">Copy and Clone List</h3>\n"
   ]
  },
  {
   "cell_type": "markdown",
   "id": "9ad1b2c9-82ee-487f-8e4c-b0a0e41820d4",
   "metadata": {},
   "source": [
    "When we set one variable <b>B</b> equal to <b>A</b>, both <b>A</b> and <b>B</b> are referencing the same list in memory:\n"
   ]
  },
  {
   "cell_type": "code",
   "execution_count": 67,
   "id": "011cb1ad-9706-41ff-9cac-88011c53abe4",
   "metadata": {},
   "outputs": [
    {
     "name": "stdout",
     "output_type": "stream",
     "text": [
      "A: ['hard rock', 10, 1.2]\n",
      "B: ['hard rock', 10, 1.2]\n"
     ]
    }
   ],
   "source": [
    "# Copy (copy by reference) the list A\n",
    "\n",
    "A = [\"hard rock\", 10, 1.2]\n",
    "B = A\n",
    "print('A:', A)\n",
    "print('B:', B)"
   ]
  },
  {
   "cell_type": "markdown",
   "id": "7b81b683-8c84-4cd8-8f57-55dd97673de8",
   "metadata": {},
   "source": [
    "<img src=\"https://cf-courses-data.s3.us.cloud-object-storage.appdomain.cloud/IBMDeveloperSkillsNetwork-PY0101EN-SkillsNetwork/labs/Module%202/images/ListsRef.png\" width=\"1000\" align=\"center\">\n"
   ]
  },
  {
   "cell_type": "markdown",
   "id": "2dc94641-9812-4bdc-a173-2d91c5d1888e",
   "metadata": {},
   "source": [
    "Initially, the value of the first element in <b>B</b> is set as \"hard rock\". If we change the first element in <b>A</b> to <b>\"banana\"</b>, we get an unexpected side effect.  As <b>A</b> and <b>B</b> are referencing the same list, if we change list <b>A</b>, then list <b>B</b> also changes. If we check the first element of <b>B</b> we get \"banana\" instead of \"hard rock\":\n"
   ]
  },
  {
   "cell_type": "code",
   "execution_count": 71,
   "id": "f185be4b-d2aa-446c-b3f3-e4db448bf8c4",
   "metadata": {},
   "outputs": [
    {
     "name": "stdout",
     "output_type": "stream",
     "text": [
      "B[0]: hard rock\n",
      "B[0]: banana\n"
     ]
    }
   ],
   "source": [
    "# Examine the copyby reference\n",
    "\n",
    "print('B[0]:', B[0])\n",
    "A[0] = \"banana\"\n",
    "\n",
    "print('B[0]:', B[0])"
   ]
  },
  {
   "cell_type": "markdown",
   "id": "6c90639d-2dfb-48af-babd-b8fad9f97c33",
   "metadata": {},
   "source": [
    "This is demonstrated in the following figure: \n"
   ]
  },
  {
   "cell_type": "markdown",
   "id": "f7b346f6-d980-4a20-8105-8e6f9f4a9402",
   "metadata": {},
   "source": [
    "<img src=\"https://cf-courses-data.s3.us.cloud-object-storage.appdomain.cloud/IBMDeveloperSkillsNetwork-PY0101EN-SkillsNetwork/labs/Module%202/images/ListsRefGif.gif\" width=\"1000\">\n"
   ]
  },
  {
   "cell_type": "markdown",
   "id": "a20af07f-6f7f-4050-90ac-5bd95e14a00a",
   "metadata": {},
   "source": [
    "You can clone list **A** by using  the following syntax:\n"
   ]
  },
  {
   "cell_type": "code",
   "execution_count": 76,
   "id": "52fd659c-099e-4d57-a4d6-a8fad06bc46c",
   "metadata": {},
   "outputs": [
    {
     "data": {
      "text/plain": [
       "['banana', 10, 1.2]"
      ]
     },
     "execution_count": 76,
     "metadata": {},
     "output_type": "execute_result"
    }
   ],
   "source": [
    "# Clone (clone by value) the list A\n",
    "\n",
    "B = A[:]\n",
    "B"
   ]
  },
  {
   "cell_type": "markdown",
   "id": "96c999e7-bf34-4d61-8930-f872e3da597f",
   "metadata": {},
   "source": [
    " Variable **B** references a new copy or clone of the original list. This is demonstrated in the following figure:\n"
   ]
  },
  {
   "cell_type": "markdown",
   "id": "a35eb061-5f89-478a-881a-4a9a16571042",
   "metadata": {},
   "source": [
    "<img src=\"https://cf-courses-data.s3.us.cloud-object-storage.appdomain.cloud/IBMDeveloperSkillsNetwork-PY0101EN-SkillsNetwork/labs/Module%202/images/ListsVal.gif\" width=\"1000\">\n"
   ]
  },
  {
   "cell_type": "markdown",
   "id": "318fd3dd-7b31-4b81-b794-ca17f464396e",
   "metadata": {},
   "source": [
    "Now if you change <b>A</b>, <b>B</b> will not change: \n"
   ]
  },
  {
   "cell_type": "code",
   "execution_count": 81,
   "id": "c8e3b843-53c7-4fe6-a9e0-8af9053511cb",
   "metadata": {},
   "outputs": [
    {
     "name": "stdout",
     "output_type": "stream",
     "text": [
      "B[0]: banana\n",
      "B[0]: banana\n"
     ]
    }
   ],
   "source": [
    "print('B[0]:', B[0])\n",
    "A[0] = \"hard rock\"\n",
    "print('B[0]:', B[0])"
   ]
  },
  {
   "cell_type": "markdown",
   "id": "2308589f-7b5e-4095-b93f-0f073afdaaa3",
   "metadata": {},
   "source": [
    "<h2 id=\"quiz\">Quiz on List</h2>\n"
   ]
  },
  {
   "cell_type": "markdown",
   "id": "ebeb1d39-ac49-407c-985e-518528c05fbd",
   "metadata": {},
   "source": [
    "Create a list <code>a_list</code>, with the following elements <code>1</code>, <code>hello</code>, <code>[1,2,3]</code> and <code>True</code>. \n"
   ]
  },
  {
   "cell_type": "code",
   "execution_count": 85,
   "id": "7ee0b674-a001-488f-bd6b-e7f36b025402",
   "metadata": {},
   "outputs": [
    {
     "data": {
      "text/plain": [
       "[1, 'hello', [1, 2, 3], True]"
      ]
     },
     "execution_count": 85,
     "metadata": {},
     "output_type": "execute_result"
    }
   ],
   "source": [
    "# Write your code below and press Shift+Enter to execute\n",
    "a_list = [1, 'hello', [1,2,3], True]\n",
    "a_list"
   ]
  },
  {
   "cell_type": "markdown",
   "id": "16ca623b-35c0-45e0-bc0f-2e878a676533",
   "metadata": {},
   "source": [
    "<details><summary>Click here for the solution</summary>\n",
    "\n",
    "```python\n",
    "a_list = [1, 'hello', [1, 2, 3] , True]\n",
    "a_list\n",
    "\n",
    "```\n",
    "\n",
    "</details>\n"
   ]
  },
  {
   "cell_type": "markdown",
   "id": "50ae6e45-a8a8-4f36-ba2e-91fdf3ec664b",
   "metadata": {},
   "source": [
    "Find the value stored at index 1 of <code>a_list</code>.\n"
   ]
  },
  {
   "cell_type": "code",
   "execution_count": 89,
   "id": "f4323318-7175-4779-9078-46a686ff6155",
   "metadata": {},
   "outputs": [
    {
     "data": {
      "text/plain": [
       "'hello'"
      ]
     },
     "execution_count": 89,
     "metadata": {},
     "output_type": "execute_result"
    }
   ],
   "source": [
    "# Write your code below and press Shift+Enter to execute\n",
    "a_list[1]"
   ]
  },
  {
   "cell_type": "markdown",
   "id": "85c60114-c2c0-490a-95f8-37cb0146b327",
   "metadata": {},
   "source": [
    "<details><summary>Click here for the solution</summary>\n",
    "\n",
    "```python\n",
    "a_list[1]\n",
    "\n",
    "```\n",
    "\n",
    "</details>\n"
   ]
  },
  {
   "cell_type": "markdown",
   "id": "37d1040c-7575-490f-8fa2-8f3118eab633",
   "metadata": {},
   "source": [
    "Retrieve the elements stored at index 1, 2 and 3 of <code>a_list</code>.\n"
   ]
  },
  {
   "cell_type": "code",
   "execution_count": 93,
   "id": "08499720-be21-4e05-9725-8e99ecef8073",
   "metadata": {},
   "outputs": [
    {
     "data": {
      "text/plain": [
       "['hello', [1, 2, 3], True]"
      ]
     },
     "execution_count": 93,
     "metadata": {},
     "output_type": "execute_result"
    }
   ],
   "source": [
    "# Write your code below and press Shift+Enter to execute\n",
    "a_list[1:4]"
   ]
  },
  {
   "cell_type": "markdown",
   "id": "c679efa3-3c23-4055-a984-f9296722bc9d",
   "metadata": {},
   "source": [
    "<details><summary>Click here for the solution</summary>\n",
    "\n",
    "```python\n",
    "a_list[1:4]\n",
    "\n",
    "```\n",
    "\n",
    "</details>\n"
   ]
  },
  {
   "cell_type": "markdown",
   "id": "96e8c367-82c8-4f1e-97f8-8567b06b79bd",
   "metadata": {},
   "source": [
    "Concatenate the following lists <code>A = [1, 'a']</code> and <code>B = [2, 1, 'd']</code>:\n"
   ]
  },
  {
   "cell_type": "code",
   "execution_count": 97,
   "id": "6fd95d2a-6203-4840-8fd5-a56421d04f31",
   "metadata": {},
   "outputs": [
    {
     "data": {
      "text/plain": [
       "[1, 'a', 2, 1, 'd']"
      ]
     },
     "execution_count": 97,
     "metadata": {},
     "output_type": "execute_result"
    }
   ],
   "source": [
    "# Write your code below and press Shift+Enter to execute\n",
    "A = [1, 'a']\n",
    "B = [2, 1, 'd']\n",
    "A+B"
   ]
  },
  {
   "cell_type": "markdown",
   "id": "89bcc76a-40f5-432f-bae8-b9468efe8a0c",
   "metadata": {},
   "source": [
    "<details><summary>Click here for the solution</summary>\n",
    "\n",
    "```python\n",
    "A = [1, 'a'] \n",
    "B = [2, 1, 'd']\n",
    "A + B\n",
    "\n",
    "```\n",
    "\n",
    "</details>\n"
   ]
  },
  {
   "cell_type": "markdown",
   "id": "76bb8650-3ead-4899-8d7a-29e2f5d23984",
   "metadata": {},
   "source": [
    "<hr>\n",
    "<h2>The last exercise!</h2>\n",
    "<p>Congratulations, you have completed your first lesson and hands-on lab in Python. \n",
    "<hr>\n"
   ]
  },
  {
   "cell_type": "markdown",
   "id": "f754e8d8-e2d2-42c3-a4b3-1486971a6811",
   "metadata": {},
   "source": [
    "# Sets"
   ]
  },
  {
   "cell_type": "markdown",
   "id": "4fd34a66-6a96-425d-89b5-89e11b65ddbf",
   "metadata": {},
   "source": [
    "<h3>Cast a List to a Set </h3>\r\n"
   ]
  },
  {
   "cell_type": "markdown",
   "id": "7183c02f-a676-4296-8fe0-e379459acdde",
   "metadata": {},
   "source": [
    "Cast the following list to a set:\r\n"
   ]
  },
  {
   "cell_type": "code",
   "execution_count": 4,
   "id": "bc516e1e-b119-427d-961a-0af88a16802d",
   "metadata": {},
   "outputs": [
    {
     "data": {
      "text/plain": [
       "{'A', 'B', 'C'}"
      ]
     },
     "execution_count": 4,
     "metadata": {},
     "output_type": "execute_result"
    }
   ],
   "source": [
    "['A','B','C','A','B','C']\n",
    "set(['A','B','C','A','B','C'])\n"
   ]
  },
  {
   "cell_type": "markdown",
   "id": "0d49dd64-7477-46e1-828b-16f81db24fa3",
   "metadata": {},
   "source": [
    "<details><summary>Click here for the solution</summary>\r\n",
    "\r\n",
    "```python\r\n",
    "set(['A','B','C','A','B','C'])\r\n",
    "\r\n",
    "```\r\n",
    "\r\n",
    "</details>\r\n"
   ]
  },
  {
   "cell_type": "markdown",
   "id": "38e595de-a5bf-409c-ab7b-ca9d5c12b709",
   "metadata": {},
   "source": [
    "<h3>Add an Element to the Set</h3> \r\n"
   ]
  },
  {
   "cell_type": "markdown",
   "id": "2082f5fa-17a8-442a-81cb-3e24d9831cee",
   "metadata": {},
   "source": [
    "Add the string  <code>'D'</code> to the set S.\r\n"
   ]
  },
  {
   "cell_type": "code",
   "execution_count": 13,
   "id": "5f7c746d-5b80-4a82-bbd4-e6302190c228",
   "metadata": {},
   "outputs": [
    {
     "data": {
      "text/plain": [
       "{'A', 'B', 'C', 'D'}"
      ]
     },
     "execution_count": 13,
     "metadata": {},
     "output_type": "execute_result"
    }
   ],
   "source": [
    "S={'A','B','C'}\n",
    "S.add('D')\n",
    "S"
   ]
  },
  {
   "cell_type": "markdown",
   "id": "8b30a384-1f67-47f8-af57-8735c356fd53",
   "metadata": {},
   "source": [
    "<details><summary>Click here for the solution</summary>\r\n",
    "\r\n",
    "```python\r\n",
    "S.add('D')\r\n",
    "S\r\n",
    "\r\n",
    "```\r\n",
    "\r\n",
    "</details>\r\n"
   ]
  },
  {
   "cell_type": "markdown",
   "id": "32752076-78e8-4ab9-a1f8-ee47b4731d7e",
   "metadata": {},
   "source": [
    "<h3>Intersection of Sets</h3> \r\n"
   ]
  },
  {
   "cell_type": "markdown",
   "id": "c84e8c0f-a41f-459f-8b65-03cd17d45d6c",
   "metadata": {},
   "source": [
    "Find the intersection of set <code>A</code> and <code>B</code>.\r\n"
   ]
  },
  {
   "cell_type": "code",
   "execution_count": 18,
   "id": "e39a0f57-1c14-49ca-9a05-645265db9508",
   "metadata": {},
   "outputs": [
    {
     "data": {
      "text/plain": [
       "{1, 3}"
      ]
     },
     "execution_count": 18,
     "metadata": {},
     "output_type": "execute_result"
    }
   ],
   "source": [
    "A={1,2,3,4,5}\n",
    "B={1,3,9, 12}\n",
    "A & B"
   ]
  },
  {
   "cell_type": "markdown",
   "id": "c549a2e3-22ba-46a6-983c-29b58fee5335",
   "metadata": {},
   "source": [
    "<details><summary>Click here for the solution</summary>\r\n",
    "\r\n",
    "```Python\r\n",
    "A & B\r\n",
    "\r\n",
    "```\r\n",
    "OR\r\n",
    "\r\n",
    "```Python\r\n",
    "A.intersection(B)\r\n",
    "```\r\n",
    "\r\n",
    "</details>\r\n"
   ]
  },
  {
   "cell_type": "markdown",
   "id": "01f13d82-893c-4782-8d88-6e6bf11c56bd",
   "metadata": {},
   "source": [
    "<hr>"
   ]
  },
  {
   "cell_type": "markdown",
   "id": "ead5e047-eb6c-4767-bbf4-8b3f4fe064c1",
   "metadata": {},
   "source": [
    "\n",
    "# Sets in Python\n",
    "\n",
    "\n",
    "Estimated time needed: **20** minutes\n",
    "    \n",
    "\n",
    "## Objectives\n",
    "\n",
    "After completing this lab you will be able to:\n",
    "\n",
    "* Work with sets in Python, including operations and logic operations.\n"
   ]
  },
  {
   "cell_type": "markdown",
   "id": "44950c4b-c07c-4dc7-ba3a-8f8f12114b1c",
   "metadata": {},
   "source": [
    "<h2>Table of Contents</h2>\n",
    "<div class=\"alert alert-block alert-info\" style=\"margin-top: 20px\">\n",
    "    <ul>\n",
    "        <li>\n",
    "            <a href=\"#set\">Sets</a>\n",
    "            <ul>\n",
    "                <li><a href=\"content\">Set Content</a></li>\n",
    "                <li><a href=\"op\">Set Operations</a></li>\n",
    "                <li><a href=\"logic\">Sets Logic Operations</a></li>\n",
    "            </ul>\n",
    "        </li>\n",
    "        <li>\n",
    "            <a href=\"#quiz\">Quiz on Sets</a>\n",
    "        </li>\n",
    "    </ul>\n",
    " \n",
    "</div>\n",
    "\n",
    "<hr>\n"
   ]
  },
  {
   "cell_type": "markdown",
   "id": "c91ecb32-84bc-4906-8122-d7a0184750e2",
   "metadata": {},
   "source": [
    "<h2 id=\"set\">Sets</h2>\n"
   ]
  },
  {
   "cell_type": "markdown",
   "id": "885cd8d0-65ed-459e-b050-5250d35513dd",
   "metadata": {},
   "source": [
    "<h3 id=\"content\">Set Content</h3>\n"
   ]
  },
  {
   "cell_type": "markdown",
   "id": "7982b532-7962-488d-a1fa-1cf8119917bd",
   "metadata": {},
   "source": [
    "A set is a unique collection of objects in Python. You can denote a set with a pair of curly brackets <b>{}</b>. Python will automatically remove duplicate items:\n"
   ]
  },
  {
   "cell_type": "code",
   "execution_count": 27,
   "id": "1d68bd75-d57b-4aea-bdfa-1a310ccf8394",
   "metadata": {},
   "outputs": [
    {
     "data": {
      "text/plain": [
       "{'R&B', 'disco', 'hard rock', 'pop', 'rock', 'soul'}"
      ]
     },
     "execution_count": 27,
     "metadata": {},
     "output_type": "execute_result"
    }
   ],
   "source": [
    "# Create a set\n",
    "\n",
    "set1 = {\"pop\", \"rock\", \"soul\", \"hard rock\", \"rock\", \"R&B\", \"rock\", \"disco\"}\n",
    "set1"
   ]
  },
  {
   "cell_type": "markdown",
   "id": "a3192b9b-610d-4520-b2f5-3b0cf116a3fb",
   "metadata": {},
   "source": [
    "The process of mapping is illustrated in the figure:\n"
   ]
  },
  {
   "cell_type": "markdown",
   "id": "91a5cc64-68eb-4e7e-bf41-6217d025a22a",
   "metadata": {},
   "source": [
    "<img src=\"https://cf-courses-data.s3.us.cloud-object-storage.appdomain.cloud/IBMDeveloperSkillsNetwork-PY0101EN-SkillsNetwork/labs/Module%202/images/SetsUnique.png\" width=\"1100\">\n"
   ]
  },
  {
   "cell_type": "markdown",
   "id": "be923277-7046-4fef-8bcf-05332f12d02b",
   "metadata": {},
   "source": [
    " You can also  create a set from a list as follows:\n"
   ]
  },
  {
   "cell_type": "code",
   "execution_count": 32,
   "id": "21a50c5a-b2f3-4a0f-8b90-4bff5e6c361f",
   "metadata": {},
   "outputs": [
    {
     "data": {
      "text/plain": [
       "{'00:42:19',\n",
       " 10.0,\n",
       " 1982,\n",
       " '30-Nov-82',\n",
       " 46.0,\n",
       " 65,\n",
       " 'Michael Jackson',\n",
       " None,\n",
       " 'Pop, Rock, R&B',\n",
       " 'Thriller'}"
      ]
     },
     "execution_count": 32,
     "metadata": {},
     "output_type": "execute_result"
    }
   ],
   "source": [
    "# Convert list to set\n",
    "\n",
    "album_list = [ \"Michael Jackson\", \"Thriller\", 1982, \"00:42:19\", \\\n",
    "              \"Pop, Rock, R&B\", 46.0, 65, \"30-Nov-82\", None, 10.0]\n",
    "album_set = set(album_list)             \n",
    "album_set"
   ]
  },
  {
   "cell_type": "markdown",
   "id": "f47c6182-6614-4d04-939e-9c15c520f276",
   "metadata": {},
   "source": [
    "Now let us create a set of  genres:\n"
   ]
  },
  {
   "cell_type": "code",
   "execution_count": 35,
   "id": "e487be3f-b0dc-4542-b3ed-8abc5d0396fa",
   "metadata": {},
   "outputs": [
    {
     "data": {
      "text/plain": [
       "{'R&B',\n",
       " 'disco',\n",
       " 'folk rock',\n",
       " 'hard rock',\n",
       " 'pop',\n",
       " 'progressive rock',\n",
       " 'rock',\n",
       " 'soft rock',\n",
       " 'soul'}"
      ]
     },
     "execution_count": 35,
     "metadata": {},
     "output_type": "execute_result"
    }
   ],
   "source": [
    "# Convert list to set\n",
    "\n",
    "music_genres = set([\"pop\", \"pop\", \"rock\", \"folk rock\", \"hard rock\", \"soul\", \\\n",
    "                    \"progressive rock\", \"soft rock\", \"R&B\", \"disco\"])\n",
    "music_genres"
   ]
  },
  {
   "cell_type": "markdown",
   "id": "2d954b88-0113-40e2-88cd-d8109e8655a7",
   "metadata": {},
   "source": [
    "<h3 id=\"op\">Set Operations</h3> \n"
   ]
  },
  {
   "cell_type": "markdown",
   "id": "afb724d1-e50e-48dc-a70c-7eaa5771b970",
   "metadata": {},
   "source": [
    "Let us go over set operations, as these can be used to change the set. Consider the set <b>A</b>:\n"
   ]
  },
  {
   "cell_type": "code",
   "execution_count": 39,
   "id": "4bc433e0-eaf1-43ef-bc5c-1953547521e1",
   "metadata": {},
   "outputs": [
    {
     "data": {
      "text/plain": [
       "{'AC/DC', 'Back in Black', 'Thriller'}"
      ]
     },
     "execution_count": 39,
     "metadata": {},
     "output_type": "execute_result"
    }
   ],
   "source": [
    "# Sample set\n",
    "\n",
    "A = set([\"Thriller\", \"Back in Black\", \"AC/DC\"])\n",
    "A"
   ]
  },
  {
   "cell_type": "markdown",
   "id": "7ddcb14a-7f21-4d77-942e-4ec6c7673afb",
   "metadata": {},
   "source": [
    " We can add an element to a set using the <code>add()</code> method: \n"
   ]
  },
  {
   "cell_type": "code",
   "execution_count": 42,
   "id": "c01ef070-a80f-4f00-be2d-4f76dde6797a",
   "metadata": {},
   "outputs": [
    {
     "data": {
      "text/plain": [
       "{'AC/DC', 'Back in Black', 'NSYNC', 'Thriller'}"
      ]
     },
     "execution_count": 42,
     "metadata": {},
     "output_type": "execute_result"
    }
   ],
   "source": [
    "# Add element to set\n",
    "\n",
    "A.add(\"NSYNC\")\n",
    "A"
   ]
  },
  {
   "cell_type": "markdown",
   "id": "a8d98b37-d040-4a7e-8b33-194dc0e00bf6",
   "metadata": {},
   "source": [
    " If we add the same element twice, nothing will happen as there can be no duplicates in a set:\n"
   ]
  },
  {
   "cell_type": "code",
   "execution_count": 47,
   "id": "a52dfdc3-9cee-4259-98d3-30f91d80bd5f",
   "metadata": {},
   "outputs": [
    {
     "data": {
      "text/plain": [
       "{'AC/DC', 'Back in Black', 'NSYNC', 'Thriller'}"
      ]
     },
     "execution_count": 47,
     "metadata": {},
     "output_type": "execute_result"
    }
   ],
   "source": [
    "# Try to add duplicate element to the set\n",
    "\n",
    "A.add(\"NSYNC\")\n",
    "A"
   ]
  },
  {
   "cell_type": "markdown",
   "id": "af2b75eb-98f8-47c6-8381-d4e49f2901e2",
   "metadata": {},
   "source": [
    " We can remove an item from a set using the <code>remove</code> method:\n"
   ]
  },
  {
   "cell_type": "code",
   "execution_count": 50,
   "id": "7ad2bdcd-f8e3-424a-9571-6069a428be35",
   "metadata": {},
   "outputs": [
    {
     "data": {
      "text/plain": [
       "{'AC/DC', 'Back in Black', 'Thriller'}"
      ]
     },
     "execution_count": 50,
     "metadata": {},
     "output_type": "execute_result"
    }
   ],
   "source": [
    "# Remove the element from set\n",
    "\n",
    "A.remove(\"NSYNC\")\n",
    "A"
   ]
  },
  {
   "cell_type": "markdown",
   "id": "6c3cea8f-e412-48f0-b9b8-c123968070a2",
   "metadata": {},
   "source": [
    " We can verify if an element is in the set using the <code>in</code> command:\n"
   ]
  },
  {
   "cell_type": "code",
   "execution_count": 53,
   "id": "2bff1387-a577-4bbf-933b-f199a638229f",
   "metadata": {},
   "outputs": [
    {
     "data": {
      "text/plain": [
       "True"
      ]
     },
     "execution_count": 53,
     "metadata": {},
     "output_type": "execute_result"
    }
   ],
   "source": [
    "# Verify if the element is in the set\n",
    "\n",
    "\"AC/DC\" in A"
   ]
  },
  {
   "cell_type": "markdown",
   "id": "269ed31c-363a-4e66-88af-09da91236de1",
   "metadata": {},
   "source": [
    "<h3 id=\"logic\">Sets Logic Operations</h3>\n"
   ]
  },
  {
   "cell_type": "markdown",
   "id": "af0c5d6c-d4f2-40cb-8658-66496d315647",
   "metadata": {},
   "source": [
    "Remember that with sets you can check the difference between sets, as well as the symmetric difference, intersection, and union:\n"
   ]
  },
  {
   "cell_type": "markdown",
   "id": "af39ddea-613a-4e8e-9426-f5885f24e66d",
   "metadata": {},
   "source": [
    " Consider the following two sets:\n"
   ]
  },
  {
   "cell_type": "code",
   "execution_count": 58,
   "id": "2e14ff61-1fe5-41bd-91a2-3dededc6abe6",
   "metadata": {},
   "outputs": [],
   "source": [
    "# Sample Sets\n",
    "\n",
    "album_set1 = set([\"Thriller\", 'AC/DC', 'Back in Black'])\n",
    "album_set2 = set([ \"AC/DC\", \"Back in Black\", \"The Dark Side of the Moon\"])"
   ]
  },
  {
   "cell_type": "markdown",
   "id": "f858023a-1ddd-4a22-bf66-75cb8f1a9e24",
   "metadata": {},
   "source": [
    "<img src=\"https://cf-courses-data.s3.us.cloud-object-storage.appdomain.cloud/IBMDeveloperSkillsNetwork-PY0101EN-SkillsNetwork/labs/Module%202/images/SetsSamples.png\" width=\"650\">\n"
   ]
  },
  {
   "cell_type": "code",
   "execution_count": 61,
   "id": "491ba7e9-43e1-4dbd-a3ac-1c4a3942ce9e",
   "metadata": {},
   "outputs": [
    {
     "data": {
      "text/plain": [
       "({'AC/DC', 'Back in Black', 'Thriller'},\n",
       " {'AC/DC', 'Back in Black', 'The Dark Side of the Moon'})"
      ]
     },
     "execution_count": 61,
     "metadata": {},
     "output_type": "execute_result"
    }
   ],
   "source": [
    "# Print two sets\n",
    "\n",
    "album_set1, album_set2\n"
   ]
  },
  {
   "cell_type": "markdown",
   "id": "afa8eb36-e465-4633-8bdf-c8420c1b89df",
   "metadata": {},
   "source": [
    "As both sets contain <b>AC/DC</b> and <b>Back in Black</b> we represent these common elements with the intersection of two circles.\n"
   ]
  },
  {
   "cell_type": "markdown",
   "id": "3c157315-afa7-4810-9146-d014eeb64184",
   "metadata": {},
   "source": [
    "<img src=\"https://cf-courses-data.s3.us.cloud-object-storage.appdomain.cloud/IBMDeveloperSkillsNetwork-PY0101EN-SkillsNetwork/labs/Module%202/images/SetsLogic.png\" width=\"650\">\n"
   ]
  },
  {
   "cell_type": "markdown",
   "id": "279b7d2a-36c4-4c19-af36-37b6de9d2bc8",
   "metadata": {},
   "source": [
    "You can find the intersect of two sets as follow using <code>&</code>:\n"
   ]
  },
  {
   "cell_type": "code",
   "execution_count": 66,
   "id": "f8988048-1ba9-4c48-900c-98766ffe0528",
   "metadata": {},
   "outputs": [
    {
     "data": {
      "text/plain": [
       "{'AC/DC', 'Back in Black'}"
      ]
     },
     "execution_count": 66,
     "metadata": {},
     "output_type": "execute_result"
    }
   ],
   "source": [
    "# Find the intersections\n",
    "\n",
    "intersection = album_set1 & album_set2\n",
    "intersection"
   ]
  },
  {
   "cell_type": "markdown",
   "id": "f4469db4-4a2f-44e9-aaad-e89d74800806",
   "metadata": {},
   "source": [
    "You can find all the elements that are only contained in <code>album_set1</code> using the <code>difference</code> method:\n"
   ]
  },
  {
   "cell_type": "code",
   "execution_count": 69,
   "id": "0dc2654f-acb6-4ca6-b930-c633012bdfaa",
   "metadata": {},
   "outputs": [
    {
     "data": {
      "text/plain": [
       "{'Thriller'}"
      ]
     },
     "execution_count": 69,
     "metadata": {},
     "output_type": "execute_result"
    }
   ],
   "source": [
    "# Find the difference in set1 but not set2\n",
    "\n",
    "album_set1.difference(album_set2)"
   ]
  },
  {
   "cell_type": "markdown",
   "id": "1e738aeb-cf64-41ce-ab02-9bf1e784acf3",
   "metadata": {},
   "source": [
    "You only need to consider elements in <code>album_set1</code>; all the elements in <code>album_set2</code>, including the intersection, are not included.\n"
   ]
  },
  {
   "cell_type": "markdown",
   "id": "89bf7cf7-9b3a-4c59-8207-f29e1f739f3c",
   "metadata": {},
   "source": [
    "<img src=\"https://cf-courses-data.s3.us.cloud-object-storage.appdomain.cloud/IBMDeveloperSkillsNetwork-PY0101EN-SkillsNetwork/labs/Module%202/images/SetsLeft.png\" width=\"650\">\n"
   ]
  },
  {
   "cell_type": "markdown",
   "id": "b5984a2e-e0a9-4e77-97cc-42bdc12d0737",
   "metadata": {},
   "source": [
    "The elements in <code>album_set2</code> but not in <code>album_set1</code> is given by:\n"
   ]
  },
  {
   "cell_type": "code",
   "execution_count": 74,
   "id": "d8a8d591-4573-4431-84e7-3f565d674cbf",
   "metadata": {},
   "outputs": [
    {
     "data": {
      "text/plain": [
       "{'The Dark Side of the Moon'}"
      ]
     },
     "execution_count": 74,
     "metadata": {},
     "output_type": "execute_result"
    }
   ],
   "source": [
    "album_set2.difference(album_set1)"
   ]
  },
  {
   "cell_type": "markdown",
   "id": "0e87806a-cb23-4d62-9e64-3e1a7a89ff08",
   "metadata": {},
   "source": [
    "<img src=\"https://cf-courses-data.s3.us.cloud-object-storage.appdomain.cloud/IBMDeveloperSkillsNetwork-PY0101EN-SkillsNetwork/labs/Module%202/images/SetsRight.png\" width=\"650\">\n"
   ]
  },
  {
   "cell_type": "markdown",
   "id": "cd4c7e6a-fede-4021-862d-27867559349a",
   "metadata": {},
   "source": [
    "You can also find the intersection of <code>album_list1</code> and <code>album_list2</code>, using the <code>intersection</code> method:\n"
   ]
  },
  {
   "cell_type": "code",
   "execution_count": 78,
   "id": "14b273dc-0039-4d19-9708-75dda75327a5",
   "metadata": {},
   "outputs": [
    {
     "data": {
      "text/plain": [
       "{'AC/DC', 'Back in Black'}"
      ]
     },
     "execution_count": 78,
     "metadata": {},
     "output_type": "execute_result"
    }
   ],
   "source": [
    "# Use intersection method to find the intersection of album_list1 and album_list2\n",
    "\n",
    "album_set1.intersection(album_set2) "
   ]
  },
  {
   "cell_type": "markdown",
   "id": "603b722f-d730-4e53-b788-b89a5c1e79ff",
   "metadata": {},
   "source": [
    " This corresponds to the intersection of the two circles:\n"
   ]
  },
  {
   "cell_type": "markdown",
   "id": "c164bd94-ee6c-4ab3-89bc-fe24856b6b60",
   "metadata": {},
   "source": [
    "<img src=\"https://cf-courses-data.s3.us.cloud-object-storage.appdomain.cloud/IBMDeveloperSkillsNetwork-PY0101EN-SkillsNetwork/labs/Module%202/images/SetsIntersect.png\" width=\"650\">\n"
   ]
  },
  {
   "cell_type": "markdown",
   "id": "ae7a8d7f-8356-4975-9e5b-3b797a439008",
   "metadata": {},
   "source": [
    "The union corresponds to all the elements in both sets, which is represented by coloring both circles:\n"
   ]
  },
  {
   "cell_type": "markdown",
   "id": "01bb092e-7b70-4b0d-9b92-e88ee71004fa",
   "metadata": {},
   "source": [
    "<img src=\"https://cf-courses-data.s3.us.cloud-object-storage.appdomain.cloud/IBMDeveloperSkillsNetwork-PY0101EN-SkillsNetwork/labs/Module%202/images/SetsUnion.png\" width=\"650\">\n"
   ]
  },
  {
   "cell_type": "markdown",
   "id": "9653a1af-ed80-4f5d-bcec-616335d6e212",
   "metadata": {},
   "source": [
    " The union is given by:\n"
   ]
  },
  {
   "cell_type": "code",
   "execution_count": 87,
   "id": "8fd050f8-1220-4a3e-ae8d-1b0dbd9a030c",
   "metadata": {},
   "outputs": [
    {
     "data": {
      "text/plain": [
       "{'AC/DC', 'Back in Black', 'The Dark Side of the Moon', 'Thriller'}"
      ]
     },
     "execution_count": 87,
     "metadata": {},
     "output_type": "execute_result"
    }
   ],
   "source": [
    "# Find the union of two sets\n",
    "\n",
    "album_set1.union(album_set2)"
   ]
  },
  {
   "cell_type": "markdown",
   "id": "8e55ea7f-c6e5-4718-8188-3eef02e997bc",
   "metadata": {},
   "source": [
    "And you can check if a set is a superset or subset of another set, respectively, like this:\n"
   ]
  },
  {
   "cell_type": "code",
   "execution_count": 90,
   "id": "95180b78-5076-475b-a610-188a6ad2cee6",
   "metadata": {},
   "outputs": [
    {
     "data": {
      "text/plain": [
       "False"
      ]
     },
     "execution_count": 90,
     "metadata": {},
     "output_type": "execute_result"
    }
   ],
   "source": [
    "# Check if superset\n",
    "\n",
    "set(album_set1).issuperset(album_set2)   "
   ]
  },
  {
   "cell_type": "code",
   "execution_count": 92,
   "id": "0c8c7a57-7b9d-4b95-9f0c-0bb4bf603ee1",
   "metadata": {},
   "outputs": [
    {
     "data": {
      "text/plain": [
       "False"
      ]
     },
     "execution_count": 92,
     "metadata": {},
     "output_type": "execute_result"
    }
   ],
   "source": [
    "# Check if subset\n",
    "\n",
    "set(album_set2).issubset(album_set1)     "
   ]
  },
  {
   "cell_type": "markdown",
   "id": "74212acc-6066-4bb9-993f-0478fb12f37a",
   "metadata": {},
   "source": [
    "Here is an example where <code>issubset()</code> and <code>issuperset()</code> return true:\n"
   ]
  },
  {
   "cell_type": "code",
   "execution_count": 95,
   "id": "dfaa615f-1c1d-4226-b3e8-ebbb9aafc4e1",
   "metadata": {},
   "outputs": [
    {
     "data": {
      "text/plain": [
       "True"
      ]
     },
     "execution_count": 95,
     "metadata": {},
     "output_type": "execute_result"
    }
   ],
   "source": [
    "# Check if subset\n",
    "\n",
    "set({\"Back in Black\", \"AC/DC\"}).issubset(album_set1) "
   ]
  },
  {
   "cell_type": "code",
   "execution_count": 97,
   "id": "7587f786-92eb-4bf4-a9bf-ba15adc6f272",
   "metadata": {},
   "outputs": [
    {
     "data": {
      "text/plain": [
       "True"
      ]
     },
     "execution_count": 97,
     "metadata": {},
     "output_type": "execute_result"
    }
   ],
   "source": [
    "# Check if superset\n",
    "\n",
    "album_set1.issuperset({\"Back in Black\", \"AC/DC\"})   "
   ]
  },
  {
   "cell_type": "markdown",
   "id": "2709d7ee-a65c-4a0f-94c2-d5bd5b828e84",
   "metadata": {},
   "source": [
    "<h2 id=\"quiz\">Quiz on Sets</h2>\n"
   ]
  },
  {
   "cell_type": "markdown",
   "id": "4a193d10-241d-4057-9d55-ffbf85f22eee",
   "metadata": {},
   "source": [
    "Convert the list <code>['rap','house','electronic music', 'rap']</code> to a set:\n"
   ]
  },
  {
   "cell_type": "code",
   "execution_count": 101,
   "id": "2ce63424-4cf6-497d-afb5-7c846a744238",
   "metadata": {},
   "outputs": [
    {
     "data": {
      "text/plain": [
       "{'electronic music', 'house', 'rap'}"
      ]
     },
     "execution_count": 101,
     "metadata": {},
     "output_type": "execute_result"
    }
   ],
   "source": [
    "# Write your code below and press Shift+Enter to execute\n",
    "set(['rap','house','electronic music', 'rap'])"
   ]
  },
  {
   "cell_type": "markdown",
   "id": "3b6fc6c7-bc39-48a0-a031-23e124c5900a",
   "metadata": {},
   "source": [
    "<details><summary>Click here for the solution</summary>\n",
    "\n",
    "```python\n",
    "set(['rap','house','electronic music','rap'])\n",
    "\n",
    "```\n",
    "\n",
    "</details>\n"
   ]
  },
  {
   "cell_type": "markdown",
   "id": "8b90a4b8-4bfc-4467-91cf-123f3de561ae",
   "metadata": {},
   "source": [
    "<hr>\n"
   ]
  },
  {
   "cell_type": "markdown",
   "id": "a5e82201-d5f9-4d14-9952-644c62c4179b",
   "metadata": {},
   "source": [
    "Consider the list <code>A = [1, 2, 2, 1]</code> and set <code>B = set([1, 2, 2, 1])</code>, does <code>sum(A) == sum(B)</code>? \n"
   ]
  },
  {
   "cell_type": "code",
   "execution_count": 109,
   "id": "c6176645-ddcc-4ce1-81c3-05a25596c082",
   "metadata": {},
   "outputs": [
    {
     "name": "stdout",
     "output_type": "stream",
     "text": [
      "the sum of A is: 6\n",
      "the sum of B is: 3\n"
     ]
    }
   ],
   "source": [
    "# Write your code below and press Shift+Enter to execute\n",
    "A = [1, 2, 2, 1]  \n",
    "B = set([1, 2, 2, 1])\n",
    "print(\"the sum of A is:\", sum(A))\n",
    "print(\"the sum of B is:\", sum(B))"
   ]
  },
  {
   "cell_type": "markdown",
   "id": "363c94bc-7922-4552-9ca2-31d64195c88a",
   "metadata": {},
   "source": [
    "<details><summary>Click here for the solution</summary>\n",
    "\n",
    "```python\n",
    "A = [1, 2, 2, 1]  \n",
    "B = set([1, 2, 2, 1])\n",
    "print(\"the sum of A is:\", sum(A))\n",
    "print(\"the sum of B is:\", sum(B))\n",
    "\n",
    "```\n",
    "\n",
    "</details>\n"
   ]
  },
  {
   "cell_type": "markdown",
   "id": "188292af-7774-413c-9971-d38e22b77c6e",
   "metadata": {},
   "source": [
    "<hr>\n"
   ]
  },
  {
   "cell_type": "markdown",
   "id": "4444c552-17da-4c13-aa9c-f7b44c624d16",
   "metadata": {},
   "source": [
    "Create a new set <code>album_set3</code> that is the union of <code>album_set1</code> and <code>album_set2</code>:\n"
   ]
  },
  {
   "cell_type": "code",
   "execution_count": 114,
   "id": "4e068fb4-fba2-4a42-9e3d-d3fb7baa0735",
   "metadata": {},
   "outputs": [
    {
     "data": {
      "text/plain": [
       "{'AC/DC', 'Back in Black', 'The Dark Side of the Moon', 'Thriller'}"
      ]
     },
     "execution_count": 114,
     "metadata": {},
     "output_type": "execute_result"
    }
   ],
   "source": [
    "# Write your code below and press Shift+Enter to execute\n",
    "\n",
    "album_set1 = set([\"Thriller\", 'AC/DC', 'Back in Black'])\n",
    "album_set2 = set([ \"AC/DC\", \"Back in Black\", \"The Dark Side of the Moon\"])\n",
    "\n",
    "album_set3 = album_set1.union(album_set2)\n",
    "album_set3"
   ]
  },
  {
   "cell_type": "markdown",
   "id": "c8183136-c7dd-4640-9570-de489e980f3f",
   "metadata": {},
   "source": [
    "<details><summary>Click here for the solution</summary>\n",
    "\n",
    "```python\n",
    "album_set3 = album_set1.union(album_set2)\n",
    "album_set3\n",
    "\n",
    "```\n",
    "\n",
    "</details>\n"
   ]
  },
  {
   "cell_type": "markdown",
   "id": "27242f8d-a76a-4418-9e4f-f69c212c5847",
   "metadata": {},
   "source": [
    "<hr>"
   ]
  },
  {
   "cell_type": "markdown",
   "id": "9a0ba9e4-8b59-492c-aca9-4a34e587695d",
   "metadata": {},
   "source": [
    "Find out if <code>album_set1</code> is a subset of <code>album_set3</code>:\n"
   ]
  },
  {
   "cell_type": "code",
   "execution_count": 119,
   "id": "9d36d86c-f64a-4c37-9ed2-6141fc895bfa",
   "metadata": {},
   "outputs": [
    {
     "data": {
      "text/plain": [
       "True"
      ]
     },
     "execution_count": 119,
     "metadata": {},
     "output_type": "execute_result"
    }
   ],
   "source": [
    "# Write your code below and press Shift+Enter to execute\n",
    "album_set1.issubset(album_set3)"
   ]
  },
  {
   "cell_type": "markdown",
   "id": "a8e8fcca-ebf0-42c6-b854-8c045a28f599",
   "metadata": {},
   "source": [
    "<details><summary>Click here for the solution</summary>\n",
    "\n",
    "```python\n",
    "album_set1.issubset(album_set3)\n",
    "\n",
    "```\n",
    "\n",
    "</details>\n"
   ]
  },
  {
   "cell_type": "markdown",
   "id": "6d1b0f6e-ed01-49ec-98f8-704df58665fb",
   "metadata": {},
   "source": [
    "<hr>\n",
    "<h2>The last exercise!</h2>\n",
    "<p>Congratulations, you have completed your first lesson and hands-on lab in Python. \n",
    "<hr>\n"
   ]
  },
  {
   "cell_type": "markdown",
   "id": "5a3a6c13-18f9-48c9-9bb7-eb21faf8ebfb",
   "metadata": {},
   "source": [
    "## Dictionaries"
   ]
  },
  {
   "cell_type": "markdown",
   "id": "b31b2786-df3b-4018-bb22-e09bd3c3c05d",
   "metadata": {},
   "source": [
    "You will need the dictionary <code>D</code>:\n"
   ]
  },
  {
   "cell_type": "code",
   "execution_count": 125,
   "id": "7a004856-a3db-475f-9072-426d9f15225a",
   "metadata": {},
   "outputs": [],
   "source": [
    "D={'a':0,'b':1,'c':2}"
   ]
  },
  {
   "cell_type": "markdown",
   "id": "7d46ddf6-bd9f-4d56-be1f-dd67f3da19fa",
   "metadata": {},
   "source": [
    "<h3>Find the Value of a Key</h3> \n"
   ]
  },
  {
   "cell_type": "markdown",
   "id": "e94520c4-ab96-4635-82e4-52393fb9be9b",
   "metadata": {},
   "source": [
    "Find the value for the key <code>'a'</code>:\n"
   ]
  },
  {
   "cell_type": "code",
   "execution_count": 129,
   "id": "788c374d-4ceb-4242-b32d-9e81c26c9d4a",
   "metadata": {},
   "outputs": [
    {
     "data": {
      "text/plain": [
       "0"
      ]
     },
     "execution_count": 129,
     "metadata": {},
     "output_type": "execute_result"
    }
   ],
   "source": [
    "D[\"a\"]"
   ]
  },
  {
   "cell_type": "markdown",
   "id": "8d9577ec-9704-401a-94f2-eb29e790b4f4",
   "metadata": {},
   "source": [
    "<details><summary>Click here for the solution</summary>\n",
    "\n",
    "```python\n",
    "D[\"a\"]\n",
    "\n",
    "```\n",
    "\n",
    "</details>\n"
   ]
  },
  {
   "cell_type": "markdown",
   "id": "8178ca7e-9518-41e6-b3c6-457a288199ff",
   "metadata": {},
   "source": [
    "<h3>Keys of a Dictionary</h3> \n"
   ]
  },
  {
   "cell_type": "markdown",
   "id": "a2c20d29-e12e-408f-81af-ea1bd3bfbfeb",
   "metadata": {},
   "source": [
    "Find the keys of the dictionary <code>D</code>:\n"
   ]
  },
  {
   "cell_type": "code",
   "execution_count": 134,
   "id": "2f0d44d0-895f-4670-88ed-1dbce9e61f52",
   "metadata": {},
   "outputs": [
    {
     "data": {
      "text/plain": [
       "dict_keys(['a', 'b', 'c'])"
      ]
     },
     "execution_count": 134,
     "metadata": {},
     "output_type": "execute_result"
    }
   ],
   "source": [
    "D.keys()"
   ]
  },
  {
   "cell_type": "markdown",
   "id": "c4444ed7-60ba-49ce-bc78-55672d03ec11",
   "metadata": {},
   "source": [
    "<details><summary>Click here for the solution</summary>\n",
    "\n",
    "```python\n",
    "D.keys()\n",
    "\n",
    "```\n",
    "\n",
    "</details>\n"
   ]
  },
  {
   "cell_type": "markdown",
   "id": "a26035eb-5441-44af-bdfc-05f4e41e88d1",
   "metadata": {},
   "source": [
    "<hr>"
   ]
  },
  {
   "cell_type": "markdown",
   "id": "f5b1934f-fb69-4f26-b9bc-e46bdc73b19b",
   "metadata": {},
   "source": [
    "<p style=\"text-align:center\">\n",
    "    <a href=\"https://skills.network/?utm_medium=Exinfluencer&utm_source=Exinfluencer&utm_content=000026UJ&utm_term=10006555&utm_id=NA-SkillsNetwork-Channel-SkillsNetworkCoursesIBMDeveloperSkillsNetworkPY0101ENSkillsNetwork1005-2023-01-01\">\n",
    "    <img src=\"https://cf-courses-data.s3.us.cloud-object-storage.appdomain.cloud/assets/logos/SN_web_lightmode.png\" width=\"200\" alt=\"Skills Network Logo\"  />\n",
    "    </a>\n",
    "</p>\n",
    "\n",
    "\n",
    "# Dictionaries in Python\n",
    "\n",
    "\n",
    "Estimated time needed: **25** minutes\n",
    "    \n",
    "\n",
    "## Objectives\n",
    "\n",
    "After completing this lab you will be able to:\n",
    "\n",
    "* Work with and perform operations on dictionaries in Python\n"
   ]
  },
  {
   "cell_type": "markdown",
   "id": "143d8419-077d-4254-a606-7dadbca97385",
   "metadata": {},
   "source": [
    "<h2>Table of Contents</h2>\n",
    "<div class=\"alert alert-block alert-info\" style=\"margin-top: 20px\">\n",
    "    <ul>\n",
    "        <li>\n",
    "            <a href=\"#dic\">Dictionaries</a>\n",
    "            <ul>\n",
    "                <li><a href=\"content\">What are Dictionaries?</a></li>\n",
    "                <li><a href=\"key\">Keys</a></li>\n",
    "            </ul>\n",
    "        </li>\n",
    "        <li>\n",
    "            <a href=\"#quiz\">Quiz on Dictionaries</a>\n",
    "        </li>\n",
    "    </ul>\n",
    "\n",
    "</div>\n",
    "\n",
    "<hr>\n"
   ]
  },
  {
   "cell_type": "markdown",
   "id": "c88dc574-c907-4e9e-8d60-05c7e32894b5",
   "metadata": {},
   "source": [
    "<h2 id=\"Dic\">Dictionaries</h2>\n"
   ]
  },
  {
   "cell_type": "markdown",
   "id": "eec13a1e-a83c-461c-8199-20c993c589fe",
   "metadata": {},
   "source": [
    "<h3 id=\"content\">What are Dictionaries?</h3>\n"
   ]
  },
  {
   "cell_type": "markdown",
   "id": "aeedd3c6-7320-4659-b3c6-1b1ab4765e79",
   "metadata": {},
   "source": [
    "A dictionary consists of keys and values. It is helpful to compare a dictionary to a list. Instead of being indexed numerically like a list, dictionaries have keys. These keys are the keys that are used to access values within a dictionary.\n"
   ]
  },
  {
   "cell_type": "markdown",
   "id": "a72b1e57-35a2-4e2d-a88f-c972ce02e133",
   "metadata": {},
   "source": [
    "<img src=\"https://cf-courses-data.s3.us.cloud-object-storage.appdomain.cloud/IBMDeveloperSkillsNetwork-PY0101EN-SkillsNetwork/labs/Module%202/images/DictsList.png\" width=\"650\">\n"
   ]
  },
  {
   "cell_type": "markdown",
   "id": "15e42b2b-acb0-4449-a7a0-4765e3ea3ef0",
   "metadata": {},
   "source": [
    "An example of a Dictionary <code>Dict</code>:\n"
   ]
  },
  {
   "cell_type": "code",
   "execution_count": 146,
   "id": "3a8cb97c-41ae-43d5-9297-17b1113fa399",
   "metadata": {},
   "outputs": [
    {
     "data": {
      "text/plain": [
       "{'key1': 1,\n",
       " 'key2': '2',\n",
       " 'key3': [3, 3, 3],\n",
       " 'key4': (4, 4, 4),\n",
       " 'key5': 5,\n",
       " (0, 1): 6}"
      ]
     },
     "execution_count": 146,
     "metadata": {},
     "output_type": "execute_result"
    }
   ],
   "source": [
    "# Create the dictionary\n",
    "\n",
    "Dict = {\"key1\": 1, \"key2\": \"2\", \"key3\": [3, 3, 3], \"key4\": (4, 4, 4), ('key5'): 5, (0, 1): 6}\n",
    "Dict"
   ]
  },
  {
   "cell_type": "markdown",
   "id": "ba699d61-a92d-43c3-bddb-99e75eee5356",
   "metadata": {},
   "source": [
    "* <u>\"key1\": 1</u>- The key is a string \"key1\", and its corresponding value is the integer 1.\n",
    "\n",
    "* <u>\"key2\": \"2\"</u> - The key is a string \"key2\", and its corresponding value is the string \"2\".\n",
    "\n",
    "* <u>\"key3\": [3, 3, 3]</u> - The key is a string \"key3\", and its corresponding value is a list [3, 3, 3]. The list contains three elements, all of which are integer 3.\n",
    "\n",
    "* <u>\"key4\": (4, 4, 4)</u> - The key is a string \"key4\", and its corresponding value is a tuple (4, 4, 4). The tuple contains three elements, all of which are the integer 4.\n",
    "\n",
    "* <u>('key5'): 5</u> - The key is a tuple ('key5',), and its corresponding value is the integer 5. Note that the key is enclosed in parentheses to indicate it as a tuple. In this case, the tuple contains a single element: the string \"key5\".\n",
    "\n",
    "* <u>(0, 1): 6</u> - The key is a tuple (0, 1), and its corresponding value is the integer 6. This tuple contains two elements: 0 and 1.\n"
   ]
  },
  {
   "cell_type": "markdown",
   "id": "e535fb66-5d8b-4098-9368-584f97aabb77",
   "metadata": {},
   "source": [
    "The keys can be strings:\n"
   ]
  },
  {
   "cell_type": "code",
   "execution_count": 150,
   "id": "240e7bc1-983a-4be3-9487-cb476cf9766c",
   "metadata": {},
   "outputs": [
    {
     "data": {
      "text/plain": [
       "1"
      ]
     },
     "execution_count": 150,
     "metadata": {},
     "output_type": "execute_result"
    }
   ],
   "source": [
    "# Access to the value by the key\n",
    "\n",
    "Dict[\"key1\"]"
   ]
  },
  {
   "cell_type": "markdown",
   "id": "de5a750b-a0df-41b7-9911-62e564c433e1",
   "metadata": {},
   "source": [
    "Keys can also be any immutable object such as a tuple: \n"
   ]
  },
  {
   "cell_type": "code",
   "execution_count": 153,
   "id": "1174975c-2db2-46a4-a7ee-de763afca401",
   "metadata": {},
   "outputs": [
    {
     "data": {
      "text/plain": [
       "6"
      ]
     },
     "execution_count": 153,
     "metadata": {},
     "output_type": "execute_result"
    }
   ],
   "source": [
    "# Access to the value by the key\n",
    "\n",
    "Dict[(0, 1)]"
   ]
  },
  {
   "cell_type": "markdown",
   "id": "01a77c60-f536-4018-85ff-baefbd78bdb8",
   "metadata": {},
   "source": [
    " Each key is separated from its value by a colon \"<code>:</code>\".  Commas separate the items, and the whole dictionary is enclosed in curly braces. An empty dictionary without any items is written with just two curly braces, like this  \"<code>{}</code>\".\n"
   ]
  },
  {
   "cell_type": "code",
   "execution_count": 156,
   "id": "2ef198f3-be78-4d47-bcee-9db659be43a5",
   "metadata": {},
   "outputs": [
    {
     "data": {
      "text/plain": [
       "{'Thriller': '1982',\n",
       " 'Back in Black': '1980',\n",
       " 'The Dark Side of the Moon': '1973',\n",
       " 'The Bodyguard': '1992',\n",
       " 'Bat Out of Hell': '1977',\n",
       " 'Their Greatest Hits (1971-1975)': '1976',\n",
       " 'Saturday Night Fever': '1977',\n",
       " 'Rumours': '1977'}"
      ]
     },
     "execution_count": 156,
     "metadata": {},
     "output_type": "execute_result"
    }
   ],
   "source": [
    "# Create a sample dictionary\n",
    "\n",
    "release_year_dict = {\"Thriller\": \"1982\", \"Back in Black\": \"1980\", \\\n",
    "                    \"The Dark Side of the Moon\": \"1973\", \"The Bodyguard\": \"1992\", \\\n",
    "                    \"Bat Out of Hell\": \"1977\", \"Their Greatest Hits (1971-1975)\": \"1976\", \\\n",
    "                    \"Saturday Night Fever\": \"1977\", \"Rumours\": \"1977\"}\n",
    "release_year_dict"
   ]
  },
  {
   "cell_type": "markdown",
   "id": "4a8ccde1-efdf-4584-af2a-7d4e96239f32",
   "metadata": {},
   "source": [
    "In summary, like a list, a dictionary holds a sequence of elements. Each element is represented by a key and its corresponding value. Dictionaries are created with two curly braces containing keys and values separated by a colon. For every key, there can only be one single value, however,  multiple keys can hold the same value. Keys can only be strings, numbers, or tuples, but values can be any data type.\n"
   ]
  },
  {
   "cell_type": "markdown",
   "id": "beeb4458-bef8-4961-b09e-e38dbcbb1e19",
   "metadata": {},
   "source": [
    "It is helpful to visualize the dictionary as a table, as in the following image. The first column represents the keys, the second column represents the values.\n"
   ]
  },
  {
   "cell_type": "markdown",
   "id": "a729cf7c-183f-451d-a892-0b1a655f5f55",
   "metadata": {},
   "source": [
    "<img src=\"https://cf-courses-data.s3.us.cloud-object-storage.appdomain.cloud/IBMDeveloperSkillsNetwork-PY0101EN-SkillsNetwork/labs/Module%202/images/DictsStructure.png\" width=\"650\">\n"
   ]
  },
  {
   "cell_type": "markdown",
   "id": "8c09ceb5-9e23-4e16-b819-60204f149fab",
   "metadata": {},
   "source": [
    "<h3 id=\"key\">Keys</h3>\n"
   ]
  },
  {
   "cell_type": "markdown",
   "id": "3091f65a-a11d-465b-a1d1-a14fe14019f8",
   "metadata": {},
   "source": [
    "You can retrieve the values based on the names:\n"
   ]
  },
  {
   "cell_type": "code",
   "execution_count": 163,
   "id": "6c4be754-e03c-436d-8b69-842399a678e9",
   "metadata": {},
   "outputs": [
    {
     "data": {
      "text/plain": [
       "'1982'"
      ]
     },
     "execution_count": 163,
     "metadata": {},
     "output_type": "execute_result"
    }
   ],
   "source": [
    "# Get value by keys\n",
    "\n",
    "release_year_dict['Thriller'] "
   ]
  },
  {
   "cell_type": "markdown",
   "id": "10bd215a-33c7-4555-80d0-9532f825ac35",
   "metadata": {},
   "source": [
    "This corresponds to: \n"
   ]
  },
  {
   "cell_type": "markdown",
   "id": "f98ba540-a459-4d82-b201-a0eb21d32f76",
   "metadata": {},
   "source": [
    "<img src=\"https://cf-courses-data.s3.us.cloud-object-storage.appdomain.cloud/IBMDeveloperSkillsNetwork-PY0101EN-SkillsNetwork/labs/Module%202/images/DictsKeyOne.png\" width=\"500\">\n"
   ]
  },
  {
   "cell_type": "markdown",
   "id": "64f79248-b224-4a3b-aedb-5fb08fb3ee33",
   "metadata": {},
   "source": [
    "Similarly for <b>The Bodyguard</b>\n"
   ]
  },
  {
   "cell_type": "code",
   "execution_count": 168,
   "id": "a8879339-031f-453d-9682-74bd17cc0b4b",
   "metadata": {},
   "outputs": [
    {
     "data": {
      "text/plain": [
       "'1992'"
      ]
     },
     "execution_count": 168,
     "metadata": {},
     "output_type": "execute_result"
    }
   ],
   "source": [
    "# Get value by key\n",
    "\n",
    "release_year_dict['The Bodyguard'] "
   ]
  },
  {
   "cell_type": "markdown",
   "id": "4d6a9406-7b92-4b3f-972d-7e19c0f2c3f8",
   "metadata": {},
   "source": [
    "<img src=\"https://cf-courses-data.s3.us.cloud-object-storage.appdomain.cloud/IBMDeveloperSkillsNetwork-PY0101EN-SkillsNetwork/labs/Module%202/images/DictsKeyTwo.png\" width=\"500\">\n"
   ]
  },
  {
   "cell_type": "markdown",
   "id": "4ab428c8-ca62-4ae6-8b72-598abcfe8fd8",
   "metadata": {},
   "source": [
    "Now let us retrieve the keys of the dictionary using the method <code>keys()</code>:\n"
   ]
  },
  {
   "cell_type": "code",
   "execution_count": 172,
   "id": "5a40eb7d-0106-422e-89ac-9390f21b1d7b",
   "metadata": {},
   "outputs": [
    {
     "data": {
      "text/plain": [
       "dict_keys(['Thriller', 'Back in Black', 'The Dark Side of the Moon', 'The Bodyguard', 'Bat Out of Hell', 'Their Greatest Hits (1971-1975)', 'Saturday Night Fever', 'Rumours'])"
      ]
     },
     "execution_count": 172,
     "metadata": {},
     "output_type": "execute_result"
    }
   ],
   "source": [
    "# Get all the keys in dictionary\n",
    "\n",
    "release_year_dict.keys() "
   ]
  },
  {
   "cell_type": "markdown",
   "id": "85c6f8c8-0a41-408b-a78a-a4c43ad8ca08",
   "metadata": {},
   "source": [
    "You can retrieve the values using the method  <code>values()</code>:\n"
   ]
  },
  {
   "cell_type": "code",
   "execution_count": 175,
   "id": "7404f286-cbc8-4352-8bde-a189965ad5e2",
   "metadata": {},
   "outputs": [
    {
     "data": {
      "text/plain": [
       "dict_values(['1982', '1980', '1973', '1992', '1977', '1976', '1977', '1977'])"
      ]
     },
     "execution_count": 175,
     "metadata": {},
     "output_type": "execute_result"
    }
   ],
   "source": [
    "# Get all the values in dictionary\n",
    "\n",
    "release_year_dict.values() "
   ]
  },
  {
   "cell_type": "markdown",
   "id": "136377ee-a35f-452a-8177-4f01b977e9f3",
   "metadata": {},
   "source": [
    "We can add an entry:\n"
   ]
  },
  {
   "cell_type": "code",
   "execution_count": 178,
   "id": "54b51a1e-d62d-44a8-9f4b-00aaac55399b",
   "metadata": {},
   "outputs": [
    {
     "data": {
      "text/plain": [
       "{'Thriller': '1982',\n",
       " 'Back in Black': '1980',\n",
       " 'The Dark Side of the Moon': '1973',\n",
       " 'The Bodyguard': '1992',\n",
       " 'Bat Out of Hell': '1977',\n",
       " 'Their Greatest Hits (1971-1975)': '1976',\n",
       " 'Saturday Night Fever': '1977',\n",
       " 'Rumours': '1977',\n",
       " 'Graduation': '2007'}"
      ]
     },
     "execution_count": 178,
     "metadata": {},
     "output_type": "execute_result"
    }
   ],
   "source": [
    "# Append value with key into dictionary\n",
    "\n",
    "release_year_dict['Graduation'] = '2007'\n",
    "release_year_dict"
   ]
  },
  {
   "cell_type": "markdown",
   "id": "26a56542-ec65-46c8-bfbc-1de96b2f84ec",
   "metadata": {},
   "source": [
    "We can delete an entry:   \n"
   ]
  },
  {
   "cell_type": "code",
   "execution_count": 181,
   "id": "e6716aad-6f74-4acf-8612-a180adaf3fd3",
   "metadata": {},
   "outputs": [
    {
     "data": {
      "text/plain": [
       "{'Back in Black': '1980',\n",
       " 'The Dark Side of the Moon': '1973',\n",
       " 'The Bodyguard': '1992',\n",
       " 'Bat Out of Hell': '1977',\n",
       " 'Their Greatest Hits (1971-1975)': '1976',\n",
       " 'Saturday Night Fever': '1977',\n",
       " 'Rumours': '1977'}"
      ]
     },
     "execution_count": 181,
     "metadata": {},
     "output_type": "execute_result"
    }
   ],
   "source": [
    "# Delete entries by key\n",
    "\n",
    "del(release_year_dict['Thriller'])\n",
    "del(release_year_dict['Graduation'])\n",
    "release_year_dict"
   ]
  },
  {
   "cell_type": "markdown",
   "id": "499c7cd7-4bb5-46c8-b235-b91ce26ab433",
   "metadata": {},
   "source": [
    " We can verify if an element is in the dictionary: \n"
   ]
  },
  {
   "cell_type": "code",
   "execution_count": 184,
   "id": "5b270814-76dc-486f-83a3-2e6624150f45",
   "metadata": {},
   "outputs": [
    {
     "data": {
      "text/plain": [
       "True"
      ]
     },
     "execution_count": 184,
     "metadata": {},
     "output_type": "execute_result"
    }
   ],
   "source": [
    "# Verify the key is in the dictionary\n",
    "\n",
    "'The Bodyguard' in release_year_dict"
   ]
  },
  {
   "cell_type": "markdown",
   "id": "8e487e78-4735-4963-94ba-fb9cdf308afe",
   "metadata": {},
   "source": [
    "<hr>"
   ]
  },
  {
   "cell_type": "markdown",
   "id": "3177c2d4-863e-4974-bc46-25bf8cac4ee9",
   "metadata": {},
   "source": [
    "<h2 id=\"quiz\">Quiz on Dictionaries</h2>\n"
   ]
  },
  {
   "cell_type": "code",
   "execution_count": 188,
   "id": "f580082f-5bc4-408f-83d4-e2389c226f76",
   "metadata": {},
   "outputs": [
    {
     "data": {
      "text/plain": [
       "{'The Bodyguard': '1992', 'Saturday Night Fever': '1977'}"
      ]
     },
     "execution_count": 188,
     "metadata": {},
     "output_type": "execute_result"
    }
   ],
   "source": [
    "# Question sample dictionary\n",
    "\n",
    "soundtrack_dic = {\"The Bodyguard\":\"1992\", \"Saturday Night Fever\":\"1977\"}\n",
    "soundtrack_dic "
   ]
  },
  {
   "cell_type": "markdown",
   "id": "4970b41d-cb79-4749-a9e8-9bd1d3f89a5a",
   "metadata": {},
   "source": [
    "a) In the dictionary <code>soundtrack_dic</code> what are the keys ?\n"
   ]
  },
  {
   "cell_type": "code",
   "execution_count": 191,
   "id": "8e4a1bbc-374f-442a-8131-d9b602f11f79",
   "metadata": {},
   "outputs": [
    {
     "data": {
      "text/plain": [
       "dict_keys(['The Bodyguard', 'Saturday Night Fever'])"
      ]
     },
     "execution_count": 191,
     "metadata": {},
     "output_type": "execute_result"
    }
   ],
   "source": [
    "# Write your code below and press Shift+Enter to execute\n",
    "soundtrack_dic.keys() # The Keys \"The Bodyguard\" and \"Saturday Night Fever\""
   ]
  },
  {
   "cell_type": "markdown",
   "id": "5a5eb8e2-2ad4-4487-a95b-600239285c90",
   "metadata": {},
   "source": [
    "<details><summary>Click here for the solution</summary>\n",
    "\n",
    "```python\n",
    "soundtrack_dic.keys() # The Keys \"The Bodyguard\" and \"Saturday Night Fever\" \n",
    "\n",
    "```\n",
    "\n",
    "</details>\n"
   ]
  },
  {
   "cell_type": "markdown",
   "id": "ab775f2d-6884-4085-97e4-778fab9f89dd",
   "metadata": {},
   "source": [
    "b) In the dictionary <code>soundtrack_dic</code> what are the values ?\n"
   ]
  },
  {
   "cell_type": "code",
   "execution_count": 195,
   "id": "3a30be9e-6f6c-4636-828a-02672755c35f",
   "metadata": {},
   "outputs": [
    {
     "data": {
      "text/plain": [
       "dict_values(['1992', '1977'])"
      ]
     },
     "execution_count": 195,
     "metadata": {},
     "output_type": "execute_result"
    }
   ],
   "source": [
    "# Write your code below and press Shift+Enter to execute\n",
    "soundtrack_dic.values() # The values are \"1992\" and \"1977\""
   ]
  },
  {
   "cell_type": "markdown",
   "id": "bea5c4b8-efe4-4c65-8b43-c1a481392b66",
   "metadata": {},
   "source": [
    "<details><summary>Click here for the solution</summary>\n",
    "\n",
    "```python\n",
    "soundtrack_dic.values() # The values are \"1992\" and \"1977\"\n",
    "\n",
    "```\n",
    "\n",
    "</details>\n"
   ]
  },
  {
   "cell_type": "markdown",
   "id": "5fdfe67e-bde1-4631-81d2-2cbddeed0d94",
   "metadata": {},
   "source": [
    "<hr>"
   ]
  },
  {
   "cell_type": "markdown",
   "id": "70bf4f78-914e-4834-b9ed-9a5ce8d8d52f",
   "metadata": {},
   "source": [
    "<b>You will need this dictionary for the following questions:</b>\n"
   ]
  },
  {
   "cell_type": "markdown",
   "id": "76b00d63-8c37-4dc3-be5e-8c30d508ad30",
   "metadata": {},
   "source": [
    "The Albums <b>Back in Black</b>, <b>The Bodyguard</b> and <b>Thriller</b> have the following music recording sales in millions 50, 50 and 65 respectively:\n"
   ]
  },
  {
   "cell_type": "markdown",
   "id": "0cc58ad3-67a2-4d67-a1a1-ab2707d83ef8",
   "metadata": {},
   "source": [
    "a) Create a dictionary <code>album_sales_dict</code> where the keys are the album name and the sales in millions are the values. \n"
   ]
  },
  {
   "cell_type": "code",
   "execution_count": 202,
   "id": "5e78ebcb-5ef1-4822-9b40-2c155bcf2bfe",
   "metadata": {},
   "outputs": [],
   "source": [
    "# Write your code below and press Shift+Enter to execute\n",
    "album_sales_dict = {\"The Bodyguard\":50, \"Back in Black\":50, \"Thriller\":65}"
   ]
  },
  {
   "cell_type": "markdown",
   "id": "ab12ba2a-6539-43a4-9e71-22696318e917",
   "metadata": {},
   "source": [
    "<details><summary>Click here for the solution</summary>\n",
    "\n",
    "```python\n",
    "album_sales_dict = {\"The Bodyguard\":50, \"Back in Black\":50, \"Thriller\":65}\n",
    "\n",
    "```\n",
    "\n",
    "</details>\n"
   ]
  },
  {
   "cell_type": "markdown",
   "id": "b3878bfa-bab9-4c8e-845a-42414c597115",
   "metadata": {},
   "source": [
    "b) Use the dictionary to find the total sales of <b>Thriller</b>:\n"
   ]
  },
  {
   "cell_type": "code",
   "execution_count": 206,
   "id": "ebc98992-7b20-4371-85ad-a581717b09ef",
   "metadata": {},
   "outputs": [
    {
     "data": {
      "text/plain": [
       "65"
      ]
     },
     "execution_count": 206,
     "metadata": {},
     "output_type": "execute_result"
    }
   ],
   "source": [
    "# Write your code below and press Shift+Enter to execute\n",
    "album_sales_dict[\"Thriller\"]"
   ]
  },
  {
   "cell_type": "markdown",
   "id": "acdda1cb-32b3-4e7c-bd73-8c49dc875d04",
   "metadata": {},
   "source": [
    "<details><summary>Click here for the solution</summary>\n",
    "\n",
    "```python\n",
    "album_sales_dict[\"Thriller\"]\n",
    "\n",
    "```\n",
    "\n",
    "</details>\n"
   ]
  },
  {
   "cell_type": "markdown",
   "id": "ff0e7808-c51e-4bbb-bfb7-06c2e1021aec",
   "metadata": {},
   "source": [
    "c) Find the names of the albums from the dictionary using the method <code>keys()</code>:\n"
   ]
  },
  {
   "cell_type": "code",
   "execution_count": 210,
   "id": "227b80c3-f64b-480e-8735-06fe39adb1a4",
   "metadata": {},
   "outputs": [
    {
     "data": {
      "text/plain": [
       "dict_keys(['The Bodyguard', 'Back in Black', 'Thriller'])"
      ]
     },
     "execution_count": 210,
     "metadata": {},
     "output_type": "execute_result"
    }
   ],
   "source": [
    "# Write your code below and press Shift+Enter to execute\n",
    "album_sales_dict.keys()"
   ]
  },
  {
   "cell_type": "markdown",
   "id": "863ddf50-3c6f-4beb-96dc-3f6ba23718f9",
   "metadata": {},
   "source": [
    "<details><summary>Click here for the solution</summary>\n",
    "\n",
    "```python\n",
    "album_sales_dict.keys()\n",
    "\n",
    "```\n",
    "\n",
    "</details>\n"
   ]
  },
  {
   "cell_type": "markdown",
   "id": "a1039cb8-3980-4c1f-a56c-70e85e8d671f",
   "metadata": {},
   "source": [
    "d) Find the values of the recording sales from the dictionary using the method <code>values</code>:\n"
   ]
  },
  {
   "cell_type": "code",
   "execution_count": 214,
   "id": "9de7c6e2-7c05-4ec3-9831-cb0de95c00dd",
   "metadata": {},
   "outputs": [
    {
     "data": {
      "text/plain": [
       "dict_values([50, 50, 65])"
      ]
     },
     "execution_count": 214,
     "metadata": {},
     "output_type": "execute_result"
    }
   ],
   "source": [
    "# Write your code below and press Shift+Enter to execute\n",
    "album_sales_dict.values()"
   ]
  },
  {
   "cell_type": "markdown",
   "id": "3a1a9849-178f-432e-bafc-bab484edf309",
   "metadata": {},
   "source": [
    "<details><summary>Click here for the solution</summary>\n",
    "\n",
    "```python\n",
    "album_sales_dict.values()\n",
    "\n",
    "```\n",
    "\n",
    "</details>\n"
   ]
  },
  {
   "cell_type": "markdown",
   "id": "b2e95d33-ce9b-4098-9ad1-2d86ca86fb24",
   "metadata": {},
   "source": [
    "<hr>\n",
    "<h2>The last exercise!</h2>\n",
    "<p>Congratulations, you have completed your first lesson and hands-on lab in Python. \n",
    "<hr>\n"
   ]
  },
  {
   "cell_type": "code",
   "execution_count": null,
   "id": "7a183b61-5127-4d7f-bb9c-e77c9ad8fc68",
   "metadata": {},
   "outputs": [],
   "source": []
  }
 ],
 "metadata": {
  "kernelspec": {
   "display_name": "Python 3 (ipykernel)",
   "language": "python",
   "name": "python3"
  },
  "language_info": {
   "codemirror_mode": {
    "name": "ipython",
    "version": 3
   },
   "file_extension": ".py",
   "mimetype": "text/x-python",
   "name": "python",
   "nbconvert_exporter": "python",
   "pygments_lexer": "ipython3",
   "version": "3.11.5"
  }
 },
 "nbformat": 4,
 "nbformat_minor": 5
}
