{
  "nbformat": 4,
  "nbformat_minor": 0,
  "metadata": {
    "colab": {
      "provenance": [],
      "authorship_tag": "ABX9TyORBFJPvDEBRguf18uRg5Br",
      "include_colab_link": true
    },
    "kernelspec": {
      "name": "python3",
      "display_name": "Python 3"
    },
    "language_info": {
      "name": "python"
    }
  },
  "cells": [
    {
      "cell_type": "markdown",
      "metadata": {
        "id": "view-in-github",
        "colab_type": "text"
      },
      "source": [
        "<a href=\"https://colab.research.google.com/github/Dheeraj2002kumar/Python_with_Data_Science/blob/main/6_Python_with_Data_Science.ipynb\" target=\"_parent\"><img src=\"https://colab.research.google.com/assets/colab-badge.svg\" alt=\"Open In Colab\"/></a>"
      ]
    },
    {
      "cell_type": "markdown",
      "source": [
        "## Functions\n",
        "#### Definition\n",
        "- Reusable block of code\n",
        "- A block of code which does a particular task\n",
        "\n",
        "#### Types of Functions\n",
        "- Inbuilt Functions\n",
        "    - Which are already pre-defined in python\n",
        "        - input, len, type, max, min, print, sum, round, map, filter\n",
        "- User-defined Functions\n",
        "    - Which are defined by the coder in the code itself\n",
        "        - like we defined add and aver function\n",
        "\n",
        "#### Benefits of creating functions\n",
        "- Shorter Code\n",
        "- Code becomes more organised\n",
        "- better memory management"
      ],
      "metadata": {
        "id": "qj6wKf8a7uBb"
      }
    },
    {
      "cell_type": "code",
      "source": [
        "x = int(input('Enter x: '))\n",
        "y = int(input('Enter y: '))\n",
        "z = x + y\n",
        "print(z)"
      ],
      "metadata": {
        "id": "HuqbfWqjaVf2",
        "outputId": "e8c8f4c6-d575-4871-8818-315bf171221e",
        "colab": {
          "base_uri": "https://localhost:8080/"
        }
      },
      "execution_count": 1,
      "outputs": [
        {
          "output_type": "stream",
          "name": "stdout",
          "text": [
            "Enter x: 8\n",
            "Enter y: 5\n",
            "13\n"
          ]
        }
      ]
    },
    {
      "cell_type": "code",
      "execution_count": null,
      "metadata": {
        "id": "4kSY3Mmn404D"
      },
      "outputs": [],
      "source": [
        "# syntax:\n",
        "\n",
        "# def functionName():    # function defination\n",
        "#     task1\n",
        "#     task2\n",
        "\n",
        "#functionName()      # function call\n",
        "# function defiition wil not execute the code.\n",
        "# it will rather just store the instructions in the memory\n",
        "\n",
        "#"
      ]
    },
    {
      "cell_type": "code",
      "source": [
        "def add():\n",
        "    x = int(input('Enter x: '))\n",
        "    y = int(input('Enter y: '))\n",
        "    z = x + y\n",
        "    print(z)\n",
        "\n",
        "add()"
      ],
      "metadata": {
        "colab": {
          "base_uri": "https://localhost:8080/"
        },
        "id": "8QhSFZwh8gQS",
        "outputId": "b6499cd5-f3c4-41ae-ac4b-054937b02db0"
      },
      "execution_count": null,
      "outputs": [
        {
          "output_type": "stream",
          "name": "stdout",
          "text": [
            "Enter x: 10\n",
            "Enter y: 55\n",
            "65\n"
          ]
        }
      ]
    },
    {
      "cell_type": "code",
      "source": [
        "print(x)"
      ],
      "metadata": {
        "colab": {
          "base_uri": "https://localhost:8080/",
          "height": 141
        },
        "id": "k9uw3Pv_9oBi",
        "outputId": "961e8fbf-b2fe-4bd2-b36e-3a39e894663d"
      },
      "execution_count": null,
      "outputs": [
        {
          "output_type": "error",
          "ename": "NameError",
          "evalue": "name 'x' is not defined",
          "traceback": [
            "\u001b[0;31m---------------------------------------------------------------------------\u001b[0m",
            "\u001b[0;31mNameError\u001b[0m                                 Traceback (most recent call last)",
            "\u001b[0;32m<ipython-input-4-fc17d851ef81>\u001b[0m in \u001b[0;36m<cell line: 1>\u001b[0;34m()\u001b[0m\n\u001b[0;32m----> 1\u001b[0;31m \u001b[0mprint\u001b[0m\u001b[0;34m(\u001b[0m\u001b[0mx\u001b[0m\u001b[0;34m)\u001b[0m\u001b[0;34m\u001b[0m\u001b[0;34m\u001b[0m\u001b[0m\n\u001b[0m",
            "\u001b[0;31mNameError\u001b[0m: name 'x' is not defined"
          ]
        }
      ]
    },
    {
      "cell_type": "code",
      "source": [
        "# Scope: (Limite of access for a variable)\n",
        "#       - Local Scope\n",
        "#         - Scope of a function default_aliases\n",
        "#         - A variable defined inside a function can be accessed inside that function only.\n",
        "\n",
        "#       - Globle Scope\n",
        "#         - Scope of the main code\n",
        "#         - a variable defined in the main code can be accessed anywhere in the entier code"
      ],
      "metadata": {
        "id": "sXJ1u4QY_XAJ"
      },
      "execution_count": null,
      "outputs": []
    },
    {
      "cell_type": "code",
      "source": [
        "def add():\n",
        "    x = int(input('Enter x: '))\n",
        "    y = int(input('Enter y: '))\n",
        "    z = x + y\n",
        "    print(z)\n",
        "\n",
        "add()\n",
        "print(z)"
      ],
      "metadata": {
        "colab": {
          "base_uri": "https://localhost:8080/",
          "height": 228
        },
        "id": "9loIwdZMAHGL",
        "outputId": "00f6d9eb-d602-4c51-b8b2-f255a184c57d"
      },
      "execution_count": null,
      "outputs": [
        {
          "output_type": "stream",
          "name": "stdout",
          "text": [
            "Enter x: 4\n",
            "Enter y: 5\n",
            "9\n"
          ]
        },
        {
          "output_type": "error",
          "ename": "NameError",
          "evalue": "name 'z' is not defined",
          "traceback": [
            "\u001b[0;31m---------------------------------------------------------------------------\u001b[0m",
            "\u001b[0;31mNameError\u001b[0m                                 Traceback (most recent call last)",
            "\u001b[0;32m<ipython-input-6-c4c984bfa627>\u001b[0m in \u001b[0;36m<cell line: 8>\u001b[0;34m()\u001b[0m\n\u001b[1;32m      6\u001b[0m \u001b[0;34m\u001b[0m\u001b[0m\n\u001b[1;32m      7\u001b[0m \u001b[0madd\u001b[0m\u001b[0;34m(\u001b[0m\u001b[0;34m)\u001b[0m\u001b[0;34m\u001b[0m\u001b[0;34m\u001b[0m\u001b[0m\n\u001b[0;32m----> 8\u001b[0;31m \u001b[0mprint\u001b[0m\u001b[0;34m(\u001b[0m\u001b[0mz\u001b[0m\u001b[0;34m)\u001b[0m\u001b[0;34m\u001b[0m\u001b[0;34m\u001b[0m\u001b[0m\n\u001b[0m",
            "\u001b[0;31mNameError\u001b[0m: name 'z' is not defined"
          ]
        }
      ]
    },
    {
      "cell_type": "markdown",
      "source": [
        "Scope: (Limit of access for a variable)\n",
        "- Local Scope\n",
        "    - Scope of a function definition\n",
        "    - A variable defined inside a function can be accessed inside that function ONLY\n",
        "- Global Scope\n",
        "    - Scope of the main code\n",
        "    - A variable defined in the main code can be accessed anywhere in the entire code"
      ],
      "metadata": {
        "id": "KjYOwTz2axuI"
      }
    },
    {
      "cell_type": "code",
      "source": [
        "def add():\n",
        "    x = int(input('Enter x: '))\n",
        "    y = int(input('Enter y: '))\n",
        "    z = x + y + p                  # p is a global var\n",
        "    print(z)\n",
        "\n",
        "p = 10\n",
        "add()"
      ],
      "metadata": {
        "id": "gR9MsRFuAesj",
        "outputId": "5f130ef5-6101-40b2-c93f-f69f89b07a28",
        "colab": {
          "base_uri": "https://localhost:8080/"
        }
      },
      "execution_count": 2,
      "outputs": [
        {
          "output_type": "stream",
          "name": "stdout",
          "text": [
            "Enter x: 8\n",
            "Enter y: 5\n",
            "23\n"
          ]
        }
      ]
    },
    {
      "cell_type": "code",
      "source": [
        "def add():\n",
        "    x = int(input('Enter x: '))\n",
        "    y = int(input('Enter y: '))\n",
        "    z = x + y\n",
        "    print(z)\n",
        "\n",
        "add()\n",
        "print(z)     # z is a local variable and canNOT be accessed outside the func. def."
      ],
      "metadata": {
        "id": "qVAIAemCa11R",
        "outputId": "12442ff3-b210-4104-da30-1c29c882b909",
        "colab": {
          "base_uri": "https://localhost:8080/"
        }
      },
      "execution_count": 3,
      "outputs": [
        {
          "output_type": "stream",
          "name": "stdout",
          "text": [
            "Enter x: 3\n",
            "Enter y: 6\n",
            "9\n",
            "13\n"
          ]
        }
      ]
    },
    {
      "cell_type": "code",
      "source": [
        "def add():\n",
        "    x = int(input('Enter x: '))\n",
        "    y = int(input('Enter y: '))\n",
        "    z = x + y\n",
        "    print(z)\n",
        "\n",
        "x = 23\n",
        "add()\n",
        "print(x)"
      ],
      "metadata": {
        "id": "ST-Zccyya9bV",
        "outputId": "77f5b2d9-d397-43b0-826d-2c16dfaca6e7",
        "colab": {
          "base_uri": "https://localhost:8080/"
        }
      },
      "execution_count": 4,
      "outputs": [
        {
          "output_type": "stream",
          "name": "stdout",
          "text": [
            "Enter x: 5\n",
            "Enter y: 9\n",
            "14\n",
            "23\n"
          ]
        }
      ]
    },
    {
      "cell_type": "code",
      "source": [
        "def add():\n",
        "    x = int(input('Enter x: '))\n",
        "    y = int(input('Enter y: '))\n",
        "    z = x + y\n",
        "    print(z)\n",
        "    return z\n",
        "\n",
        "def aver():\n",
        "    p = add()\n",
        "    av = p/2\n",
        "    print(av)\n",
        "\n",
        "aver()"
      ],
      "metadata": {
        "id": "-AGOGhPtbHzX",
        "outputId": "e1d4483a-b8fc-40c8-8ee2-d94df2dffe57",
        "colab": {
          "base_uri": "https://localhost:8080/"
        }
      },
      "execution_count": 5,
      "outputs": [
        {
          "output_type": "stream",
          "name": "stdout",
          "text": [
            "Enter x: 4\n",
            "Enter y: 8\n",
            "12\n",
            "6.0\n"
          ]
        }
      ]
    },
    {
      "cell_type": "markdown",
      "source": [
        "### Arguments and parameters\n",
        "- Arguments: Are used in the function call to send data to func. def\n",
        "- Parameters: Are used in the function def to store the incoming data from arguments"
      ],
      "metadata": {
        "id": "1cfGxfJ9bRVs"
      }
    },
    {
      "cell_type": "code",
      "source": [
        "def add():\n",
        "    z = x + y\n",
        "    print(z)\n",
        "    return z\n",
        "\n",
        "def aver():\n",
        "    x = int(input('Enter x: '))\n",
        "    y = int(input('Enter y: '))\n",
        "    p = add()\n",
        "    av = p/2\n",
        "    print(av)\n",
        "\n",
        "aver()"
      ],
      "metadata": {
        "id": "c3VU5z8-bMvQ",
        "outputId": "d63f0754-652a-4e69-8ffe-f59ac43e6327",
        "colab": {
          "base_uri": "https://localhost:8080/"
        }
      },
      "execution_count": 6,
      "outputs": [
        {
          "output_type": "stream",
          "name": "stdout",
          "text": [
            "Enter x: 4\n",
            "Enter y: 6\n",
            "28\n",
            "14.0\n"
          ]
        }
      ]
    },
    {
      "cell_type": "code",
      "source": [
        "def add(a, b):      # a, b are parameters\n",
        "    z = a + b\n",
        "    print(z)\n",
        "    return z\n",
        "\n",
        "def aver():\n",
        "    x = int(input('Enter x: '))\n",
        "    y = int(input('Enter y: '))\n",
        "    p = add(x, y)   # x, y are arguments\n",
        "    av = p/2\n",
        "    print(av)\n",
        "\n",
        "aver()"
      ],
      "metadata": {
        "id": "FptRMBcwbVcJ",
        "outputId": "764bef35-209e-41ef-f242-e39bfa147ed8",
        "colab": {
          "base_uri": "https://localhost:8080/"
        }
      },
      "execution_count": 7,
      "outputs": [
        {
          "output_type": "stream",
          "name": "stdout",
          "text": [
            "Enter x: 6\n",
            "Enter y: 7\n",
            "13\n",
            "6.5\n"
          ]
        }
      ]
    },
    {
      "cell_type": "code",
      "source": [
        "# Create a calculator\n",
        "\n",
        "def add(x, y):\n",
        "    z = x + y\n",
        "    return z\n",
        "\n",
        "def sub(x, y):\n",
        "    return x - y\n",
        "\n",
        "def mul(x, y):\n",
        "    return x * y\n",
        "\n",
        "def div(x, y):\n",
        "    if y == 0: return 'not defined'\n",
        "    else     : return x / y\n",
        "\n",
        "num1 = int(input('Enter first number : '))\n",
        "num2 = int(input('Enter second number : '))\n",
        "op   = input('Enter operator: +, -, *, / : ')\n",
        "if op == '+':\n",
        "    z = add(num1, num2)\n",
        "    print(z)\n",
        "\n",
        "elif op == '-':\n",
        "    print(sub(num1, num2))\n",
        "\n",
        "elif op == '*':\n",
        "    print(mul(num1, num2))\n",
        "\n",
        "elif op == '/':\n",
        "    print(div(num1, num2))\n",
        "\n",
        "else:\n",
        "    print('Invalid Operator')"
      ],
      "metadata": {
        "id": "o2MHc5MXbb86",
        "outputId": "b73a0c98-48b5-45ec-9414-e1972babfed7",
        "colab": {
          "base_uri": "https://localhost:8080/"
        }
      },
      "execution_count": 8,
      "outputs": [
        {
          "output_type": "stream",
          "name": "stdout",
          "text": [
            "Enter first number : 4\n",
            "Enter second number : 6\n",
            "Enter operator: +, -, *, / : +\n",
            "10\n"
          ]
        }
      ]
    },
    {
      "cell_type": "code",
      "source": [],
      "metadata": {
        "id": "hoCzHpOWblOa"
      },
      "execution_count": null,
      "outputs": []
    }
  ]
}