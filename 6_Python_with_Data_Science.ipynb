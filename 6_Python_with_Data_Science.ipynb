{
  "nbformat": 4,
  "nbformat_minor": 0,
  "metadata": {
    "colab": {
      "provenance": [],
      "authorship_tag": "ABX9TyMYhYt1BZ9vyYL/mC3Jnoeq",
      "include_colab_link": true
    },
    "kernelspec": {
      "name": "python3",
      "display_name": "Python 3"
    },
    "language_info": {
      "name": "python"
    }
  },
  "cells": [
    {
      "cell_type": "markdown",
      "metadata": {
        "id": "view-in-github",
        "colab_type": "text"
      },
      "source": [
        "<a href=\"https://colab.research.google.com/github/Dheeraj2002kumar/Python_with_Data_Science/blob/main/6_Python_with_Data_Science.ipynb\" target=\"_parent\"><img src=\"https://colab.research.google.com/assets/colab-badge.svg\" alt=\"Open In Colab\"/></a>"
      ]
    },
    {
      "cell_type": "markdown",
      "source": [
        "### Functions\n",
        "- Reusable block of code\n",
        "- A block of code which does a particular task.\n",
        "\n",
        "### Benefits of creating functions\n",
        "- shorter code\n",
        "- code becomes more organised.\n",
        "- better memory management"
      ],
      "metadata": {
        "id": "qj6wKf8a7uBb"
      }
    },
    {
      "cell_type": "code",
      "execution_count": 2,
      "metadata": {
        "id": "4kSY3Mmn404D"
      },
      "outputs": [],
      "source": [
        "# syntax:\n",
        "\n",
        "# def functionName():    # function defination\n",
        "#     task1\n",
        "#     task2\n",
        "\n",
        "#functionName()      # function call\n",
        "# function defiition wil not execute the code.\n",
        "# it will rather just store the instructions in the memory\n",
        "\n",
        "#"
      ]
    },
    {
      "cell_type": "code",
      "source": [
        "def add():\n",
        "    x = int(input('Enter x: '))\n",
        "    y = int(input('Enter y: '))\n",
        "    z = x + y\n",
        "    print(z)\n",
        "\n",
        "add()"
      ],
      "metadata": {
        "colab": {
          "base_uri": "https://localhost:8080/"
        },
        "id": "8QhSFZwh8gQS",
        "outputId": "b6499cd5-f3c4-41ae-ac4b-054937b02db0"
      },
      "execution_count": 3,
      "outputs": [
        {
          "output_type": "stream",
          "name": "stdout",
          "text": [
            "Enter x: 10\n",
            "Enter y: 55\n",
            "65\n"
          ]
        }
      ]
    },
    {
      "cell_type": "code",
      "source": [
        "print(x)"
      ],
      "metadata": {
        "colab": {
          "base_uri": "https://localhost:8080/",
          "height": 141
        },
        "id": "k9uw3Pv_9oBi",
        "outputId": "961e8fbf-b2fe-4bd2-b36e-3a39e894663d"
      },
      "execution_count": 4,
      "outputs": [
        {
          "output_type": "error",
          "ename": "NameError",
          "evalue": "name 'x' is not defined",
          "traceback": [
            "\u001b[0;31m---------------------------------------------------------------------------\u001b[0m",
            "\u001b[0;31mNameError\u001b[0m                                 Traceback (most recent call last)",
            "\u001b[0;32m<ipython-input-4-fc17d851ef81>\u001b[0m in \u001b[0;36m<cell line: 1>\u001b[0;34m()\u001b[0m\n\u001b[0;32m----> 1\u001b[0;31m \u001b[0mprint\u001b[0m\u001b[0;34m(\u001b[0m\u001b[0mx\u001b[0m\u001b[0;34m)\u001b[0m\u001b[0;34m\u001b[0m\u001b[0;34m\u001b[0m\u001b[0m\n\u001b[0m",
            "\u001b[0;31mNameError\u001b[0m: name 'x' is not defined"
          ]
        }
      ]
    },
    {
      "cell_type": "code",
      "source": [
        "# Scope: (Limite of access for a variable)\n",
        "#       - Local Scope\n",
        "#         - Scope of a function default_aliases\n",
        "#         - A variable defined inside a function can be accessed inside that function only.\n",
        "\n",
        "#       - Globle Scope\n",
        "#         - Scope of the main code\n",
        "#         - a variable defined in the main code can be accessed anywhere in the entier code"
      ],
      "metadata": {
        "id": "sXJ1u4QY_XAJ"
      },
      "execution_count": 5,
      "outputs": []
    },
    {
      "cell_type": "code",
      "source": [
        "def add():\n",
        "    x = int(input('Enter x: '))\n",
        "    y = int(input('Enter y: '))\n",
        "    z = x + y\n",
        "    print(z)\n",
        "\n",
        "add()\n",
        "print(z)"
      ],
      "metadata": {
        "colab": {
          "base_uri": "https://localhost:8080/",
          "height": 228
        },
        "id": "9loIwdZMAHGL",
        "outputId": "00f6d9eb-d602-4c51-b8b2-f255a184c57d"
      },
      "execution_count": 6,
      "outputs": [
        {
          "output_type": "stream",
          "name": "stdout",
          "text": [
            "Enter x: 4\n",
            "Enter y: 5\n",
            "9\n"
          ]
        },
        {
          "output_type": "error",
          "ename": "NameError",
          "evalue": "name 'z' is not defined",
          "traceback": [
            "\u001b[0;31m---------------------------------------------------------------------------\u001b[0m",
            "\u001b[0;31mNameError\u001b[0m                                 Traceback (most recent call last)",
            "\u001b[0;32m<ipython-input-6-c4c984bfa627>\u001b[0m in \u001b[0;36m<cell line: 8>\u001b[0;34m()\u001b[0m\n\u001b[1;32m      6\u001b[0m \u001b[0;34m\u001b[0m\u001b[0m\n\u001b[1;32m      7\u001b[0m \u001b[0madd\u001b[0m\u001b[0;34m(\u001b[0m\u001b[0;34m)\u001b[0m\u001b[0;34m\u001b[0m\u001b[0;34m\u001b[0m\u001b[0m\n\u001b[0;32m----> 8\u001b[0;31m \u001b[0mprint\u001b[0m\u001b[0;34m(\u001b[0m\u001b[0mz\u001b[0m\u001b[0;34m)\u001b[0m\u001b[0;34m\u001b[0m\u001b[0;34m\u001b[0m\u001b[0m\n\u001b[0m",
            "\u001b[0;31mNameError\u001b[0m: name 'z' is not defined"
          ]
        }
      ]
    },
    {
      "cell_type": "code",
      "source": [],
      "metadata": {
        "id": "gR9MsRFuAesj"
      },
      "execution_count": null,
      "outputs": []
    }
  ]
}