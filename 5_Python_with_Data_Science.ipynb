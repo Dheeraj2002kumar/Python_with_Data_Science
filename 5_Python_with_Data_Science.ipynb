{
  "nbformat": 4,
  "nbformat_minor": 0,
  "metadata": {
    "colab": {
      "provenance": [],
      "authorship_tag": "ABX9TyNUfPDFMms48kwVbsRLvQef",
      "include_colab_link": true
    },
    "kernelspec": {
      "name": "python3",
      "display_name": "Python 3"
    },
    "language_info": {
      "name": "python"
    }
  },
  "cells": [
    {
      "cell_type": "markdown",
      "metadata": {
        "id": "view-in-github",
        "colab_type": "text"
      },
      "source": [
        "<a href=\"https://colab.research.google.com/github/Dheeraj2002kumar/Python_with_Data_Science/blob/main/5_Python_with_Data_Science.ipynb\" target=\"_parent\"><img src=\"https://colab.research.google.com/assets/colab-badge.svg\" alt=\"Open In Colab\"/></a>"
      ]
    },
    {
      "cell_type": "markdown",
      "source": [
        "### Tuple Methods\n",
        "- count Method\n",
        "- index Method"
      ],
      "metadata": {
        "id": "-cIXb680x6CH"
      }
    },
    {
      "cell_type": "code",
      "execution_count": 1,
      "metadata": {
        "colab": {
          "base_uri": "https://localhost:8080/"
        },
        "id": "Iq3WGBfnw7Gh",
        "outputId": "6e4a9b07-9084-4eb2-9e00-ae0228392fdd"
      },
      "outputs": [
        {
          "output_type": "execute_result",
          "data": {
            "text/plain": [
              "3"
            ]
          },
          "metadata": {},
          "execution_count": 1
        }
      ],
      "source": [
        "t = (2, 6, 1, 3, 2, 9, 2, 4)\n",
        "t.count(2)"
      ]
    },
    {
      "cell_type": "code",
      "source": [
        "t = (2, 6, 1, 3, 2, 9, 2, 4)\n",
        "t.index(6)"
      ],
      "metadata": {
        "colab": {
          "base_uri": "https://localhost:8080/"
        },
        "id": "9Rr_K-3DyTuo",
        "outputId": "ff5ffd80-c853-4ffa-ced3-36aa69bc7034"
      },
      "execution_count": 2,
      "outputs": [
        {
          "output_type": "execute_result",
          "data": {
            "text/plain": [
              "1"
            ]
          },
          "metadata": {},
          "execution_count": 2
        }
      ]
    },
    {
      "cell_type": "code",
      "source": [
        "s = 'hello world'\n",
        "len(s)       # function()\n",
        "s.split()  # str.method()"
      ],
      "metadata": {
        "colab": {
          "base_uri": "https://localhost:8080/"
        },
        "id": "m9I0M6P0ynVu",
        "outputId": "cc522dd5-933b-4642-b507-9334e9d15899"
      },
      "execution_count": 3,
      "outputs": [
        {
          "output_type": "execute_result",
          "data": {
            "text/plain": [
              "['hello', 'world']"
            ]
          },
          "metadata": {},
          "execution_count": 3
        }
      ]
    },
    {
      "cell_type": "markdown",
      "source": [
        "### Method in dictionary"
      ],
      "metadata": {
        "id": "NmrbglpHzBhR"
      }
    },
    {
      "cell_type": "code",
      "source": [
        "d = {2: 4, 9:91, 5:25, 7:49, 4:16}"
      ],
      "metadata": {
        "id": "osYJmNiGy_tC"
      },
      "execution_count": 4,
      "outputs": []
    },
    {
      "cell_type": "code",
      "source": [
        "d[0]"
      ],
      "metadata": {
        "colab": {
          "base_uri": "https://localhost:8080/",
          "height": 141
        },
        "id": "84gDGjjUzN64",
        "outputId": "9e6f3a60-6de6-48dd-96b3-b58fdb3febc4"
      },
      "execution_count": 5,
      "outputs": [
        {
          "output_type": "error",
          "ename": "KeyError",
          "evalue": "0",
          "traceback": [
            "\u001b[0;31m---------------------------------------------------------------------------\u001b[0m",
            "\u001b[0;31mKeyError\u001b[0m                                  Traceback (most recent call last)",
            "\u001b[0;32m<ipython-input-5-123a9cc6df61>\u001b[0m in \u001b[0;36m<cell line: 1>\u001b[0;34m()\u001b[0m\n\u001b[0;32m----> 1\u001b[0;31m \u001b[0md\u001b[0m\u001b[0;34m[\u001b[0m\u001b[0;36m0\u001b[0m\u001b[0;34m]\u001b[0m\u001b[0;34m\u001b[0m\u001b[0;34m\u001b[0m\u001b[0m\n\u001b[0m",
            "\u001b[0;31mKeyError\u001b[0m: 0"
          ]
        }
      ]
    },
    {
      "cell_type": "code",
      "source": [
        "d[2]"
      ],
      "metadata": {
        "colab": {
          "base_uri": "https://localhost:8080/"
        },
        "id": "YAcJQRO7zPDh",
        "outputId": "2a94586e-c933-41ed-e917-3a94ffd6a5e1"
      },
      "execution_count": 6,
      "outputs": [
        {
          "output_type": "execute_result",
          "data": {
            "text/plain": [
              "4"
            ]
          },
          "metadata": {},
          "execution_count": 6
        }
      ]
    },
    {
      "cell_type": "code",
      "source": [
        "d[4]"
      ],
      "metadata": {
        "colab": {
          "base_uri": "https://localhost:8080/"
        },
        "id": "_-Lws26QzQdD",
        "outputId": "e0271bc8-93ea-4e46-c695-de3b75ce3a80"
      },
      "execution_count": 7,
      "outputs": [
        {
          "output_type": "execute_result",
          "data": {
            "text/plain": [
              "16"
            ]
          },
          "metadata": {},
          "execution_count": 7
        }
      ]
    },
    {
      "cell_type": "code",
      "source": [
        "d[5]"
      ],
      "metadata": {
        "colab": {
          "base_uri": "https://localhost:8080/"
        },
        "id": "74O2HWZtzR97",
        "outputId": "8d4f1628-0716-4f83-e83f-a02471a373ee"
      },
      "execution_count": 8,
      "outputs": [
        {
          "output_type": "execute_result",
          "data": {
            "text/plain": [
              "25"
            ]
          },
          "metadata": {},
          "execution_count": 8
        }
      ]
    },
    {
      "cell_type": "code",
      "source": [
        "d"
      ],
      "metadata": {
        "colab": {
          "base_uri": "https://localhost:8080/"
        },
        "id": "c10429wXzTMr",
        "outputId": "c0d69a83-c914-45be-85fe-a8f80cb0cae0"
      },
      "execution_count": 9,
      "outputs": [
        {
          "output_type": "execute_result",
          "data": {
            "text/plain": [
              "{2: 4, 9: 91, 5: 25, 7: 49, 4: 16}"
            ]
          },
          "metadata": {},
          "execution_count": 9
        }
      ]
    },
    {
      "cell_type": "code",
      "source": [
        "d[9]"
      ],
      "metadata": {
        "colab": {
          "base_uri": "https://localhost:8080/"
        },
        "id": "Le-3_yy4zT30",
        "outputId": "f5cbd7fc-0274-4839-e5b7-c8f023af1a8c"
      },
      "execution_count": 10,
      "outputs": [
        {
          "output_type": "execute_result",
          "data": {
            "text/plain": [
              "91"
            ]
          },
          "metadata": {},
          "execution_count": 10
        }
      ]
    },
    {
      "cell_type": "code",
      "source": [
        "d[9] = 81  # since 9 is already there, it will update the value"
      ],
      "metadata": {
        "id": "ztPWI2CmzWaA"
      },
      "execution_count": 29,
      "outputs": []
    },
    {
      "cell_type": "code",
      "source": [
        "d"
      ],
      "metadata": {
        "colab": {
          "base_uri": "https://localhost:8080/"
        },
        "id": "DcWy6He0zZ4q",
        "outputId": "de83d187-6ba2-4e7e-f206-b52695a156c5"
      },
      "execution_count": 12,
      "outputs": [
        {
          "output_type": "execute_result",
          "data": {
            "text/plain": [
              "{2: 4, 9: 81, 5: 25, 7: 49, 4: 16}"
            ]
          },
          "metadata": {},
          "execution_count": 12
        }
      ]
    },
    {
      "cell_type": "code",
      "source": [
        "d[3]"
      ],
      "metadata": {
        "colab": {
          "base_uri": "https://localhost:8080/",
          "height": 141
        },
        "id": "P42khi-Fzac3",
        "outputId": "f1e6d2d5-3832-43fd-a817-4fe5c254f31f"
      },
      "execution_count": 13,
      "outputs": [
        {
          "output_type": "error",
          "ename": "KeyError",
          "evalue": "3",
          "traceback": [
            "\u001b[0;31m---------------------------------------------------------------------------\u001b[0m",
            "\u001b[0;31mKeyError\u001b[0m                                  Traceback (most recent call last)",
            "\u001b[0;32m<ipython-input-13-0acadf17a380>\u001b[0m in \u001b[0;36m<cell line: 1>\u001b[0;34m()\u001b[0m\n\u001b[0;32m----> 1\u001b[0;31m \u001b[0md\u001b[0m\u001b[0;34m[\u001b[0m\u001b[0;36m3\u001b[0m\u001b[0;34m]\u001b[0m\u001b[0;34m\u001b[0m\u001b[0;34m\u001b[0m\u001b[0m\n\u001b[0m",
            "\u001b[0;31mKeyError\u001b[0m: 3"
          ]
        }
      ]
    },
    {
      "cell_type": "code",
      "source": [
        "d[3] = 9    # snce 3 is not there, it will add a new item"
      ],
      "metadata": {
        "id": "nmujB3cNzeHw"
      },
      "execution_count": 16,
      "outputs": []
    },
    {
      "cell_type": "code",
      "source": [
        "d"
      ],
      "metadata": {
        "colab": {
          "base_uri": "https://localhost:8080/"
        },
        "id": "xnUORE4lzk7h",
        "outputId": "aef0e04d-212c-4370-b9ca-b836de22d3e6"
      },
      "execution_count": 17,
      "outputs": [
        {
          "output_type": "execute_result",
          "data": {
            "text/plain": [
              "{2: 4, 9: 81, 5: 25, 7: 49, 4: 16, 3: 9}"
            ]
          },
          "metadata": {},
          "execution_count": 17
        }
      ]
    },
    {
      "cell_type": "code",
      "source": [
        "d.update({1:1, 5:20, 7:45})"
      ],
      "metadata": {
        "id": "oWxOn7Zzzl1M"
      },
      "execution_count": 18,
      "outputs": []
    },
    {
      "cell_type": "code",
      "source": [
        "d"
      ],
      "metadata": {
        "colab": {
          "base_uri": "https://localhost:8080/"
        },
        "id": "IY_vz05t0AdG",
        "outputId": "45277ab3-5fc2-4055-bbf1-e09339a97aae"
      },
      "execution_count": 19,
      "outputs": [
        {
          "output_type": "execute_result",
          "data": {
            "text/plain": [
              "{2: 4, 9: 81, 5: 20, 7: 45, 4: 16, 3: 9, 1: 1}"
            ]
          },
          "metadata": {},
          "execution_count": 19
        }
      ]
    },
    {
      "cell_type": "code",
      "source": [
        "dl = list(d.keys())"
      ],
      "metadata": {
        "id": "-zTc5-hh0A2G"
      },
      "execution_count": 20,
      "outputs": []
    },
    {
      "cell_type": "code",
      "source": [
        "dl"
      ],
      "metadata": {
        "colab": {
          "base_uri": "https://localhost:8080/"
        },
        "id": "jH6K7Wys0I1i",
        "outputId": "634a2aed-d6bd-4849-9230-b1404863b1e7"
      },
      "execution_count": 21,
      "outputs": [
        {
          "output_type": "execute_result",
          "data": {
            "text/plain": [
              "[2, 9, 5, 7, 4, 3, 1]"
            ]
          },
          "metadata": {},
          "execution_count": 21
        }
      ]
    },
    {
      "cell_type": "code",
      "source": [
        "dv = list(d.values())"
      ],
      "metadata": {
        "id": "fd3bwvJb0KWG"
      },
      "execution_count": 22,
      "outputs": []
    },
    {
      "cell_type": "code",
      "source": [
        "dv"
      ],
      "metadata": {
        "colab": {
          "base_uri": "https://localhost:8080/"
        },
        "id": "s8rv7bhX0N8j",
        "outputId": "75f3f969-6b6b-4a87-bcb8-632d1a7e8237"
      },
      "execution_count": 23,
      "outputs": [
        {
          "output_type": "execute_result",
          "data": {
            "text/plain": [
              "[4, 81, 20, 45, 16, 9, 1]"
            ]
          },
          "metadata": {},
          "execution_count": 23
        }
      ]
    },
    {
      "cell_type": "code",
      "source": [
        "di = list(d.items())"
      ],
      "metadata": {
        "id": "EFwQvV0u0PHE"
      },
      "execution_count": 24,
      "outputs": []
    },
    {
      "cell_type": "code",
      "source": [
        "di"
      ],
      "metadata": {
        "colab": {
          "base_uri": "https://localhost:8080/"
        },
        "id": "M250cH2y0URv",
        "outputId": "8b7b478c-c618-48ea-a28a-cb2de283529f"
      },
      "execution_count": 25,
      "outputs": [
        {
          "output_type": "execute_result",
          "data": {
            "text/plain": [
              "[(2, 4), (9, 81), (5, 20), (7, 45), (4, 16), (3, 9), (1, 1)]"
            ]
          },
          "metadata": {},
          "execution_count": 25
        }
      ]
    },
    {
      "cell_type": "code",
      "source": [
        "d.pop(4)"
      ],
      "metadata": {
        "colab": {
          "base_uri": "https://localhost:8080/"
        },
        "id": "S55JMzhI0U9S",
        "outputId": "d93d8473-2111-408f-a961-d2260ac07e30"
      },
      "execution_count": 26,
      "outputs": [
        {
          "output_type": "execute_result",
          "data": {
            "text/plain": [
              "16"
            ]
          },
          "metadata": {},
          "execution_count": 26
        }
      ]
    },
    {
      "cell_type": "code",
      "source": [
        "d"
      ],
      "metadata": {
        "colab": {
          "base_uri": "https://localhost:8080/"
        },
        "id": "xliBGeMg0jYG",
        "outputId": "6e3f8f99-d8a7-4b44-d175-1fafd922bd60"
      },
      "execution_count": 27,
      "outputs": [
        {
          "output_type": "execute_result",
          "data": {
            "text/plain": [
              "{2: 4, 9: 81, 5: 20, 7: 45, 3: 9, 1: 1}"
            ]
          },
          "metadata": {},
          "execution_count": 27
        }
      ]
    },
    {
      "cell_type": "code",
      "source": [
        "d.clear()  # delete all data in the dictionary\n",
        "d"
      ],
      "metadata": {
        "colab": {
          "base_uri": "https://localhost:8080/"
        },
        "id": "FlsxDv670j73",
        "outputId": "1bfc01f8-cd70-4677-880e-7c4a03ce318a"
      },
      "execution_count": 28,
      "outputs": [
        {
          "output_type": "execute_result",
          "data": {
            "text/plain": [
              "{}"
            ]
          },
          "metadata": {},
          "execution_count": 28
        }
      ]
    },
    {
      "cell_type": "markdown",
      "source": [
        "### Methods on Sets\n"
      ],
      "metadata": {
        "id": "8VlaGXSR1LA1"
      }
    },
    {
      "cell_type": "code",
      "source": [
        "s = {3, 6, 1, 0, 4}\n",
        "s"
      ],
      "metadata": {
        "colab": {
          "base_uri": "https://localhost:8080/"
        },
        "id": "QMgmcHa609Ef",
        "outputId": "8d81648a-a9d2-46e3-bb82-6e06cdf1ba54"
      },
      "execution_count": 33,
      "outputs": [
        {
          "output_type": "execute_result",
          "data": {
            "text/plain": [
              "{0, 1, 3, 4, 6}"
            ]
          },
          "metadata": {},
          "execution_count": 33
        }
      ]
    },
    {
      "cell_type": "code",
      "source": [
        "# WAP to create a dictionary of squares of n natural numbers\n",
        "# i/p: n = 3\n",
        "# o/p: d = {1:1, 2:4, 3:9}\n",
        "\n",
        "\n",
        "\n",
        "\n"
      ],
      "metadata": {
        "id": "i06KJWEJ1kwh"
      },
      "execution_count": 34,
      "outputs": []
    },
    {
      "cell_type": "code",
      "source": [
        "##  CRUD\n",
        "# C: Create   (append, insert) {update} (add)\n",
        "# R: Read     (indexing) {key} ()\n",
        "# U: Update   (indexing) {update} ()\n",
        "# D: Delete     (pop, clear) (pop, clear) (remove, discard)"
      ],
      "metadata": {
        "id": "5Oe5ivGz1k9u"
      },
      "execution_count": 39,
      "outputs": []
    },
    {
      "cell_type": "code",
      "source": [
        "s.add(2)"
      ],
      "metadata": {
        "id": "8Pc2hjrG1lA9"
      },
      "execution_count": 36,
      "outputs": []
    },
    {
      "cell_type": "code",
      "source": [
        "s.remove(4)"
      ],
      "metadata": {
        "id": "ihnr1g1b1lJH"
      },
      "execution_count": 37,
      "outputs": []
    },
    {
      "cell_type": "code",
      "source": [
        "s"
      ],
      "metadata": {
        "colab": {
          "base_uri": "https://localhost:8080/"
        },
        "id": "2JGDuI0J1lQ0",
        "outputId": "686594d0-603c-467b-bd5c-d76888d26149"
      },
      "execution_count": 38,
      "outputs": [
        {
          "output_type": "execute_result",
          "data": {
            "text/plain": [
              "{0, 1, 2, 3, 6}"
            ]
          },
          "metadata": {},
          "execution_count": 38
        }
      ]
    },
    {
      "cell_type": "code",
      "source": [
        "s1 = {0, 1, 2, 3, 6}\n",
        "s2 = {4, 6, 1, 2}\n"
      ],
      "metadata": {
        "id": "_NcVkSHH4xI3"
      },
      "execution_count": 40,
      "outputs": []
    },
    {
      "cell_type": "code",
      "source": [
        "s3 = s1 | s2  # s3 = s1.union(s2)"
      ],
      "metadata": {
        "id": "Bwb1hLei6PjY"
      },
      "execution_count": 41,
      "outputs": []
    },
    {
      "cell_type": "code",
      "source": [
        "s3"
      ],
      "metadata": {
        "colab": {
          "base_uri": "https://localhost:8080/"
        },
        "id": "Q_jmfBDJ9gE6",
        "outputId": "9881c184-ead3-4ad6-ec9a-7e9a4c950cad"
      },
      "execution_count": 42,
      "outputs": [
        {
          "output_type": "execute_result",
          "data": {
            "text/plain": [
              "{0, 1, 2, 3, 4, 6}"
            ]
          },
          "metadata": {},
          "execution_count": 42
        }
      ]
    },
    {
      "cell_type": "code",
      "source": [
        "# s1 | s2 == s2 | s1\n",
        "s1 & s2 == s2"
      ],
      "metadata": {
        "colab": {
          "base_uri": "https://localhost:8080/"
        },
        "id": "gpjM_Ex096Zd",
        "outputId": "dc150deb-7bfa-49cb-b443-fef93803b150"
      },
      "execution_count": 44,
      "outputs": [
        {
          "output_type": "execute_result",
          "data": {
            "text/plain": [
              "False"
            ]
          },
          "metadata": {},
          "execution_count": 44
        }
      ]
    },
    {
      "cell_type": "code",
      "source": [
        "s4 = s1 & s2  # s3 = s1.intersection(s2)\n",
        "s4"
      ],
      "metadata": {
        "colab": {
          "base_uri": "https://localhost:8080/"
        },
        "id": "CfxF1Nym9hYz",
        "outputId": "ba13fa36-2fb0-41f4-9a4c-4986161006bd"
      },
      "execution_count": 43,
      "outputs": [
        {
          "output_type": "execute_result",
          "data": {
            "text/plain": [
              "{1, 2, 6}"
            ]
          },
          "metadata": {},
          "execution_count": 43
        }
      ]
    },
    {
      "cell_type": "code",
      "source": [
        "s5 = s1 - s2  # s1.difference(s2)\n",
        "s5"
      ],
      "metadata": {
        "colab": {
          "base_uri": "https://localhost:8080/"
        },
        "id": "Pj2PIJrn9sJP",
        "outputId": "9cd0262b-f75b-4f62-8e2f-2687b7d97e75"
      },
      "execution_count": 45,
      "outputs": [
        {
          "output_type": "execute_result",
          "data": {
            "text/plain": [
              "{0, 3}"
            ]
          },
          "metadata": {},
          "execution_count": 45
        }
      ]
    },
    {
      "cell_type": "code",
      "source": [
        "s1"
      ],
      "metadata": {
        "colab": {
          "base_uri": "https://localhost:8080/"
        },
        "id": "wiClV1Gr-ZTu",
        "outputId": "e30c4a25-685d-45f1-e821-87b4c8c00a46"
      },
      "execution_count": 46,
      "outputs": [
        {
          "output_type": "execute_result",
          "data": {
            "text/plain": [
              "{0, 1, 2, 3, 6}"
            ]
          },
          "metadata": {},
          "execution_count": 46
        }
      ]
    },
    {
      "cell_type": "code",
      "source": [
        "s2"
      ],
      "metadata": {
        "colab": {
          "base_uri": "https://localhost:8080/"
        },
        "id": "SAAxTJNm-eh_",
        "outputId": "fd46c105-a770-492d-c2a4-51f29dea0809"
      },
      "execution_count": 47,
      "outputs": [
        {
          "output_type": "execute_result",
          "data": {
            "text/plain": [
              "{1, 2, 4, 6}"
            ]
          },
          "metadata": {},
          "execution_count": 47
        }
      ]
    },
    {
      "cell_type": "code",
      "source": [
        "s2 - s1"
      ],
      "metadata": {
        "colab": {
          "base_uri": "https://localhost:8080/"
        },
        "id": "SNWKgyEa-fcY",
        "outputId": "705d1f3b-12d9-413c-cbde-a61a30d5a7ea"
      },
      "execution_count": 48,
      "outputs": [
        {
          "output_type": "execute_result",
          "data": {
            "text/plain": [
              "{4}"
            ]
          },
          "metadata": {},
          "execution_count": 48
        }
      ]
    },
    {
      "cell_type": "markdown",
      "source": [
        "### List Comprehension\n",
        "It is used as a shorter syntax when we want to create a new list based on some existing sequence"
      ],
      "metadata": {
        "id": "TC64hrK1-ytO"
      }
    },
    {
      "cell_type": "code",
      "source": [
        "# write a program to create a list of sequence of first n natural number"
      ],
      "metadata": {
        "id": "X3uKVrx1-iVE"
      },
      "execution_count": 49,
      "outputs": []
    },
    {
      "cell_type": "code",
      "source": [
        "n = int(input('enter n: '))\n",
        "l = []\n",
        "for num in range(1, n+1):\n",
        "    l.append(num **2)\n",
        "print(l)\n",
        "\n"
      ],
      "metadata": {
        "colab": {
          "base_uri": "https://localhost:8080/"
        },
        "id": "JQKUVCdN_Is3",
        "outputId": "b7178073-36ba-4a5d-b21d-d6bce1572279"
      },
      "execution_count": 51,
      "outputs": [
        {
          "output_type": "stream",
          "name": "stdout",
          "text": [
            "enter n: 6\n",
            "[1, 4, 9, 16, 25, 36]\n"
          ]
        }
      ]
    },
    {
      "cell_type": "code",
      "source": [
        "l = [num **2 for num in range(1, n+1)]\n",
        "print(l)"
      ],
      "metadata": {
        "colab": {
          "base_uri": "https://localhost:8080/"
        },
        "id": "BS60TVybAPqI",
        "outputId": "846e004d-da29-4f7e-f096-b2b3cc01d5e3"
      },
      "execution_count": 52,
      "outputs": [
        {
          "output_type": "stream",
          "name": "stdout",
          "text": [
            "[1, 4, 9, 16, 25, 36]\n"
          ]
        }
      ]
    },
    {
      "cell_type": "code",
      "source": [
        "# Syntax: L = [expression/ data]"
      ],
      "metadata": {
        "id": "C9eLkpz0A1ME"
      },
      "execution_count": null,
      "outputs": []
    },
    {
      "cell_type": "code",
      "source": [
        "# write a program to create a list of sequence of first n natural number\n",
        "\n",
        "n = int(input('enter n: '))\n",
        "# l = []\n",
        "# for num in range(1, n+1):\n",
        "#     l.append(num **2)\n",
        "# print(l)\n",
        "\n",
        "l = [num **2 for num in range(1, n+1)]\n",
        "print(l)"
      ],
      "metadata": {
        "colab": {
          "base_uri": "https://localhost:8080/"
        },
        "id": "JDAoIs6YAkpl",
        "outputId": "864e8609-87ad-443c-98b9-1ebd77906d6a"
      },
      "execution_count": 53,
      "outputs": [
        {
          "output_type": "stream",
          "name": "stdout",
          "text": [
            "enter n: 7\n",
            "[1, 4, 9, 16, 25, 36, 49]\n"
          ]
        }
      ]
    },
    {
      "cell_type": "code",
      "source": [
        "# WAP to create a list of all the vowels present in a string input from the user.\n",
        "# i/p: 'How are you?'\n",
        "# O/P: ['o', 'a', 'e', 'o', 'u']\n",
        "\n",
        "s = input('Enter string: ')\n",
        "l = [char for char in s if char in 'aeiouAEIOU']\n",
        "print(l)\n"
      ],
      "metadata": {
        "colab": {
          "base_uri": "https://localhost:8080/"
        },
        "id": "CsIAOMaXAzG6",
        "outputId": "0e3e4feb-dcb6-4049-a7c0-7d2b3223ea39"
      },
      "execution_count": 54,
      "outputs": [
        {
          "output_type": "stream",
          "name": "stdout",
          "text": [
            "Enter string: how are you?\n",
            "['o', 'a', 'e', 'o', 'u']\n"
          ]
        }
      ]
    },
    {
      "cell_type": "code",
      "source": [],
      "metadata": {
        "id": "aUzbEPJ3CbWp"
      },
      "execution_count": null,
      "outputs": []
    }
  ]
}